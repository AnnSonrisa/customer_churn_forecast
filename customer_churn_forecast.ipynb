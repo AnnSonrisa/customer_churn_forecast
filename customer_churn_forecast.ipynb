{
 "cells": [
  {
   "cell_type": "markdown",
   "id": "2dfefc80",
   "metadata": {
    "id": "2dfefc80"
   },
   "source": [
    "# Описание проекта: телекоммуникации"
   ]
  },
  {
   "cell_type": "markdown",
   "id": "63d083eb",
   "metadata": {
    "id": "63d083eb"
   },
   "source": [
    "Оператор связи «ТелеДом» хочет бороться с оттоком клиентов. Для этого его сотрудники начнут предлагать промокоды и специальные условия всем, кто планирует отказаться от услуг связи. Чтобы заранее находить таких пользователей, «ТелеДому» нужна модель, которая будет предсказывать, разорвёт ли абонент договор. Команда оператора собрала персональные данные о некоторых клиентах, информацию об их тарифах и услугах.\n",
    "\n",
    "Задача — обучить на этих данных модель для прогноза оттока клиентов."
   ]
  },
  {
   "cell_type": "markdown",
   "id": "798079bb",
   "metadata": {
    "id": "798079bb"
   },
   "source": [
    "## Описание услуг"
   ]
  },
  {
   "cell_type": "markdown",
   "id": "36838c8b",
   "metadata": {
    "id": "36838c8b"
   },
   "source": [
    "Оператор предоставляет два основных типа услуг:\n",
    "- Стационарную телефонную связь. Телефон можно подключить к нескольким линиям одновременно.\n",
    "- Интернет. Подключение может быть двух типов: через телефонную линию (DSL, от англ. digital subscriber line — «цифровая абонентская линия») или оптоволоконный кабель (Fiber optic).\n",
    "Также доступны такие услуги:\n",
    "- Интернет-безопасность: антивирус (DeviceProtection) и блокировка небезопасных сайтов (OnlineSecurity);\n",
    "- Выделенная линия технической поддержки (TechSupport);\n",
    "- Облачное хранилище файлов для резервного копирования данных (OnlineBackup);\n",
    "- Стриминговое телевидение (StreamingTV) и каталог фильмов (StreamingMovies).\n",
    "\n",
    "Клиенты могут платить за услуги каждый месяц или заключить договор на 1–2 года. Возможно оплатить счёт разными способами, а также получить электронный чек."
   ]
  },
  {
   "cell_type": "markdown",
   "id": "ed10bdb9",
   "metadata": {
    "id": "ed10bdb9"
   },
   "source": [
    "##  Описание данных"
   ]
  },
  {
   "cell_type": "markdown",
   "id": "909e0a95",
   "metadata": {
    "id": "909e0a95"
   },
   "source": [
    "Данные состоят из нескольких файлов, полученных из разных источников:\n",
    "- contract_new.csv — информация о договоре;\n",
    "- personal_new.csv — персональные данные клиента;\n",
    "- internet_new.csv — информация об интернет-услугах;\n",
    "- phone_new.csv — информация об услугах телефонии."
   ]
  },
  {
   "cell_type": "markdown",
   "id": "a1f191d0",
   "metadata": {
    "id": "a1f191d0"
   },
   "source": [
    "Файл **contract_new.csv**\n",
    "- customerID — идентификатор абонента;\n",
    "- BeginDate — дата начала действия договора;\n",
    "- EndDate — дата окончания действия договора;\n",
    "- Type — тип оплаты: раз в год-два или ежемесячно;\n",
    "- PaperlessBilling — электронный расчётный лист;\n",
    "- PaymentMethod — тип платежа;\n",
    "- MonthlyCharges — расходы за месяц;\n",
    "- TotalCharges — общие расходы абонента."
   ]
  },
  {
   "cell_type": "markdown",
   "id": "1d191cee",
   "metadata": {
    "id": "1d191cee"
   },
   "source": [
    "Файл **personal_new.csv**\n",
    "\n",
    "- customerID — идентификатор пользователя;\n",
    "- gender — пол;\n",
    "- SeniorCitizen — является ли абонент пенсионером;\n",
    "- Partner — есть ли у абонента супруг или супруга;\n",
    "- Dependents — есть ли у абонента дети."
   ]
  },
  {
   "cell_type": "markdown",
   "id": "6e002503",
   "metadata": {
    "id": "6e002503"
   },
   "source": [
    "Файл **internet_new.csv**\n",
    "\n",
    "- customerID — идентификатор пользователя;\n",
    "- InternetService — тип подключения;\n",
    "- OnlineSecurity — блокировка опасных сайтов;\n",
    "- OnlineBackup — облачное хранилище файлов для резервного копирования данных;\n",
    "- DeviceProtection — антивирус;\n",
    "- TechSupport — выделенная линия технической поддержки;\n",
    "- StreamingTV — стриминговое телевидение;\n",
    "- StreamingMovies — каталог фильмов."
   ]
  },
  {
   "cell_type": "markdown",
   "id": "676dbbfd",
   "metadata": {
    "id": "676dbbfd"
   },
   "source": [
    "Файл **phone_new.csv**\n",
    "\n",
    "- customerID — идентификатор пользователя;\n",
    "- MultipleLines — подключение телефона к нескольким линиям одновременно.\n",
    "\n",
    "Во всех файлах столбец customerID содержит код клиента. Информация о договорах актуальна на 1 февраля 2020 года.\n",
    "Данные также находятся в тренажёре, в папке /datasets/."
   ]
  },
  {
   "cell_type": "code",
   "execution_count": 1,
   "id": "f8e5ae51",
   "metadata": {
    "id": "f8e5ae51"
   },
   "outputs": [],
   "source": [
    "# библиотеки\n",
    "import pandas as pd\n",
    "from sklearn.compose import ColumnTransformer, make_column_selector\n",
    "import matplotlib.pyplot as plt\n",
    "import numpy as np\n",
    "import seaborn as sns\n",
    "import lightgbm as lgb\n",
    "import time\n",
    "import re\n",
    "import nltk\n",
    "from sklearn.preprocessing import StandardScaler, OneHotEncoder\n",
    "from nltk.corpus import stopwords as nltk_stopwords\n",
    "from nltk.corpus import wordnet\n",
    "from nltk.stem import WordNetLemmatizer\n",
    "from tqdm import tqdm\n",
    "from sklearn.preprocessing import LabelEncoder, StandardScaler, OneHotEncoder\n",
    "# инструменты\n",
    "from sklearn.utils import resample\n",
    "from sklearn.model_selection import train_test_split\n",
    "from sklearn.model_selection import GridSearchCV\n",
    "from sklearn.linear_model import LogisticRegression, SGDClassifier\n",
    "from sklearn.tree import DecisionTreeClassifier\n",
    "from sklearn.ensemble import RandomForestClassifier\n",
    "from catboost import CatBoostClassifier\n",
    "from sklearn.metrics import make_scorer, precision_score\n",
    "from sklearn.model_selection import TimeSeriesSplit\n",
    "from sklearn.model_selection import RandomizedSearchCV\n",
    "from nltk.stem import WordNetLemmatizer\n",
    "from sklearn.feature_extraction.text import TfidfVectorizer\n",
    "from nltk.corpus import stopwords as nltk_stopwords\n",
    "from sklearn.metrics import f1_score\n",
    "from sklearn.pipeline import Pipeline\n",
    "from lightgbm import LGBMClassifier\n",
    "from sklearn.model_selection import cross_val_score\n",
    "from sklearn.metrics import roc_auc_score, confusion_matrix\n",
    "from catboost import CatBoostClassifier\n",
    "from catboost import cv\n",
    "from catboost import Pool"
   ]
  },
  {
   "cell_type": "code",
   "execution_count": 2,
   "id": "3cf3f442",
   "metadata": {},
   "outputs": [],
   "source": [
    "try:\n",
    "    import phik\n",
    "except:\n",
    "    !pip install phik\n",
    "    import phik"
   ]
  },
  {
   "cell_type": "code",
   "execution_count": 3,
   "id": "2c3e46aa",
   "metadata": {},
   "outputs": [],
   "source": [
    "RANDOM_STATE=20924"
   ]
  },
  {
   "cell_type": "markdown",
   "id": "dfe82968",
   "metadata": {
    "id": "dfe82968"
   },
   "source": [
    "## Загрузка данных"
   ]
  },
  {
   "cell_type": "code",
   "execution_count": 4,
   "id": "5d9e0a79",
   "metadata": {
    "id": "5d9e0a79"
   },
   "outputs": [],
   "source": [
    "try:\n",
    "    contract_new_data = pd.read_csv('/datasets/contract_new.csv')\n",
    "except FileNotFoundError:\n",
    "    contract_new_data = pd.read_csv('C:\\\\Users\\Anna\\Desktop\\practikum\\contract_new.csv')"
   ]
  },
  {
   "cell_type": "code",
   "execution_count": 5,
   "id": "9d5702f8",
   "metadata": {},
   "outputs": [
    {
     "name": "stdout",
     "output_type": "stream",
     "text": [
      "<class 'pandas.core.frame.DataFrame'>\n",
      "RangeIndex: 7043 entries, 0 to 7042\n",
      "Data columns (total 8 columns):\n",
      " #   Column            Non-Null Count  Dtype  \n",
      "---  ------            --------------  -----  \n",
      " 0   customerID        7043 non-null   object \n",
      " 1   BeginDate         7043 non-null   object \n",
      " 2   EndDate           7043 non-null   object \n",
      " 3   Type              7043 non-null   object \n",
      " 4   PaperlessBilling  7043 non-null   object \n",
      " 5   PaymentMethod     7043 non-null   object \n",
      " 6   MonthlyCharges    7043 non-null   float64\n",
      " 7   TotalCharges      7043 non-null   object \n",
      "dtypes: float64(1), object(7)\n",
      "memory usage: 440.3+ KB\n"
     ]
    }
   ],
   "source": [
    "contract_new_data.info()"
   ]
  },
  {
   "cell_type": "code",
   "execution_count": 6,
   "id": "efeff3bf",
   "metadata": {
    "id": "efeff3bf"
   },
   "outputs": [
    {
     "data": {
      "text/html": [
       "<div>\n",
       "<style scoped>\n",
       "    .dataframe tbody tr th:only-of-type {\n",
       "        vertical-align: middle;\n",
       "    }\n",
       "\n",
       "    .dataframe tbody tr th {\n",
       "        vertical-align: top;\n",
       "    }\n",
       "\n",
       "    .dataframe thead th {\n",
       "        text-align: right;\n",
       "    }\n",
       "</style>\n",
       "<table border=\"1\" class=\"dataframe\">\n",
       "  <thead>\n",
       "    <tr style=\"text-align: right;\">\n",
       "      <th></th>\n",
       "      <th>customerID</th>\n",
       "      <th>BeginDate</th>\n",
       "      <th>EndDate</th>\n",
       "      <th>Type</th>\n",
       "      <th>PaperlessBilling</th>\n",
       "      <th>PaymentMethod</th>\n",
       "      <th>MonthlyCharges</th>\n",
       "      <th>TotalCharges</th>\n",
       "    </tr>\n",
       "  </thead>\n",
       "  <tbody>\n",
       "    <tr>\n",
       "      <th>0</th>\n",
       "      <td>7590-VHVEG</td>\n",
       "      <td>2020-01-01</td>\n",
       "      <td>No</td>\n",
       "      <td>Month-to-month</td>\n",
       "      <td>Yes</td>\n",
       "      <td>Electronic check</td>\n",
       "      <td>29.85</td>\n",
       "      <td>31.04</td>\n",
       "    </tr>\n",
       "    <tr>\n",
       "      <th>1</th>\n",
       "      <td>5575-GNVDE</td>\n",
       "      <td>2017-04-01</td>\n",
       "      <td>No</td>\n",
       "      <td>One year</td>\n",
       "      <td>No</td>\n",
       "      <td>Mailed check</td>\n",
       "      <td>56.95</td>\n",
       "      <td>2071.84</td>\n",
       "    </tr>\n",
       "    <tr>\n",
       "      <th>2</th>\n",
       "      <td>3668-QPYBK</td>\n",
       "      <td>2019-10-01</td>\n",
       "      <td>No</td>\n",
       "      <td>Month-to-month</td>\n",
       "      <td>Yes</td>\n",
       "      <td>Mailed check</td>\n",
       "      <td>53.85</td>\n",
       "      <td>226.17</td>\n",
       "    </tr>\n",
       "    <tr>\n",
       "      <th>3</th>\n",
       "      <td>7795-CFOCW</td>\n",
       "      <td>2016-05-01</td>\n",
       "      <td>No</td>\n",
       "      <td>One year</td>\n",
       "      <td>No</td>\n",
       "      <td>Bank transfer (automatic)</td>\n",
       "      <td>42.30</td>\n",
       "      <td>1960.6</td>\n",
       "    </tr>\n",
       "    <tr>\n",
       "      <th>4</th>\n",
       "      <td>9237-HQITU</td>\n",
       "      <td>2019-09-01</td>\n",
       "      <td>No</td>\n",
       "      <td>Month-to-month</td>\n",
       "      <td>Yes</td>\n",
       "      <td>Electronic check</td>\n",
       "      <td>70.70</td>\n",
       "      <td>353.5</td>\n",
       "    </tr>\n",
       "  </tbody>\n",
       "</table>\n",
       "</div>"
      ],
      "text/plain": [
       "   customerID   BeginDate EndDate            Type PaperlessBilling  \\\n",
       "0  7590-VHVEG  2020-01-01      No  Month-to-month              Yes   \n",
       "1  5575-GNVDE  2017-04-01      No        One year               No   \n",
       "2  3668-QPYBK  2019-10-01      No  Month-to-month              Yes   \n",
       "3  7795-CFOCW  2016-05-01      No        One year               No   \n",
       "4  9237-HQITU  2019-09-01      No  Month-to-month              Yes   \n",
       "\n",
       "               PaymentMethod  MonthlyCharges TotalCharges  \n",
       "0           Electronic check           29.85        31.04  \n",
       "1               Mailed check           56.95      2071.84  \n",
       "2               Mailed check           53.85       226.17  \n",
       "3  Bank transfer (automatic)           42.30       1960.6  \n",
       "4           Electronic check           70.70        353.5  "
      ]
     },
     "execution_count": 6,
     "metadata": {},
     "output_type": "execute_result"
    }
   ],
   "source": [
    "contract_new_data.head()"
   ]
  },
  {
   "cell_type": "code",
   "execution_count": 7,
   "id": "26772743",
   "metadata": {
    "id": "26772743"
   },
   "outputs": [],
   "source": [
    "try:\n",
    "    personal_new_data = pd.read_csv('/datasets/personal_new.csv')\n",
    "except FileNotFoundError:\n",
    "    contract_new_data = pd.read_csv('C:\\\\Users\\Anna\\Desktop\\practikum\\personal_new.csv')"
   ]
  },
  {
   "cell_type": "code",
   "execution_count": 8,
   "id": "378ebcf0",
   "metadata": {},
   "outputs": [
    {
     "name": "stdout",
     "output_type": "stream",
     "text": [
      "<class 'pandas.core.frame.DataFrame'>\n",
      "RangeIndex: 7043 entries, 0 to 7042\n",
      "Data columns (total 5 columns):\n",
      " #   Column         Non-Null Count  Dtype \n",
      "---  ------         --------------  ----- \n",
      " 0   customerID     7043 non-null   object\n",
      " 1   gender         7043 non-null   object\n",
      " 2   SeniorCitizen  7043 non-null   int64 \n",
      " 3   Partner        7043 non-null   object\n",
      " 4   Dependents     7043 non-null   object\n",
      "dtypes: int64(1), object(4)\n",
      "memory usage: 275.2+ KB\n"
     ]
    }
   ],
   "source": [
    "personal_new_data.info()"
   ]
  },
  {
   "cell_type": "code",
   "execution_count": 9,
   "id": "e9a761b5",
   "metadata": {
    "id": "e9a761b5"
   },
   "outputs": [
    {
     "data": {
      "text/html": [
       "<div>\n",
       "<style scoped>\n",
       "    .dataframe tbody tr th:only-of-type {\n",
       "        vertical-align: middle;\n",
       "    }\n",
       "\n",
       "    .dataframe tbody tr th {\n",
       "        vertical-align: top;\n",
       "    }\n",
       "\n",
       "    .dataframe thead th {\n",
       "        text-align: right;\n",
       "    }\n",
       "</style>\n",
       "<table border=\"1\" class=\"dataframe\">\n",
       "  <thead>\n",
       "    <tr style=\"text-align: right;\">\n",
       "      <th></th>\n",
       "      <th>customerID</th>\n",
       "      <th>gender</th>\n",
       "      <th>SeniorCitizen</th>\n",
       "      <th>Partner</th>\n",
       "      <th>Dependents</th>\n",
       "    </tr>\n",
       "  </thead>\n",
       "  <tbody>\n",
       "    <tr>\n",
       "      <th>0</th>\n",
       "      <td>7590-VHVEG</td>\n",
       "      <td>Female</td>\n",
       "      <td>0</td>\n",
       "      <td>Yes</td>\n",
       "      <td>No</td>\n",
       "    </tr>\n",
       "    <tr>\n",
       "      <th>1</th>\n",
       "      <td>5575-GNVDE</td>\n",
       "      <td>Male</td>\n",
       "      <td>0</td>\n",
       "      <td>No</td>\n",
       "      <td>No</td>\n",
       "    </tr>\n",
       "    <tr>\n",
       "      <th>2</th>\n",
       "      <td>3668-QPYBK</td>\n",
       "      <td>Male</td>\n",
       "      <td>0</td>\n",
       "      <td>No</td>\n",
       "      <td>No</td>\n",
       "    </tr>\n",
       "    <tr>\n",
       "      <th>3</th>\n",
       "      <td>7795-CFOCW</td>\n",
       "      <td>Male</td>\n",
       "      <td>0</td>\n",
       "      <td>No</td>\n",
       "      <td>No</td>\n",
       "    </tr>\n",
       "    <tr>\n",
       "      <th>4</th>\n",
       "      <td>9237-HQITU</td>\n",
       "      <td>Female</td>\n",
       "      <td>0</td>\n",
       "      <td>No</td>\n",
       "      <td>No</td>\n",
       "    </tr>\n",
       "  </tbody>\n",
       "</table>\n",
       "</div>"
      ],
      "text/plain": [
       "   customerID  gender  SeniorCitizen Partner Dependents\n",
       "0  7590-VHVEG  Female              0     Yes         No\n",
       "1  5575-GNVDE    Male              0      No         No\n",
       "2  3668-QPYBK    Male              0      No         No\n",
       "3  7795-CFOCW    Male              0      No         No\n",
       "4  9237-HQITU  Female              0      No         No"
      ]
     },
     "execution_count": 9,
     "metadata": {},
     "output_type": "execute_result"
    }
   ],
   "source": [
    "personal_new_data.head()"
   ]
  },
  {
   "cell_type": "code",
   "execution_count": 10,
   "id": "521a11a7",
   "metadata": {
    "id": "521a11a7"
   },
   "outputs": [],
   "source": [
    "try:\n",
    "    internet_new_data = pd.read_csv('/datasets/internet_new.csv')\n",
    "except FileNotFoundError:\n",
    "    internet_new_data = pd.read_csv('C:\\\\Users\\Anna\\Desktop\\practikum\\internet_new.csv')"
   ]
  },
  {
   "cell_type": "code",
   "execution_count": 11,
   "id": "7168b713",
   "metadata": {},
   "outputs": [
    {
     "name": "stdout",
     "output_type": "stream",
     "text": [
      "<class 'pandas.core.frame.DataFrame'>\n",
      "RangeIndex: 5517 entries, 0 to 5516\n",
      "Data columns (total 8 columns):\n",
      " #   Column            Non-Null Count  Dtype \n",
      "---  ------            --------------  ----- \n",
      " 0   customerID        5517 non-null   object\n",
      " 1   InternetService   5517 non-null   object\n",
      " 2   OnlineSecurity    5517 non-null   object\n",
      " 3   OnlineBackup      5517 non-null   object\n",
      " 4   DeviceProtection  5517 non-null   object\n",
      " 5   TechSupport       5517 non-null   object\n",
      " 6   StreamingTV       5517 non-null   object\n",
      " 7   StreamingMovies   5517 non-null   object\n",
      "dtypes: object(8)\n",
      "memory usage: 344.9+ KB\n"
     ]
    }
   ],
   "source": [
    "internet_new_data.info()"
   ]
  },
  {
   "cell_type": "code",
   "execution_count": 12,
   "id": "75152801",
   "metadata": {
    "id": "75152801"
   },
   "outputs": [
    {
     "data": {
      "text/html": [
       "<div>\n",
       "<style scoped>\n",
       "    .dataframe tbody tr th:only-of-type {\n",
       "        vertical-align: middle;\n",
       "    }\n",
       "\n",
       "    .dataframe tbody tr th {\n",
       "        vertical-align: top;\n",
       "    }\n",
       "\n",
       "    .dataframe thead th {\n",
       "        text-align: right;\n",
       "    }\n",
       "</style>\n",
       "<table border=\"1\" class=\"dataframe\">\n",
       "  <thead>\n",
       "    <tr style=\"text-align: right;\">\n",
       "      <th></th>\n",
       "      <th>customerID</th>\n",
       "      <th>InternetService</th>\n",
       "      <th>OnlineSecurity</th>\n",
       "      <th>OnlineBackup</th>\n",
       "      <th>DeviceProtection</th>\n",
       "      <th>TechSupport</th>\n",
       "      <th>StreamingTV</th>\n",
       "      <th>StreamingMovies</th>\n",
       "    </tr>\n",
       "  </thead>\n",
       "  <tbody>\n",
       "    <tr>\n",
       "      <th>0</th>\n",
       "      <td>7590-VHVEG</td>\n",
       "      <td>DSL</td>\n",
       "      <td>No</td>\n",
       "      <td>Yes</td>\n",
       "      <td>No</td>\n",
       "      <td>No</td>\n",
       "      <td>No</td>\n",
       "      <td>No</td>\n",
       "    </tr>\n",
       "    <tr>\n",
       "      <th>1</th>\n",
       "      <td>5575-GNVDE</td>\n",
       "      <td>DSL</td>\n",
       "      <td>Yes</td>\n",
       "      <td>No</td>\n",
       "      <td>Yes</td>\n",
       "      <td>No</td>\n",
       "      <td>No</td>\n",
       "      <td>No</td>\n",
       "    </tr>\n",
       "    <tr>\n",
       "      <th>2</th>\n",
       "      <td>3668-QPYBK</td>\n",
       "      <td>DSL</td>\n",
       "      <td>Yes</td>\n",
       "      <td>Yes</td>\n",
       "      <td>No</td>\n",
       "      <td>No</td>\n",
       "      <td>No</td>\n",
       "      <td>No</td>\n",
       "    </tr>\n",
       "    <tr>\n",
       "      <th>3</th>\n",
       "      <td>7795-CFOCW</td>\n",
       "      <td>DSL</td>\n",
       "      <td>Yes</td>\n",
       "      <td>No</td>\n",
       "      <td>Yes</td>\n",
       "      <td>Yes</td>\n",
       "      <td>No</td>\n",
       "      <td>No</td>\n",
       "    </tr>\n",
       "    <tr>\n",
       "      <th>4</th>\n",
       "      <td>9237-HQITU</td>\n",
       "      <td>Fiber optic</td>\n",
       "      <td>No</td>\n",
       "      <td>No</td>\n",
       "      <td>No</td>\n",
       "      <td>No</td>\n",
       "      <td>No</td>\n",
       "      <td>No</td>\n",
       "    </tr>\n",
       "  </tbody>\n",
       "</table>\n",
       "</div>"
      ],
      "text/plain": [
       "   customerID InternetService OnlineSecurity OnlineBackup DeviceProtection  \\\n",
       "0  7590-VHVEG             DSL             No          Yes               No   \n",
       "1  5575-GNVDE             DSL            Yes           No              Yes   \n",
       "2  3668-QPYBK             DSL            Yes          Yes               No   \n",
       "3  7795-CFOCW             DSL            Yes           No              Yes   \n",
       "4  9237-HQITU     Fiber optic             No           No               No   \n",
       "\n",
       "  TechSupport StreamingTV StreamingMovies  \n",
       "0          No          No              No  \n",
       "1          No          No              No  \n",
       "2          No          No              No  \n",
       "3         Yes          No              No  \n",
       "4          No          No              No  "
      ]
     },
     "execution_count": 12,
     "metadata": {},
     "output_type": "execute_result"
    }
   ],
   "source": [
    "internet_new_data.head()"
   ]
  },
  {
   "cell_type": "code",
   "execution_count": 13,
   "id": "d48a7515",
   "metadata": {
    "id": "d48a7515"
   },
   "outputs": [],
   "source": [
    "try:\n",
    "    phone_new_data = pd.read_csv('/datasets/phone_new.csv')\n",
    "except FileNotFoundError:\n",
    "    phone_new_data = pd.read_csv('C:\\\\Users\\Anna\\Desktop\\practikum\\phone_new.csv')"
   ]
  },
  {
   "cell_type": "code",
   "execution_count": 14,
   "id": "95e74868",
   "metadata": {},
   "outputs": [
    {
     "name": "stdout",
     "output_type": "stream",
     "text": [
      "<class 'pandas.core.frame.DataFrame'>\n",
      "RangeIndex: 6361 entries, 0 to 6360\n",
      "Data columns (total 2 columns):\n",
      " #   Column         Non-Null Count  Dtype \n",
      "---  ------         --------------  ----- \n",
      " 0   customerID     6361 non-null   object\n",
      " 1   MultipleLines  6361 non-null   object\n",
      "dtypes: object(2)\n",
      "memory usage: 99.5+ KB\n"
     ]
    }
   ],
   "source": [
    "phone_new_data.info()"
   ]
  },
  {
   "cell_type": "code",
   "execution_count": 15,
   "id": "b0e8e694",
   "metadata": {
    "id": "b0e8e694"
   },
   "outputs": [
    {
     "data": {
      "text/html": [
       "<div>\n",
       "<style scoped>\n",
       "    .dataframe tbody tr th:only-of-type {\n",
       "        vertical-align: middle;\n",
       "    }\n",
       "\n",
       "    .dataframe tbody tr th {\n",
       "        vertical-align: top;\n",
       "    }\n",
       "\n",
       "    .dataframe thead th {\n",
       "        text-align: right;\n",
       "    }\n",
       "</style>\n",
       "<table border=\"1\" class=\"dataframe\">\n",
       "  <thead>\n",
       "    <tr style=\"text-align: right;\">\n",
       "      <th></th>\n",
       "      <th>customerID</th>\n",
       "      <th>MultipleLines</th>\n",
       "    </tr>\n",
       "  </thead>\n",
       "  <tbody>\n",
       "    <tr>\n",
       "      <th>0</th>\n",
       "      <td>5575-GNVDE</td>\n",
       "      <td>No</td>\n",
       "    </tr>\n",
       "    <tr>\n",
       "      <th>1</th>\n",
       "      <td>3668-QPYBK</td>\n",
       "      <td>No</td>\n",
       "    </tr>\n",
       "    <tr>\n",
       "      <th>2</th>\n",
       "      <td>9237-HQITU</td>\n",
       "      <td>No</td>\n",
       "    </tr>\n",
       "    <tr>\n",
       "      <th>3</th>\n",
       "      <td>9305-CDSKC</td>\n",
       "      <td>Yes</td>\n",
       "    </tr>\n",
       "    <tr>\n",
       "      <th>4</th>\n",
       "      <td>1452-KIOVK</td>\n",
       "      <td>Yes</td>\n",
       "    </tr>\n",
       "  </tbody>\n",
       "</table>\n",
       "</div>"
      ],
      "text/plain": [
       "   customerID MultipleLines\n",
       "0  5575-GNVDE            No\n",
       "1  3668-QPYBK            No\n",
       "2  9237-HQITU            No\n",
       "3  9305-CDSKC           Yes\n",
       "4  1452-KIOVK           Yes"
      ]
     },
     "execution_count": 15,
     "metadata": {},
     "output_type": "execute_result"
    }
   ],
   "source": [
    "phone_new_data.head()"
   ]
  },
  {
   "cell_type": "markdown",
   "id": "2cd0c5b7",
   "metadata": {
    "id": "2cd0c5b7"
   },
   "source": [
    "**Вывод**\n",
    "\n",
    "Выполнена загрузка и первичный осмотр данных:\n",
    "- В датасете contract_new 7043 записей\n",
    "- В датасете personal_new 7043 записей\n",
    "- В датасете internet_new 5517 записей\n",
    "- В датасете phone_new 6361 записей"
   ]
  },
  {
   "cell_type": "markdown",
   "id": "3ececc71",
   "metadata": {
    "id": "3ececc71"
   },
   "source": [
    "## Исследовательский анализ и предобработка данных"
   ]
  },
  {
   "cell_type": "markdown",
   "id": "1892cf63",
   "metadata": {
    "id": "1892cf63"
   },
   "source": [
    "Проверим данные на дубликаты."
   ]
  },
  {
   "cell_type": "code",
   "execution_count": 16,
   "id": "65dc66bd",
   "metadata": {
    "id": "65dc66bd"
   },
   "outputs": [
    {
     "data": {
      "text/plain": [
       "0"
      ]
     },
     "execution_count": 16,
     "metadata": {},
     "output_type": "execute_result"
    }
   ],
   "source": [
    "contract_new_data.duplicated().sum()"
   ]
  },
  {
   "cell_type": "code",
   "execution_count": 17,
   "id": "1686e8fd",
   "metadata": {
    "id": "1686e8fd"
   },
   "outputs": [
    {
     "data": {
      "text/plain": [
       "0"
      ]
     },
     "execution_count": 17,
     "metadata": {},
     "output_type": "execute_result"
    }
   ],
   "source": [
    "personal_new_data.duplicated().sum()"
   ]
  },
  {
   "cell_type": "code",
   "execution_count": 18,
   "id": "0a9619cf",
   "metadata": {
    "id": "0a9619cf"
   },
   "outputs": [
    {
     "data": {
      "text/plain": [
       "0"
      ]
     },
     "execution_count": 18,
     "metadata": {},
     "output_type": "execute_result"
    }
   ],
   "source": [
    "internet_new_data.duplicated().sum()"
   ]
  },
  {
   "cell_type": "code",
   "execution_count": 19,
   "id": "370d0581",
   "metadata": {
    "id": "370d0581"
   },
   "outputs": [
    {
     "data": {
      "text/plain": [
       "0"
      ]
     },
     "execution_count": 19,
     "metadata": {},
     "output_type": "execute_result"
    }
   ],
   "source": [
    "phone_new_data.duplicated().sum()"
   ]
  },
  {
   "cell_type": "markdown",
   "id": "388fa225",
   "metadata": {
    "id": "388fa225"
   },
   "source": [
    "Дубликатов не обнаружено."
   ]
  },
  {
   "cell_type": "markdown",
   "id": "13c9f61c",
   "metadata": {
    "id": "13c9f61c"
   },
   "source": [
    "Проверим пропуски в данных."
   ]
  },
  {
   "cell_type": "code",
   "execution_count": 20,
   "id": "6d073867",
   "metadata": {
    "id": "6d073867"
   },
   "outputs": [
    {
     "data": {
      "text/plain": [
       "customerID          0\n",
       "BeginDate           0\n",
       "EndDate             0\n",
       "Type                0\n",
       "PaperlessBilling    0\n",
       "PaymentMethod       0\n",
       "MonthlyCharges      0\n",
       "TotalCharges        0\n",
       "dtype: int64"
      ]
     },
     "execution_count": 20,
     "metadata": {},
     "output_type": "execute_result"
    }
   ],
   "source": [
    "contract_new_data.isna().sum()"
   ]
  },
  {
   "cell_type": "code",
   "execution_count": 21,
   "id": "e1563af7",
   "metadata": {
    "id": "e1563af7"
   },
   "outputs": [
    {
     "data": {
      "text/plain": [
       "customerID       0\n",
       "gender           0\n",
       "SeniorCitizen    0\n",
       "Partner          0\n",
       "Dependents       0\n",
       "dtype: int64"
      ]
     },
     "execution_count": 21,
     "metadata": {},
     "output_type": "execute_result"
    }
   ],
   "source": [
    "personal_new_data.isna().sum()"
   ]
  },
  {
   "cell_type": "code",
   "execution_count": 22,
   "id": "7a3adaf6",
   "metadata": {
    "id": "7a3adaf6"
   },
   "outputs": [
    {
     "data": {
      "text/plain": [
       "customerID          0\n",
       "InternetService     0\n",
       "OnlineSecurity      0\n",
       "OnlineBackup        0\n",
       "DeviceProtection    0\n",
       "TechSupport         0\n",
       "StreamingTV         0\n",
       "StreamingMovies     0\n",
       "dtype: int64"
      ]
     },
     "execution_count": 22,
     "metadata": {},
     "output_type": "execute_result"
    }
   ],
   "source": [
    "internet_new_data.isna().sum()"
   ]
  },
  {
   "cell_type": "code",
   "execution_count": 23,
   "id": "6d6e0bd5",
   "metadata": {
    "id": "6d6e0bd5"
   },
   "outputs": [
    {
     "data": {
      "text/plain": [
       "customerID       0\n",
       "MultipleLines    0\n",
       "dtype: int64"
      ]
     },
     "execution_count": 23,
     "metadata": {},
     "output_type": "execute_result"
    }
   ],
   "source": [
    "phone_new_data.isna().sum()"
   ]
  },
  {
   "cell_type": "markdown",
   "id": "7bd8288d",
   "metadata": {
    "id": "7bd8288d"
   },
   "source": [
    "Пропусков не обнаружено."
   ]
  },
  {
   "cell_type": "markdown",
   "id": "1c4ad8ab",
   "metadata": {
    "id": "1c4ad8ab"
   },
   "source": [
    "Поле **BeginDate** необходимо привести к типу datetime"
   ]
  },
  {
   "cell_type": "markdown",
   "id": "e6e68c49",
   "metadata": {
    "id": "e6e68c49"
   },
   "source": [
    "Поле **EndDate** – это целевой признак, любая дата в этом поле соответствует уходу клиента, если стоит значение \"No\" - клиент остался.\n",
    "Для значения \"No\" можно установить уникальную дату (например, дату актуальности датасета - 2020-02-01), после чего привести поле к формату datetime;"
   ]
  },
  {
   "cell_type": "code",
   "execution_count": 24,
   "id": "1007e50c",
   "metadata": {
    "id": "1007e50c"
   },
   "outputs": [],
   "source": [
    "contract_new_data['EndDate'] = contract_new_data['EndDate'].replace(['No'], ['2020-02-01'])"
   ]
  },
  {
   "cell_type": "code",
   "execution_count": 25,
   "id": "a65282ce",
   "metadata": {
    "id": "a65282ce"
   },
   "outputs": [],
   "source": [
    "contract_new_data['BeginDate'] = pd.to_datetime(contract_new_data['BeginDate'],format = '%Y-%m-%d')\n",
    "contract_new_data['EndDate'] = pd.to_datetime(contract_new_data['EndDate'],format = '%Y-%m-%d')"
   ]
  },
  {
   "cell_type": "markdown",
   "id": "3a4014e2",
   "metadata": {
    "id": "3a4014e2"
   },
   "source": [
    "**Вывод**\n",
    "\n",
    "- Дубликатов и пропусков не обнаружено\n",
    "- Поля BeginDate и EndDate приведены к типу datetime\n",
    "- В поле EndDate добавлена заглушка (вместо No теперь значение '2020-02-01')"
   ]
  },
  {
   "cell_type": "markdown",
   "id": "8c22a8cb",
   "metadata": {
    "id": "8c22a8cb"
   },
   "source": [
    "## Объединение данных"
   ]
  },
  {
   "cell_type": "code",
   "execution_count": 26,
   "id": "b20e9e0f",
   "metadata": {
    "id": "b20e9e0f"
   },
   "outputs": [],
   "source": [
    "df_telecom = contract_new_data.set_index('customerID').join(phone_new_data.set_index('customerID'))\n",
    "df_telecom = df_telecom.join(personal_new_data.set_index('customerID'))\n",
    "df_telecom = df_telecom.join(internet_new_data.set_index('customerID'))"
   ]
  },
  {
   "cell_type": "code",
   "execution_count": 27,
   "id": "26de2239",
   "metadata": {
    "id": "26de2239"
   },
   "outputs": [
    {
     "name": "stdout",
     "output_type": "stream",
     "text": [
      "<class 'pandas.core.frame.DataFrame'>\n",
      "Index: 7043 entries, 7590-VHVEG to 3186-AJIEK\n",
      "Data columns (total 19 columns):\n",
      " #   Column            Non-Null Count  Dtype         \n",
      "---  ------            --------------  -----         \n",
      " 0   BeginDate         7043 non-null   datetime64[ns]\n",
      " 1   EndDate           7043 non-null   datetime64[ns]\n",
      " 2   Type              7043 non-null   object        \n",
      " 3   PaperlessBilling  7043 non-null   object        \n",
      " 4   PaymentMethod     7043 non-null   object        \n",
      " 5   MonthlyCharges    7043 non-null   float64       \n",
      " 6   TotalCharges      7043 non-null   object        \n",
      " 7   MultipleLines     6361 non-null   object        \n",
      " 8   gender            7043 non-null   object        \n",
      " 9   SeniorCitizen     7043 non-null   int64         \n",
      " 10  Partner           7043 non-null   object        \n",
      " 11  Dependents        7043 non-null   object        \n",
      " 12  InternetService   5517 non-null   object        \n",
      " 13  OnlineSecurity    5517 non-null   object        \n",
      " 14  OnlineBackup      5517 non-null   object        \n",
      " 15  DeviceProtection  5517 non-null   object        \n",
      " 16  TechSupport       5517 non-null   object        \n",
      " 17  StreamingTV       5517 non-null   object        \n",
      " 18  StreamingMovies   5517 non-null   object        \n",
      "dtypes: datetime64[ns](2), float64(1), int64(1), object(15)\n",
      "memory usage: 1.3+ MB\n"
     ]
    }
   ],
   "source": [
    "df_telecom.info()"
   ]
  },
  {
   "cell_type": "markdown",
   "id": "bf15eb6d",
   "metadata": {
    "id": "bf15eb6d"
   },
   "source": [
    "Закодируем бинарные признаки."
   ]
  },
  {
   "cell_type": "code",
   "execution_count": 28,
   "id": "9c73e387",
   "metadata": {
    "id": "9c73e387"
   },
   "outputs": [
    {
     "data": {
      "text/html": [
       "<div>\n",
       "<style scoped>\n",
       "    .dataframe tbody tr th:only-of-type {\n",
       "        vertical-align: middle;\n",
       "    }\n",
       "\n",
       "    .dataframe tbody tr th {\n",
       "        vertical-align: top;\n",
       "    }\n",
       "\n",
       "    .dataframe thead th {\n",
       "        text-align: right;\n",
       "    }\n",
       "</style>\n",
       "<table border=\"1\" class=\"dataframe\">\n",
       "  <thead>\n",
       "    <tr style=\"text-align: right;\">\n",
       "      <th></th>\n",
       "      <th>BeginDate</th>\n",
       "      <th>EndDate</th>\n",
       "      <th>Type</th>\n",
       "      <th>PaperlessBilling</th>\n",
       "      <th>PaymentMethod</th>\n",
       "      <th>MonthlyCharges</th>\n",
       "      <th>TotalCharges</th>\n",
       "      <th>MultipleLines</th>\n",
       "      <th>gender</th>\n",
       "      <th>SeniorCitizen</th>\n",
       "      <th>Partner</th>\n",
       "      <th>Dependents</th>\n",
       "      <th>InternetService</th>\n",
       "      <th>OnlineSecurity</th>\n",
       "      <th>OnlineBackup</th>\n",
       "      <th>DeviceProtection</th>\n",
       "      <th>TechSupport</th>\n",
       "      <th>StreamingTV</th>\n",
       "      <th>StreamingMovies</th>\n",
       "    </tr>\n",
       "    <tr>\n",
       "      <th>customerID</th>\n",
       "      <th></th>\n",
       "      <th></th>\n",
       "      <th></th>\n",
       "      <th></th>\n",
       "      <th></th>\n",
       "      <th></th>\n",
       "      <th></th>\n",
       "      <th></th>\n",
       "      <th></th>\n",
       "      <th></th>\n",
       "      <th></th>\n",
       "      <th></th>\n",
       "      <th></th>\n",
       "      <th></th>\n",
       "      <th></th>\n",
       "      <th></th>\n",
       "      <th></th>\n",
       "      <th></th>\n",
       "      <th></th>\n",
       "    </tr>\n",
       "  </thead>\n",
       "  <tbody>\n",
       "    <tr>\n",
       "      <th>7590-VHVEG</th>\n",
       "      <td>2020-01-01</td>\n",
       "      <td>2020-02-01</td>\n",
       "      <td>Month-to-month</td>\n",
       "      <td>Yes</td>\n",
       "      <td>Electronic check</td>\n",
       "      <td>29.85</td>\n",
       "      <td>31.04</td>\n",
       "      <td>NaN</td>\n",
       "      <td>Female</td>\n",
       "      <td>0</td>\n",
       "      <td>Yes</td>\n",
       "      <td>No</td>\n",
       "      <td>DSL</td>\n",
       "      <td>No</td>\n",
       "      <td>Yes</td>\n",
       "      <td>No</td>\n",
       "      <td>No</td>\n",
       "      <td>No</td>\n",
       "      <td>No</td>\n",
       "    </tr>\n",
       "    <tr>\n",
       "      <th>5575-GNVDE</th>\n",
       "      <td>2017-04-01</td>\n",
       "      <td>2020-02-01</td>\n",
       "      <td>One year</td>\n",
       "      <td>No</td>\n",
       "      <td>Mailed check</td>\n",
       "      <td>56.95</td>\n",
       "      <td>2071.84</td>\n",
       "      <td>No</td>\n",
       "      <td>Male</td>\n",
       "      <td>0</td>\n",
       "      <td>No</td>\n",
       "      <td>No</td>\n",
       "      <td>DSL</td>\n",
       "      <td>Yes</td>\n",
       "      <td>No</td>\n",
       "      <td>Yes</td>\n",
       "      <td>No</td>\n",
       "      <td>No</td>\n",
       "      <td>No</td>\n",
       "    </tr>\n",
       "    <tr>\n",
       "      <th>3668-QPYBK</th>\n",
       "      <td>2019-10-01</td>\n",
       "      <td>2020-02-01</td>\n",
       "      <td>Month-to-month</td>\n",
       "      <td>Yes</td>\n",
       "      <td>Mailed check</td>\n",
       "      <td>53.85</td>\n",
       "      <td>226.17</td>\n",
       "      <td>No</td>\n",
       "      <td>Male</td>\n",
       "      <td>0</td>\n",
       "      <td>No</td>\n",
       "      <td>No</td>\n",
       "      <td>DSL</td>\n",
       "      <td>Yes</td>\n",
       "      <td>Yes</td>\n",
       "      <td>No</td>\n",
       "      <td>No</td>\n",
       "      <td>No</td>\n",
       "      <td>No</td>\n",
       "    </tr>\n",
       "    <tr>\n",
       "      <th>7795-CFOCW</th>\n",
       "      <td>2016-05-01</td>\n",
       "      <td>2020-02-01</td>\n",
       "      <td>One year</td>\n",
       "      <td>No</td>\n",
       "      <td>Bank transfer (automatic)</td>\n",
       "      <td>42.30</td>\n",
       "      <td>1960.6</td>\n",
       "      <td>NaN</td>\n",
       "      <td>Male</td>\n",
       "      <td>0</td>\n",
       "      <td>No</td>\n",
       "      <td>No</td>\n",
       "      <td>DSL</td>\n",
       "      <td>Yes</td>\n",
       "      <td>No</td>\n",
       "      <td>Yes</td>\n",
       "      <td>Yes</td>\n",
       "      <td>No</td>\n",
       "      <td>No</td>\n",
       "    </tr>\n",
       "    <tr>\n",
       "      <th>9237-HQITU</th>\n",
       "      <td>2019-09-01</td>\n",
       "      <td>2020-02-01</td>\n",
       "      <td>Month-to-month</td>\n",
       "      <td>Yes</td>\n",
       "      <td>Electronic check</td>\n",
       "      <td>70.70</td>\n",
       "      <td>353.5</td>\n",
       "      <td>No</td>\n",
       "      <td>Female</td>\n",
       "      <td>0</td>\n",
       "      <td>No</td>\n",
       "      <td>No</td>\n",
       "      <td>Fiber optic</td>\n",
       "      <td>No</td>\n",
       "      <td>No</td>\n",
       "      <td>No</td>\n",
       "      <td>No</td>\n",
       "      <td>No</td>\n",
       "      <td>No</td>\n",
       "    </tr>\n",
       "    <tr>\n",
       "      <th>9305-CDSKC</th>\n",
       "      <td>2019-03-01</td>\n",
       "      <td>2020-02-01</td>\n",
       "      <td>Month-to-month</td>\n",
       "      <td>Yes</td>\n",
       "      <td>Electronic check</td>\n",
       "      <td>99.65</td>\n",
       "      <td>1150.96</td>\n",
       "      <td>Yes</td>\n",
       "      <td>Female</td>\n",
       "      <td>0</td>\n",
       "      <td>No</td>\n",
       "      <td>No</td>\n",
       "      <td>Fiber optic</td>\n",
       "      <td>No</td>\n",
       "      <td>No</td>\n",
       "      <td>Yes</td>\n",
       "      <td>No</td>\n",
       "      <td>Yes</td>\n",
       "      <td>Yes</td>\n",
       "    </tr>\n",
       "    <tr>\n",
       "      <th>1452-KIOVK</th>\n",
       "      <td>2018-04-01</td>\n",
       "      <td>2020-02-01</td>\n",
       "      <td>Month-to-month</td>\n",
       "      <td>Yes</td>\n",
       "      <td>Credit card (automatic)</td>\n",
       "      <td>89.10</td>\n",
       "      <td>2058.21</td>\n",
       "      <td>Yes</td>\n",
       "      <td>Male</td>\n",
       "      <td>0</td>\n",
       "      <td>No</td>\n",
       "      <td>Yes</td>\n",
       "      <td>Fiber optic</td>\n",
       "      <td>No</td>\n",
       "      <td>Yes</td>\n",
       "      <td>No</td>\n",
       "      <td>No</td>\n",
       "      <td>Yes</td>\n",
       "      <td>No</td>\n",
       "    </tr>\n",
       "    <tr>\n",
       "      <th>6713-OKOMC</th>\n",
       "      <td>2019-04-01</td>\n",
       "      <td>2020-02-01</td>\n",
       "      <td>Month-to-month</td>\n",
       "      <td>No</td>\n",
       "      <td>Mailed check</td>\n",
       "      <td>29.75</td>\n",
       "      <td>300.48</td>\n",
       "      <td>NaN</td>\n",
       "      <td>Female</td>\n",
       "      <td>0</td>\n",
       "      <td>No</td>\n",
       "      <td>No</td>\n",
       "      <td>DSL</td>\n",
       "      <td>Yes</td>\n",
       "      <td>No</td>\n",
       "      <td>No</td>\n",
       "      <td>No</td>\n",
       "      <td>No</td>\n",
       "      <td>No</td>\n",
       "    </tr>\n",
       "    <tr>\n",
       "      <th>7892-POOKP</th>\n",
       "      <td>2017-07-01</td>\n",
       "      <td>2020-02-01</td>\n",
       "      <td>Month-to-month</td>\n",
       "      <td>Yes</td>\n",
       "      <td>Electronic check</td>\n",
       "      <td>104.80</td>\n",
       "      <td>3573.68</td>\n",
       "      <td>Yes</td>\n",
       "      <td>Female</td>\n",
       "      <td>0</td>\n",
       "      <td>Yes</td>\n",
       "      <td>No</td>\n",
       "      <td>Fiber optic</td>\n",
       "      <td>No</td>\n",
       "      <td>No</td>\n",
       "      <td>Yes</td>\n",
       "      <td>Yes</td>\n",
       "      <td>Yes</td>\n",
       "      <td>Yes</td>\n",
       "    </tr>\n",
       "    <tr>\n",
       "      <th>6388-TABGU</th>\n",
       "      <td>2014-12-01</td>\n",
       "      <td>2017-05-01</td>\n",
       "      <td>One year</td>\n",
       "      <td>No</td>\n",
       "      <td>Bank transfer (automatic)</td>\n",
       "      <td>56.15</td>\n",
       "      <td>1628.35</td>\n",
       "      <td>No</td>\n",
       "      <td>Male</td>\n",
       "      <td>0</td>\n",
       "      <td>No</td>\n",
       "      <td>Yes</td>\n",
       "      <td>DSL</td>\n",
       "      <td>Yes</td>\n",
       "      <td>Yes</td>\n",
       "      <td>No</td>\n",
       "      <td>No</td>\n",
       "      <td>No</td>\n",
       "      <td>No</td>\n",
       "    </tr>\n",
       "    <tr>\n",
       "      <th>9763-GRSKD</th>\n",
       "      <td>2019-01-01</td>\n",
       "      <td>2020-02-01</td>\n",
       "      <td>Month-to-month</td>\n",
       "      <td>Yes</td>\n",
       "      <td>Mailed check</td>\n",
       "      <td>49.95</td>\n",
       "      <td>649.35</td>\n",
       "      <td>No</td>\n",
       "      <td>Male</td>\n",
       "      <td>0</td>\n",
       "      <td>Yes</td>\n",
       "      <td>Yes</td>\n",
       "      <td>DSL</td>\n",
       "      <td>Yes</td>\n",
       "      <td>No</td>\n",
       "      <td>No</td>\n",
       "      <td>No</td>\n",
       "      <td>No</td>\n",
       "      <td>No</td>\n",
       "    </tr>\n",
       "    <tr>\n",
       "      <th>7469-LKBCI</th>\n",
       "      <td>2018-10-01</td>\n",
       "      <td>2020-02-01</td>\n",
       "      <td>Two year</td>\n",
       "      <td>No</td>\n",
       "      <td>Credit card (automatic)</td>\n",
       "      <td>18.95</td>\n",
       "      <td>312.3</td>\n",
       "      <td>No</td>\n",
       "      <td>Male</td>\n",
       "      <td>0</td>\n",
       "      <td>No</td>\n",
       "      <td>No</td>\n",
       "      <td>NaN</td>\n",
       "      <td>NaN</td>\n",
       "      <td>NaN</td>\n",
       "      <td>NaN</td>\n",
       "      <td>NaN</td>\n",
       "      <td>NaN</td>\n",
       "      <td>NaN</td>\n",
       "    </tr>\n",
       "    <tr>\n",
       "      <th>8091-TTVAX</th>\n",
       "      <td>2015-04-01</td>\n",
       "      <td>2020-02-01</td>\n",
       "      <td>One year</td>\n",
       "      <td>No</td>\n",
       "      <td>Credit card (automatic)</td>\n",
       "      <td>100.35</td>\n",
       "      <td>6111.31</td>\n",
       "      <td>Yes</td>\n",
       "      <td>Male</td>\n",
       "      <td>0</td>\n",
       "      <td>Yes</td>\n",
       "      <td>No</td>\n",
       "      <td>Fiber optic</td>\n",
       "      <td>No</td>\n",
       "      <td>No</td>\n",
       "      <td>Yes</td>\n",
       "      <td>No</td>\n",
       "      <td>Yes</td>\n",
       "      <td>Yes</td>\n",
       "    </tr>\n",
       "    <tr>\n",
       "      <th>0280-XJGEX</th>\n",
       "      <td>2015-09-01</td>\n",
       "      <td>2020-02-01</td>\n",
       "      <td>Month-to-month</td>\n",
       "      <td>Yes</td>\n",
       "      <td>Bank transfer (automatic)</td>\n",
       "      <td>103.70</td>\n",
       "      <td>5496.1</td>\n",
       "      <td>Yes</td>\n",
       "      <td>Male</td>\n",
       "      <td>0</td>\n",
       "      <td>No</td>\n",
       "      <td>No</td>\n",
       "      <td>Fiber optic</td>\n",
       "      <td>No</td>\n",
       "      <td>Yes</td>\n",
       "      <td>Yes</td>\n",
       "      <td>No</td>\n",
       "      <td>Yes</td>\n",
       "      <td>Yes</td>\n",
       "    </tr>\n",
       "    <tr>\n",
       "      <th>5129-JLPIS</th>\n",
       "      <td>2018-01-01</td>\n",
       "      <td>2020-02-01</td>\n",
       "      <td>Month-to-month</td>\n",
       "      <td>Yes</td>\n",
       "      <td>Electronic check</td>\n",
       "      <td>105.50</td>\n",
       "      <td>2637.5</td>\n",
       "      <td>No</td>\n",
       "      <td>Male</td>\n",
       "      <td>0</td>\n",
       "      <td>No</td>\n",
       "      <td>No</td>\n",
       "      <td>Fiber optic</td>\n",
       "      <td>Yes</td>\n",
       "      <td>No</td>\n",
       "      <td>Yes</td>\n",
       "      <td>Yes</td>\n",
       "      <td>Yes</td>\n",
       "      <td>Yes</td>\n",
       "    </tr>\n",
       "    <tr>\n",
       "      <th>3655-SNQYZ</th>\n",
       "      <td>2014-05-01</td>\n",
       "      <td>2016-03-01</td>\n",
       "      <td>Two year</td>\n",
       "      <td>No</td>\n",
       "      <td>Credit card (automatic)</td>\n",
       "      <td>113.25</td>\n",
       "      <td>2491.5</td>\n",
       "      <td>Yes</td>\n",
       "      <td>Female</td>\n",
       "      <td>0</td>\n",
       "      <td>Yes</td>\n",
       "      <td>Yes</td>\n",
       "      <td>Fiber optic</td>\n",
       "      <td>Yes</td>\n",
       "      <td>Yes</td>\n",
       "      <td>Yes</td>\n",
       "      <td>Yes</td>\n",
       "      <td>Yes</td>\n",
       "      <td>Yes</td>\n",
       "    </tr>\n",
       "    <tr>\n",
       "      <th>8191-XWSZG</th>\n",
       "      <td>2015-10-01</td>\n",
       "      <td>2020-02-01</td>\n",
       "      <td>One year</td>\n",
       "      <td>No</td>\n",
       "      <td>Mailed check</td>\n",
       "      <td>20.65</td>\n",
       "      <td>1106.01</td>\n",
       "      <td>No</td>\n",
       "      <td>Female</td>\n",
       "      <td>0</td>\n",
       "      <td>No</td>\n",
       "      <td>No</td>\n",
       "      <td>NaN</td>\n",
       "      <td>NaN</td>\n",
       "      <td>NaN</td>\n",
       "      <td>NaN</td>\n",
       "      <td>NaN</td>\n",
       "      <td>NaN</td>\n",
       "      <td>NaN</td>\n",
       "    </tr>\n",
       "    <tr>\n",
       "      <th>9959-WOFKT</th>\n",
       "      <td>2014-03-01</td>\n",
       "      <td>2020-02-01</td>\n",
       "      <td>Two year</td>\n",
       "      <td>No</td>\n",
       "      <td>Bank transfer (automatic)</td>\n",
       "      <td>106.70</td>\n",
       "      <td>8257.51</td>\n",
       "      <td>Yes</td>\n",
       "      <td>Male</td>\n",
       "      <td>0</td>\n",
       "      <td>No</td>\n",
       "      <td>Yes</td>\n",
       "      <td>Fiber optic</td>\n",
       "      <td>Yes</td>\n",
       "      <td>No</td>\n",
       "      <td>Yes</td>\n",
       "      <td>No</td>\n",
       "      <td>Yes</td>\n",
       "      <td>Yes</td>\n",
       "    </tr>\n",
       "    <tr>\n",
       "      <th>4190-MFLUW</th>\n",
       "      <td>2019-01-01</td>\n",
       "      <td>2020-02-01</td>\n",
       "      <td>Month-to-month</td>\n",
       "      <td>No</td>\n",
       "      <td>Credit card (automatic)</td>\n",
       "      <td>55.20</td>\n",
       "      <td>789.36</td>\n",
       "      <td>No</td>\n",
       "      <td>Female</td>\n",
       "      <td>0</td>\n",
       "      <td>Yes</td>\n",
       "      <td>Yes</td>\n",
       "      <td>DSL</td>\n",
       "      <td>No</td>\n",
       "      <td>No</td>\n",
       "      <td>Yes</td>\n",
       "      <td>Yes</td>\n",
       "      <td>No</td>\n",
       "      <td>No</td>\n",
       "    </tr>\n",
       "    <tr>\n",
       "      <th>4183-MYFRB</th>\n",
       "      <td>2018-05-01</td>\n",
       "      <td>2020-02-01</td>\n",
       "      <td>Month-to-month</td>\n",
       "      <td>Yes</td>\n",
       "      <td>Electronic check</td>\n",
       "      <td>90.05</td>\n",
       "      <td>1891.05</td>\n",
       "      <td>No</td>\n",
       "      <td>Female</td>\n",
       "      <td>0</td>\n",
       "      <td>No</td>\n",
       "      <td>No</td>\n",
       "      <td>Fiber optic</td>\n",
       "      <td>No</td>\n",
       "      <td>Yes</td>\n",
       "      <td>Yes</td>\n",
       "      <td>No</td>\n",
       "      <td>No</td>\n",
       "      <td>Yes</td>\n",
       "    </tr>\n",
       "  </tbody>\n",
       "</table>\n",
       "</div>"
      ],
      "text/plain": [
       "            BeginDate    EndDate            Type PaperlessBilling  \\\n",
       "customerID                                                          \n",
       "7590-VHVEG 2020-01-01 2020-02-01  Month-to-month              Yes   \n",
       "5575-GNVDE 2017-04-01 2020-02-01        One year               No   \n",
       "3668-QPYBK 2019-10-01 2020-02-01  Month-to-month              Yes   \n",
       "7795-CFOCW 2016-05-01 2020-02-01        One year               No   \n",
       "9237-HQITU 2019-09-01 2020-02-01  Month-to-month              Yes   \n",
       "9305-CDSKC 2019-03-01 2020-02-01  Month-to-month              Yes   \n",
       "1452-KIOVK 2018-04-01 2020-02-01  Month-to-month              Yes   \n",
       "6713-OKOMC 2019-04-01 2020-02-01  Month-to-month               No   \n",
       "7892-POOKP 2017-07-01 2020-02-01  Month-to-month              Yes   \n",
       "6388-TABGU 2014-12-01 2017-05-01        One year               No   \n",
       "9763-GRSKD 2019-01-01 2020-02-01  Month-to-month              Yes   \n",
       "7469-LKBCI 2018-10-01 2020-02-01        Two year               No   \n",
       "8091-TTVAX 2015-04-01 2020-02-01        One year               No   \n",
       "0280-XJGEX 2015-09-01 2020-02-01  Month-to-month              Yes   \n",
       "5129-JLPIS 2018-01-01 2020-02-01  Month-to-month              Yes   \n",
       "3655-SNQYZ 2014-05-01 2016-03-01        Two year               No   \n",
       "8191-XWSZG 2015-10-01 2020-02-01        One year               No   \n",
       "9959-WOFKT 2014-03-01 2020-02-01        Two year               No   \n",
       "4190-MFLUW 2019-01-01 2020-02-01  Month-to-month               No   \n",
       "4183-MYFRB 2018-05-01 2020-02-01  Month-to-month              Yes   \n",
       "\n",
       "                        PaymentMethod  MonthlyCharges TotalCharges  \\\n",
       "customerID                                                           \n",
       "7590-VHVEG           Electronic check           29.85        31.04   \n",
       "5575-GNVDE               Mailed check           56.95      2071.84   \n",
       "3668-QPYBK               Mailed check           53.85       226.17   \n",
       "7795-CFOCW  Bank transfer (automatic)           42.30       1960.6   \n",
       "9237-HQITU           Electronic check           70.70        353.5   \n",
       "9305-CDSKC           Electronic check           99.65      1150.96   \n",
       "1452-KIOVK    Credit card (automatic)           89.10      2058.21   \n",
       "6713-OKOMC               Mailed check           29.75       300.48   \n",
       "7892-POOKP           Electronic check          104.80      3573.68   \n",
       "6388-TABGU  Bank transfer (automatic)           56.15      1628.35   \n",
       "9763-GRSKD               Mailed check           49.95       649.35   \n",
       "7469-LKBCI    Credit card (automatic)           18.95        312.3   \n",
       "8091-TTVAX    Credit card (automatic)          100.35      6111.31   \n",
       "0280-XJGEX  Bank transfer (automatic)          103.70       5496.1   \n",
       "5129-JLPIS           Electronic check          105.50       2637.5   \n",
       "3655-SNQYZ    Credit card (automatic)          113.25       2491.5   \n",
       "8191-XWSZG               Mailed check           20.65      1106.01   \n",
       "9959-WOFKT  Bank transfer (automatic)          106.70      8257.51   \n",
       "4190-MFLUW    Credit card (automatic)           55.20       789.36   \n",
       "4183-MYFRB           Electronic check           90.05      1891.05   \n",
       "\n",
       "           MultipleLines  gender  SeniorCitizen Partner Dependents  \\\n",
       "customerID                                                           \n",
       "7590-VHVEG           NaN  Female              0     Yes         No   \n",
       "5575-GNVDE            No    Male              0      No         No   \n",
       "3668-QPYBK            No    Male              0      No         No   \n",
       "7795-CFOCW           NaN    Male              0      No         No   \n",
       "9237-HQITU            No  Female              0      No         No   \n",
       "9305-CDSKC           Yes  Female              0      No         No   \n",
       "1452-KIOVK           Yes    Male              0      No        Yes   \n",
       "6713-OKOMC           NaN  Female              0      No         No   \n",
       "7892-POOKP           Yes  Female              0     Yes         No   \n",
       "6388-TABGU            No    Male              0      No        Yes   \n",
       "9763-GRSKD            No    Male              0     Yes        Yes   \n",
       "7469-LKBCI            No    Male              0      No         No   \n",
       "8091-TTVAX           Yes    Male              0     Yes         No   \n",
       "0280-XJGEX           Yes    Male              0      No         No   \n",
       "5129-JLPIS            No    Male              0      No         No   \n",
       "3655-SNQYZ           Yes  Female              0     Yes        Yes   \n",
       "8191-XWSZG            No  Female              0      No         No   \n",
       "9959-WOFKT           Yes    Male              0      No        Yes   \n",
       "4190-MFLUW            No  Female              0     Yes        Yes   \n",
       "4183-MYFRB            No  Female              0      No         No   \n",
       "\n",
       "           InternetService OnlineSecurity OnlineBackup DeviceProtection  \\\n",
       "customerID                                                                \n",
       "7590-VHVEG             DSL             No          Yes               No   \n",
       "5575-GNVDE             DSL            Yes           No              Yes   \n",
       "3668-QPYBK             DSL            Yes          Yes               No   \n",
       "7795-CFOCW             DSL            Yes           No              Yes   \n",
       "9237-HQITU     Fiber optic             No           No               No   \n",
       "9305-CDSKC     Fiber optic             No           No              Yes   \n",
       "1452-KIOVK     Fiber optic             No          Yes               No   \n",
       "6713-OKOMC             DSL            Yes           No               No   \n",
       "7892-POOKP     Fiber optic             No           No              Yes   \n",
       "6388-TABGU             DSL            Yes          Yes               No   \n",
       "9763-GRSKD             DSL            Yes           No               No   \n",
       "7469-LKBCI             NaN            NaN          NaN              NaN   \n",
       "8091-TTVAX     Fiber optic             No           No              Yes   \n",
       "0280-XJGEX     Fiber optic             No          Yes              Yes   \n",
       "5129-JLPIS     Fiber optic            Yes           No              Yes   \n",
       "3655-SNQYZ     Fiber optic            Yes          Yes              Yes   \n",
       "8191-XWSZG             NaN            NaN          NaN              NaN   \n",
       "9959-WOFKT     Fiber optic            Yes           No              Yes   \n",
       "4190-MFLUW             DSL             No           No              Yes   \n",
       "4183-MYFRB     Fiber optic             No          Yes              Yes   \n",
       "\n",
       "           TechSupport StreamingTV StreamingMovies  \n",
       "customerID                                          \n",
       "7590-VHVEG          No          No              No  \n",
       "5575-GNVDE          No          No              No  \n",
       "3668-QPYBK          No          No              No  \n",
       "7795-CFOCW         Yes          No              No  \n",
       "9237-HQITU          No          No              No  \n",
       "9305-CDSKC          No         Yes             Yes  \n",
       "1452-KIOVK          No         Yes              No  \n",
       "6713-OKOMC          No          No              No  \n",
       "7892-POOKP         Yes         Yes             Yes  \n",
       "6388-TABGU          No          No              No  \n",
       "9763-GRSKD          No          No              No  \n",
       "7469-LKBCI         NaN         NaN             NaN  \n",
       "8091-TTVAX          No         Yes             Yes  \n",
       "0280-XJGEX          No         Yes             Yes  \n",
       "5129-JLPIS         Yes         Yes             Yes  \n",
       "3655-SNQYZ         Yes         Yes             Yes  \n",
       "8191-XWSZG         NaN         NaN             NaN  \n",
       "9959-WOFKT          No         Yes             Yes  \n",
       "4190-MFLUW         Yes          No              No  \n",
       "4183-MYFRB          No          No             Yes  "
      ]
     },
     "execution_count": 28,
     "metadata": {},
     "output_type": "execute_result"
    }
   ],
   "source": [
    "df_telecom.head(20)"
   ]
  },
  {
   "cell_type": "code",
   "execution_count": 29,
   "id": "ff37ff5d",
   "metadata": {
    "id": "ff37ff5d"
   },
   "outputs": [
    {
     "data": {
      "text/html": [
       "<div>\n",
       "<style scoped>\n",
       "    .dataframe tbody tr th:only-of-type {\n",
       "        vertical-align: middle;\n",
       "    }\n",
       "\n",
       "    .dataframe tbody tr th {\n",
       "        vertical-align: top;\n",
       "    }\n",
       "\n",
       "    .dataframe thead th {\n",
       "        text-align: right;\n",
       "    }\n",
       "</style>\n",
       "<table border=\"1\" class=\"dataframe\">\n",
       "  <thead>\n",
       "    <tr style=\"text-align: right;\">\n",
       "      <th></th>\n",
       "      <th>count</th>\n",
       "      <th>mean</th>\n",
       "      <th>std</th>\n",
       "      <th>min</th>\n",
       "      <th>25%</th>\n",
       "      <th>50%</th>\n",
       "      <th>75%</th>\n",
       "      <th>max</th>\n",
       "    </tr>\n",
       "  </thead>\n",
       "  <tbody>\n",
       "    <tr>\n",
       "      <th>MonthlyCharges</th>\n",
       "      <td>7043.0</td>\n",
       "      <td>64.761692</td>\n",
       "      <td>30.090047</td>\n",
       "      <td>18.25</td>\n",
       "      <td>35.5</td>\n",
       "      <td>70.35</td>\n",
       "      <td>89.85</td>\n",
       "      <td>118.75</td>\n",
       "    </tr>\n",
       "    <tr>\n",
       "      <th>SeniorCitizen</th>\n",
       "      <td>7043.0</td>\n",
       "      <td>0.162147</td>\n",
       "      <td>0.368612</td>\n",
       "      <td>0.00</td>\n",
       "      <td>0.0</td>\n",
       "      <td>0.00</td>\n",
       "      <td>0.00</td>\n",
       "      <td>1.00</td>\n",
       "    </tr>\n",
       "  </tbody>\n",
       "</table>\n",
       "</div>"
      ],
      "text/plain": [
       "                 count       mean        std    min   25%    50%    75%  \\\n",
       "MonthlyCharges  7043.0  64.761692  30.090047  18.25  35.5  70.35  89.85   \n",
       "SeniorCitizen   7043.0   0.162147   0.368612   0.00   0.0   0.00   0.00   \n",
       "\n",
       "                   max  \n",
       "MonthlyCharges  118.75  \n",
       "SeniorCitizen     1.00  "
      ]
     },
     "execution_count": 29,
     "metadata": {},
     "output_type": "execute_result"
    }
   ],
   "source": [
    "df_telecom.describe().T"
   ]
  },
  {
   "cell_type": "markdown",
   "id": "1fb7dc01",
   "metadata": {
    "id": "1fb7dc01"
   },
   "source": [
    "**Вывод**\n",
    "\n",
    "- Выполнено объединение датасетов contract_new_data, personal_new_data, internet_new_data (итоговый датасет df_telecom)\n",
    "- Закодированы признаки MultipleLines, 'InternetService', 'OnlineSecurity', 'OnlineBackup', 'DeviceProtection', 'TechSupport', 'StreamingTV', 'StreamingMovies', 'Partner', 'Dependents'\n",
    "- Значения NaN заполнены No"
   ]
  },
  {
   "cell_type": "markdown",
   "id": "1bb4ac4a",
   "metadata": {
    "id": "1bb4ac4a"
   },
   "source": [
    "## Исследовательский анализ и предобработка данных объединённого датафрейма"
   ]
  },
  {
   "cell_type": "markdown",
   "id": "ae204ddd",
   "metadata": {
    "id": "ae204ddd"
   },
   "source": [
    "Построим распределение значений ежемесячных трат и соотнесем его с уходом клиентов"
   ]
  },
  {
   "cell_type": "code",
   "execution_count": 30,
   "id": "19031ae2",
   "metadata": {
    "id": "19031ae2"
   },
   "outputs": [
    {
     "data": {
      "image/png": "[encoded data removed]",
      "text/plain": [
       "<Figure size 1440x648 with 1 Axes>"
      ]
     },
     "metadata": {
      "needs_background": "light"
     },
     "output_type": "display_data"
    }
   ],
   "source": [
    "f, axes = plt.subplots(1, 1, figsize=(20, 9))\n",
    "axes.set_title('Распределения доли ежемесячных платежей', fontsize=20)\n",
    "axes.set_ylabel('Количество значений', fontsize=20)\n",
    "sns.histplot(df_telecom[df_telecom['EndDate'] == '2020-02-01']['MonthlyCharges'], bins=30)\n",
    "sns.histplot(df_telecom[df_telecom['EndDate'] != '2020-02-01']['MonthlyCharges'], bins=30, color = 'red')\n",
    "axes.set_xlabel('Ежемесячные расходы', fontsize=20)\n",
    "axes.legend(labels=[\"Все клиенты\",\"Ушедшие клиенты\"], fontsize=15);"
   ]
  },
  {
   "cell_type": "markdown",
   "id": "e5466659",
   "metadata": {
    "id": "e5466659"
   },
   "source": [
    "По графику видно, что у большого количества ушедших пользователей были большие ежемесячные расходы.  "
   ]
  },
  {
   "cell_type": "code",
   "execution_count": 31,
   "id": "65ae514f",
   "metadata": {
    "id": "65ae514f"
   },
   "outputs": [
    {
     "data": {
      "image/png": "[encoded data removed]",
      "text/plain": [
       "<Figure size 1440x648 with 1 Axes>"
      ]
     },
     "metadata": {
      "needs_background": "light"
     },
     "output_type": "display_data"
    }
   ],
   "source": [
    "f, axes = plt.subplots(1, 1, figsize=(20, 9))\n",
    "sns.histplot(df_telecom['BeginDate'])\n",
    "plt.title('Распределение дат регистрации клиентов')\n",
    "plt.xlabel('Дата')\n",
    "plt.ylabel('Количество');"
   ]
  },
  {
   "cell_type": "markdown",
   "id": "0f2826e9",
   "metadata": {
    "id": "0f2826e9"
   },
   "source": [
    "Видно, что примерно в середине 2014 года было зарегистрированно много пользователей, потом до 2019 видно снижение количества, и пик мы видим в 2020 году."
   ]
  },
  {
   "cell_type": "code",
   "execution_count": 32,
   "id": "9b146913",
   "metadata": {
    "id": "9b146913"
   },
   "outputs": [
    {
     "data": {
      "image/png": "[encoded data removed]",
      "text/plain": [
       "<Figure size 432x288 with 1 Axes>"
      ]
     },
     "metadata": {
      "needs_background": "light"
     },
     "output_type": "display_data"
    }
   ],
   "source": [
    "sns.histplot(df_telecom.query('EndDate != \"2020-02-01\"')['EndDate'])\n",
    "plt.title('Распределение оттока клиентов во времени')\n",
    "plt.xlabel('Дата')\n",
    "plt.ylabel('Количество');"
   ]
  },
  {
   "cell_type": "markdown",
   "id": "c9518407",
   "metadata": {
    "id": "c9518407"
   },
   "source": [
    "Видно, что в основном клиенты начали уходить с 2017 года. В 2020 году наблюдаем пик ухода клиентов."
   ]
  },
  {
   "cell_type": "markdown",
   "id": "4fcb5408",
   "metadata": {
    "id": "4fcb5408"
   },
   "source": [
    "Добавим признак: длительность (в днях) пользования клиентом услугами компании"
   ]
  },
  {
   "cell_type": "code",
   "execution_count": 33,
   "id": "02f743bd",
   "metadata": {
    "id": "02f743bd"
   },
   "outputs": [],
   "source": [
    "df_telecom['TotalTime'] = (df_telecom['EndDate'] - df_telecom['BeginDate']).dt.days"
   ]
  },
  {
   "cell_type": "code",
   "execution_count": 34,
   "id": "2f746cce",
   "metadata": {
    "id": "2f746cce"
   },
   "outputs": [],
   "source": [
    "# Удалим пользователей, у которых суммарное число дней контракта равно 0 дней,так как их доля меньше 1 процента\n",
    "df_telecom = df_telecom[df_telecom['TotalTime'] != 0]"
   ]
  },
  {
   "cell_type": "code",
   "execution_count": 35,
   "id": "4b5202b0",
   "metadata": {
    "id": "4b5202b0"
   },
   "outputs": [],
   "source": [
    "#  Заменим все пропущенные значения на No\n",
    "def data_fillna (data:pd.DataFrame, colname: str):\n",
    "    data[colname] = data[colname].fillna('No')"
   ]
  },
  {
   "cell_type": "code",
   "execution_count": 36,
   "id": "cd466dca",
   "metadata": {
    "id": "cd466dca"
   },
   "outputs": [],
   "source": [
    "list_cols_to_fillna = ['InternetService',\n",
    "                'OnlineSecurity',\n",
    "                'OnlineBackup',\n",
    "                'DeviceProtection',\n",
    "                'TechSupport',\n",
    "                'StreamingTV',\n",
    "                'StreamingMovies',\n",
    "              'MultipleLines']\n",
    "for elem in list_cols_to_fillna:\n",
    "    data_fillna(df_telecom, elem)"
   ]
  },
  {
   "cell_type": "code",
   "execution_count": 37,
   "id": "23ea595b",
   "metadata": {
    "id": "23ea595b"
   },
   "outputs": [],
   "source": [
    "df_telecom[\"TotalCharges\"] = df_telecom[\"TotalCharges\"].astype('float')"
   ]
  },
  {
   "cell_type": "code",
   "execution_count": 38,
   "id": "9c2a8f75",
   "metadata": {
    "id": "9c2a8f75"
   },
   "outputs": [
    {
     "data": {
      "text/html": [
       "<div>\n",
       "<style scoped>\n",
       "    .dataframe tbody tr th:only-of-type {\n",
       "        vertical-align: middle;\n",
       "    }\n",
       "\n",
       "    .dataframe tbody tr th {\n",
       "        vertical-align: top;\n",
       "    }\n",
       "\n",
       "    .dataframe thead th {\n",
       "        text-align: right;\n",
       "    }\n",
       "</style>\n",
       "<table border=\"1\" class=\"dataframe\">\n",
       "  <thead>\n",
       "    <tr style=\"text-align: right;\">\n",
       "      <th></th>\n",
       "      <th>BeginDate</th>\n",
       "      <th>EndDate</th>\n",
       "      <th>Type</th>\n",
       "      <th>PaperlessBilling</th>\n",
       "      <th>PaymentMethod</th>\n",
       "      <th>MonthlyCharges</th>\n",
       "      <th>TotalCharges</th>\n",
       "      <th>MultipleLines</th>\n",
       "      <th>gender</th>\n",
       "      <th>SeniorCitizen</th>\n",
       "      <th>Partner</th>\n",
       "      <th>Dependents</th>\n",
       "      <th>InternetService</th>\n",
       "      <th>OnlineSecurity</th>\n",
       "      <th>OnlineBackup</th>\n",
       "      <th>DeviceProtection</th>\n",
       "      <th>TechSupport</th>\n",
       "      <th>StreamingTV</th>\n",
       "      <th>StreamingMovies</th>\n",
       "      <th>TotalTime</th>\n",
       "    </tr>\n",
       "    <tr>\n",
       "      <th>customerID</th>\n",
       "      <th></th>\n",
       "      <th></th>\n",
       "      <th></th>\n",
       "      <th></th>\n",
       "      <th></th>\n",
       "      <th></th>\n",
       "      <th></th>\n",
       "      <th></th>\n",
       "      <th></th>\n",
       "      <th></th>\n",
       "      <th></th>\n",
       "      <th></th>\n",
       "      <th></th>\n",
       "      <th></th>\n",
       "      <th></th>\n",
       "      <th></th>\n",
       "      <th></th>\n",
       "      <th></th>\n",
       "      <th></th>\n",
       "      <th></th>\n",
       "    </tr>\n",
       "  </thead>\n",
       "  <tbody>\n",
       "    <tr>\n",
       "      <th>7590-VHVEG</th>\n",
       "      <td>2020-01-01</td>\n",
       "      <td>2020-02-01</td>\n",
       "      <td>Month-to-month</td>\n",
       "      <td>Yes</td>\n",
       "      <td>Electronic check</td>\n",
       "      <td>29.85</td>\n",
       "      <td>31.04</td>\n",
       "      <td>No</td>\n",
       "      <td>Female</td>\n",
       "      <td>0</td>\n",
       "      <td>Yes</td>\n",
       "      <td>No</td>\n",
       "      <td>DSL</td>\n",
       "      <td>No</td>\n",
       "      <td>Yes</td>\n",
       "      <td>No</td>\n",
       "      <td>No</td>\n",
       "      <td>No</td>\n",
       "      <td>No</td>\n",
       "      <td>31</td>\n",
       "    </tr>\n",
       "    <tr>\n",
       "      <th>5575-GNVDE</th>\n",
       "      <td>2017-04-01</td>\n",
       "      <td>2020-02-01</td>\n",
       "      <td>One year</td>\n",
       "      <td>No</td>\n",
       "      <td>Mailed check</td>\n",
       "      <td>56.95</td>\n",
       "      <td>2071.84</td>\n",
       "      <td>No</td>\n",
       "      <td>Male</td>\n",
       "      <td>0</td>\n",
       "      <td>No</td>\n",
       "      <td>No</td>\n",
       "      <td>DSL</td>\n",
       "      <td>Yes</td>\n",
       "      <td>No</td>\n",
       "      <td>Yes</td>\n",
       "      <td>No</td>\n",
       "      <td>No</td>\n",
       "      <td>No</td>\n",
       "      <td>1036</td>\n",
       "    </tr>\n",
       "    <tr>\n",
       "      <th>3668-QPYBK</th>\n",
       "      <td>2019-10-01</td>\n",
       "      <td>2020-02-01</td>\n",
       "      <td>Month-to-month</td>\n",
       "      <td>Yes</td>\n",
       "      <td>Mailed check</td>\n",
       "      <td>53.85</td>\n",
       "      <td>226.17</td>\n",
       "      <td>No</td>\n",
       "      <td>Male</td>\n",
       "      <td>0</td>\n",
       "      <td>No</td>\n",
       "      <td>No</td>\n",
       "      <td>DSL</td>\n",
       "      <td>Yes</td>\n",
       "      <td>Yes</td>\n",
       "      <td>No</td>\n",
       "      <td>No</td>\n",
       "      <td>No</td>\n",
       "      <td>No</td>\n",
       "      <td>123</td>\n",
       "    </tr>\n",
       "    <tr>\n",
       "      <th>7795-CFOCW</th>\n",
       "      <td>2016-05-01</td>\n",
       "      <td>2020-02-01</td>\n",
       "      <td>One year</td>\n",
       "      <td>No</td>\n",
       "      <td>Bank transfer (automatic)</td>\n",
       "      <td>42.30</td>\n",
       "      <td>1960.60</td>\n",
       "      <td>No</td>\n",
       "      <td>Male</td>\n",
       "      <td>0</td>\n",
       "      <td>No</td>\n",
       "      <td>No</td>\n",
       "      <td>DSL</td>\n",
       "      <td>Yes</td>\n",
       "      <td>No</td>\n",
       "      <td>Yes</td>\n",
       "      <td>Yes</td>\n",
       "      <td>No</td>\n",
       "      <td>No</td>\n",
       "      <td>1371</td>\n",
       "    </tr>\n",
       "    <tr>\n",
       "      <th>9237-HQITU</th>\n",
       "      <td>2019-09-01</td>\n",
       "      <td>2020-02-01</td>\n",
       "      <td>Month-to-month</td>\n",
       "      <td>Yes</td>\n",
       "      <td>Electronic check</td>\n",
       "      <td>70.70</td>\n",
       "      <td>353.50</td>\n",
       "      <td>No</td>\n",
       "      <td>Female</td>\n",
       "      <td>0</td>\n",
       "      <td>No</td>\n",
       "      <td>No</td>\n",
       "      <td>Fiber optic</td>\n",
       "      <td>No</td>\n",
       "      <td>No</td>\n",
       "      <td>No</td>\n",
       "      <td>No</td>\n",
       "      <td>No</td>\n",
       "      <td>No</td>\n",
       "      <td>153</td>\n",
       "    </tr>\n",
       "    <tr>\n",
       "      <th>...</th>\n",
       "      <td>...</td>\n",
       "      <td>...</td>\n",
       "      <td>...</td>\n",
       "      <td>...</td>\n",
       "      <td>...</td>\n",
       "      <td>...</td>\n",
       "      <td>...</td>\n",
       "      <td>...</td>\n",
       "      <td>...</td>\n",
       "      <td>...</td>\n",
       "      <td>...</td>\n",
       "      <td>...</td>\n",
       "      <td>...</td>\n",
       "      <td>...</td>\n",
       "      <td>...</td>\n",
       "      <td>...</td>\n",
       "      <td>...</td>\n",
       "      <td>...</td>\n",
       "      <td>...</td>\n",
       "      <td>...</td>\n",
       "    </tr>\n",
       "    <tr>\n",
       "      <th>6840-RESVB</th>\n",
       "      <td>2018-02-01</td>\n",
       "      <td>2020-02-01</td>\n",
       "      <td>One year</td>\n",
       "      <td>Yes</td>\n",
       "      <td>Mailed check</td>\n",
       "      <td>84.80</td>\n",
       "      <td>2035.20</td>\n",
       "      <td>Yes</td>\n",
       "      <td>Male</td>\n",
       "      <td>0</td>\n",
       "      <td>Yes</td>\n",
       "      <td>Yes</td>\n",
       "      <td>DSL</td>\n",
       "      <td>Yes</td>\n",
       "      <td>No</td>\n",
       "      <td>Yes</td>\n",
       "      <td>Yes</td>\n",
       "      <td>Yes</td>\n",
       "      <td>Yes</td>\n",
       "      <td>730</td>\n",
       "    </tr>\n",
       "    <tr>\n",
       "      <th>2234-XADUH</th>\n",
       "      <td>2014-02-01</td>\n",
       "      <td>2020-02-01</td>\n",
       "      <td>One year</td>\n",
       "      <td>Yes</td>\n",
       "      <td>Credit card (automatic)</td>\n",
       "      <td>103.20</td>\n",
       "      <td>7430.40</td>\n",
       "      <td>Yes</td>\n",
       "      <td>Female</td>\n",
       "      <td>0</td>\n",
       "      <td>Yes</td>\n",
       "      <td>Yes</td>\n",
       "      <td>Fiber optic</td>\n",
       "      <td>No</td>\n",
       "      <td>Yes</td>\n",
       "      <td>Yes</td>\n",
       "      <td>No</td>\n",
       "      <td>Yes</td>\n",
       "      <td>Yes</td>\n",
       "      <td>2191</td>\n",
       "    </tr>\n",
       "    <tr>\n",
       "      <th>4801-JZAZL</th>\n",
       "      <td>2019-03-01</td>\n",
       "      <td>2020-02-01</td>\n",
       "      <td>Month-to-month</td>\n",
       "      <td>Yes</td>\n",
       "      <td>Electronic check</td>\n",
       "      <td>29.60</td>\n",
       "      <td>325.60</td>\n",
       "      <td>No</td>\n",
       "      <td>Female</td>\n",
       "      <td>0</td>\n",
       "      <td>Yes</td>\n",
       "      <td>Yes</td>\n",
       "      <td>DSL</td>\n",
       "      <td>Yes</td>\n",
       "      <td>No</td>\n",
       "      <td>No</td>\n",
       "      <td>No</td>\n",
       "      <td>No</td>\n",
       "      <td>No</td>\n",
       "      <td>337</td>\n",
       "    </tr>\n",
       "    <tr>\n",
       "      <th>8361-LTMKD</th>\n",
       "      <td>2019-07-01</td>\n",
       "      <td>2020-02-01</td>\n",
       "      <td>Month-to-month</td>\n",
       "      <td>Yes</td>\n",
       "      <td>Mailed check</td>\n",
       "      <td>74.40</td>\n",
       "      <td>520.80</td>\n",
       "      <td>Yes</td>\n",
       "      <td>Male</td>\n",
       "      <td>1</td>\n",
       "      <td>Yes</td>\n",
       "      <td>No</td>\n",
       "      <td>Fiber optic</td>\n",
       "      <td>No</td>\n",
       "      <td>No</td>\n",
       "      <td>No</td>\n",
       "      <td>No</td>\n",
       "      <td>No</td>\n",
       "      <td>No</td>\n",
       "      <td>215</td>\n",
       "    </tr>\n",
       "    <tr>\n",
       "      <th>3186-AJIEK</th>\n",
       "      <td>2014-08-01</td>\n",
       "      <td>2020-02-01</td>\n",
       "      <td>Two year</td>\n",
       "      <td>Yes</td>\n",
       "      <td>Bank transfer (automatic)</td>\n",
       "      <td>105.65</td>\n",
       "      <td>7251.82</td>\n",
       "      <td>No</td>\n",
       "      <td>Male</td>\n",
       "      <td>0</td>\n",
       "      <td>No</td>\n",
       "      <td>No</td>\n",
       "      <td>Fiber optic</td>\n",
       "      <td>Yes</td>\n",
       "      <td>No</td>\n",
       "      <td>Yes</td>\n",
       "      <td>Yes</td>\n",
       "      <td>Yes</td>\n",
       "      <td>Yes</td>\n",
       "      <td>2010</td>\n",
       "    </tr>\n",
       "  </tbody>\n",
       "</table>\n",
       "<p>7032 rows × 20 columns</p>\n",
       "</div>"
      ],
      "text/plain": [
       "            BeginDate    EndDate            Type PaperlessBilling  \\\n",
       "customerID                                                          \n",
       "7590-VHVEG 2020-01-01 2020-02-01  Month-to-month              Yes   \n",
       "5575-GNVDE 2017-04-01 2020-02-01        One year               No   \n",
       "3668-QPYBK 2019-10-01 2020-02-01  Month-to-month              Yes   \n",
       "7795-CFOCW 2016-05-01 2020-02-01        One year               No   \n",
       "9237-HQITU 2019-09-01 2020-02-01  Month-to-month              Yes   \n",
       "...               ...        ...             ...              ...   \n",
       "6840-RESVB 2018-02-01 2020-02-01        One year              Yes   \n",
       "2234-XADUH 2014-02-01 2020-02-01        One year              Yes   \n",
       "4801-JZAZL 2019-03-01 2020-02-01  Month-to-month              Yes   \n",
       "8361-LTMKD 2019-07-01 2020-02-01  Month-to-month              Yes   \n",
       "3186-AJIEK 2014-08-01 2020-02-01        Two year              Yes   \n",
       "\n",
       "                        PaymentMethod  MonthlyCharges  TotalCharges  \\\n",
       "customerID                                                            \n",
       "7590-VHVEG           Electronic check           29.85         31.04   \n",
       "5575-GNVDE               Mailed check           56.95       2071.84   \n",
       "3668-QPYBK               Mailed check           53.85        226.17   \n",
       "7795-CFOCW  Bank transfer (automatic)           42.30       1960.60   \n",
       "9237-HQITU           Electronic check           70.70        353.50   \n",
       "...                               ...             ...           ...   \n",
       "6840-RESVB               Mailed check           84.80       2035.20   \n",
       "2234-XADUH    Credit card (automatic)          103.20       7430.40   \n",
       "4801-JZAZL           Electronic check           29.60        325.60   \n",
       "8361-LTMKD               Mailed check           74.40        520.80   \n",
       "3186-AJIEK  Bank transfer (automatic)          105.65       7251.82   \n",
       "\n",
       "           MultipleLines  gender  SeniorCitizen Partner Dependents  \\\n",
       "customerID                                                           \n",
       "7590-VHVEG            No  Female              0     Yes         No   \n",
       "5575-GNVDE            No    Male              0      No         No   \n",
       "3668-QPYBK            No    Male              0      No         No   \n",
       "7795-CFOCW            No    Male              0      No         No   \n",
       "9237-HQITU            No  Female              0      No         No   \n",
       "...                  ...     ...            ...     ...        ...   \n",
       "6840-RESVB           Yes    Male              0     Yes        Yes   \n",
       "2234-XADUH           Yes  Female              0     Yes        Yes   \n",
       "4801-JZAZL            No  Female              0     Yes        Yes   \n",
       "8361-LTMKD           Yes    Male              1     Yes         No   \n",
       "3186-AJIEK            No    Male              0      No         No   \n",
       "\n",
       "           InternetService OnlineSecurity OnlineBackup DeviceProtection  \\\n",
       "customerID                                                                \n",
       "7590-VHVEG             DSL             No          Yes               No   \n",
       "5575-GNVDE             DSL            Yes           No              Yes   \n",
       "3668-QPYBK             DSL            Yes          Yes               No   \n",
       "7795-CFOCW             DSL            Yes           No              Yes   \n",
       "9237-HQITU     Fiber optic             No           No               No   \n",
       "...                    ...            ...          ...              ...   \n",
       "6840-RESVB             DSL            Yes           No              Yes   \n",
       "2234-XADUH     Fiber optic             No          Yes              Yes   \n",
       "4801-JZAZL             DSL            Yes           No               No   \n",
       "8361-LTMKD     Fiber optic             No           No               No   \n",
       "3186-AJIEK     Fiber optic            Yes           No              Yes   \n",
       "\n",
       "           TechSupport StreamingTV StreamingMovies  TotalTime  \n",
       "customerID                                                     \n",
       "7590-VHVEG          No          No              No         31  \n",
       "5575-GNVDE          No          No              No       1036  \n",
       "3668-QPYBK          No          No              No        123  \n",
       "7795-CFOCW         Yes          No              No       1371  \n",
       "9237-HQITU          No          No              No        153  \n",
       "...                ...         ...             ...        ...  \n",
       "6840-RESVB         Yes         Yes             Yes        730  \n",
       "2234-XADUH          No         Yes             Yes       2191  \n",
       "4801-JZAZL          No          No              No        337  \n",
       "8361-LTMKD          No          No              No        215  \n",
       "3186-AJIEK         Yes         Yes             Yes       2010  \n",
       "\n",
       "[7032 rows x 20 columns]"
      ]
     },
     "execution_count": 38,
     "metadata": {},
     "output_type": "execute_result"
    }
   ],
   "source": [
    "df_telecom"
   ]
  },
  {
   "cell_type": "code",
   "execution_count": 39,
   "id": "f058b8fb",
   "metadata": {
    "id": "f058b8fb"
   },
   "outputs": [
    {
     "data": {
      "text/plain": [
       "BeginDate           0\n",
       "EndDate             0\n",
       "Type                0\n",
       "PaperlessBilling    0\n",
       "PaymentMethod       0\n",
       "MonthlyCharges      0\n",
       "TotalCharges        0\n",
       "MultipleLines       0\n",
       "gender              0\n",
       "SeniorCitizen       0\n",
       "Partner             0\n",
       "Dependents          0\n",
       "InternetService     0\n",
       "OnlineSecurity      0\n",
       "OnlineBackup        0\n",
       "DeviceProtection    0\n",
       "TechSupport         0\n",
       "StreamingTV         0\n",
       "StreamingMovies     0\n",
       "TotalTime           0\n",
       "dtype: int64"
      ]
     },
     "execution_count": 39,
     "metadata": {},
     "output_type": "execute_result"
    }
   ],
   "source": [
    "df_telecom.isna().sum()"
   ]
  },
  {
   "cell_type": "markdown",
   "id": "338c12a3",
   "metadata": {
    "id": "338c12a3"
   },
   "source": [
    "Можно выделить целевой признак:"
   ]
  },
  {
   "cell_type": "code",
   "execution_count": 40,
   "id": "7ea8eac8",
   "metadata": {
    "id": "7ea8eac8"
   },
   "outputs": [],
   "source": [
    "df_telecom['escape_client'] = df_telecom['EndDate'] != \"2020-02-01\""
   ]
  },
  {
   "cell_type": "code",
   "execution_count": 41,
   "id": "4ba4e7cb",
   "metadata": {
    "id": "4ba4e7cb"
   },
   "outputs": [],
   "source": [
    "df_telecom = df_telecom.drop(('BeginDate'), axis=1)\n",
    "df_telecom = df_telecom.drop(('EndDate'), axis=1)"
   ]
  },
  {
   "cell_type": "markdown",
   "id": "40a8b21d",
   "metadata": {
    "id": "40a8b21d"
   },
   "source": [
    "Посмотрим распределение времени, сколько ушедшие клиенты пользовались услугами компании"
   ]
  },
  {
   "cell_type": "code",
   "execution_count": 42,
   "id": "e5126688",
   "metadata": {
    "id": "e5126688"
   },
   "outputs": [
    {
     "data": {
      "image/png": "[encoded data removed]",
      "text/plain": [
       "<Figure size 432x288 with 1 Axes>"
      ]
     },
     "metadata": {
      "needs_background": "light"
     },
     "output_type": "display_data"
    }
   ],
   "source": [
    "ax = sns.histplot(df_telecom.query('escape_client == 1')['TotalTime'],\n",
    "                  color='red',\n",
    "                  label='Ушедшие клиенты')\n",
    "sns.histplot(df_telecom['TotalTime'],\n",
    "             ax=ax,\n",
    "             alpha=0.2,\n",
    "             label='Все клиенты')\n",
    "ax.legend()\n",
    "plt.title('Распределение значений длительности использования услуг')\n",
    "plt.xlabel('Длинтельность использования услуг')\n",
    "plt.ylabel('Число');"
   ]
  },
  {
   "cell_type": "markdown",
   "id": "f91dd1a0",
   "metadata": {
    "id": "f91dd1a0"
   },
   "source": [
    "У ушедших пользователей средняя длительность пользования услугами в два раза меньше, чем у тех, которые остались."
   ]
  },
  {
   "cell_type": "markdown",
   "id": "a03e4cb3",
   "metadata": {
    "id": "a03e4cb3"
   },
   "source": [
    "**Вывод**\n",
    "- У большого количества ушедших пользователей были большие ежемесячные расходы\n",
    "- Примерно в середине 2014 года было зарегистрированно много пользователей, потом до 2019 видно снижение количества, и пик мы видим в 2020 году\n",
    "- Заполнены пропуски в поле TotalCharges\n",
    "- В основном клиенты начали уходить с 2017 года. В 2020 году наблюдаем пик ухода клиентов.\n",
    "- У ушедших пользователей средняя длительность пользования услугами в два раза меньше, чем у оставшихся."
   ]
  },
  {
   "cell_type": "markdown",
   "id": "3fb85294",
   "metadata": {
    "id": "3fb85294"
   },
   "source": [
    "## Подготовка данных"
   ]
  },
  {
   "cell_type": "code",
   "execution_count": 43,
   "id": "fc026697",
   "metadata": {
    "id": "fc026697"
   },
   "outputs": [
    {
     "name": "stdout",
     "output_type": "stream",
     "text": [
      "interval columns not set, guessing: ['MonthlyCharges', 'TotalCharges', 'SeniorCitizen', 'TotalTime']\n"
     ]
    },
    {
     "data": {
      "image/png": "[encoded data removed]",
      "text/plain": [
       "<Figure size 1080x1080 with 2 Axes>"
      ]
     },
     "metadata": {
      "needs_background": "light"
     },
     "output_type": "display_data"
    }
   ],
   "source": [
    "phik_matr = df_telecom.phik_matrix()\n",
    "plt.figure(figsize=(15, 15))\n",
    "sns.heatmap(phik_matr, annot=True);"
   ]
  },
  {
   "cell_type": "markdown",
   "id": "534263b9",
   "metadata": {
    "id": "534263b9"
   },
   "source": [
    "Видна связь между признаками:\n",
    "- TotalCharges и TotalTime\n",
    "- MonthlyCharges и InternetService, StreamingTV, StreamingMovies."
   ]
  },
  {
   "cell_type": "code",
   "execution_count": 44,
   "id": "70d4494f",
   "metadata": {},
   "outputs": [],
   "source": [
    "categories = [\"Type\", \"PaperlessBilling\", \"SeniorCitizen\", \"PaymentMethod\", \"gender\", \"MultipleLines\",\n",
    "       \"SeniorCitizen\", \"Partner\", \"Dependents\", \"InternetService\", \"OnlineSecurity\", \"OnlineBackup\", \"DeviceProtection\",\n",
    "             \"TechSupport\", \"StreamingTV\", \"StreamingMovies\"]"
   ]
  },
  {
   "cell_type": "code",
   "execution_count": 45,
   "id": "8b944bc4",
   "metadata": {},
   "outputs": [
    {
     "name": "stdout",
     "output_type": "stream",
     "text": [
      "Уникальные значения столбцов:\n",
      "Type - ['Month-to-month' 'One year' 'Two year']\n",
      "PaperlessBilling - ['Yes' 'No']\n",
      "SeniorCitizen - [0 1]\n",
      "PaymentMethod - ['Electronic check' 'Mailed check' 'Bank transfer (automatic)'\n",
      " 'Credit card (automatic)']\n",
      "gender - ['Female' 'Male']\n",
      "MultipleLines - ['No' 'Yes']\n",
      "SeniorCitizen - [0 1]\n",
      "Partner - ['Yes' 'No']\n",
      "Dependents - ['No' 'Yes']\n",
      "InternetService - ['DSL' 'Fiber optic' 'No']\n",
      "OnlineSecurity - ['No' 'Yes']\n",
      "OnlineBackup - ['Yes' 'No']\n",
      "DeviceProtection - ['No' 'Yes']\n",
      "TechSupport - ['No' 'Yes']\n",
      "StreamingTV - ['No' 'Yes']\n",
      "StreamingMovies - ['No' 'Yes']\n"
     ]
    }
   ],
   "source": [
    "print(\"Уникальные значения столбцов:\")\n",
    "for col in categories:\n",
    "    print(col, \"-\", df_telecom[col].unique())"
   ]
  },
  {
   "cell_type": "code",
   "execution_count": 46,
   "id": "6eba8901",
   "metadata": {},
   "outputs": [],
   "source": [
    "df_telecom[\"escape_client\"] = df_telecom[\"escape_client\"].astype(int)"
   ]
  },
  {
   "cell_type": "code",
   "execution_count": 47,
   "id": "bf64b0da",
   "metadata": {
    "id": "bf64b0da"
   },
   "outputs": [],
   "source": [
    "train, test = train_test_split(df_telecom, test_size=0.25, random_state=RANDOM_STATE, stratify=df_telecom[\"escape_client\"])"
   ]
  },
  {
   "cell_type": "code",
   "execution_count": 48,
   "id": "2e20f88a",
   "metadata": {},
   "outputs": [],
   "source": [
    "X_train = train.drop(\"escape_client\", axis=1)\n",
    "y_train = train[\"escape_client\"]\n",
    "\n",
    "X_test = test.drop(\"escape_client\", axis=1)\n",
    "y_test = test[\"escape_client\"]"
   ]
  },
  {
   "cell_type": "markdown",
   "id": "4a6315d9",
   "metadata": {
    "id": "4a6315d9"
   },
   "source": [
    "## Обучение моделей машинного обучения"
   ]
  },
  {
   "cell_type": "code",
   "execution_count": 49,
   "id": "17b17e3b",
   "metadata": {
    "id": "17b17e3b"
   },
   "outputs": [
    {
     "data": {
      "text/plain": [
       "((5274, 18), (5274,), (1758, 18), (1758,))"
      ]
     },
     "execution_count": 49,
     "metadata": {},
     "output_type": "execute_result"
    }
   ],
   "source": [
    "X_train.shape, y_train.shape, X_test.shape, y_test.shape"
   ]
  },
  {
   "cell_type": "code",
   "execution_count": 50,
   "id": "0d7e4d5a",
   "metadata": {},
   "outputs": [],
   "source": [
    "categorical = [\"Type\", \"PaperlessBilling\", \"PaymentMethod\", \"MultipleLines\",\n",
    "              \"gender\", \"SeniorCitizen\", \"Partner\", \"Dependents\", \"InternetService\",\n",
    "             \"OnlineSecurity\", \"OnlineBackup\", \"DeviceProtection\", \"TechSupport\",\n",
    "              \"StreamingTV\", \"StreamingMovies\"]"
   ]
  },
  {
   "cell_type": "code",
   "execution_count": 51,
   "id": "d9b96e69",
   "metadata": {},
   "outputs": [
    {
     "name": "stdout",
     "output_type": "stream",
     "text": [
      "Время обучения модели: 24.728\n",
      "CPU times: user 19.6 s, sys: 757 ms, total: 20.4 s\n",
      "Wall time: 24.7 s\n"
     ]
    }
   ],
   "source": [
    "%%time\n",
    "\n",
    "pipe_cb = Pipeline([(\"model\", CatBoostClassifier(cat_features=categorical, \n",
    "                                                 random_state=RANDOM_STATE))])\n",
    "\n",
    "parametrs_cb = {\"model__logging_level\": [\"Silent\"], \n",
    "                \"model__learning_rate\": [0.3], \n",
    "                \"model__iterations\": [1000], \n",
    "                \"model__depth\": [2], \n",
    "                \"model__eval_metric\": [\"AUC\"], \n",
    "                \"model__auto_class_weights\": [\"Balanced\"]}\n",
    "\n",
    "model_cb = GridSearchCV(estimator=pipe_cb, \n",
    "                        param_grid=parametrs_cb, \n",
    "                        scoring=[\"roc_auc\", \"accuracy\"], \n",
    "                        refit=\"roc_auc\", \n",
    "                        n_jobs=-1)\n",
    "\n",
    "start_cb = time.time()\n",
    "model_cb.fit(X_train, y_train)\n",
    "fit_time_cb = round(time.time() - start_cb, 3)\n",
    "\n",
    "print(\"Время обучения модели:\", fit_time_cb)"
   ]
  },
  {
   "cell_type": "code",
   "execution_count": 52,
   "id": "b436f33d",
   "metadata": {},
   "outputs": [
    {
     "data": {
      "text/plain": [
       "{'model__auto_class_weights': 'Balanced',\n",
       " 'model__depth': 2,\n",
       " 'model__eval_metric': 'AUC',\n",
       " 'model__iterations': 1000,\n",
       " 'model__learning_rate': 0.3,\n",
       " 'model__logging_level': 'Silent'}"
      ]
     },
     "execution_count": 52,
     "metadata": {},
     "output_type": "execute_result"
    }
   ],
   "source": [
    "model_cb.best_params_"
   ]
  },
  {
   "cell_type": "code",
   "execution_count": 53,
   "id": "0b81ba39",
   "metadata": {},
   "outputs": [],
   "source": [
    "roc_auc_cb = model_cb.cv_results_[\"mean_test_roc_auc\"].max()"
   ]
  },
  {
   "cell_type": "code",
   "execution_count": 54,
   "id": "895570f4",
   "metadata": {},
   "outputs": [],
   "source": [
    "features = df_telecom.drop('escape_client', axis=1)\n",
    "target = df_telecom['escape_client']"
   ]
  },
  {
   "cell_type": "code",
   "execution_count": 55,
   "id": "f527b72a",
   "metadata": {},
   "outputs": [],
   "source": [
    "numerics = list(features.select_dtypes(include=['int64', 'float64']).columns)\n",
    "\n",
    "col_transformer = ColumnTransformer(\n",
    "                        transformers=[\n",
    "                            ('scaler', StandardScaler(), numerics),\n",
    "                            ('ohe', OneHotEncoder(sparse=False, drop='first'), categorical)],\n",
    "                                remainder=\"passthrough\"\n",
    "                                  )\n",
    "\n",
    "col_transformer.fit(X_train)\n",
    "features_train = col_transformer.transform(X_train)\n",
    "features_test = col_transformer.transform(X_test)"
   ]
  },
  {
   "cell_type": "code",
   "execution_count": 82,
   "id": "b96e6fee",
   "metadata": {},
   "outputs": [
    {
     "data": {
      "text/html": [
       "<div>\n",
       "<style scoped>\n",
       "    .dataframe tbody tr th:only-of-type {\n",
       "        vertical-align: middle;\n",
       "    }\n",
       "\n",
       "    .dataframe tbody tr th {\n",
       "        vertical-align: top;\n",
       "    }\n",
       "\n",
       "    .dataframe thead th {\n",
       "        text-align: right;\n",
       "    }\n",
       "</style>\n",
       "<table border=\"1\" class=\"dataframe\">\n",
       "  <thead>\n",
       "    <tr style=\"text-align: right;\">\n",
       "      <th></th>\n",
       "      <th>Type</th>\n",
       "      <th>PaperlessBilling</th>\n",
       "      <th>PaymentMethod</th>\n",
       "      <th>MonthlyCharges</th>\n",
       "      <th>TotalCharges</th>\n",
       "      <th>MultipleLines</th>\n",
       "      <th>gender</th>\n",
       "      <th>SeniorCitizen</th>\n",
       "      <th>Partner</th>\n",
       "      <th>Dependents</th>\n",
       "      <th>InternetService</th>\n",
       "      <th>OnlineSecurity</th>\n",
       "      <th>OnlineBackup</th>\n",
       "      <th>DeviceProtection</th>\n",
       "      <th>TechSupport</th>\n",
       "      <th>StreamingTV</th>\n",
       "      <th>StreamingMovies</th>\n",
       "      <th>TotalTime</th>\n",
       "    </tr>\n",
       "    <tr>\n",
       "      <th>customerID</th>\n",
       "      <th></th>\n",
       "      <th></th>\n",
       "      <th></th>\n",
       "      <th></th>\n",
       "      <th></th>\n",
       "      <th></th>\n",
       "      <th></th>\n",
       "      <th></th>\n",
       "      <th></th>\n",
       "      <th></th>\n",
       "      <th></th>\n",
       "      <th></th>\n",
       "      <th></th>\n",
       "      <th></th>\n",
       "      <th></th>\n",
       "      <th></th>\n",
       "      <th></th>\n",
       "      <th></th>\n",
       "    </tr>\n",
       "  </thead>\n",
       "  <tbody>\n",
       "    <tr>\n",
       "      <th>5174-RNGBH</th>\n",
       "      <td>Month-to-month</td>\n",
       "      <td>No</td>\n",
       "      <td>Mailed check</td>\n",
       "      <td>66.25</td>\n",
       "      <td>842.70</td>\n",
       "      <td>No</td>\n",
       "      <td>Female</td>\n",
       "      <td>0</td>\n",
       "      <td>No</td>\n",
       "      <td>No</td>\n",
       "      <td>DSL</td>\n",
       "      <td>No</td>\n",
       "      <td>Yes</td>\n",
       "      <td>No</td>\n",
       "      <td>Yes</td>\n",
       "      <td>Yes</td>\n",
       "      <td>No</td>\n",
       "      <td>365</td>\n",
       "    </tr>\n",
       "    <tr>\n",
       "      <th>9272-LSVYH</th>\n",
       "      <td>Month-to-month</td>\n",
       "      <td>No</td>\n",
       "      <td>Mailed check</td>\n",
       "      <td>70.15</td>\n",
       "      <td>701.50</td>\n",
       "      <td>No</td>\n",
       "      <td>Male</td>\n",
       "      <td>0</td>\n",
       "      <td>No</td>\n",
       "      <td>No</td>\n",
       "      <td>Fiber optic</td>\n",
       "      <td>No</td>\n",
       "      <td>No</td>\n",
       "      <td>No</td>\n",
       "      <td>No</td>\n",
       "      <td>No</td>\n",
       "      <td>No</td>\n",
       "      <td>306</td>\n",
       "    </tr>\n",
       "    <tr>\n",
       "      <th>0823-HSCDJ</th>\n",
       "      <td>Month-to-month</td>\n",
       "      <td>Yes</td>\n",
       "      <td>Electronic check</td>\n",
       "      <td>49.15</td>\n",
       "      <td>1875.56</td>\n",
       "      <td>No</td>\n",
       "      <td>Male</td>\n",
       "      <td>1</td>\n",
       "      <td>No</td>\n",
       "      <td>No</td>\n",
       "      <td>DSL</td>\n",
       "      <td>No</td>\n",
       "      <td>Yes</td>\n",
       "      <td>No</td>\n",
       "      <td>No</td>\n",
       "      <td>Yes</td>\n",
       "      <td>Yes</td>\n",
       "      <td>1096</td>\n",
       "    </tr>\n",
       "    <tr>\n",
       "      <th>1830-GGFNM</th>\n",
       "      <td>Two year</td>\n",
       "      <td>No</td>\n",
       "      <td>Credit card (automatic)</td>\n",
       "      <td>94.55</td>\n",
       "      <td>3120.15</td>\n",
       "      <td>Yes</td>\n",
       "      <td>Male</td>\n",
       "      <td>0</td>\n",
       "      <td>Yes</td>\n",
       "      <td>Yes</td>\n",
       "      <td>Fiber optic</td>\n",
       "      <td>Yes</td>\n",
       "      <td>Yes</td>\n",
       "      <td>Yes</td>\n",
       "      <td>Yes</td>\n",
       "      <td>No</td>\n",
       "      <td>No</td>\n",
       "      <td>1004</td>\n",
       "    </tr>\n",
       "    <tr>\n",
       "      <th>5159-YFPKQ</th>\n",
       "      <td>Month-to-month</td>\n",
       "      <td>Yes</td>\n",
       "      <td>Electronic check</td>\n",
       "      <td>75.80</td>\n",
       "      <td>241.04</td>\n",
       "      <td>No</td>\n",
       "      <td>Female</td>\n",
       "      <td>0</td>\n",
       "      <td>No</td>\n",
       "      <td>No</td>\n",
       "      <td>Fiber optic</td>\n",
       "      <td>No</td>\n",
       "      <td>No</td>\n",
       "      <td>Yes</td>\n",
       "      <td>No</td>\n",
       "      <td>No</td>\n",
       "      <td>No</td>\n",
       "      <td>92</td>\n",
       "    </tr>\n",
       "    <tr>\n",
       "      <th>...</th>\n",
       "      <td>...</td>\n",
       "      <td>...</td>\n",
       "      <td>...</td>\n",
       "      <td>...</td>\n",
       "      <td>...</td>\n",
       "      <td>...</td>\n",
       "      <td>...</td>\n",
       "      <td>...</td>\n",
       "      <td>...</td>\n",
       "      <td>...</td>\n",
       "      <td>...</td>\n",
       "      <td>...</td>\n",
       "      <td>...</td>\n",
       "      <td>...</td>\n",
       "      <td>...</td>\n",
       "      <td>...</td>\n",
       "      <td>...</td>\n",
       "      <td>...</td>\n",
       "    </tr>\n",
       "    <tr>\n",
       "      <th>0621-CXBKL</th>\n",
       "      <td>Two year</td>\n",
       "      <td>No</td>\n",
       "      <td>Mailed check</td>\n",
       "      <td>18.70</td>\n",
       "      <td>991.10</td>\n",
       "      <td>No</td>\n",
       "      <td>Female</td>\n",
       "      <td>0</td>\n",
       "      <td>No</td>\n",
       "      <td>No</td>\n",
       "      <td>No</td>\n",
       "      <td>No</td>\n",
       "      <td>No</td>\n",
       "      <td>No</td>\n",
       "      <td>No</td>\n",
       "      <td>No</td>\n",
       "      <td>No</td>\n",
       "      <td>1614</td>\n",
       "    </tr>\n",
       "    <tr>\n",
       "      <th>5242-UOWHD</th>\n",
       "      <td>Two year</td>\n",
       "      <td>No</td>\n",
       "      <td>Mailed check</td>\n",
       "      <td>20.35</td>\n",
       "      <td>952.38</td>\n",
       "      <td>No</td>\n",
       "      <td>Male</td>\n",
       "      <td>0</td>\n",
       "      <td>Yes</td>\n",
       "      <td>Yes</td>\n",
       "      <td>No</td>\n",
       "      <td>No</td>\n",
       "      <td>No</td>\n",
       "      <td>No</td>\n",
       "      <td>No</td>\n",
       "      <td>No</td>\n",
       "      <td>No</td>\n",
       "      <td>1371</td>\n",
       "    </tr>\n",
       "    <tr>\n",
       "      <th>4998-IKFSE</th>\n",
       "      <td>Month-to-month</td>\n",
       "      <td>No</td>\n",
       "      <td>Electronic check</td>\n",
       "      <td>100.45</td>\n",
       "      <td>3013.50</td>\n",
       "      <td>Yes</td>\n",
       "      <td>Female</td>\n",
       "      <td>0</td>\n",
       "      <td>No</td>\n",
       "      <td>No</td>\n",
       "      <td>Fiber optic</td>\n",
       "      <td>No</td>\n",
       "      <td>No</td>\n",
       "      <td>Yes</td>\n",
       "      <td>No</td>\n",
       "      <td>Yes</td>\n",
       "      <td>Yes</td>\n",
       "      <td>914</td>\n",
       "    </tr>\n",
       "    <tr>\n",
       "      <th>2325-WINES</th>\n",
       "      <td>One year</td>\n",
       "      <td>Yes</td>\n",
       "      <td>Credit card (automatic)</td>\n",
       "      <td>104.05</td>\n",
       "      <td>3329.60</td>\n",
       "      <td>Yes</td>\n",
       "      <td>Female</td>\n",
       "      <td>0</td>\n",
       "      <td>No</td>\n",
       "      <td>No</td>\n",
       "      <td>Fiber optic</td>\n",
       "      <td>No</td>\n",
       "      <td>Yes</td>\n",
       "      <td>Yes</td>\n",
       "      <td>No</td>\n",
       "      <td>Yes</td>\n",
       "      <td>Yes</td>\n",
       "      <td>975</td>\n",
       "    </tr>\n",
       "    <tr>\n",
       "      <th>2931-VUVJN</th>\n",
       "      <td>One year</td>\n",
       "      <td>Yes</td>\n",
       "      <td>Electronic check</td>\n",
       "      <td>94.05</td>\n",
       "      <td>1710.77</td>\n",
       "      <td>Yes</td>\n",
       "      <td>Female</td>\n",
       "      <td>1</td>\n",
       "      <td>Yes</td>\n",
       "      <td>No</td>\n",
       "      <td>Fiber optic</td>\n",
       "      <td>Yes</td>\n",
       "      <td>Yes</td>\n",
       "      <td>Yes</td>\n",
       "      <td>Yes</td>\n",
       "      <td>No</td>\n",
       "      <td>No</td>\n",
       "      <td>519</td>\n",
       "    </tr>\n",
       "  </tbody>\n",
       "</table>\n",
       "<p>5274 rows × 18 columns</p>\n",
       "</div>"
      ],
      "text/plain": [
       "                      Type PaperlessBilling            PaymentMethod  \\\n",
       "customerID                                                             \n",
       "5174-RNGBH  Month-to-month               No             Mailed check   \n",
       "9272-LSVYH  Month-to-month               No             Mailed check   \n",
       "0823-HSCDJ  Month-to-month              Yes         Electronic check   \n",
       "1830-GGFNM        Two year               No  Credit card (automatic)   \n",
       "5159-YFPKQ  Month-to-month              Yes         Electronic check   \n",
       "...                    ...              ...                      ...   \n",
       "0621-CXBKL        Two year               No             Mailed check   \n",
       "5242-UOWHD        Two year               No             Mailed check   \n",
       "4998-IKFSE  Month-to-month               No         Electronic check   \n",
       "2325-WINES        One year              Yes  Credit card (automatic)   \n",
       "2931-VUVJN        One year              Yes         Electronic check   \n",
       "\n",
       "            MonthlyCharges  TotalCharges MultipleLines  gender  SeniorCitizen  \\\n",
       "customerID                                                                      \n",
       "5174-RNGBH           66.25        842.70            No  Female              0   \n",
       "9272-LSVYH           70.15        701.50            No    Male              0   \n",
       "0823-HSCDJ           49.15       1875.56            No    Male              1   \n",
       "1830-GGFNM           94.55       3120.15           Yes    Male              0   \n",
       "5159-YFPKQ           75.80        241.04            No  Female              0   \n",
       "...                    ...           ...           ...     ...            ...   \n",
       "0621-CXBKL           18.70        991.10            No  Female              0   \n",
       "5242-UOWHD           20.35        952.38            No    Male              0   \n",
       "4998-IKFSE          100.45       3013.50           Yes  Female              0   \n",
       "2325-WINES          104.05       3329.60           Yes  Female              0   \n",
       "2931-VUVJN           94.05       1710.77           Yes  Female              1   \n",
       "\n",
       "           Partner Dependents InternetService OnlineSecurity OnlineBackup  \\\n",
       "customerID                                                                  \n",
       "5174-RNGBH      No         No             DSL             No          Yes   \n",
       "9272-LSVYH      No         No     Fiber optic             No           No   \n",
       "0823-HSCDJ      No         No             DSL             No          Yes   \n",
       "1830-GGFNM     Yes        Yes     Fiber optic            Yes          Yes   \n",
       "5159-YFPKQ      No         No     Fiber optic             No           No   \n",
       "...            ...        ...             ...            ...          ...   \n",
       "0621-CXBKL      No         No              No             No           No   \n",
       "5242-UOWHD     Yes        Yes              No             No           No   \n",
       "4998-IKFSE      No         No     Fiber optic             No           No   \n",
       "2325-WINES      No         No     Fiber optic             No          Yes   \n",
       "2931-VUVJN     Yes         No     Fiber optic            Yes          Yes   \n",
       "\n",
       "           DeviceProtection TechSupport StreamingTV StreamingMovies  TotalTime  \n",
       "customerID                                                                      \n",
       "5174-RNGBH               No         Yes         Yes              No        365  \n",
       "9272-LSVYH               No          No          No              No        306  \n",
       "0823-HSCDJ               No          No         Yes             Yes       1096  \n",
       "1830-GGFNM              Yes         Yes          No              No       1004  \n",
       "5159-YFPKQ              Yes          No          No              No         92  \n",
       "...                     ...         ...         ...             ...        ...  \n",
       "0621-CXBKL               No          No          No              No       1614  \n",
       "5242-UOWHD               No          No          No              No       1371  \n",
       "4998-IKFSE              Yes          No         Yes             Yes        914  \n",
       "2325-WINES              Yes          No         Yes             Yes        975  \n",
       "2931-VUVJN              Yes         Yes          No              No        519  \n",
       "\n",
       "[5274 rows x 18 columns]"
      ]
     },
     "execution_count": 82,
     "metadata": {},
     "output_type": "execute_result"
    }
   ],
   "source": [
    "X_train"
   ]
  },
  {
   "cell_type": "code",
   "execution_count": 56,
   "id": "71e920b9",
   "metadata": {
    "id": "71e920b9"
   },
   "outputs": [],
   "source": [
    "pipe_logreg = Pipeline([\n",
    "    ('regression', LogisticRegression(max_iter=200, class_weight='balanced', random_state=RANDOM_STATE, n_jobs=1))\n",
    "])"
   ]
  },
  {
   "cell_type": "code",
   "execution_count": 57,
   "id": "a81de1da",
   "metadata": {
    "id": "a81de1da"
   },
   "outputs": [],
   "source": [
    "params_logreg = {\n",
    "    'regression__C': np.geomspace(0.1, 20,20)\n",
    "}"
   ]
  },
  {
   "cell_type": "code",
   "execution_count": 58,
   "id": "b6e83546",
   "metadata": {
    "id": "b6e83546"
   },
   "outputs": [],
   "source": [
    "search_logreg = GridSearchCV(\n",
    "    pipe_logreg,\n",
    "    param_grid=params_logreg,\n",
    "    scoring=['roc_auc', 'accuracy'],\n",
    "    n_jobs=-1,\n",
    "    refit='roc_auc',\n",
    "    verbose=5,\n",
    "    return_train_score=True\n",
    ")"
   ]
  },
  {
   "cell_type": "code",
   "execution_count": 59,
   "id": "cb2a7c09",
   "metadata": {
    "id": "cb2a7c09"
   },
   "outputs": [
    {
     "name": "stdout",
     "output_type": "stream",
     "text": [
      "Fitting 5 folds for each of 20 candidates, totalling 100 fits\n",
      "[CV 1/5] END regression__C=0.1; accuracy: (train=0.705, test=0.688) roc_auc: (train=0.776, test=0.755) total time=   0.9s\n",
      "[CV 2/5] END regression__C=0.1; accuracy: (train=0.706, test=0.715) roc_auc: (train=0.769, test=0.784) total time=   1.5s\n",
      "[CV 3/5] END regression__C=0.1; accuracy: (train=0.702, test=0.703) roc_auc: (train=0.772, test=0.768) total time=   0.8s\n",
      "[CV 4/5] END regression__C=0.1; accuracy: (train=0.710, test=0.680) roc_auc: (train=0.772, test=0.768) total time=   1.3s\n",
      "[CV 5/5] END regression__C=0.1; accuracy: (train=0.710, test=0.708) roc_auc: (train=0.778, test=0.742) total time=   0.8s\n",
      "[CV 1/5] END regression__C=0.13216207294336044; accuracy: (train=0.706, test=0.687) roc_auc: (train=0.776, test=0.755) total time=   1.2s\n",
      "[CV 2/5] END regression__C=0.13216207294336044; accuracy: (train=0.707, test=0.711) roc_auc: (train=0.769, test=0.784) total time=   1.1s\n",
      "[CV 3/5] END regression__C=0.13216207294336044; accuracy: (train=0.702, test=0.701) roc_auc: (train=0.773, test=0.768) total time=   1.1s\n",
      "[CV 4/5] END regression__C=0.13216207294336044; accuracy: (train=0.709, test=0.678) roc_auc: (train=0.772, test=0.768) total time=   1.6s\n",
      "[CV 5/5] END regression__C=0.13216207294336044; accuracy: (train=0.711, test=0.710) roc_auc: (train=0.778, test=0.742) total time=   1.3s\n",
      "[CV 1/5] END regression__C=0.17466813524686128; accuracy: (train=0.706, test=0.685) roc_auc: (train=0.776, test=0.756) total time=   1.7s\n",
      "[CV 2/5] END regression__C=0.17466813524686128; accuracy: (train=0.707, test=0.710) roc_auc: (train=0.770, test=0.783) total time=   1.5s\n",
      "[CV 3/5] END regression__C=0.17466813524686128; accuracy: (train=0.702, test=0.702) roc_auc: (train=0.773, test=0.769) total time=   1.7s\n",
      "[CV 4/5] END regression__C=0.17466813524686128; accuracy: (train=0.706, test=0.678) roc_auc: (train=0.773, test=0.768) total time=   1.6s\n",
      "[CV 5/5] END regression__C=0.17466813524686128; accuracy: (train=0.709, test=0.708) roc_auc: (train=0.778, test=0.743) total time=   1.8s\n",
      "[CV 1/5] END regression__C=0.23084502831376422; accuracy: (train=0.708, test=0.685) roc_auc: (train=0.776, test=0.756) total time=   1.6s\n",
      "[CV 2/5] END regression__C=0.23084502831376422; accuracy: (train=0.705, test=0.710) roc_auc: (train=0.770, test=0.783) total time=   1.3s\n",
      "[CV 3/5] END regression__C=0.23084502831376422; accuracy: (train=0.702, test=0.702) roc_auc: (train=0.773, test=0.770) total time=   1.9s\n",
      "[CV 4/5] END regression__C=0.23084502831376422; accuracy: (train=0.705, test=0.678) roc_auc: (train=0.773, test=0.768) total time=   1.8s\n",
      "[CV 5/5] END regression__C=0.23084502831376422; accuracy: (train=0.709, test=0.710) roc_auc: (train=0.778, test=0.743) total time=   1.5s\n",
      "[CV 1/5] END regression__C=0.30508957470615816; accuracy: (train=0.708, test=0.687) roc_auc: (train=0.776, test=0.756) total time=   1.9s\n",
      "[CV 2/5] END regression__C=0.30508957470615816; accuracy: (train=0.705, test=0.708) roc_auc: (train=0.770, test=0.782) total time=   1.6s\n",
      "[CV 3/5] END regression__C=0.30508957470615816; accuracy: (train=0.702, test=0.703) roc_auc: (train=0.773, test=0.770) total time=   1.6s\n",
      "[CV 4/5] END regression__C=0.30508957470615816; accuracy: (train=0.707, test=0.679) roc_auc: (train=0.773, test=0.768) total time=   1.7s\n",
      "[CV 5/5] END regression__C=0.30508957470615816; accuracy: (train=0.708, test=0.709) roc_auc: (train=0.779, test=0.744) total time=   1.5s\n",
      "[CV 1/5] END regression__C=0.4032127062657409; accuracy: (train=0.708, test=0.689) roc_auc: (train=0.777, test=0.756) total time=   1.5s\n",
      "[CV 2/5] END regression__C=0.4032127062657409; accuracy: (train=0.705, test=0.706) roc_auc: (train=0.770, test=0.782) total time=   1.2s\n",
      "[CV 3/5] END regression__C=0.4032127062657409; accuracy: (train=0.701, test=0.703) roc_auc: (train=0.773, test=0.770) total time=   2.2s\n",
      "[CV 4/5] END regression__C=0.4032127062657409; accuracy: (train=0.708, test=0.680) roc_auc: (train=0.773, test=0.768) total time=   1.7s\n",
      "[CV 5/5] END regression__C=0.4032127062657409; accuracy: (train=0.708, test=0.710) roc_auc: (train=0.779, test=0.744) total time=   2.3s\n",
      "[CV 1/5] END regression__C=0.5328942709718261; accuracy: (train=0.708, test=0.689) roc_auc: (train=0.777, test=0.757) total time=   1.9s\n",
      "[CV 2/5] END regression__C=0.5328942709718261; accuracy: (train=0.704, test=0.706) roc_auc: (train=0.770, test=0.782) total time=   1.7s\n",
      "[CV 3/5] END regression__C=0.5328942709718261; accuracy: (train=0.699, test=0.703) roc_auc: (train=0.773, test=0.770) total time=   2.1s\n",
      "[CV 4/5] END regression__C=0.5328942709718261; accuracy: (train=0.708, test=0.680) roc_auc: (train=0.773, test=0.768) total time=   1.9s\n",
      "[CV 5/5] END regression__C=0.5328942709718261; accuracy: (train=0.708, test=0.710) roc_auc: (train=0.779, test=0.745) total time=   1.0s\n",
      "[CV 1/5] END regression__C=0.7042841151127737; accuracy: (train=0.707, test=0.689) roc_auc: (train=0.777, test=0.757) total time=   1.2s\n",
      "[CV 2/5] END regression__C=0.7042841151127737; accuracy: (train=0.704, test=0.704) roc_auc: (train=0.770, test=0.782) total time=   0.9s\n",
      "[CV 3/5] END regression__C=0.7042841151127737; accuracy: (train=0.699, test=0.703) roc_auc: (train=0.774, test=0.770) total time=   0.8s\n",
      "[CV 4/5] END regression__C=0.7042841151127737; accuracy: (train=0.707, test=0.680) roc_auc: (train=0.773, test=0.768) total time=   1.6s\n",
      "[CV 5/5] END regression__C=0.7042841151127737; accuracy: (train=0.709, test=0.708) roc_auc: (train=0.779, test=0.745) total time=   1.2s\n",
      "[CV 1/5] END regression__C=0.9307964859438446; accuracy: (train=0.707, test=0.689) roc_auc: (train=0.777, test=0.757) total time=   1.0s\n",
      "[CV 2/5] END regression__C=0.9307964859438446; accuracy: (train=0.704, test=0.703) roc_auc: (train=0.770, test=0.782) total time=   0.6s\n",
      "[CV 3/5] END regression__C=0.9307964859438446; accuracy: (train=0.700, test=0.703) roc_auc: (train=0.774, test=0.770) total time=   0.7s\n",
      "[CV 4/5] END regression__C=0.9307964859438446; accuracy: (train=0.706, test=0.680) roc_auc: (train=0.773, test=0.768) total time=   0.7s\n",
      "[CV 5/5] END regression__C=0.9307964859438446; accuracy: (train=0.709, test=0.707) roc_auc: (train=0.779, test=0.745) total time=   0.7s\n",
      "[CV 1/5] END regression__C=1.2301599307073392; accuracy: (train=0.707, test=0.689) roc_auc: (train=0.777, test=0.757) total time=   0.7s\n",
      "[CV 2/5] END regression__C=1.2301599307073392; accuracy: (train=0.703, test=0.701) roc_auc: (train=0.770, test=0.781) total time=   0.7s\n",
      "[CV 3/5] END regression__C=1.2301599307073392; accuracy: (train=0.700, test=0.703) roc_auc: (train=0.774, test=0.770) total time=   1.2s\n",
      "[CV 4/5] END regression__C=1.2301599307073392; accuracy: (train=0.707, test=0.679) roc_auc: (train=0.773, test=0.768) total time=   1.4s\n",
      "[CV 5/5] END regression__C=1.2301599307073392; accuracy: (train=0.709, test=0.707) roc_auc: (train=0.779, test=0.745) total time=   1.9s\n",
      "[CV 1/5] END regression__C=1.6258048649414265; accuracy: (train=0.707, test=0.689) roc_auc: (train=0.777, test=0.757) total time=   1.5s\n",
      "[CV 2/5] END regression__C=1.6258048649414265; accuracy: (train=0.702, test=0.699) roc_auc: (train=0.770, test=0.781) total time=   2.4s\n",
      "[CV 3/5] END regression__C=1.6258048649414265; accuracy: (train=0.699, test=0.703) roc_auc: (train=0.774, test=0.771) total time=   1.0s\n",
      "[CV 4/5] END regression__C=1.6258048649414265; accuracy: (train=0.706, test=0.677) roc_auc: (train=0.773, test=0.768) total time=   1.2s\n",
      "[CV 5/5] END regression__C=1.6258048649414265; accuracy: (train=0.709, test=0.707) roc_auc: (train=0.779, test=0.745) total time=   1.3s\n",
      "[CV 1/5] END regression__C=2.1486974115205904; accuracy: (train=0.707, test=0.689) roc_auc: (train=0.777, test=0.757) total time=   1.3s\n",
      "[CV 2/5] END regression__C=2.1486974115205904; accuracy: (train=0.702, test=0.699) roc_auc: (train=0.770, test=0.781) total time=   0.9s\n",
      "[CV 3/5] END regression__C=2.1486974115205904; accuracy: (train=0.699, test=0.704) roc_auc: (train=0.774, test=0.771) total time=   1.9s\n",
      "[CV 4/5] END regression__C=2.1486974115205904; accuracy: (train=0.706, test=0.677) roc_auc: (train=0.773, test=0.768) total time=   2.1s\n",
      "[CV 5/5] END regression__C=2.1486974115205904; accuracy: (train=0.709, test=0.705) roc_auc: (train=0.779, test=0.745) total time=   2.1s\n",
      "[CV 1/5] END regression__C=2.8397630403459395; accuracy: (train=0.706, test=0.689) roc_auc: (train=0.777, test=0.757) total time=   1.5s\n",
      "[CV 2/5] END regression__C=2.8397630403459395; accuracy: (train=0.702, test=0.698) roc_auc: (train=0.770, test=0.781) total time=   1.8s\n",
      "[CV 3/5] END regression__C=2.8397630403459395; accuracy: (train=0.699, test=0.704) roc_auc: (train=0.774, test=0.771) total time=   2.9s\n",
      "[CV 4/5] END regression__C=2.8397630403459395; accuracy: (train=0.706, test=0.677) roc_auc: (train=0.773, test=0.768) total time=   2.3s\n",
      "[CV 5/5] END regression__C=2.8397630403459395; accuracy: (train=0.709, test=0.705) roc_auc: (train=0.779, test=0.745) total time=   1.9s\n",
      "[CV 1/5] END regression__C=3.753089700800592; accuracy: (train=0.706, test=0.689) roc_auc: (train=0.777, test=0.757) total time=   2.2s\n",
      "[CV 2/5] END regression__C=3.753089700800592; accuracy: (train=0.702, test=0.698) roc_auc: (train=0.770, test=0.781) total time=   1.7s\n",
      "[CV 3/5] END regression__C=3.753089700800592; accuracy: (train=0.699, test=0.704) roc_auc: (train=0.774, test=0.771) total time=   1.4s\n",
      "[CV 4/5] END regression__C=3.753089700800592; accuracy: (train=0.706, test=0.678) roc_auc: (train=0.773, test=0.768) total time=   2.4s\n",
      "[CV 5/5] END regression__C=3.753089700800592; accuracy: (train=0.709, test=0.705) roc_auc: (train=0.779, test=0.745) total time=   2.8s\n",
      "[CV 1/5] END regression__C=4.960161148001825; accuracy: (train=0.706, test=0.688) roc_auc: (train=0.777, test=0.757) total time=   1.6s\n",
      "[CV 2/5] END regression__C=4.960161148001825; accuracy: (train=0.702, test=0.697) roc_auc: (train=0.770, test=0.781) total time=   2.8s\n",
      "[CV 3/5] END regression__C=4.960161148001825; accuracy: (train=0.699, test=0.704) roc_auc: (train=0.774, test=0.771) total time=   2.5s\n",
      "[CV 4/5] END regression__C=4.960161148001825; accuracy: (train=0.706, test=0.678) roc_auc: (train=0.773, test=0.768) total time=   2.0s\n",
      "[CV 5/5] END regression__C=4.960161148001825; accuracy: (train=0.709, test=0.705) roc_auc: (train=0.779, test=0.745) total time=   1.1s\n",
      "[CV 1/5] END regression__C=6.555451794530399; accuracy: (train=0.706, test=0.688) roc_auc: (train=0.777, test=0.757) total time=   2.0s\n",
      "[CV 2/5] END regression__C=6.555451794530399; accuracy: (train=0.702, test=0.697) roc_auc: (train=0.770, test=0.781) total time=   1.8s\n",
      "[CV 3/5] END regression__C=6.555451794530399; accuracy: (train=0.699, test=0.704) roc_auc: (train=0.774, test=0.771) total time=   1.8s\n",
      "[CV 4/5] END regression__C=6.555451794530399; accuracy: (train=0.705, test=0.678) roc_auc: (train=0.773, test=0.768) total time=   1.5s\n",
      "[CV 5/5] END regression__C=6.555451794530399; accuracy: (train=0.709, test=0.704) roc_auc: (train=0.779, test=0.745) total time=   1.6s\n",
      "[CV 1/5] END regression__C=8.663820982454096; accuracy: (train=0.706, test=0.689) roc_auc: (train=0.777, test=0.757) total time=   1.8s\n",
      "[CV 2/5] END regression__C=8.663820982454096; accuracy: (train=0.703, test=0.697) roc_auc: (train=0.770, test=0.781) total time=   2.0s\n",
      "[CV 3/5] END regression__C=8.663820982454096; accuracy: (train=0.699, test=0.704) roc_auc: (train=0.774, test=0.771) total time=   2.1s\n",
      "[CV 4/5] END regression__C=8.663820982454096; accuracy: (train=0.705, test=0.679) roc_auc: (train=0.773, test=0.768) total time=   2.6s\n",
      "[CV 5/5] END regression__C=8.663820982454096; accuracy: (train=0.709, test=0.704) roc_auc: (train=0.779, test=0.745) total time=   2.8s\n",
      "[CV 1/5] END regression__C=11.450285406513153; accuracy: (train=0.706, test=0.689) roc_auc: (train=0.777, test=0.757) total time=   2.4s\n",
      "[CV 2/5] END regression__C=11.450285406513153; accuracy: (train=0.703, test=0.697) roc_auc: (train=0.770, test=0.781) total time=   1.0s\n",
      "[CV 3/5] END regression__C=11.450285406513153; accuracy: (train=0.700, test=0.704) roc_auc: (train=0.774, test=0.771) total time=   1.8s\n",
      "[CV 4/5] END regression__C=11.450285406513153; accuracy: (train=0.706, test=0.679) roc_auc: (train=0.773, test=0.768) total time=   2.1s\n",
      "[CV 5/5] END regression__C=11.450285406513153; accuracy: (train=0.709, test=0.704) roc_auc: (train=0.779, test=0.745) total time=   2.4s\n",
      "[CV 1/5] END regression__C=15.132934551178858; accuracy: (train=0.706, test=0.689) roc_auc: (train=0.777, test=0.757) total time=   1.3s\n",
      "[CV 2/5] END regression__C=15.132934551178858; accuracy: (train=0.703, test=0.697) roc_auc: (train=0.770, test=0.781) total time=   1.5s\n",
      "[CV 3/5] END regression__C=15.132934551178858; accuracy: (train=0.700, test=0.704) roc_auc: (train=0.774, test=0.771) total time=   1.2s\n",
      "[CV 4/5] END regression__C=15.132934551178858; accuracy: (train=0.706, test=0.679) roc_auc: (train=0.773, test=0.768) total time=   1.0s\n",
      "[CV 5/5] END regression__C=15.132934551178858; accuracy: (train=0.709, test=0.704) roc_auc: (train=0.779, test=0.745) total time=   0.7s\n",
      "[CV 1/5] END regression__C=20.0; accuracy: (train=0.706, test=0.689) roc_auc: (train=0.777, test=0.757) total time=   0.7s\n",
      "[CV 2/5] END regression__C=20.0; accuracy: (train=0.703, test=0.697) roc_auc: (train=0.770, test=0.781) total time=   1.0s\n",
      "[CV 3/5] END regression__C=20.0; accuracy: (train=0.700, test=0.704) roc_auc: (train=0.774, test=0.771) total time=   1.5s\n",
      "[CV 4/5] END regression__C=20.0; accuracy: (train=0.705, test=0.679) roc_auc: (train=0.773, test=0.768) total time=   0.9s\n",
      "[CV 5/5] END regression__C=20.0; accuracy: (train=0.709, test=0.704) roc_auc: (train=0.779, test=0.745) total time=   1.3s\n"
     ]
    },
    {
     "data": {
      "text/plain": [
       "GridSearchCV(estimator=Pipeline(steps=[('regression',\n",
       "                                        LogisticRegression(class_weight='balanced',\n",
       "                                                           max_iter=200,\n",
       "                                                           n_jobs=1,\n",
       "                                                           random_state=20924))]),\n",
       "             n_jobs=-1,\n",
       "             param_grid={'regression__C': array([ 0.1       ,  0.13216207,  0.17466814,  0.23084503,  0.30508957,\n",
       "        0.40321271,  0.53289427,  0.70428412,  0.93079649,  1.23015993,\n",
       "        1.62580486,  2.14869741,  2.83976304,  3.7530897 ,  4.96016115,\n",
       "        6.55545179,  8.66382098, 11.45028541, 15.13293455, 20.        ])},\n",
       "             refit='roc_auc', return_train_score=True,\n",
       "             scoring=['roc_auc', 'accuracy'], verbose=5)"
      ]
     },
     "execution_count": 59,
     "metadata": {},
     "output_type": "execute_result"
    }
   ],
   "source": [
    "search_logreg.fit(features_train, y_train)"
   ]
  },
  {
   "cell_type": "code",
   "execution_count": 60,
   "id": "96bdaa0b",
   "metadata": {
    "id": "96bdaa0b"
   },
   "outputs": [
    {
     "data": {
      "text/plain": [
       "{'regression__C': 4.960161148001825}"
      ]
     },
     "execution_count": 60,
     "metadata": {},
     "output_type": "execute_result"
    }
   ],
   "source": [
    "search_logreg.best_params_"
   ]
  },
  {
   "cell_type": "code",
   "execution_count": 61,
   "id": "4f627d33",
   "metadata": {
    "id": "4f627d33"
   },
   "outputs": [],
   "source": [
    "roc_auc_lr = search_logreg.best_score_"
   ]
  },
  {
   "cell_type": "code",
   "execution_count": 62,
   "id": "9ffc6325",
   "metadata": {
    "id": "9ffc6325"
   },
   "outputs": [],
   "source": [
    "pipe_tree = Pipeline([\n",
    "    ('tree', DecisionTreeClassifier(class_weight='balanced', random_state=RANDOM_STATE))\n",
    "])"
   ]
  },
  {
   "cell_type": "code",
   "execution_count": 63,
   "id": "577fa0cb",
   "metadata": {
    "id": "577fa0cb"
   },
   "outputs": [],
   "source": [
    "params_tree = {\n",
    "    'tree__max_depth': np.arange(1, 12, 2),\n",
    "    'tree__min_samples_split': np.arange(2, 20, 4),\n",
    "    'tree__min_samples_leaf': np.arange(1, 20, 5)\n",
    "}"
   ]
  },
  {
   "cell_type": "code",
   "execution_count": 64,
   "id": "4c30901c",
   "metadata": {
    "id": "4c30901c"
   },
   "outputs": [],
   "source": [
    "search_tree = GridSearchCV(\n",
    "    pipe_tree,\n",
    "    param_grid=params_tree,\n",
    "    scoring=['roc_auc', 'accuracy'],\n",
    "    n_jobs=-1,\n",
    "    refit='roc_auc',\n",
    "    verbose=5,\n",
    "    return_train_score=True\n",
    ")"
   ]
  },
  {
   "cell_type": "code",
   "execution_count": 65,
   "id": "5bfd54a2",
   "metadata": {
    "id": "5bfd54a2"
   },
   "outputs": [
    {
     "name": "stdout",
     "output_type": "stream",
     "text": [
      "Fitting 5 folds for each of 120 candidates, totalling 600 fits\n",
      "[CV 1/5] END tree__max_depth=1, tree__min_samples_leaf=1, tree__min_samples_split=2; accuracy: (train=0.418, test=0.412) roc_auc: (train=0.609, test=0.602) total time=   0.0s\n",
      "[CV 2/5] END tree__max_depth=1, tree__min_samples_leaf=1, tree__min_samples_split=2; accuracy: (train=0.420, test=0.420) roc_auc: (train=0.610, test=0.602) total time=   0.0s\n",
      "[CV 3/5] END tree__max_depth=1, tree__min_samples_leaf=1, tree__min_samples_split=2; accuracy: (train=0.390, test=0.383) roc_auc: (train=0.603, test=0.590) total time=   0.0s\n",
      "[CV 4/5] END tree__max_depth=1, tree__min_samples_leaf=1, tree__min_samples_split=2; accuracy: (train=0.377, test=0.366) roc_auc: (train=0.600, test=0.587) total time=   0.0s\n",
      "[CV 5/5] END tree__max_depth=1, tree__min_samples_leaf=1, tree__min_samples_split=2; accuracy: (train=0.317, test=0.309) roc_auc: (train=0.584, test=0.568) total time=   0.0s\n",
      "[CV 1/5] END tree__max_depth=1, tree__min_samples_leaf=1, tree__min_samples_split=6; accuracy: (train=0.418, test=0.412) roc_auc: (train=0.609, test=0.602) total time=   0.0s\n",
      "[CV 2/5] END tree__max_depth=1, tree__min_samples_leaf=1, tree__min_samples_split=6; accuracy: (train=0.420, test=0.420) roc_auc: (train=0.610, test=0.602) total time=   0.0s\n",
      "[CV 3/5] END tree__max_depth=1, tree__min_samples_leaf=1, tree__min_samples_split=6; accuracy: (train=0.390, test=0.383) roc_auc: (train=0.603, test=0.590) total time=   0.0s\n",
      "[CV 4/5] END tree__max_depth=1, tree__min_samples_leaf=1, tree__min_samples_split=6; accuracy: (train=0.377, test=0.366) roc_auc: (train=0.600, test=0.587) total time=   0.0s\n",
      "[CV 5/5] END tree__max_depth=1, tree__min_samples_leaf=1, tree__min_samples_split=6; accuracy: (train=0.317, test=0.309) roc_auc: (train=0.584, test=0.568) total time=   0.0s\n",
      "[CV 1/5] END tree__max_depth=1, tree__min_samples_leaf=1, tree__min_samples_split=10; accuracy: (train=0.418, test=0.412) roc_auc: (train=0.609, test=0.602) total time=   0.0s\n",
      "[CV 2/5] END tree__max_depth=1, tree__min_samples_leaf=1, tree__min_samples_split=10; accuracy: (train=0.420, test=0.420) roc_auc: (train=0.610, test=0.602) total time=   0.0s\n",
      "[CV 3/5] END tree__max_depth=1, tree__min_samples_leaf=1, tree__min_samples_split=10; accuracy: (train=0.390, test=0.383) roc_auc: (train=0.603, test=0.590) total time=   0.0s\n",
      "[CV 4/5] END tree__max_depth=1, tree__min_samples_leaf=1, tree__min_samples_split=10; accuracy: (train=0.377, test=0.366) roc_auc: (train=0.600, test=0.587) total time=   0.0s\n",
      "[CV 5/5] END tree__max_depth=1, tree__min_samples_leaf=1, tree__min_samples_split=10; accuracy: (train=0.317, test=0.309) roc_auc: (train=0.584, test=0.568) total time=   0.0s\n",
      "[CV 1/5] END tree__max_depth=1, tree__min_samples_leaf=1, tree__min_samples_split=14; accuracy: (train=0.418, test=0.412) roc_auc: (train=0.609, test=0.602) total time=   0.0s\n",
      "[CV 2/5] END tree__max_depth=1, tree__min_samples_leaf=1, tree__min_samples_split=14; accuracy: (train=0.420, test=0.420) roc_auc: (train=0.610, test=0.602) total time=   0.0s\n",
      "[CV 3/5] END tree__max_depth=1, tree__min_samples_leaf=1, tree__min_samples_split=14; accuracy: (train=0.390, test=0.383) roc_auc: (train=0.603, test=0.590) total time=   0.0s\n",
      "[CV 4/5] END tree__max_depth=1, tree__min_samples_leaf=1, tree__min_samples_split=14; accuracy: (train=0.377, test=0.366) roc_auc: (train=0.600, test=0.587) total time=   0.0s\n",
      "[CV 5/5] END tree__max_depth=1, tree__min_samples_leaf=1, tree__min_samples_split=14; accuracy: (train=0.317, test=0.309) roc_auc: (train=0.584, test=0.568) total time=   0.0s\n",
      "[CV 1/5] END tree__max_depth=1, tree__min_samples_leaf=1, tree__min_samples_split=18; accuracy: (train=0.418, test=0.412) roc_auc: (train=0.609, test=0.602) total time=   0.0s\n",
      "[CV 2/5] END tree__max_depth=1, tree__min_samples_leaf=1, tree__min_samples_split=18; accuracy: (train=0.420, test=0.420) roc_auc: (train=0.610, test=0.602) total time=   0.0s\n",
      "[CV 3/5] END tree__max_depth=1, tree__min_samples_leaf=1, tree__min_samples_split=18; accuracy: (train=0.390, test=0.383) roc_auc: (train=0.603, test=0.590) total time=   0.0s\n",
      "[CV 4/5] END tree__max_depth=1, tree__min_samples_leaf=1, tree__min_samples_split=18; accuracy: (train=0.377, test=0.366) roc_auc: (train=0.600, test=0.587) total time=   0.0s\n",
      "[CV 5/5] END tree__max_depth=1, tree__min_samples_leaf=1, tree__min_samples_split=18; accuracy: (train=0.317, test=0.309) roc_auc: (train=0.584, test=0.568) total time=   0.0s\n",
      "[CV 1/5] END tree__max_depth=1, tree__min_samples_leaf=6, tree__min_samples_split=2; accuracy: (train=0.418, test=0.412) roc_auc: (train=0.609, test=0.602) total time=   0.0s\n",
      "[CV 2/5] END tree__max_depth=1, tree__min_samples_leaf=6, tree__min_samples_split=2; accuracy: (train=0.420, test=0.420) roc_auc: (train=0.610, test=0.602) total time=   0.0s\n",
      "[CV 3/5] END tree__max_depth=1, tree__min_samples_leaf=6, tree__min_samples_split=2; accuracy: (train=0.390, test=0.383) roc_auc: (train=0.603, test=0.590) total time=   0.0s\n",
      "[CV 4/5] END tree__max_depth=1, tree__min_samples_leaf=6, tree__min_samples_split=2; accuracy: (train=0.377, test=0.366) roc_auc: (train=0.600, test=0.587) total time=   0.0s\n",
      "[CV 5/5] END tree__max_depth=1, tree__min_samples_leaf=6, tree__min_samples_split=2; accuracy: (train=0.317, test=0.309) roc_auc: (train=0.584, test=0.568) total time=   0.0s\n",
      "[CV 1/5] END tree__max_depth=1, tree__min_samples_leaf=6, tree__min_samples_split=6; accuracy: (train=0.418, test=0.412) roc_auc: (train=0.609, test=0.602) total time=   0.0s\n",
      "[CV 2/5] END tree__max_depth=1, tree__min_samples_leaf=6, tree__min_samples_split=6; accuracy: (train=0.420, test=0.420) roc_auc: (train=0.610, test=0.602) total time=   0.0s\n",
      "[CV 3/5] END tree__max_depth=1, tree__min_samples_leaf=6, tree__min_samples_split=6; accuracy: (train=0.390, test=0.383) roc_auc: (train=0.603, test=0.590) total time=   0.0s\n",
      "[CV 4/5] END tree__max_depth=1, tree__min_samples_leaf=6, tree__min_samples_split=6; accuracy: (train=0.377, test=0.366) roc_auc: (train=0.600, test=0.587) total time=   0.0s\n",
      "[CV 5/5] END tree__max_depth=1, tree__min_samples_leaf=6, tree__min_samples_split=6; accuracy: (train=0.317, test=0.309) roc_auc: (train=0.584, test=0.568) total time=   0.0s\n",
      "[CV 1/5] END tree__max_depth=1, tree__min_samples_leaf=6, tree__min_samples_split=10; accuracy: (train=0.418, test=0.412) roc_auc: (train=0.609, test=0.602) total time=   0.0s\n",
      "[CV 2/5] END tree__max_depth=1, tree__min_samples_leaf=6, tree__min_samples_split=10; accuracy: (train=0.420, test=0.420) roc_auc: (train=0.610, test=0.602) total time=   0.0s\n",
      "[CV 3/5] END tree__max_depth=1, tree__min_samples_leaf=6, tree__min_samples_split=10; accuracy: (train=0.390, test=0.383) roc_auc: (train=0.603, test=0.590) total time=   0.0s\n",
      "[CV 4/5] END tree__max_depth=1, tree__min_samples_leaf=6, tree__min_samples_split=10; accuracy: (train=0.377, test=0.366) roc_auc: (train=0.600, test=0.587) total time=   0.0s\n",
      "[CV 5/5] END tree__max_depth=1, tree__min_samples_leaf=6, tree__min_samples_split=10; accuracy: (train=0.317, test=0.309) roc_auc: (train=0.584, test=0.568) total time=   0.0s\n",
      "[CV 1/5] END tree__max_depth=1, tree__min_samples_leaf=6, tree__min_samples_split=14; accuracy: (train=0.418, test=0.412) roc_auc: (train=0.609, test=0.602) total time=   0.0s\n",
      "[CV 2/5] END tree__max_depth=1, tree__min_samples_leaf=6, tree__min_samples_split=14; accuracy: (train=0.420, test=0.420) roc_auc: (train=0.610, test=0.602) total time=   0.0s\n",
      "[CV 3/5] END tree__max_depth=1, tree__min_samples_leaf=6, tree__min_samples_split=14; accuracy: (train=0.390, test=0.383) roc_auc: (train=0.603, test=0.590) total time=   0.0s\n",
      "[CV 4/5] END tree__max_depth=1, tree__min_samples_leaf=6, tree__min_samples_split=14; accuracy: (train=0.377, test=0.366) roc_auc: (train=0.600, test=0.587) total time=   0.0s\n",
      "[CV 5/5] END tree__max_depth=1, tree__min_samples_leaf=6, tree__min_samples_split=14; accuracy: (train=0.317, test=0.309) roc_auc: (train=0.584, test=0.568) total time=   0.0s\n",
      "[CV 1/5] END tree__max_depth=1, tree__min_samples_leaf=6, tree__min_samples_split=18; accuracy: (train=0.418, test=0.412) roc_auc: (train=0.609, test=0.602) total time=   0.0s\n",
      "[CV 2/5] END tree__max_depth=1, tree__min_samples_leaf=6, tree__min_samples_split=18; accuracy: (train=0.420, test=0.420) roc_auc: (train=0.610, test=0.602) total time=   0.0s\n",
      "[CV 3/5] END tree__max_depth=1, tree__min_samples_leaf=6, tree__min_samples_split=18; accuracy: (train=0.390, test=0.383) roc_auc: (train=0.603, test=0.590) total time=   0.0s\n",
      "[CV 4/5] END tree__max_depth=1, tree__min_samples_leaf=6, tree__min_samples_split=18; accuracy: (train=0.377, test=0.366) roc_auc: (train=0.600, test=0.587) total time=   0.0s\n",
      "[CV 5/5] END tree__max_depth=1, tree__min_samples_leaf=6, tree__min_samples_split=18; accuracy: (train=0.317, test=0.309) roc_auc: (train=0.584, test=0.568) total time=   0.0s\n",
      "[CV 1/5] END tree__max_depth=1, tree__min_samples_leaf=11, tree__min_samples_split=2; accuracy: (train=0.418, test=0.412) roc_auc: (train=0.609, test=0.602) total time=   0.0s\n",
      "[CV 2/5] END tree__max_depth=1, tree__min_samples_leaf=11, tree__min_samples_split=2; accuracy: (train=0.420, test=0.420) roc_auc: (train=0.610, test=0.602) total time=   0.0s\n",
      "[CV 3/5] END tree__max_depth=1, tree__min_samples_leaf=11, tree__min_samples_split=2; accuracy: (train=0.390, test=0.383) roc_auc: (train=0.603, test=0.590) total time=   0.0s\n",
      "[CV 4/5] END tree__max_depth=1, tree__min_samples_leaf=11, tree__min_samples_split=2; accuracy: (train=0.377, test=0.366) roc_auc: (train=0.600, test=0.587) total time=   0.0s\n",
      "[CV 5/5] END tree__max_depth=1, tree__min_samples_leaf=11, tree__min_samples_split=2; accuracy: (train=0.317, test=0.309) roc_auc: (train=0.584, test=0.568) total time=   0.0s\n",
      "[CV 1/5] END tree__max_depth=1, tree__min_samples_leaf=11, tree__min_samples_split=6; accuracy: (train=0.418, test=0.412) roc_auc: (train=0.609, test=0.602) total time=   0.0s\n",
      "[CV 2/5] END tree__max_depth=1, tree__min_samples_leaf=11, tree__min_samples_split=6; accuracy: (train=0.420, test=0.420) roc_auc: (train=0.610, test=0.602) total time=   0.0s\n",
      "[CV 3/5] END tree__max_depth=1, tree__min_samples_leaf=11, tree__min_samples_split=6; accuracy: (train=0.390, test=0.383) roc_auc: (train=0.603, test=0.590) total time=   0.0s\n",
      "[CV 4/5] END tree__max_depth=1, tree__min_samples_leaf=11, tree__min_samples_split=6; accuracy: (train=0.377, test=0.366) roc_auc: (train=0.600, test=0.587) total time=   0.0s\n",
      "[CV 5/5] END tree__max_depth=1, tree__min_samples_leaf=11, tree__min_samples_split=6; accuracy: (train=0.317, test=0.309) roc_auc: (train=0.584, test=0.568) total time=   0.0s\n",
      "[CV 1/5] END tree__max_depth=1, tree__min_samples_leaf=11, tree__min_samples_split=10; accuracy: (train=0.418, test=0.412) roc_auc: (train=0.609, test=0.602) total time=   0.0s\n",
      "[CV 2/5] END tree__max_depth=1, tree__min_samples_leaf=11, tree__min_samples_split=10; accuracy: (train=0.420, test=0.420) roc_auc: (train=0.610, test=0.602) total time=   0.0s\n",
      "[CV 3/5] END tree__max_depth=1, tree__min_samples_leaf=11, tree__min_samples_split=10; accuracy: (train=0.390, test=0.383) roc_auc: (train=0.603, test=0.590) total time=   0.0s\n",
      "[CV 4/5] END tree__max_depth=1, tree__min_samples_leaf=11, tree__min_samples_split=10; accuracy: (train=0.377, test=0.366) roc_auc: (train=0.600, test=0.587) total time=   0.0s\n",
      "[CV 5/5] END tree__max_depth=1, tree__min_samples_leaf=11, tree__min_samples_split=10; accuracy: (train=0.317, test=0.309) roc_auc: (train=0.584, test=0.568) total time=   0.0s\n",
      "[CV 1/5] END tree__max_depth=1, tree__min_samples_leaf=11, tree__min_samples_split=14; accuracy: (train=0.418, test=0.412) roc_auc: (train=0.609, test=0.602) total time=   0.0s\n",
      "[CV 2/5] END tree__max_depth=1, tree__min_samples_leaf=11, tree__min_samples_split=14; accuracy: (train=0.420, test=0.420) roc_auc: (train=0.610, test=0.602) total time=   0.0s\n",
      "[CV 3/5] END tree__max_depth=1, tree__min_samples_leaf=11, tree__min_samples_split=14; accuracy: (train=0.390, test=0.383) roc_auc: (train=0.603, test=0.590) total time=   0.0s\n",
      "[CV 4/5] END tree__max_depth=1, tree__min_samples_leaf=11, tree__min_samples_split=14; accuracy: (train=0.377, test=0.366) roc_auc: (train=0.600, test=0.587) total time=   0.0s\n",
      "[CV 5/5] END tree__max_depth=1, tree__min_samples_leaf=11, tree__min_samples_split=14; accuracy: (train=0.317, test=0.309) roc_auc: (train=0.584, test=0.568) total time=   0.0s\n",
      "[CV 1/5] END tree__max_depth=1, tree__min_samples_leaf=11, tree__min_samples_split=18; accuracy: (train=0.418, test=0.412) roc_auc: (train=0.609, test=0.602) total time=   0.0s\n",
      "[CV 2/5] END tree__max_depth=1, tree__min_samples_leaf=11, tree__min_samples_split=18; accuracy: (train=0.420, test=0.420) roc_auc: (train=0.610, test=0.602) total time=   0.0s\n",
      "[CV 3/5] END tree__max_depth=1, tree__min_samples_leaf=11, tree__min_samples_split=18; accuracy: (train=0.390, test=0.383) roc_auc: (train=0.603, test=0.590) total time=   0.0s\n",
      "[CV 4/5] END tree__max_depth=1, tree__min_samples_leaf=11, tree__min_samples_split=18; accuracy: (train=0.377, test=0.366) roc_auc: (train=0.600, test=0.587) total time=   0.0s\n",
      "[CV 5/5] END tree__max_depth=1, tree__min_samples_leaf=11, tree__min_samples_split=18; accuracy: (train=0.317, test=0.309) roc_auc: (train=0.584, test=0.568) total time=   0.0s\n",
      "[CV 1/5] END tree__max_depth=1, tree__min_samples_leaf=16, tree__min_samples_split=2; accuracy: (train=0.418, test=0.412) roc_auc: (train=0.609, test=0.602) total time=   0.0s\n",
      "[CV 2/5] END tree__max_depth=1, tree__min_samples_leaf=16, tree__min_samples_split=2; accuracy: (train=0.420, test=0.420) roc_auc: (train=0.610, test=0.602) total time=   0.0s\n",
      "[CV 3/5] END tree__max_depth=1, tree__min_samples_leaf=16, tree__min_samples_split=2; accuracy: (train=0.390, test=0.383) roc_auc: (train=0.603, test=0.590) total time=   0.0s\n",
      "[CV 4/5] END tree__max_depth=1, tree__min_samples_leaf=16, tree__min_samples_split=2; accuracy: (train=0.377, test=0.366) roc_auc: (train=0.600, test=0.587) total time=   0.0s\n",
      "[CV 5/5] END tree__max_depth=1, tree__min_samples_leaf=16, tree__min_samples_split=2; accuracy: (train=0.317, test=0.309) roc_auc: (train=0.584, test=0.568) total time=   0.0s\n",
      "[CV 1/5] END tree__max_depth=1, tree__min_samples_leaf=16, tree__min_samples_split=6; accuracy: (train=0.418, test=0.412) roc_auc: (train=0.609, test=0.602) total time=   0.0s\n",
      "[CV 2/5] END tree__max_depth=1, tree__min_samples_leaf=16, tree__min_samples_split=6; accuracy: (train=0.420, test=0.420) roc_auc: (train=0.610, test=0.602) total time=   0.0s\n",
      "[CV 3/5] END tree__max_depth=1, tree__min_samples_leaf=16, tree__min_samples_split=6; accuracy: (train=0.390, test=0.383) roc_auc: (train=0.603, test=0.590) total time=   0.0s\n",
      "[CV 4/5] END tree__max_depth=1, tree__min_samples_leaf=16, tree__min_samples_split=6; accuracy: (train=0.377, test=0.366) roc_auc: (train=0.600, test=0.587) total time=   0.0s\n",
      "[CV 5/5] END tree__max_depth=1, tree__min_samples_leaf=16, tree__min_samples_split=6; accuracy: (train=0.317, test=0.309) roc_auc: (train=0.584, test=0.568) total time=   0.0s\n",
      "[CV 1/5] END tree__max_depth=1, tree__min_samples_leaf=16, tree__min_samples_split=10; accuracy: (train=0.418, test=0.412) roc_auc: (train=0.609, test=0.602) total time=   0.0s\n",
      "[CV 2/5] END tree__max_depth=1, tree__min_samples_leaf=16, tree__min_samples_split=10; accuracy: (train=0.420, test=0.420) roc_auc: (train=0.610, test=0.602) total time=   0.0s\n",
      "[CV 3/5] END tree__max_depth=1, tree__min_samples_leaf=16, tree__min_samples_split=10; accuracy: (train=0.390, test=0.383) roc_auc: (train=0.603, test=0.590) total time=   0.0s\n",
      "[CV 4/5] END tree__max_depth=1, tree__min_samples_leaf=16, tree__min_samples_split=10; accuracy: (train=0.377, test=0.366) roc_auc: (train=0.600, test=0.587) total time=   0.0s\n",
      "[CV 5/5] END tree__max_depth=1, tree__min_samples_leaf=16, tree__min_samples_split=10; accuracy: (train=0.317, test=0.309) roc_auc: (train=0.584, test=0.568) total time=   0.0s\n",
      "[CV 1/5] END tree__max_depth=1, tree__min_samples_leaf=16, tree__min_samples_split=14; accuracy: (train=0.418, test=0.412) roc_auc: (train=0.609, test=0.602) total time=   0.0s\n",
      "[CV 2/5] END tree__max_depth=1, tree__min_samples_leaf=16, tree__min_samples_split=14; accuracy: (train=0.420, test=0.420) roc_auc: (train=0.610, test=0.602) total time=   0.0s\n",
      "[CV 3/5] END tree__max_depth=1, tree__min_samples_leaf=16, tree__min_samples_split=14; accuracy: (train=0.390, test=0.383) roc_auc: (train=0.603, test=0.590) total time=   0.0s\n",
      "[CV 4/5] END tree__max_depth=1, tree__min_samples_leaf=16, tree__min_samples_split=14; accuracy: (train=0.377, test=0.366) roc_auc: (train=0.600, test=0.587) total time=   0.0s\n",
      "[CV 5/5] END tree__max_depth=1, tree__min_samples_leaf=16, tree__min_samples_split=14; accuracy: (train=0.317, test=0.309) roc_auc: (train=0.584, test=0.568) total time=   0.0s\n",
      "[CV 1/5] END tree__max_depth=1, tree__min_samples_leaf=16, tree__min_samples_split=18; accuracy: (train=0.418, test=0.412) roc_auc: (train=0.609, test=0.602) total time=   0.0s\n",
      "[CV 2/5] END tree__max_depth=1, tree__min_samples_leaf=16, tree__min_samples_split=18; accuracy: (train=0.420, test=0.420) roc_auc: (train=0.610, test=0.602) total time=   0.0s\n",
      "[CV 3/5] END tree__max_depth=1, tree__min_samples_leaf=16, tree__min_samples_split=18; accuracy: (train=0.390, test=0.383) roc_auc: (train=0.603, test=0.590) total time=   0.0s\n",
      "[CV 4/5] END tree__max_depth=1, tree__min_samples_leaf=16, tree__min_samples_split=18; accuracy: (train=0.377, test=0.366) roc_auc: (train=0.600, test=0.587) total time=   0.0s\n",
      "[CV 5/5] END tree__max_depth=1, tree__min_samples_leaf=16, tree__min_samples_split=18; accuracy: (train=0.317, test=0.309) roc_auc: (train=0.584, test=0.568) total time=   0.0s\n",
      "[CV 1/5] END tree__max_depth=3, tree__min_samples_leaf=1, tree__min_samples_split=2; accuracy: (train=0.559, test=0.561) roc_auc: (train=0.759, test=0.749) total time=   0.0s\n",
      "[CV 2/5] END tree__max_depth=3, tree__min_samples_leaf=1, tree__min_samples_split=2; accuracy: (train=0.577, test=0.566) roc_auc: (train=0.762, test=0.750) total time=   0.0s\n",
      "[CV 3/5] END tree__max_depth=3, tree__min_samples_leaf=1, tree__min_samples_split=2; accuracy: (train=0.544, test=0.533) roc_auc: (train=0.758, test=0.734) total time=   0.0s\n",
      "[CV 4/5] END tree__max_depth=3, tree__min_samples_leaf=1, tree__min_samples_split=2; accuracy: (train=0.534, test=0.518) roc_auc: (train=0.751, test=0.748) total time=   0.0s\n",
      "[CV 5/5] END tree__max_depth=3, tree__min_samples_leaf=1, tree__min_samples_split=2; accuracy: (train=0.568, test=0.570) roc_auc: (train=0.753, test=0.741) total time=   0.0s\n",
      "[CV 1/5] END tree__max_depth=3, tree__min_samples_leaf=1, tree__min_samples_split=6; accuracy: (train=0.559, test=0.561) roc_auc: (train=0.759, test=0.749) total time=   0.0s\n",
      "[CV 2/5] END tree__max_depth=3, tree__min_samples_leaf=1, tree__min_samples_split=6; accuracy: (train=0.577, test=0.566) roc_auc: (train=0.762, test=0.750) total time=   0.0s\n",
      "[CV 3/5] END tree__max_depth=3, tree__min_samples_leaf=1, tree__min_samples_split=6; accuracy: (train=0.544, test=0.533) roc_auc: (train=0.758, test=0.734) total time=   0.0s\n",
      "[CV 4/5] END tree__max_depth=3, tree__min_samples_leaf=1, tree__min_samples_split=6; accuracy: (train=0.534, test=0.518) roc_auc: (train=0.751, test=0.748) total time=   0.0s\n",
      "[CV 5/5] END tree__max_depth=3, tree__min_samples_leaf=1, tree__min_samples_split=6; accuracy: (train=0.568, test=0.570) roc_auc: (train=0.753, test=0.741) total time=   0.0s\n",
      "[CV 1/5] END tree__max_depth=3, tree__min_samples_leaf=1, tree__min_samples_split=10; accuracy: (train=0.559, test=0.561) roc_auc: (train=0.759, test=0.749) total time=   0.0s\n",
      "[CV 2/5] END tree__max_depth=3, tree__min_samples_leaf=1, tree__min_samples_split=10; accuracy: (train=0.577, test=0.566) roc_auc: (train=0.762, test=0.750) total time=   0.0s\n",
      "[CV 3/5] END tree__max_depth=3, tree__min_samples_leaf=1, tree__min_samples_split=10; accuracy: (train=0.544, test=0.533) roc_auc: (train=0.758, test=0.734) total time=   0.0s\n",
      "[CV 4/5] END tree__max_depth=3, tree__min_samples_leaf=1, tree__min_samples_split=10; accuracy: (train=0.534, test=0.518) roc_auc: (train=0.751, test=0.748) total time=   0.0s\n",
      "[CV 5/5] END tree__max_depth=3, tree__min_samples_leaf=1, tree__min_samples_split=10; accuracy: (train=0.568, test=0.570) roc_auc: (train=0.753, test=0.741) total time=   0.0s\n",
      "[CV 1/5] END tree__max_depth=3, tree__min_samples_leaf=1, tree__min_samples_split=14; accuracy: (train=0.559, test=0.561) roc_auc: (train=0.759, test=0.749) total time=   0.0s\n",
      "[CV 2/5] END tree__max_depth=3, tree__min_samples_leaf=1, tree__min_samples_split=14; accuracy: (train=0.577, test=0.566) roc_auc: (train=0.762, test=0.750) total time=   0.0s\n",
      "[CV 3/5] END tree__max_depth=3, tree__min_samples_leaf=1, tree__min_samples_split=14; accuracy: (train=0.544, test=0.533) roc_auc: (train=0.758, test=0.734) total time=   0.0s\n",
      "[CV 4/5] END tree__max_depth=3, tree__min_samples_leaf=1, tree__min_samples_split=14; accuracy: (train=0.534, test=0.518) roc_auc: (train=0.751, test=0.748) total time=   0.0s\n",
      "[CV 5/5] END tree__max_depth=3, tree__min_samples_leaf=1, tree__min_samples_split=14; accuracy: (train=0.568, test=0.570) roc_auc: (train=0.753, test=0.741) total time=   0.0s\n",
      "[CV 1/5] END tree__max_depth=3, tree__min_samples_leaf=1, tree__min_samples_split=18; accuracy: (train=0.559, test=0.561) roc_auc: (train=0.759, test=0.749) total time=   0.0s\n",
      "[CV 2/5] END tree__max_depth=3, tree__min_samples_leaf=1, tree__min_samples_split=18; accuracy: (train=0.577, test=0.566) roc_auc: (train=0.762, test=0.750) total time=   0.0s\n",
      "[CV 3/5] END tree__max_depth=3, tree__min_samples_leaf=1, tree__min_samples_split=18; accuracy: (train=0.544, test=0.533) roc_auc: (train=0.758, test=0.734) total time=   0.0s\n",
      "[CV 4/5] END tree__max_depth=3, tree__min_samples_leaf=1, tree__min_samples_split=18; accuracy: (train=0.534, test=0.518) roc_auc: (train=0.751, test=0.748) total time=   0.0s\n",
      "[CV 5/5] END tree__max_depth=3, tree__min_samples_leaf=1, tree__min_samples_split=18; accuracy: (train=0.568, test=0.570) roc_auc: (train=0.753, test=0.741) total time=   0.0s\n",
      "[CV 1/5] END tree__max_depth=3, tree__min_samples_leaf=6, tree__min_samples_split=2; accuracy: (train=0.559, test=0.561) roc_auc: (train=0.759, test=0.749) total time=   0.0s\n",
      "[CV 2/5] END tree__max_depth=3, tree__min_samples_leaf=6, tree__min_samples_split=2; accuracy: (train=0.577, test=0.566) roc_auc: (train=0.762, test=0.750) total time=   0.0s\n",
      "[CV 3/5] END tree__max_depth=3, tree__min_samples_leaf=6, tree__min_samples_split=2; accuracy: (train=0.544, test=0.533) roc_auc: (train=0.758, test=0.734) total time=   0.0s\n",
      "[CV 4/5] END tree__max_depth=3, tree__min_samples_leaf=6, tree__min_samples_split=2; accuracy: (train=0.534, test=0.518) roc_auc: (train=0.751, test=0.748) total time=   0.0s\n",
      "[CV 5/5] END tree__max_depth=3, tree__min_samples_leaf=6, tree__min_samples_split=2; accuracy: (train=0.568, test=0.570) roc_auc: (train=0.752, test=0.745) total time=   0.0s\n",
      "[CV 1/5] END tree__max_depth=3, tree__min_samples_leaf=6, tree__min_samples_split=6; accuracy: (train=0.559, test=0.561) roc_auc: (train=0.759, test=0.749) total time=   0.0s\n",
      "[CV 2/5] END tree__max_depth=3, tree__min_samples_leaf=6, tree__min_samples_split=6; accuracy: (train=0.577, test=0.566) roc_auc: (train=0.762, test=0.750) total time=   0.0s\n",
      "[CV 3/5] END tree__max_depth=3, tree__min_samples_leaf=6, tree__min_samples_split=6; accuracy: (train=0.544, test=0.533) roc_auc: (train=0.758, test=0.734) total time=   0.0s\n",
      "[CV 4/5] END tree__max_depth=3, tree__min_samples_leaf=6, tree__min_samples_split=6; accuracy: (train=0.534, test=0.518) roc_auc: (train=0.751, test=0.748) total time=   0.0s\n",
      "[CV 5/5] END tree__max_depth=3, tree__min_samples_leaf=6, tree__min_samples_split=6; accuracy: (train=0.568, test=0.570) roc_auc: (train=0.752, test=0.745) total time=   0.0s\n",
      "[CV 1/5] END tree__max_depth=3, tree__min_samples_leaf=6, tree__min_samples_split=10; accuracy: (train=0.559, test=0.561) roc_auc: (train=0.759, test=0.749) total time=   0.0s\n",
      "[CV 2/5] END tree__max_depth=3, tree__min_samples_leaf=6, tree__min_samples_split=10; accuracy: (train=0.577, test=0.566) roc_auc: (train=0.762, test=0.750) total time=   0.0s\n",
      "[CV 3/5] END tree__max_depth=3, tree__min_samples_leaf=6, tree__min_samples_split=10; accuracy: (train=0.544, test=0.533) roc_auc: (train=0.758, test=0.734) total time=   0.0s\n",
      "[CV 4/5] END tree__max_depth=3, tree__min_samples_leaf=6, tree__min_samples_split=10; accuracy: (train=0.534, test=0.518) roc_auc: (train=0.751, test=0.748) total time=   0.0s\n",
      "[CV 5/5] END tree__max_depth=3, tree__min_samples_leaf=6, tree__min_samples_split=10; accuracy: (train=0.568, test=0.570) roc_auc: (train=0.752, test=0.745) total time=   0.0s\n",
      "[CV 1/5] END tree__max_depth=3, tree__min_samples_leaf=6, tree__min_samples_split=14; accuracy: (train=0.559, test=0.561) roc_auc: (train=0.759, test=0.749) total time=   0.0s\n",
      "[CV 2/5] END tree__max_depth=3, tree__min_samples_leaf=6, tree__min_samples_split=14; accuracy: (train=0.577, test=0.566) roc_auc: (train=0.762, test=0.750) total time=   0.0s\n",
      "[CV 3/5] END tree__max_depth=3, tree__min_samples_leaf=6, tree__min_samples_split=14; accuracy: (train=0.544, test=0.533) roc_auc: (train=0.758, test=0.734) total time=   0.0s\n",
      "[CV 4/5] END tree__max_depth=3, tree__min_samples_leaf=6, tree__min_samples_split=14; accuracy: (train=0.534, test=0.518) roc_auc: (train=0.751, test=0.748) total time=   0.0s\n",
      "[CV 5/5] END tree__max_depth=3, tree__min_samples_leaf=6, tree__min_samples_split=14; accuracy: (train=0.568, test=0.570) roc_auc: (train=0.752, test=0.745) total time=   0.0s\n",
      "[CV 1/5] END tree__max_depth=3, tree__min_samples_leaf=6, tree__min_samples_split=18; accuracy: (train=0.559, test=0.561) roc_auc: (train=0.759, test=0.749) total time=   0.0s\n",
      "[CV 2/5] END tree__max_depth=3, tree__min_samples_leaf=6, tree__min_samples_split=18; accuracy: (train=0.577, test=0.566) roc_auc: (train=0.762, test=0.750) total time=   0.0s\n",
      "[CV 3/5] END tree__max_depth=3, tree__min_samples_leaf=6, tree__min_samples_split=18; accuracy: (train=0.544, test=0.533) roc_auc: (train=0.758, test=0.734) total time=   0.0s\n",
      "[CV 4/5] END tree__max_depth=3, tree__min_samples_leaf=6, tree__min_samples_split=18; accuracy: (train=0.534, test=0.518) roc_auc: (train=0.751, test=0.748) total time=   0.0s\n",
      "[CV 5/5] END tree__max_depth=3, tree__min_samples_leaf=6, tree__min_samples_split=18; accuracy: (train=0.568, test=0.570) roc_auc: (train=0.752, test=0.745) total time=   0.0s\n",
      "[CV 1/5] END tree__max_depth=3, tree__min_samples_leaf=11, tree__min_samples_split=2; accuracy: (train=0.559, test=0.561) roc_auc: (train=0.759, test=0.749) total time=   0.0s\n",
      "[CV 2/5] END tree__max_depth=3, tree__min_samples_leaf=11, tree__min_samples_split=2; accuracy: (train=0.577, test=0.566) roc_auc: (train=0.762, test=0.750) total time=   0.0s\n",
      "[CV 3/5] END tree__max_depth=3, tree__min_samples_leaf=11, tree__min_samples_split=2; accuracy: (train=0.542, test=0.533) roc_auc: (train=0.758, test=0.735) total time=   0.0s\n",
      "[CV 4/5] END tree__max_depth=3, tree__min_samples_leaf=11, tree__min_samples_split=2; accuracy: (train=0.534, test=0.518) roc_auc: (train=0.751, test=0.748) total time=   0.0s\n",
      "[CV 5/5] END tree__max_depth=3, tree__min_samples_leaf=11, tree__min_samples_split=2; accuracy: (train=0.568, test=0.570) roc_auc: (train=0.752, test=0.745) total time=   0.0s\n",
      "[CV 1/5] END tree__max_depth=3, tree__min_samples_leaf=11, tree__min_samples_split=6; accuracy: (train=0.559, test=0.561) roc_auc: (train=0.759, test=0.749) total time=   0.0s\n",
      "[CV 2/5] END tree__max_depth=3, tree__min_samples_leaf=11, tree__min_samples_split=6; accuracy: (train=0.577, test=0.566) roc_auc: (train=0.762, test=0.750) total time=   0.0s\n",
      "[CV 3/5] END tree__max_depth=3, tree__min_samples_leaf=11, tree__min_samples_split=6; accuracy: (train=0.542, test=0.533) roc_auc: (train=0.758, test=0.735) total time=   0.0s\n",
      "[CV 4/5] END tree__max_depth=3, tree__min_samples_leaf=11, tree__min_samples_split=6; accuracy: (train=0.534, test=0.518) roc_auc: (train=0.751, test=0.748) total time=   0.0s\n",
      "[CV 5/5] END tree__max_depth=3, tree__min_samples_leaf=11, tree__min_samples_split=6; accuracy: (train=0.568, test=0.570) roc_auc: (train=0.752, test=0.745) total time=   0.0s\n",
      "[CV 1/5] END tree__max_depth=3, tree__min_samples_leaf=11, tree__min_samples_split=10; accuracy: (train=0.559, test=0.561) roc_auc: (train=0.759, test=0.749) total time=   0.0s\n",
      "[CV 2/5] END tree__max_depth=3, tree__min_samples_leaf=11, tree__min_samples_split=10; accuracy: (train=0.577, test=0.566) roc_auc: (train=0.762, test=0.750) total time=   0.0s\n",
      "[CV 3/5] END tree__max_depth=3, tree__min_samples_leaf=11, tree__min_samples_split=10; accuracy: (train=0.542, test=0.533) roc_auc: (train=0.758, test=0.735) total time=   0.0s\n",
      "[CV 4/5] END tree__max_depth=3, tree__min_samples_leaf=11, tree__min_samples_split=10; accuracy: (train=0.534, test=0.518) roc_auc: (train=0.751, test=0.748) total time=   0.0s\n",
      "[CV 5/5] END tree__max_depth=3, tree__min_samples_leaf=11, tree__min_samples_split=10; accuracy: (train=0.568, test=0.570) roc_auc: (train=0.752, test=0.745) total time=   0.0s\n",
      "[CV 1/5] END tree__max_depth=3, tree__min_samples_leaf=11, tree__min_samples_split=14; accuracy: (train=0.559, test=0.561) roc_auc: (train=0.759, test=0.749) total time=   0.0s\n",
      "[CV 2/5] END tree__max_depth=3, tree__min_samples_leaf=11, tree__min_samples_split=14; accuracy: (train=0.577, test=0.566) roc_auc: (train=0.762, test=0.750) total time=   0.0s\n",
      "[CV 3/5] END tree__max_depth=3, tree__min_samples_leaf=11, tree__min_samples_split=14; accuracy: (train=0.542, test=0.533) roc_auc: (train=0.758, test=0.735) total time=   0.0s\n",
      "[CV 4/5] END tree__max_depth=3, tree__min_samples_leaf=11, tree__min_samples_split=14; accuracy: (train=0.534, test=0.518) roc_auc: (train=0.751, test=0.748) total time=   0.0s\n",
      "[CV 5/5] END tree__max_depth=3, tree__min_samples_leaf=11, tree__min_samples_split=14; accuracy: (train=0.568, test=0.570) roc_auc: (train=0.752, test=0.745) total time=   0.0s\n",
      "[CV 1/5] END tree__max_depth=3, tree__min_samples_leaf=11, tree__min_samples_split=18; accuracy: (train=0.559, test=0.561) roc_auc: (train=0.759, test=0.749) total time=   0.0s\n",
      "[CV 2/5] END tree__max_depth=3, tree__min_samples_leaf=11, tree__min_samples_split=18; accuracy: (train=0.577, test=0.566) roc_auc: (train=0.762, test=0.750) total time=   0.0s\n",
      "[CV 3/5] END tree__max_depth=3, tree__min_samples_leaf=11, tree__min_samples_split=18; accuracy: (train=0.542, test=0.533) roc_auc: (train=0.758, test=0.735) total time=   0.0s\n",
      "[CV 4/5] END tree__max_depth=3, tree__min_samples_leaf=11, tree__min_samples_split=18; accuracy: (train=0.534, test=0.518) roc_auc: (train=0.751, test=0.748) total time=   0.0s\n",
      "[CV 5/5] END tree__max_depth=3, tree__min_samples_leaf=11, tree__min_samples_split=18; accuracy: (train=0.568, test=0.570) roc_auc: (train=0.752, test=0.745) total time=   0.0s\n",
      "[CV 1/5] END tree__max_depth=3, tree__min_samples_leaf=16, tree__min_samples_split=2; accuracy: (train=0.559, test=0.561) roc_auc: (train=0.759, test=0.749) total time=   0.0s\n",
      "[CV 2/5] END tree__max_depth=3, tree__min_samples_leaf=16, tree__min_samples_split=2; accuracy: (train=0.577, test=0.566) roc_auc: (train=0.762, test=0.750) total time=   0.0s\n",
      "[CV 3/5] END tree__max_depth=3, tree__min_samples_leaf=16, tree__min_samples_split=2; accuracy: (train=0.542, test=0.533) roc_auc: (train=0.758, test=0.735) total time=   0.0s\n",
      "[CV 4/5] END tree__max_depth=3, tree__min_samples_leaf=16, tree__min_samples_split=2; accuracy: (train=0.534, test=0.518) roc_auc: (train=0.751, test=0.748) total time=   0.0s\n",
      "[CV 5/5] END tree__max_depth=3, tree__min_samples_leaf=16, tree__min_samples_split=2; accuracy: (train=0.568, test=0.570) roc_auc: (train=0.752, test=0.745) total time=   0.0s\n",
      "[CV 1/5] END tree__max_depth=3, tree__min_samples_leaf=16, tree__min_samples_split=6; accuracy: (train=0.559, test=0.561) roc_auc: (train=0.759, test=0.749) total time=   0.0s\n",
      "[CV 2/5] END tree__max_depth=3, tree__min_samples_leaf=16, tree__min_samples_split=6; accuracy: (train=0.577, test=0.566) roc_auc: (train=0.762, test=0.750) total time=   0.0s\n",
      "[CV 3/5] END tree__max_depth=3, tree__min_samples_leaf=16, tree__min_samples_split=6; accuracy: (train=0.542, test=0.533) roc_auc: (train=0.758, test=0.735) total time=   0.0s\n",
      "[CV 4/5] END tree__max_depth=3, tree__min_samples_leaf=16, tree__min_samples_split=6; accuracy: (train=0.534, test=0.518) roc_auc: (train=0.751, test=0.748) total time=   0.0s\n",
      "[CV 5/5] END tree__max_depth=3, tree__min_samples_leaf=16, tree__min_samples_split=6; accuracy: (train=0.568, test=0.570) roc_auc: (train=0.752, test=0.745) total time=   0.0s\n",
      "[CV 1/5] END tree__max_depth=3, tree__min_samples_leaf=16, tree__min_samples_split=10; accuracy: (train=0.559, test=0.561) roc_auc: (train=0.759, test=0.749) total time=   0.0s\n",
      "[CV 2/5] END tree__max_depth=3, tree__min_samples_leaf=16, tree__min_samples_split=10; accuracy: (train=0.577, test=0.566) roc_auc: (train=0.762, test=0.750) total time=   0.0s\n",
      "[CV 3/5] END tree__max_depth=3, tree__min_samples_leaf=16, tree__min_samples_split=10; accuracy: (train=0.542, test=0.533) roc_auc: (train=0.758, test=0.735) total time=   0.0s\n",
      "[CV 4/5] END tree__max_depth=3, tree__min_samples_leaf=16, tree__min_samples_split=10; accuracy: (train=0.534, test=0.518) roc_auc: (train=0.751, test=0.748) total time=   0.0s\n",
      "[CV 5/5] END tree__max_depth=3, tree__min_samples_leaf=16, tree__min_samples_split=10; accuracy: (train=0.568, test=0.570) roc_auc: (train=0.752, test=0.745) total time=   0.0s\n",
      "[CV 1/5] END tree__max_depth=3, tree__min_samples_leaf=16, tree__min_samples_split=14; accuracy: (train=0.559, test=0.561) roc_auc: (train=0.759, test=0.749) total time=   0.0s\n",
      "[CV 2/5] END tree__max_depth=3, tree__min_samples_leaf=16, tree__min_samples_split=14; accuracy: (train=0.577, test=0.566) roc_auc: (train=0.762, test=0.750) total time=   0.0s\n",
      "[CV 3/5] END tree__max_depth=3, tree__min_samples_leaf=16, tree__min_samples_split=14; accuracy: (train=0.542, test=0.533) roc_auc: (train=0.758, test=0.735) total time=   0.0s\n",
      "[CV 4/5] END tree__max_depth=3, tree__min_samples_leaf=16, tree__min_samples_split=14; accuracy: (train=0.534, test=0.518) roc_auc: (train=0.751, test=0.748) total time=   0.0s\n",
      "[CV 5/5] END tree__max_depth=3, tree__min_samples_leaf=16, tree__min_samples_split=14; accuracy: (train=0.568, test=0.570) roc_auc: (train=0.752, test=0.745) total time=   0.0s\n",
      "[CV 1/5] END tree__max_depth=3, tree__min_samples_leaf=16, tree__min_samples_split=18; accuracy: (train=0.559, test=0.561) roc_auc: (train=0.759, test=0.749) total time=   0.0s\n",
      "[CV 2/5] END tree__max_depth=3, tree__min_samples_leaf=16, tree__min_samples_split=18; accuracy: (train=0.577, test=0.566) roc_auc: (train=0.762, test=0.750) total time=   0.0s\n",
      "[CV 3/5] END tree__max_depth=3, tree__min_samples_leaf=16, tree__min_samples_split=18; accuracy: (train=0.542, test=0.533) roc_auc: (train=0.758, test=0.735) total time=   0.0s\n",
      "[CV 4/5] END tree__max_depth=3, tree__min_samples_leaf=16, tree__min_samples_split=18; accuracy: (train=0.534, test=0.518) roc_auc: (train=0.751, test=0.748) total time=   0.0s\n",
      "[CV 5/5] END tree__max_depth=3, tree__min_samples_leaf=16, tree__min_samples_split=18; accuracy: (train=0.568, test=0.570) roc_auc: (train=0.752, test=0.745) total time=   0.0s\n",
      "[CV 1/5] END tree__max_depth=5, tree__min_samples_leaf=1, tree__min_samples_split=2; accuracy: (train=0.753, test=0.761) roc_auc: (train=0.833, test=0.802) total time=   0.0s\n",
      "[CV 2/5] END tree__max_depth=5, tree__min_samples_leaf=1, tree__min_samples_split=2; accuracy: (train=0.730, test=0.725) roc_auc: (train=0.825, test=0.785) total time=   0.0s\n",
      "[CV 3/5] END tree__max_depth=5, tree__min_samples_leaf=1, tree__min_samples_split=2; accuracy: (train=0.687, test=0.670) roc_auc: (train=0.820, test=0.770) total time=   0.0s\n",
      "[CV 4/5] END tree__max_depth=5, tree__min_samples_leaf=1, tree__min_samples_split=2; accuracy: (train=0.744, test=0.730) roc_auc: (train=0.823, test=0.783) total time=   0.0s\n",
      "[CV 5/5] END tree__max_depth=5, tree__min_samples_leaf=1, tree__min_samples_split=2; accuracy: (train=0.752, test=0.743) roc_auc: (train=0.824, test=0.778) total time=   0.0s\n",
      "[CV 1/5] END tree__max_depth=5, tree__min_samples_leaf=1, tree__min_samples_split=6; accuracy: (train=0.753, test=0.761) roc_auc: (train=0.833, test=0.802) total time=   0.0s\n",
      "[CV 2/5] END tree__max_depth=5, tree__min_samples_leaf=1, tree__min_samples_split=6; accuracy: (train=0.730, test=0.725) roc_auc: (train=0.825, test=0.785) total time=   0.0s\n",
      "[CV 3/5] END tree__max_depth=5, tree__min_samples_leaf=1, tree__min_samples_split=6; accuracy: (train=0.687, test=0.670) roc_auc: (train=0.820, test=0.770) total time=   0.0s\n",
      "[CV 4/5] END tree__max_depth=5, tree__min_samples_leaf=1, tree__min_samples_split=6; accuracy: (train=0.744, test=0.730) roc_auc: (train=0.823, test=0.783) total time=   0.0s\n",
      "[CV 5/5] END tree__max_depth=5, tree__min_samples_leaf=1, tree__min_samples_split=6; accuracy: (train=0.752, test=0.743) roc_auc: (train=0.824, test=0.778) total time=   0.0s\n",
      "[CV 1/5] END tree__max_depth=5, tree__min_samples_leaf=1, tree__min_samples_split=10; accuracy: (train=0.753, test=0.761) roc_auc: (train=0.833, test=0.802) total time=   0.0s\n",
      "[CV 2/5] END tree__max_depth=5, tree__min_samples_leaf=1, tree__min_samples_split=10; accuracy: (train=0.730, test=0.725) roc_auc: (train=0.825, test=0.785) total time=   0.0s\n",
      "[CV 3/5] END tree__max_depth=5, tree__min_samples_leaf=1, tree__min_samples_split=10; accuracy: (train=0.687, test=0.670) roc_auc: (train=0.820, test=0.770) total time=   0.0s\n",
      "[CV 4/5] END tree__max_depth=5, tree__min_samples_leaf=1, tree__min_samples_split=10; accuracy: (train=0.743, test=0.728) roc_auc: (train=0.823, test=0.787) total time=   0.0s\n",
      "[CV 5/5] END tree__max_depth=5, tree__min_samples_leaf=1, tree__min_samples_split=10; accuracy: (train=0.752, test=0.743) roc_auc: (train=0.824, test=0.778) total time=   0.0s\n",
      "[CV 1/5] END tree__max_depth=5, tree__min_samples_leaf=1, tree__min_samples_split=14; accuracy: (train=0.752, test=0.761) roc_auc: (train=0.832, test=0.802) total time=   0.0s\n",
      "[CV 2/5] END tree__max_depth=5, tree__min_samples_leaf=1, tree__min_samples_split=14; accuracy: (train=0.730, test=0.725) roc_auc: (train=0.825, test=0.785) total time=   0.0s\n",
      "[CV 3/5] END tree__max_depth=5, tree__min_samples_leaf=1, tree__min_samples_split=14; accuracy: (train=0.687, test=0.670) roc_auc: (train=0.820, test=0.770) total time=   0.0s\n",
      "[CV 4/5] END tree__max_depth=5, tree__min_samples_leaf=1, tree__min_samples_split=14; accuracy: (train=0.743, test=0.729) roc_auc: (train=0.823, test=0.792) total time=   0.0s\n",
      "[CV 5/5] END tree__max_depth=5, tree__min_samples_leaf=1, tree__min_samples_split=14; accuracy: (train=0.752, test=0.743) roc_auc: (train=0.824, test=0.778) total time=   0.0s\n",
      "[CV 1/5] END tree__max_depth=5, tree__min_samples_leaf=1, tree__min_samples_split=18; accuracy: (train=0.752, test=0.761) roc_auc: (train=0.832, test=0.802) total time=   0.0s\n",
      "[CV 2/5] END tree__max_depth=5, tree__min_samples_leaf=1, tree__min_samples_split=18; accuracy: (train=0.730, test=0.725) roc_auc: (train=0.825, test=0.785) total time=   0.0s\n",
      "[CV 3/5] END tree__max_depth=5, tree__min_samples_leaf=1, tree__min_samples_split=18; accuracy: (train=0.687, test=0.670) roc_auc: (train=0.819, test=0.770) total time=   0.0s\n",
      "[CV 4/5] END tree__max_depth=5, tree__min_samples_leaf=1, tree__min_samples_split=18; accuracy: (train=0.742, test=0.729) roc_auc: (train=0.822, test=0.793) total time=   0.0s\n",
      "[CV 5/5] END tree__max_depth=5, tree__min_samples_leaf=1, tree__min_samples_split=18; accuracy: (train=0.752, test=0.743) roc_auc: (train=0.824, test=0.778) total time=   0.0s\n",
      "[CV 1/5] END tree__max_depth=5, tree__min_samples_leaf=6, tree__min_samples_split=2; accuracy: (train=0.751, test=0.760) roc_auc: (train=0.831, test=0.797) total time=   0.0s\n",
      "[CV 2/5] END tree__max_depth=5, tree__min_samples_leaf=6, tree__min_samples_split=2; accuracy: (train=0.727, test=0.726) roc_auc: (train=0.822, test=0.787) total time=   0.0s\n",
      "[CV 3/5] END tree__max_depth=5, tree__min_samples_leaf=6, tree__min_samples_split=2; accuracy: (train=0.685, test=0.669) roc_auc: (train=0.818, test=0.765) total time=   0.0s\n",
      "[CV 4/5] END tree__max_depth=5, tree__min_samples_leaf=6, tree__min_samples_split=2; accuracy: (train=0.739, test=0.725) roc_auc: (train=0.821, test=0.791) total time=   0.0s\n",
      "[CV 5/5] END tree__max_depth=5, tree__min_samples_leaf=6, tree__min_samples_split=2; accuracy: (train=0.752, test=0.742) roc_auc: (train=0.823, test=0.780) total time=   0.0s\n",
      "[CV 1/5] END tree__max_depth=5, tree__min_samples_leaf=6, tree__min_samples_split=6; accuracy: (train=0.751, test=0.760) roc_auc: (train=0.831, test=0.797) total time=   0.0s\n",
      "[CV 2/5] END tree__max_depth=5, tree__min_samples_leaf=6, tree__min_samples_split=6; accuracy: (train=0.727, test=0.726) roc_auc: (train=0.822, test=0.787) total time=   0.0s\n",
      "[CV 3/5] END tree__max_depth=5, tree__min_samples_leaf=6, tree__min_samples_split=6; accuracy: (train=0.685, test=0.669) roc_auc: (train=0.818, test=0.765) total time=   0.0s\n",
      "[CV 4/5] END tree__max_depth=5, tree__min_samples_leaf=6, tree__min_samples_split=6; accuracy: (train=0.739, test=0.725) roc_auc: (train=0.821, test=0.791) total time=   0.0s\n",
      "[CV 5/5] END tree__max_depth=5, tree__min_samples_leaf=6, tree__min_samples_split=6; accuracy: (train=0.752, test=0.742) roc_auc: (train=0.823, test=0.780) total time=   0.0s\n",
      "[CV 1/5] END tree__max_depth=5, tree__min_samples_leaf=6, tree__min_samples_split=10; accuracy: (train=0.751, test=0.760) roc_auc: (train=0.831, test=0.797) total time=   0.0s\n",
      "[CV 2/5] END tree__max_depth=5, tree__min_samples_leaf=6, tree__min_samples_split=10; accuracy: (train=0.727, test=0.726) roc_auc: (train=0.822, test=0.787) total time=   0.0s\n",
      "[CV 3/5] END tree__max_depth=5, tree__min_samples_leaf=6, tree__min_samples_split=10; accuracy: (train=0.685, test=0.669) roc_auc: (train=0.818, test=0.765) total time=   0.0s\n",
      "[CV 4/5] END tree__max_depth=5, tree__min_samples_leaf=6, tree__min_samples_split=10; accuracy: (train=0.739, test=0.725) roc_auc: (train=0.821, test=0.791) total time=   0.0s\n",
      "[CV 5/5] END tree__max_depth=5, tree__min_samples_leaf=6, tree__min_samples_split=10; accuracy: (train=0.752, test=0.742) roc_auc: (train=0.823, test=0.780) total time=   0.0s\n",
      "[CV 1/5] END tree__max_depth=5, tree__min_samples_leaf=6, tree__min_samples_split=14; accuracy: (train=0.749, test=0.760) roc_auc: (train=0.830, test=0.797) total time=   0.0s\n",
      "[CV 2/5] END tree__max_depth=5, tree__min_samples_leaf=6, tree__min_samples_split=14; accuracy: (train=0.727, test=0.726) roc_auc: (train=0.822, test=0.787) total time=   0.0s\n",
      "[CV 3/5] END tree__max_depth=5, tree__min_samples_leaf=6, tree__min_samples_split=14; accuracy: (train=0.685, test=0.669) roc_auc: (train=0.818, test=0.765) total time=   0.0s\n",
      "[CV 4/5] END tree__max_depth=5, tree__min_samples_leaf=6, tree__min_samples_split=14; accuracy: (train=0.739, test=0.725) roc_auc: (train=0.821, test=0.791) total time=   0.0s\n",
      "[CV 5/5] END tree__max_depth=5, tree__min_samples_leaf=6, tree__min_samples_split=14; accuracy: (train=0.752, test=0.742) roc_auc: (train=0.823, test=0.780) total time=   0.0s\n",
      "[CV 1/5] END tree__max_depth=5, tree__min_samples_leaf=6, tree__min_samples_split=18; accuracy: (train=0.749, test=0.760) roc_auc: (train=0.830, test=0.797) total time=   0.0s\n",
      "[CV 2/5] END tree__max_depth=5, tree__min_samples_leaf=6, tree__min_samples_split=18; accuracy: (train=0.727, test=0.726) roc_auc: (train=0.822, test=0.787) total time=   0.0s\n",
      "[CV 3/5] END tree__max_depth=5, tree__min_samples_leaf=6, tree__min_samples_split=18; accuracy: (train=0.685, test=0.669) roc_auc: (train=0.817, test=0.766) total time=   0.0s\n",
      "[CV 4/5] END tree__max_depth=5, tree__min_samples_leaf=6, tree__min_samples_split=18; accuracy: (train=0.739, test=0.725) roc_auc: (train=0.821, test=0.791) total time=   0.0s\n",
      "[CV 5/5] END tree__max_depth=5, tree__min_samples_leaf=6, tree__min_samples_split=18; accuracy: (train=0.751, test=0.741) roc_auc: (train=0.823, test=0.779) total time=   0.0s\n",
      "[CV 1/5] END tree__max_depth=5, tree__min_samples_leaf=11, tree__min_samples_split=2; accuracy: (train=0.749, test=0.759) roc_auc: (train=0.830, test=0.796) total time=   0.0s\n",
      "[CV 2/5] END tree__max_depth=5, tree__min_samples_leaf=11, tree__min_samples_split=2; accuracy: (train=0.719, test=0.718) roc_auc: (train=0.820, test=0.794) total time=   0.0s\n",
      "[CV 3/5] END tree__max_depth=5, tree__min_samples_leaf=11, tree__min_samples_split=2; accuracy: (train=0.682, test=0.668) roc_auc: (train=0.814, test=0.768) total time=   0.0s\n",
      "[CV 4/5] END tree__max_depth=5, tree__min_samples_leaf=11, tree__min_samples_split=2; accuracy: (train=0.733, test=0.717) roc_auc: (train=0.816, test=0.793) total time=   0.0s\n",
      "[CV 5/5] END tree__max_depth=5, tree__min_samples_leaf=11, tree__min_samples_split=2; accuracy: (train=0.749, test=0.741) roc_auc: (train=0.821, test=0.787) total time=   0.0s\n",
      "[CV 1/5] END tree__max_depth=5, tree__min_samples_leaf=11, tree__min_samples_split=6; accuracy: (train=0.749, test=0.759) roc_auc: (train=0.830, test=0.796) total time=   0.0s\n",
      "[CV 2/5] END tree__max_depth=5, tree__min_samples_leaf=11, tree__min_samples_split=6; accuracy: (train=0.719, test=0.718) roc_auc: (train=0.820, test=0.794) total time=   0.0s\n",
      "[CV 3/5] END tree__max_depth=5, tree__min_samples_leaf=11, tree__min_samples_split=6; accuracy: (train=0.682, test=0.668) roc_auc: (train=0.814, test=0.768) total time=   0.0s\n",
      "[CV 4/5] END tree__max_depth=5, tree__min_samples_leaf=11, tree__min_samples_split=6; accuracy: (train=0.733, test=0.717) roc_auc: (train=0.816, test=0.793) total time=   0.0s\n",
      "[CV 5/5] END tree__max_depth=5, tree__min_samples_leaf=11, tree__min_samples_split=6; accuracy: (train=0.749, test=0.741) roc_auc: (train=0.821, test=0.787) total time=   0.0s\n",
      "[CV 1/5] END tree__max_depth=5, tree__min_samples_leaf=11, tree__min_samples_split=10; accuracy: (train=0.749, test=0.759) roc_auc: (train=0.830, test=0.796) total time=   0.0s\n",
      "[CV 2/5] END tree__max_depth=5, tree__min_samples_leaf=11, tree__min_samples_split=10; accuracy: (train=0.719, test=0.718) roc_auc: (train=0.820, test=0.794) total time=   0.0s\n",
      "[CV 3/5] END tree__max_depth=5, tree__min_samples_leaf=11, tree__min_samples_split=10; accuracy: (train=0.682, test=0.668) roc_auc: (train=0.814, test=0.768) total time=   0.0s\n",
      "[CV 4/5] END tree__max_depth=5, tree__min_samples_leaf=11, tree__min_samples_split=10; accuracy: (train=0.733, test=0.717) roc_auc: (train=0.816, test=0.793) total time=   0.0s\n",
      "[CV 5/5] END tree__max_depth=5, tree__min_samples_leaf=11, tree__min_samples_split=10; accuracy: (train=0.749, test=0.741) roc_auc: (train=0.821, test=0.787) total time=   0.0s\n",
      "[CV 1/5] END tree__max_depth=5, tree__min_samples_leaf=11, tree__min_samples_split=14; accuracy: (train=0.749, test=0.759) roc_auc: (train=0.830, test=0.796) total time=   0.0s\n",
      "[CV 2/5] END tree__max_depth=5, tree__min_samples_leaf=11, tree__min_samples_split=14; accuracy: (train=0.719, test=0.718) roc_auc: (train=0.820, test=0.794) total time=   0.0s\n",
      "[CV 3/5] END tree__max_depth=5, tree__min_samples_leaf=11, tree__min_samples_split=14; accuracy: (train=0.682, test=0.668) roc_auc: (train=0.814, test=0.768) total time=   0.0s\n",
      "[CV 4/5] END tree__max_depth=5, tree__min_samples_leaf=11, tree__min_samples_split=14; accuracy: (train=0.733, test=0.717) roc_auc: (train=0.816, test=0.793) total time=   0.0s\n",
      "[CV 5/5] END tree__max_depth=5, tree__min_samples_leaf=11, tree__min_samples_split=14; accuracy: (train=0.749, test=0.741) roc_auc: (train=0.821, test=0.787) total time=   0.0s\n",
      "[CV 1/5] END tree__max_depth=5, tree__min_samples_leaf=11, tree__min_samples_split=18; accuracy: (train=0.749, test=0.759) roc_auc: (train=0.830, test=0.796) total time=   0.0s\n",
      "[CV 2/5] END tree__max_depth=5, tree__min_samples_leaf=11, tree__min_samples_split=18; accuracy: (train=0.719, test=0.718) roc_auc: (train=0.820, test=0.794) total time=   0.0s\n",
      "[CV 3/5] END tree__max_depth=5, tree__min_samples_leaf=11, tree__min_samples_split=18; accuracy: (train=0.682, test=0.668) roc_auc: (train=0.814, test=0.768) total time=   0.0s\n",
      "[CV 4/5] END tree__max_depth=5, tree__min_samples_leaf=11, tree__min_samples_split=18; accuracy: (train=0.733, test=0.717) roc_auc: (train=0.816, test=0.793) total time=   0.0s\n",
      "[CV 5/5] END tree__max_depth=5, tree__min_samples_leaf=11, tree__min_samples_split=18; accuracy: (train=0.749, test=0.741) roc_auc: (train=0.821, test=0.787) total time=   0.0s\n",
      "[CV 1/5] END tree__max_depth=5, tree__min_samples_leaf=16, tree__min_samples_split=2; accuracy: (train=0.744, test=0.755) roc_auc: (train=0.827, test=0.793) total time=   0.0s\n",
      "[CV 2/5] END tree__max_depth=5, tree__min_samples_leaf=16, tree__min_samples_split=2; accuracy: (train=0.721, test=0.717) roc_auc: (train=0.820, test=0.791) total time=   0.0s\n",
      "[CV 3/5] END tree__max_depth=5, tree__min_samples_leaf=16, tree__min_samples_split=2; accuracy: (train=0.677, test=0.664) roc_auc: (train=0.813, test=0.770) total time=   0.0s\n",
      "[CV 4/5] END tree__max_depth=5, tree__min_samples_leaf=16, tree__min_samples_split=2; accuracy: (train=0.738, test=0.723) roc_auc: (train=0.815, test=0.798) total time=   0.0s\n",
      "[CV 5/5] END tree__max_depth=5, tree__min_samples_leaf=16, tree__min_samples_split=2; accuracy: (train=0.745, test=0.738) roc_auc: (train=0.818, test=0.784) total time=   0.0s\n",
      "[CV 1/5] END tree__max_depth=5, tree__min_samples_leaf=16, tree__min_samples_split=6; accuracy: (train=0.744, test=0.755) roc_auc: (train=0.827, test=0.793) total time=   0.0s\n",
      "[CV 2/5] END tree__max_depth=5, tree__min_samples_leaf=16, tree__min_samples_split=6; accuracy: (train=0.721, test=0.717) roc_auc: (train=0.820, test=0.791) total time=   0.0s\n",
      "[CV 3/5] END tree__max_depth=5, tree__min_samples_leaf=16, tree__min_samples_split=6; accuracy: (train=0.677, test=0.664) roc_auc: (train=0.813, test=0.770) total time=   0.0s\n",
      "[CV 4/5] END tree__max_depth=5, tree__min_samples_leaf=16, tree__min_samples_split=6; accuracy: (train=0.738, test=0.723) roc_auc: (train=0.815, test=0.798) total time=   0.0s\n",
      "[CV 5/5] END tree__max_depth=5, tree__min_samples_leaf=16, tree__min_samples_split=6; accuracy: (train=0.745, test=0.738) roc_auc: (train=0.818, test=0.784) total time=   0.0s\n",
      "[CV 1/5] END tree__max_depth=5, tree__min_samples_leaf=16, tree__min_samples_split=10; accuracy: (train=0.744, test=0.755) roc_auc: (train=0.827, test=0.793) total time=   0.0s\n",
      "[CV 2/5] END tree__max_depth=5, tree__min_samples_leaf=16, tree__min_samples_split=10; accuracy: (train=0.721, test=0.717) roc_auc: (train=0.820, test=0.791) total time=   0.0s\n",
      "[CV 3/5] END tree__max_depth=5, tree__min_samples_leaf=16, tree__min_samples_split=10; accuracy: (train=0.677, test=0.664) roc_auc: (train=0.813, test=0.770) total time=   0.0s\n",
      "[CV 4/5] END tree__max_depth=5, tree__min_samples_leaf=16, tree__min_samples_split=10; accuracy: (train=0.738, test=0.723) roc_auc: (train=0.815, test=0.798) total time=   0.0s\n",
      "[CV 5/5] END tree__max_depth=5, tree__min_samples_leaf=16, tree__min_samples_split=10; accuracy: (train=0.745, test=0.738) roc_auc: (train=0.818, test=0.784) total time=   0.0s\n",
      "[CV 1/5] END tree__max_depth=5, tree__min_samples_leaf=16, tree__min_samples_split=14; accuracy: (train=0.744, test=0.755) roc_auc: (train=0.827, test=0.793) total time=   0.0s\n",
      "[CV 2/5] END tree__max_depth=5, tree__min_samples_leaf=16, tree__min_samples_split=14; accuracy: (train=0.721, test=0.717) roc_auc: (train=0.820, test=0.791) total time=   0.0s\n",
      "[CV 3/5] END tree__max_depth=5, tree__min_samples_leaf=16, tree__min_samples_split=14; accuracy: (train=0.677, test=0.664) roc_auc: (train=0.813, test=0.770) total time=   0.0s\n",
      "[CV 4/5] END tree__max_depth=5, tree__min_samples_leaf=16, tree__min_samples_split=14; accuracy: (train=0.738, test=0.723) roc_auc: (train=0.815, test=0.798) total time=   0.0s\n",
      "[CV 5/5] END tree__max_depth=5, tree__min_samples_leaf=16, tree__min_samples_split=14; accuracy: (train=0.745, test=0.738) roc_auc: (train=0.818, test=0.784) total time=   0.0s\n",
      "[CV 1/5] END tree__max_depth=5, tree__min_samples_leaf=16, tree__min_samples_split=18; accuracy: (train=0.744, test=0.755) roc_auc: (train=0.827, test=0.793) total time=   0.0s\n",
      "[CV 2/5] END tree__max_depth=5, tree__min_samples_leaf=16, tree__min_samples_split=18; accuracy: (train=0.721, test=0.717) roc_auc: (train=0.820, test=0.791) total time=   0.0s\n",
      "[CV 3/5] END tree__max_depth=5, tree__min_samples_leaf=16, tree__min_samples_split=18; accuracy: (train=0.677, test=0.664) roc_auc: (train=0.813, test=0.770) total time=   0.0s\n",
      "[CV 4/5] END tree__max_depth=5, tree__min_samples_leaf=16, tree__min_samples_split=18; accuracy: (train=0.738, test=0.723) roc_auc: (train=0.815, test=0.798) total time=   0.0s\n",
      "[CV 5/5] END tree__max_depth=5, tree__min_samples_leaf=16, tree__min_samples_split=18; accuracy: (train=0.745, test=0.738) roc_auc: (train=0.818, test=0.784) total time=   0.0s\n",
      "[CV 1/5] END tree__max_depth=7, tree__min_samples_leaf=1, tree__min_samples_split=2; accuracy: (train=0.772, test=0.753) roc_auc: (train=0.882, test=0.775) total time=   0.0s\n",
      "[CV 2/5] END tree__max_depth=7, tree__min_samples_leaf=1, tree__min_samples_split=2; accuracy: (train=0.759, test=0.700) roc_auc: (train=0.884, test=0.741) total time=   0.0s\n",
      "[CV 3/5] END tree__max_depth=7, tree__min_samples_leaf=1, tree__min_samples_split=2; accuracy: (train=0.754, test=0.710) roc_auc: (train=0.868, test=0.756) total time=   0.0s\n",
      "[CV 4/5] END tree__max_depth=7, tree__min_samples_leaf=1, tree__min_samples_split=2; accuracy: (train=0.742, test=0.689) roc_auc: (train=0.870, test=0.779) total time=   0.0s\n",
      "[CV 5/5] END tree__max_depth=7, tree__min_samples_leaf=1, tree__min_samples_split=2; accuracy: (train=0.741, test=0.694) roc_auc: (train=0.870, test=0.755) total time=   0.0s\n",
      "[CV 1/5] END tree__max_depth=7, tree__min_samples_leaf=1, tree__min_samples_split=6; accuracy: (train=0.770, test=0.749) roc_auc: (train=0.880, test=0.771) total time=   0.0s\n",
      "[CV 2/5] END tree__max_depth=7, tree__min_samples_leaf=1, tree__min_samples_split=6; accuracy: (train=0.757, test=0.696) roc_auc: (train=0.882, test=0.737) total time=   0.0s\n",
      "[CV 3/5] END tree__max_depth=7, tree__min_samples_leaf=1, tree__min_samples_split=6; accuracy: (train=0.753, test=0.710) roc_auc: (train=0.867, test=0.757) total time=   0.0s\n",
      "[CV 4/5] END tree__max_depth=7, tree__min_samples_leaf=1, tree__min_samples_split=6; accuracy: (train=0.741, test=0.688) roc_auc: (train=0.869, test=0.778) total time=   0.0s\n",
      "[CV 5/5] END tree__max_depth=7, tree__min_samples_leaf=1, tree__min_samples_split=6; accuracy: (train=0.739, test=0.692) roc_auc: (train=0.869, test=0.756) total time=   0.0s\n",
      "[CV 1/5] END tree__max_depth=7, tree__min_samples_leaf=1, tree__min_samples_split=10; accuracy: (train=0.767, test=0.748) roc_auc: (train=0.877, test=0.777) total time=   0.0s\n",
      "[CV 2/5] END tree__max_depth=7, tree__min_samples_leaf=1, tree__min_samples_split=10; accuracy: (train=0.755, test=0.697) roc_auc: (train=0.880, test=0.744) total time=   0.0s\n",
      "[CV 3/5] END tree__max_depth=7, tree__min_samples_leaf=1, tree__min_samples_split=10; accuracy: (train=0.751, test=0.708) roc_auc: (train=0.865, test=0.756) total time=   0.0s\n",
      "[CV 4/5] END tree__max_depth=7, tree__min_samples_leaf=1, tree__min_samples_split=10; accuracy: (train=0.739, test=0.686) roc_auc: (train=0.867, test=0.786) total time=   0.0s\n",
      "[CV 5/5] END tree__max_depth=7, tree__min_samples_leaf=1, tree__min_samples_split=10; accuracy: (train=0.737, test=0.688) roc_auc: (train=0.868, test=0.754) total time=   0.0s\n",
      "[CV 1/5] END tree__max_depth=7, tree__min_samples_leaf=1, tree__min_samples_split=14; accuracy: (train=0.764, test=0.747) roc_auc: (train=0.875, test=0.779) total time=   0.0s\n",
      "[CV 2/5] END tree__max_depth=7, tree__min_samples_leaf=1, tree__min_samples_split=14; accuracy: (train=0.754, test=0.696) roc_auc: (train=0.879, test=0.748) total time=   0.0s\n",
      "[CV 3/5] END tree__max_depth=7, tree__min_samples_leaf=1, tree__min_samples_split=14; accuracy: (train=0.748, test=0.708) roc_auc: (train=0.861, test=0.760) total time=   0.0s\n",
      "[CV 4/5] END tree__max_depth=7, tree__min_samples_leaf=1, tree__min_samples_split=14; accuracy: (train=0.739, test=0.687) roc_auc: (train=0.866, test=0.791) total time=   0.0s\n",
      "[CV 5/5] END tree__max_depth=7, tree__min_samples_leaf=1, tree__min_samples_split=14; accuracy: (train=0.737, test=0.688) roc_auc: (train=0.868, test=0.754) total time=   0.0s\n",
      "[CV 1/5] END tree__max_depth=7, tree__min_samples_leaf=1, tree__min_samples_split=18; accuracy: (train=0.760, test=0.747) roc_auc: (train=0.872, test=0.786) total time=   0.0s\n",
      "[CV 2/5] END tree__max_depth=7, tree__min_samples_leaf=1, tree__min_samples_split=18; accuracy: (train=0.754, test=0.697) roc_auc: (train=0.878, test=0.752) total time=   0.0s\n",
      "[CV 3/5] END tree__max_depth=7, tree__min_samples_leaf=1, tree__min_samples_split=18; accuracy: (train=0.749, test=0.709) roc_auc: (train=0.860, test=0.763) total time=   0.0s\n",
      "[CV 4/5] END tree__max_depth=7, tree__min_samples_leaf=1, tree__min_samples_split=18; accuracy: (train=0.736, test=0.687) roc_auc: (train=0.865, test=0.792) total time=   0.0s\n",
      "[CV 5/5] END tree__max_depth=7, tree__min_samples_leaf=1, tree__min_samples_split=18; accuracy: (train=0.737, test=0.691) roc_auc: (train=0.867, test=0.758) total time=   0.0s\n",
      "[CV 1/5] END tree__max_depth=7, tree__min_samples_leaf=6, tree__min_samples_split=2; accuracy: (train=0.759, test=0.736) roc_auc: (train=0.875, test=0.780) total time=   0.0s\n",
      "[CV 2/5] END tree__max_depth=7, tree__min_samples_leaf=6, tree__min_samples_split=2; accuracy: (train=0.751, test=0.703) roc_auc: (train=0.874, test=0.744) total time=   0.0s\n",
      "[CV 3/5] END tree__max_depth=7, tree__min_samples_leaf=6, tree__min_samples_split=2; accuracy: (train=0.734, test=0.698) roc_auc: (train=0.858, test=0.746) total time=   0.0s\n",
      "[CV 4/5] END tree__max_depth=7, tree__min_samples_leaf=6, tree__min_samples_split=2; accuracy: (train=0.731, test=0.676) roc_auc: (train=0.865, test=0.787) total time=   0.0s\n",
      "[CV 5/5] END tree__max_depth=7, tree__min_samples_leaf=6, tree__min_samples_split=2; accuracy: (train=0.736, test=0.688) roc_auc: (train=0.863, test=0.757) total time=   0.0s\n",
      "[CV 1/5] END tree__max_depth=7, tree__min_samples_leaf=6, tree__min_samples_split=6; accuracy: (train=0.759, test=0.736) roc_auc: (train=0.875, test=0.780) total time=   0.0s\n",
      "[CV 2/5] END tree__max_depth=7, tree__min_samples_leaf=6, tree__min_samples_split=6; accuracy: (train=0.751, test=0.703) roc_auc: (train=0.874, test=0.744) total time=   0.0s\n",
      "[CV 3/5] END tree__max_depth=7, tree__min_samples_leaf=6, tree__min_samples_split=6; accuracy: (train=0.734, test=0.698) roc_auc: (train=0.858, test=0.746) total time=   0.0s\n",
      "[CV 4/5] END tree__max_depth=7, tree__min_samples_leaf=6, tree__min_samples_split=6; accuracy: (train=0.731, test=0.676) roc_auc: (train=0.865, test=0.787) total time=   0.0s\n",
      "[CV 5/5] END tree__max_depth=7, tree__min_samples_leaf=6, tree__min_samples_split=6; accuracy: (train=0.736, test=0.688) roc_auc: (train=0.863, test=0.757) total time=   0.0s\n",
      "[CV 1/5] END tree__max_depth=7, tree__min_samples_leaf=6, tree__min_samples_split=10; accuracy: (train=0.759, test=0.736) roc_auc: (train=0.875, test=0.780) total time=   0.0s\n",
      "[CV 2/5] END tree__max_depth=7, tree__min_samples_leaf=6, tree__min_samples_split=10; accuracy: (train=0.751, test=0.703) roc_auc: (train=0.874, test=0.744) total time=   0.0s\n",
      "[CV 3/5] END tree__max_depth=7, tree__min_samples_leaf=6, tree__min_samples_split=10; accuracy: (train=0.734, test=0.698) roc_auc: (train=0.858, test=0.746) total time=   0.0s\n",
      "[CV 4/5] END tree__max_depth=7, tree__min_samples_leaf=6, tree__min_samples_split=10; accuracy: (train=0.731, test=0.676) roc_auc: (train=0.865, test=0.787) total time=   0.0s\n",
      "[CV 5/5] END tree__max_depth=7, tree__min_samples_leaf=6, tree__min_samples_split=10; accuracy: (train=0.736, test=0.688) roc_auc: (train=0.863, test=0.757) total time=   0.0s\n",
      "[CV 1/5] END tree__max_depth=7, tree__min_samples_leaf=6, tree__min_samples_split=14; accuracy: (train=0.758, test=0.737) roc_auc: (train=0.873, test=0.780) total time=   0.0s\n",
      "[CV 2/5] END tree__max_depth=7, tree__min_samples_leaf=6, tree__min_samples_split=14; accuracy: (train=0.751, test=0.703) roc_auc: (train=0.874, test=0.743) total time=   0.0s\n",
      "[CV 3/5] END tree__max_depth=7, tree__min_samples_leaf=6, tree__min_samples_split=14; accuracy: (train=0.735, test=0.698) roc_auc: (train=0.857, test=0.745) total time=   0.0s\n",
      "[CV 4/5] END tree__max_depth=7, tree__min_samples_leaf=6, tree__min_samples_split=14; accuracy: (train=0.730, test=0.676) roc_auc: (train=0.864, test=0.787) total time=   0.0s\n",
      "[CV 5/5] END tree__max_depth=7, tree__min_samples_leaf=6, tree__min_samples_split=14; accuracy: (train=0.736, test=0.689) roc_auc: (train=0.863, test=0.759) total time=   0.0s\n",
      "[CV 1/5] END tree__max_depth=7, tree__min_samples_leaf=6, tree__min_samples_split=18; accuracy: (train=0.756, test=0.740) roc_auc: (train=0.871, test=0.793) total time=   0.0s\n",
      "[CV 2/5] END tree__max_depth=7, tree__min_samples_leaf=6, tree__min_samples_split=18; accuracy: (train=0.751, test=0.707) roc_auc: (train=0.874, test=0.751) total time=   0.0s\n",
      "[CV 3/5] END tree__max_depth=7, tree__min_samples_leaf=6, tree__min_samples_split=18; accuracy: (train=0.736, test=0.699) roc_auc: (train=0.856, test=0.749) total time=   0.0s\n",
      "[CV 4/5] END tree__max_depth=7, tree__min_samples_leaf=6, tree__min_samples_split=18; accuracy: (train=0.729, test=0.675) roc_auc: (train=0.863, test=0.787) total time=   0.0s\n",
      "[CV 5/5] END tree__max_depth=7, tree__min_samples_leaf=6, tree__min_samples_split=18; accuracy: (train=0.736, test=0.695) roc_auc: (train=0.862, test=0.763) total time=   0.0s\n",
      "[CV 1/5] END tree__max_depth=7, tree__min_samples_leaf=11, tree__min_samples_split=2; accuracy: (train=0.747, test=0.728) roc_auc: (train=0.867, test=0.778) total time=   0.0s\n",
      "[CV 2/5] END tree__max_depth=7, tree__min_samples_leaf=11, tree__min_samples_split=2; accuracy: (train=0.729, test=0.683) roc_auc: (train=0.867, test=0.753) total time=   0.0s\n",
      "[CV 3/5] END tree__max_depth=7, tree__min_samples_leaf=11, tree__min_samples_split=2; accuracy: (train=0.739, test=0.709) roc_auc: (train=0.853, test=0.757) total time=   0.0s\n",
      "[CV 4/5] END tree__max_depth=7, tree__min_samples_leaf=11, tree__min_samples_split=2; accuracy: (train=0.719, test=0.661) roc_auc: (train=0.859, test=0.788) total time=   0.0s\n",
      "[CV 5/5] END tree__max_depth=7, tree__min_samples_leaf=11, tree__min_samples_split=2; accuracy: (train=0.735, test=0.711) roc_auc: (train=0.859, test=0.772) total time=   0.0s\n",
      "[CV 1/5] END tree__max_depth=7, tree__min_samples_leaf=11, tree__min_samples_split=6; accuracy: (train=0.747, test=0.728) roc_auc: (train=0.867, test=0.778) total time=   0.0s\n",
      "[CV 2/5] END tree__max_depth=7, tree__min_samples_leaf=11, tree__min_samples_split=6; accuracy: (train=0.729, test=0.683) roc_auc: (train=0.867, test=0.753) total time=   0.0s\n",
      "[CV 3/5] END tree__max_depth=7, tree__min_samples_leaf=11, tree__min_samples_split=6; accuracy: (train=0.739, test=0.709) roc_auc: (train=0.853, test=0.757) total time=   0.0s\n",
      "[CV 4/5] END tree__max_depth=7, tree__min_samples_leaf=11, tree__min_samples_split=6; accuracy: (train=0.719, test=0.661) roc_auc: (train=0.859, test=0.788) total time=   0.0s\n",
      "[CV 5/5] END tree__max_depth=7, tree__min_samples_leaf=11, tree__min_samples_split=6; accuracy: (train=0.735, test=0.711) roc_auc: (train=0.859, test=0.772) total time=   0.0s\n",
      "[CV 1/5] END tree__max_depth=7, tree__min_samples_leaf=11, tree__min_samples_split=10; accuracy: (train=0.747, test=0.728) roc_auc: (train=0.867, test=0.778) total time=   0.0s\n",
      "[CV 2/5] END tree__max_depth=7, tree__min_samples_leaf=11, tree__min_samples_split=10; accuracy: (train=0.729, test=0.683) roc_auc: (train=0.867, test=0.753) total time=   0.0s\n",
      "[CV 3/5] END tree__max_depth=7, tree__min_samples_leaf=11, tree__min_samples_split=10; accuracy: (train=0.739, test=0.709) roc_auc: (train=0.853, test=0.757) total time=   0.0s\n",
      "[CV 4/5] END tree__max_depth=7, tree__min_samples_leaf=11, tree__min_samples_split=10; accuracy: (train=0.719, test=0.661) roc_auc: (train=0.859, test=0.788) total time=   0.0s\n",
      "[CV 5/5] END tree__max_depth=7, tree__min_samples_leaf=11, tree__min_samples_split=10; accuracy: (train=0.735, test=0.711) roc_auc: (train=0.859, test=0.772) total time=   0.0s\n",
      "[CV 1/5] END tree__max_depth=7, tree__min_samples_leaf=11, tree__min_samples_split=14; accuracy: (train=0.747, test=0.728) roc_auc: (train=0.867, test=0.778) total time=   0.0s\n",
      "[CV 2/5] END tree__max_depth=7, tree__min_samples_leaf=11, tree__min_samples_split=14; accuracy: (train=0.729, test=0.683) roc_auc: (train=0.867, test=0.753) total time=   0.0s\n",
      "[CV 3/5] END tree__max_depth=7, tree__min_samples_leaf=11, tree__min_samples_split=14; accuracy: (train=0.739, test=0.709) roc_auc: (train=0.853, test=0.757) total time=   0.0s\n",
      "[CV 4/5] END tree__max_depth=7, tree__min_samples_leaf=11, tree__min_samples_split=14; accuracy: (train=0.719, test=0.661) roc_auc: (train=0.859, test=0.788) total time=   0.0s\n",
      "[CV 5/5] END tree__max_depth=7, tree__min_samples_leaf=11, tree__min_samples_split=14; accuracy: (train=0.735, test=0.711) roc_auc: (train=0.859, test=0.772) total time=   0.0s\n",
      "[CV 1/5] END tree__max_depth=7, tree__min_samples_leaf=11, tree__min_samples_split=18; accuracy: (train=0.747, test=0.728) roc_auc: (train=0.867, test=0.778) total time=   0.0s\n",
      "[CV 2/5] END tree__max_depth=7, tree__min_samples_leaf=11, tree__min_samples_split=18; accuracy: (train=0.729, test=0.683) roc_auc: (train=0.867, test=0.753) total time=   0.0s\n",
      "[CV 3/5] END tree__max_depth=7, tree__min_samples_leaf=11, tree__min_samples_split=18; accuracy: (train=0.739, test=0.709) roc_auc: (train=0.853, test=0.757) total time=   0.0s\n",
      "[CV 4/5] END tree__max_depth=7, tree__min_samples_leaf=11, tree__min_samples_split=18; accuracy: (train=0.719, test=0.661) roc_auc: (train=0.859, test=0.788) total time=   0.0s\n",
      "[CV 5/5] END tree__max_depth=7, tree__min_samples_leaf=11, tree__min_samples_split=18; accuracy: (train=0.735, test=0.711) roc_auc: (train=0.859, test=0.772) total time=   0.0s\n",
      "[CV 1/5] END tree__max_depth=7, tree__min_samples_leaf=16, tree__min_samples_split=2; accuracy: (train=0.740, test=0.714) roc_auc: (train=0.861, test=0.773) total time=   0.0s\n",
      "[CV 2/5] END tree__max_depth=7, tree__min_samples_leaf=16, tree__min_samples_split=2; accuracy: (train=0.729, test=0.694) roc_auc: (train=0.861, test=0.767) total time=   0.0s\n",
      "[CV 3/5] END tree__max_depth=7, tree__min_samples_leaf=16, tree__min_samples_split=2; accuracy: (train=0.692, test=0.669) roc_auc: (train=0.850, test=0.759) total time=   0.0s\n",
      "[CV 4/5] END tree__max_depth=7, tree__min_samples_leaf=16, tree__min_samples_split=2; accuracy: (train=0.713, test=0.667) roc_auc: (train=0.853, test=0.798) total time=   0.0s\n",
      "[CV 5/5] END tree__max_depth=7, tree__min_samples_leaf=16, tree__min_samples_split=2; accuracy: (train=0.731, test=0.715) roc_auc: (train=0.854, test=0.775) total time=   0.0s\n",
      "[CV 1/5] END tree__max_depth=7, tree__min_samples_leaf=16, tree__min_samples_split=6; accuracy: (train=0.740, test=0.714) roc_auc: (train=0.861, test=0.773) total time=   0.0s\n",
      "[CV 2/5] END tree__max_depth=7, tree__min_samples_leaf=16, tree__min_samples_split=6; accuracy: (train=0.729, test=0.694) roc_auc: (train=0.861, test=0.767) total time=   0.0s\n",
      "[CV 3/5] END tree__max_depth=7, tree__min_samples_leaf=16, tree__min_samples_split=6; accuracy: (train=0.692, test=0.669) roc_auc: (train=0.850, test=0.759) total time=   0.0s\n",
      "[CV 4/5] END tree__max_depth=7, tree__min_samples_leaf=16, tree__min_samples_split=6; accuracy: (train=0.713, test=0.667) roc_auc: (train=0.853, test=0.798) total time=   0.0s\n",
      "[CV 5/5] END tree__max_depth=7, tree__min_samples_leaf=16, tree__min_samples_split=6; accuracy: (train=0.731, test=0.715) roc_auc: (train=0.854, test=0.775) total time=   0.0s\n",
      "[CV 1/5] END tree__max_depth=7, tree__min_samples_leaf=16, tree__min_samples_split=10; accuracy: (train=0.740, test=0.714) roc_auc: (train=0.861, test=0.773) total time=   0.0s\n",
      "[CV 2/5] END tree__max_depth=7, tree__min_samples_leaf=16, tree__min_samples_split=10; accuracy: (train=0.729, test=0.694) roc_auc: (train=0.861, test=0.767) total time=   0.0s\n",
      "[CV 3/5] END tree__max_depth=7, tree__min_samples_leaf=16, tree__min_samples_split=10; accuracy: (train=0.692, test=0.669) roc_auc: (train=0.850, test=0.759) total time=   0.0s\n",
      "[CV 4/5] END tree__max_depth=7, tree__min_samples_leaf=16, tree__min_samples_split=10; accuracy: (train=0.713, test=0.667) roc_auc: (train=0.853, test=0.798) total time=   0.0s\n",
      "[CV 5/5] END tree__max_depth=7, tree__min_samples_leaf=16, tree__min_samples_split=10; accuracy: (train=0.731, test=0.715) roc_auc: (train=0.854, test=0.775) total time=   0.0s\n",
      "[CV 1/5] END tree__max_depth=7, tree__min_samples_leaf=16, tree__min_samples_split=14; accuracy: (train=0.740, test=0.714) roc_auc: (train=0.861, test=0.773) total time=   0.0s\n",
      "[CV 2/5] END tree__max_depth=7, tree__min_samples_leaf=16, tree__min_samples_split=14; accuracy: (train=0.729, test=0.694) roc_auc: (train=0.861, test=0.767) total time=   0.0s\n",
      "[CV 3/5] END tree__max_depth=7, tree__min_samples_leaf=16, tree__min_samples_split=14; accuracy: (train=0.692, test=0.669) roc_auc: (train=0.850, test=0.759) total time=   0.0s\n",
      "[CV 4/5] END tree__max_depth=7, tree__min_samples_leaf=16, tree__min_samples_split=14; accuracy: (train=0.713, test=0.667) roc_auc: (train=0.853, test=0.798) total time=   0.0s\n",
      "[CV 5/5] END tree__max_depth=7, tree__min_samples_leaf=16, tree__min_samples_split=14; accuracy: (train=0.731, test=0.715) roc_auc: (train=0.854, test=0.775) total time=   0.0s\n",
      "[CV 1/5] END tree__max_depth=7, tree__min_samples_leaf=16, tree__min_samples_split=18; accuracy: (train=0.740, test=0.714) roc_auc: (train=0.861, test=0.773) total time=   0.0s\n",
      "[CV 2/5] END tree__max_depth=7, tree__min_samples_leaf=16, tree__min_samples_split=18; accuracy: (train=0.729, test=0.694) roc_auc: (train=0.861, test=0.767) total time=   0.0s\n",
      "[CV 3/5] END tree__max_depth=7, tree__min_samples_leaf=16, tree__min_samples_split=18; accuracy: (train=0.692, test=0.669) roc_auc: (train=0.850, test=0.759) total time=   0.0s\n",
      "[CV 4/5] END tree__max_depth=7, tree__min_samples_leaf=16, tree__min_samples_split=18; accuracy: (train=0.713, test=0.667) roc_auc: (train=0.853, test=0.798) total time=   0.0s\n",
      "[CV 5/5] END tree__max_depth=7, tree__min_samples_leaf=16, tree__min_samples_split=18; accuracy: (train=0.731, test=0.715) roc_auc: (train=0.854, test=0.775) total time=   0.0s\n",
      "[CV 1/5] END tree__max_depth=9, tree__min_samples_leaf=1, tree__min_samples_split=2; accuracy: (train=0.790, test=0.757) roc_auc: (train=0.925, test=0.762) total time=   0.0s\n",
      "[CV 2/5] END tree__max_depth=9, tree__min_samples_leaf=1, tree__min_samples_split=2; accuracy: (train=0.814, test=0.720) roc_auc: (train=0.932, test=0.702) total time=   0.0s\n",
      "[CV 3/5] END tree__max_depth=9, tree__min_samples_leaf=1, tree__min_samples_split=2; accuracy: (train=0.752, test=0.686) roc_auc: (train=0.911, test=0.744) total time=   0.0s\n",
      "[CV 4/5] END tree__max_depth=9, tree__min_samples_leaf=1, tree__min_samples_split=2; accuracy: (train=0.814, test=0.729) roc_auc: (train=0.918, test=0.753) total time=   0.0s\n",
      "[CV 5/5] END tree__max_depth=9, tree__min_samples_leaf=1, tree__min_samples_split=2; accuracy: (train=0.773, test=0.698) roc_auc: (train=0.913, test=0.730) total time=   0.0s\n",
      "[CV 1/5] END tree__max_depth=9, tree__min_samples_leaf=1, tree__min_samples_split=6; accuracy: (train=0.780, test=0.749) roc_auc: (train=0.919, test=0.760) total time=   0.0s\n",
      "[CV 2/5] END tree__max_depth=9, tree__min_samples_leaf=1, tree__min_samples_split=6; accuracy: (train=0.806, test=0.715) roc_auc: (train=0.927, test=0.704) total time=   0.0s\n",
      "[CV 3/5] END tree__max_depth=9, tree__min_samples_leaf=1, tree__min_samples_split=6; accuracy: (train=0.747, test=0.681) roc_auc: (train=0.908, test=0.745) total time=   0.0s\n",
      "[CV 4/5] END tree__max_depth=9, tree__min_samples_leaf=1, tree__min_samples_split=6; accuracy: (train=0.809, test=0.726) roc_auc: (train=0.914, test=0.747) total time=   0.0s\n",
      "[CV 5/5] END tree__max_depth=9, tree__min_samples_leaf=1, tree__min_samples_split=6; accuracy: (train=0.768, test=0.695) roc_auc: (train=0.909, test=0.734) total time=   0.0s\n",
      "[CV 1/5] END tree__max_depth=9, tree__min_samples_leaf=1, tree__min_samples_split=10; accuracy: (train=0.774, test=0.747) roc_auc: (train=0.914, test=0.756) total time=   0.0s\n",
      "[CV 2/5] END tree__max_depth=9, tree__min_samples_leaf=1, tree__min_samples_split=10; accuracy: (train=0.787, test=0.690) roc_auc: (train=0.923, test=0.713) total time=   0.0s\n",
      "[CV 3/5] END tree__max_depth=9, tree__min_samples_leaf=1, tree__min_samples_split=10; accuracy: (train=0.742, test=0.676) roc_auc: (train=0.904, test=0.741) total time=   0.0s\n",
      "[CV 4/5] END tree__max_depth=9, tree__min_samples_leaf=1, tree__min_samples_split=10; accuracy: (train=0.803, test=0.719) roc_auc: (train=0.910, test=0.757) total time=   0.0s\n",
      "[CV 5/5] END tree__max_depth=9, tree__min_samples_leaf=1, tree__min_samples_split=10; accuracy: (train=0.763, test=0.687) roc_auc: (train=0.905, test=0.731) total time=   0.0s\n",
      "[CV 1/5] END tree__max_depth=9, tree__min_samples_leaf=1, tree__min_samples_split=14; accuracy: (train=0.763, test=0.742) roc_auc: (train=0.907, test=0.769) total time=   0.0s\n",
      "[CV 2/5] END tree__max_depth=9, tree__min_samples_leaf=1, tree__min_samples_split=14; accuracy: (train=0.797, test=0.712) roc_auc: (train=0.920, test=0.717) total time=   0.0s\n",
      "[CV 3/5] END tree__max_depth=9, tree__min_samples_leaf=1, tree__min_samples_split=14; accuracy: (train=0.734, test=0.673) roc_auc: (train=0.897, test=0.743) total time=   0.0s\n",
      "[CV 4/5] END tree__max_depth=9, tree__min_samples_leaf=1, tree__min_samples_split=14; accuracy: (train=0.797, test=0.718) roc_auc: (train=0.905, test=0.759) total time=   0.0s\n",
      "[CV 5/5] END tree__max_depth=9, tree__min_samples_leaf=1, tree__min_samples_split=14; accuracy: (train=0.758, test=0.684) roc_auc: (train=0.902, test=0.731) total time=   0.0s\n",
      "[CV 1/5] END tree__max_depth=9, tree__min_samples_leaf=1, tree__min_samples_split=18; accuracy: (train=0.755, test=0.743) roc_auc: (train=0.902, test=0.775) total time=   0.0s\n",
      "[CV 2/5] END tree__max_depth=9, tree__min_samples_leaf=1, tree__min_samples_split=18; accuracy: (train=0.780, test=0.682) roc_auc: (train=0.916, test=0.717) total time=   0.0s\n",
      "[CV 3/5] END tree__max_depth=9, tree__min_samples_leaf=1, tree__min_samples_split=18; accuracy: (train=0.732, test=0.672) roc_auc: (train=0.893, test=0.746) total time=   0.0s\n",
      "[CV 4/5] END tree__max_depth=9, tree__min_samples_leaf=1, tree__min_samples_split=18; accuracy: (train=0.791, test=0.715) roc_auc: (train=0.902, test=0.759) total time=   0.0s\n",
      "[CV 5/5] END tree__max_depth=9, tree__min_samples_leaf=1, tree__min_samples_split=18; accuracy: (train=0.759, test=0.686) roc_auc: (train=0.901, test=0.734) total time=   0.0s\n",
      "[CV 1/5] END tree__max_depth=9, tree__min_samples_leaf=6, tree__min_samples_split=2; accuracy: (train=0.755, test=0.725) roc_auc: (train=0.906, test=0.772) total time=   0.0s\n",
      "[CV 2/5] END tree__max_depth=9, tree__min_samples_leaf=6, tree__min_samples_split=2; accuracy: (train=0.767, test=0.682) roc_auc: (train=0.909, test=0.713) total time=   0.0s\n",
      "[CV 3/5] END tree__max_depth=9, tree__min_samples_leaf=6, tree__min_samples_split=2; accuracy: (train=0.732, test=0.666) roc_auc: (train=0.896, test=0.725) total time=   0.0s\n",
      "[CV 4/5] END tree__max_depth=9, tree__min_samples_leaf=6, tree__min_samples_split=2; accuracy: (train=0.785, test=0.706) roc_auc: (train=0.899, test=0.757) total time=   0.0s\n",
      "[CV 5/5] END tree__max_depth=9, tree__min_samples_leaf=6, tree__min_samples_split=2; accuracy: (train=0.750, test=0.670) roc_auc: (train=0.898, test=0.747) total time=   0.0s\n",
      "[CV 1/5] END tree__max_depth=9, tree__min_samples_leaf=6, tree__min_samples_split=6; accuracy: (train=0.755, test=0.725) roc_auc: (train=0.906, test=0.772) total time=   0.0s\n",
      "[CV 2/5] END tree__max_depth=9, tree__min_samples_leaf=6, tree__min_samples_split=6; accuracy: (train=0.767, test=0.682) roc_auc: (train=0.909, test=0.713) total time=   0.0s\n",
      "[CV 3/5] END tree__max_depth=9, tree__min_samples_leaf=6, tree__min_samples_split=6; accuracy: (train=0.732, test=0.666) roc_auc: (train=0.896, test=0.725) total time=   0.0s\n",
      "[CV 4/5] END tree__max_depth=9, tree__min_samples_leaf=6, tree__min_samples_split=6; accuracy: (train=0.785, test=0.706) roc_auc: (train=0.899, test=0.757) total time=   0.0s\n",
      "[CV 5/5] END tree__max_depth=9, tree__min_samples_leaf=6, tree__min_samples_split=6; accuracy: (train=0.750, test=0.670) roc_auc: (train=0.898, test=0.747) total time=   0.0s\n",
      "[CV 1/5] END tree__max_depth=9, tree__min_samples_leaf=6, tree__min_samples_split=10; accuracy: (train=0.755, test=0.725) roc_auc: (train=0.906, test=0.772) total time=   0.0s\n",
      "[CV 2/5] END tree__max_depth=9, tree__min_samples_leaf=6, tree__min_samples_split=10; accuracy: (train=0.767, test=0.682) roc_auc: (train=0.909, test=0.713) total time=   0.0s\n",
      "[CV 3/5] END tree__max_depth=9, tree__min_samples_leaf=6, tree__min_samples_split=10; accuracy: (train=0.732, test=0.666) roc_auc: (train=0.896, test=0.725) total time=   0.0s\n",
      "[CV 4/5] END tree__max_depth=9, tree__min_samples_leaf=6, tree__min_samples_split=10; accuracy: (train=0.785, test=0.706) roc_auc: (train=0.899, test=0.757) total time=   0.0s\n",
      "[CV 5/5] END tree__max_depth=9, tree__min_samples_leaf=6, tree__min_samples_split=10; accuracy: (train=0.750, test=0.670) roc_auc: (train=0.898, test=0.747) total time=   0.0s\n",
      "[CV 1/5] END tree__max_depth=9, tree__min_samples_leaf=6, tree__min_samples_split=14; accuracy: (train=0.754, test=0.731) roc_auc: (train=0.903, test=0.776) total time=   0.0s\n",
      "[CV 2/5] END tree__max_depth=9, tree__min_samples_leaf=6, tree__min_samples_split=14; accuracy: (train=0.783, test=0.711) roc_auc: (train=0.909, test=0.723) total time=   0.0s\n",
      "[CV 3/5] END tree__max_depth=9, tree__min_samples_leaf=6, tree__min_samples_split=14; accuracy: (train=0.731, test=0.665) roc_auc: (train=0.895, test=0.730) total time=   0.0s\n",
      "[CV 4/5] END tree__max_depth=9, tree__min_samples_leaf=6, tree__min_samples_split=14; accuracy: (train=0.785, test=0.704) roc_auc: (train=0.898, test=0.757) total time=   0.0s\n",
      "[CV 5/5] END tree__max_depth=9, tree__min_samples_leaf=6, tree__min_samples_split=14; accuracy: (train=0.750, test=0.676) roc_auc: (train=0.897, test=0.750) total time=   0.0s\n",
      "[CV 1/5] END tree__max_depth=9, tree__min_samples_leaf=6, tree__min_samples_split=18; accuracy: (train=0.754, test=0.738) roc_auc: (train=0.900, test=0.787) total time=   0.0s\n",
      "[CV 2/5] END tree__max_depth=9, tree__min_samples_leaf=6, tree__min_samples_split=18; accuracy: (train=0.767, test=0.683) roc_auc: (train=0.906, test=0.713) total time=   0.0s\n",
      "[CV 3/5] END tree__max_depth=9, tree__min_samples_leaf=6, tree__min_samples_split=18; accuracy: (train=0.731, test=0.668) roc_auc: (train=0.892, test=0.736) total time=   0.0s\n",
      "[CV 4/5] END tree__max_depth=9, tree__min_samples_leaf=6, tree__min_samples_split=18; accuracy: (train=0.781, test=0.700) roc_auc: (train=0.895, test=0.754) total time=   0.0s\n",
      "[CV 5/5] END tree__max_depth=9, tree__min_samples_leaf=6, tree__min_samples_split=18; accuracy: (train=0.751, test=0.683) roc_auc: (train=0.895, test=0.750) total time=   0.0s\n",
      "[CV 1/5] END tree__max_depth=9, tree__min_samples_leaf=11, tree__min_samples_split=2; accuracy: (train=0.751, test=0.728) roc_auc: (train=0.893, test=0.777) total time=   0.0s\n",
      "[CV 2/5] END tree__max_depth=9, tree__min_samples_leaf=11, tree__min_samples_split=2; accuracy: (train=0.782, test=0.702) roc_auc: (train=0.896, test=0.740) total time=   0.0s\n",
      "[CV 3/5] END tree__max_depth=9, tree__min_samples_leaf=11, tree__min_samples_split=2; accuracy: (train=0.742, test=0.679) roc_auc: (train=0.887, test=0.737) total time=   0.0s\n",
      "[CV 4/5] END tree__max_depth=9, tree__min_samples_leaf=11, tree__min_samples_split=2; accuracy: (train=0.765, test=0.688) roc_auc: (train=0.887, test=0.764) total time=   0.0s\n",
      "[CV 5/5] END tree__max_depth=9, tree__min_samples_leaf=11, tree__min_samples_split=2; accuracy: (train=0.748, test=0.690) roc_auc: (train=0.891, test=0.758) total time=   0.0s\n",
      "[CV 1/5] END tree__max_depth=9, tree__min_samples_leaf=11, tree__min_samples_split=6; accuracy: (train=0.751, test=0.728) roc_auc: (train=0.893, test=0.777) total time=   0.0s\n",
      "[CV 2/5] END tree__max_depth=9, tree__min_samples_leaf=11, tree__min_samples_split=6; accuracy: (train=0.782, test=0.702) roc_auc: (train=0.896, test=0.740) total time=   0.0s\n",
      "[CV 3/5] END tree__max_depth=9, tree__min_samples_leaf=11, tree__min_samples_split=6; accuracy: (train=0.742, test=0.679) roc_auc: (train=0.887, test=0.737) total time=   0.0s\n",
      "[CV 4/5] END tree__max_depth=9, tree__min_samples_leaf=11, tree__min_samples_split=6; accuracy: (train=0.765, test=0.688) roc_auc: (train=0.887, test=0.764) total time=   0.0s\n",
      "[CV 5/5] END tree__max_depth=9, tree__min_samples_leaf=11, tree__min_samples_split=6; accuracy: (train=0.748, test=0.690) roc_auc: (train=0.891, test=0.758) total time=   0.0s\n",
      "[CV 1/5] END tree__max_depth=9, tree__min_samples_leaf=11, tree__min_samples_split=10; accuracy: (train=0.751, test=0.728) roc_auc: (train=0.893, test=0.777) total time=   0.0s\n",
      "[CV 2/5] END tree__max_depth=9, tree__min_samples_leaf=11, tree__min_samples_split=10; accuracy: (train=0.782, test=0.702) roc_auc: (train=0.896, test=0.740) total time=   0.0s\n",
      "[CV 3/5] END tree__max_depth=9, tree__min_samples_leaf=11, tree__min_samples_split=10; accuracy: (train=0.742, test=0.679) roc_auc: (train=0.887, test=0.737) total time=   0.0s\n",
      "[CV 4/5] END tree__max_depth=9, tree__min_samples_leaf=11, tree__min_samples_split=10; accuracy: (train=0.765, test=0.688) roc_auc: (train=0.887, test=0.764) total time=   0.0s\n",
      "[CV 5/5] END tree__max_depth=9, tree__min_samples_leaf=11, tree__min_samples_split=10; accuracy: (train=0.748, test=0.690) roc_auc: (train=0.891, test=0.758) total time=   0.0s\n",
      "[CV 1/5] END tree__max_depth=9, tree__min_samples_leaf=11, tree__min_samples_split=14; accuracy: (train=0.751, test=0.728) roc_auc: (train=0.893, test=0.777) total time=   0.0s\n",
      "[CV 2/5] END tree__max_depth=9, tree__min_samples_leaf=11, tree__min_samples_split=14; accuracy: (train=0.782, test=0.702) roc_auc: (train=0.896, test=0.740) total time=   0.0s\n",
      "[CV 3/5] END tree__max_depth=9, tree__min_samples_leaf=11, tree__min_samples_split=14; accuracy: (train=0.742, test=0.679) roc_auc: (train=0.887, test=0.737) total time=   0.0s\n",
      "[CV 4/5] END tree__max_depth=9, tree__min_samples_leaf=11, tree__min_samples_split=14; accuracy: (train=0.765, test=0.688) roc_auc: (train=0.887, test=0.764) total time=   0.0s\n",
      "[CV 5/5] END tree__max_depth=9, tree__min_samples_leaf=11, tree__min_samples_split=14; accuracy: (train=0.748, test=0.690) roc_auc: (train=0.891, test=0.758) total time=   0.0s\n",
      "[CV 1/5] END tree__max_depth=9, tree__min_samples_leaf=11, tree__min_samples_split=18; accuracy: (train=0.751, test=0.728) roc_auc: (train=0.893, test=0.777) total time=   0.0s\n",
      "[CV 2/5] END tree__max_depth=9, tree__min_samples_leaf=11, tree__min_samples_split=18; accuracy: (train=0.782, test=0.702) roc_auc: (train=0.896, test=0.740) total time=   0.0s\n",
      "[CV 3/5] END tree__max_depth=9, tree__min_samples_leaf=11, tree__min_samples_split=18; accuracy: (train=0.742, test=0.679) roc_auc: (train=0.887, test=0.737) total time=   0.0s\n",
      "[CV 4/5] END tree__max_depth=9, tree__min_samples_leaf=11, tree__min_samples_split=18; accuracy: (train=0.765, test=0.688) roc_auc: (train=0.887, test=0.764) total time=   0.0s\n",
      "[CV 5/5] END tree__max_depth=9, tree__min_samples_leaf=11, tree__min_samples_split=18; accuracy: (train=0.748, test=0.690) roc_auc: (train=0.891, test=0.758) total time=   0.0s\n",
      "[CV 1/5] END tree__max_depth=9, tree__min_samples_leaf=16, tree__min_samples_split=2; accuracy: (train=0.734, test=0.710) roc_auc: (train=0.882, test=0.775) total time=   0.0s\n",
      "[CV 2/5] END tree__max_depth=9, tree__min_samples_leaf=16, tree__min_samples_split=2; accuracy: (train=0.787, test=0.725) roc_auc: (train=0.887, test=0.758) total time=   0.0s\n",
      "[CV 3/5] END tree__max_depth=9, tree__min_samples_leaf=16, tree__min_samples_split=2; accuracy: (train=0.752, test=0.692) roc_auc: (train=0.883, test=0.749) total time=   0.0s\n",
      "[CV 4/5] END tree__max_depth=9, tree__min_samples_leaf=16, tree__min_samples_split=2; accuracy: (train=0.756, test=0.708) roc_auc: (train=0.876, test=0.783) total time=   0.0s\n",
      "[CV 5/5] END tree__max_depth=9, tree__min_samples_leaf=16, tree__min_samples_split=2; accuracy: (train=0.739, test=0.697) roc_auc: (train=0.882, test=0.759) total time=   0.0s\n",
      "[CV 1/5] END tree__max_depth=9, tree__min_samples_leaf=16, tree__min_samples_split=6; accuracy: (train=0.734, test=0.710) roc_auc: (train=0.882, test=0.775) total time=   0.0s\n",
      "[CV 2/5] END tree__max_depth=9, tree__min_samples_leaf=16, tree__min_samples_split=6; accuracy: (train=0.787, test=0.725) roc_auc: (train=0.887, test=0.758) total time=   0.0s\n",
      "[CV 3/5] END tree__max_depth=9, tree__min_samples_leaf=16, tree__min_samples_split=6; accuracy: (train=0.752, test=0.692) roc_auc: (train=0.883, test=0.749) total time=   0.0s\n",
      "[CV 4/5] END tree__max_depth=9, tree__min_samples_leaf=16, tree__min_samples_split=6; accuracy: (train=0.756, test=0.708) roc_auc: (train=0.876, test=0.783) total time=   0.0s\n",
      "[CV 5/5] END tree__max_depth=9, tree__min_samples_leaf=16, tree__min_samples_split=6; accuracy: (train=0.739, test=0.697) roc_auc: (train=0.882, test=0.759) total time=   0.0s\n",
      "[CV 1/5] END tree__max_depth=9, tree__min_samples_leaf=16, tree__min_samples_split=10; accuracy: (train=0.734, test=0.710) roc_auc: (train=0.882, test=0.775) total time=   0.0s\n",
      "[CV 2/5] END tree__max_depth=9, tree__min_samples_leaf=16, tree__min_samples_split=10; accuracy: (train=0.787, test=0.725) roc_auc: (train=0.887, test=0.758) total time=   0.0s\n",
      "[CV 3/5] END tree__max_depth=9, tree__min_samples_leaf=16, tree__min_samples_split=10; accuracy: (train=0.752, test=0.692) roc_auc: (train=0.883, test=0.749) total time=   0.0s\n",
      "[CV 4/5] END tree__max_depth=9, tree__min_samples_leaf=16, tree__min_samples_split=10; accuracy: (train=0.756, test=0.708) roc_auc: (train=0.876, test=0.783) total time=   0.0s\n",
      "[CV 5/5] END tree__max_depth=9, tree__min_samples_leaf=16, tree__min_samples_split=10; accuracy: (train=0.739, test=0.697) roc_auc: (train=0.882, test=0.759) total time=   0.0s\n",
      "[CV 1/5] END tree__max_depth=9, tree__min_samples_leaf=16, tree__min_samples_split=14; accuracy: (train=0.734, test=0.710) roc_auc: (train=0.882, test=0.775) total time=   0.0s\n",
      "[CV 2/5] END tree__max_depth=9, tree__min_samples_leaf=16, tree__min_samples_split=14; accuracy: (train=0.787, test=0.725) roc_auc: (train=0.887, test=0.758) total time=   0.0s\n",
      "[CV 3/5] END tree__max_depth=9, tree__min_samples_leaf=16, tree__min_samples_split=14; accuracy: (train=0.752, test=0.692) roc_auc: (train=0.883, test=0.749) total time=   0.0s\n",
      "[CV 4/5] END tree__max_depth=9, tree__min_samples_leaf=16, tree__min_samples_split=14; accuracy: (train=0.756, test=0.708) roc_auc: (train=0.876, test=0.783) total time=   0.0s\n",
      "[CV 5/5] END tree__max_depth=9, tree__min_samples_leaf=16, tree__min_samples_split=14; accuracy: (train=0.739, test=0.697) roc_auc: (train=0.882, test=0.759) total time=   0.0s\n",
      "[CV 1/5] END tree__max_depth=9, tree__min_samples_leaf=16, tree__min_samples_split=18; accuracy: (train=0.734, test=0.710) roc_auc: (train=0.882, test=0.775) total time=   0.0s\n",
      "[CV 2/5] END tree__max_depth=9, tree__min_samples_leaf=16, tree__min_samples_split=18; accuracy: (train=0.787, test=0.725) roc_auc: (train=0.887, test=0.758) total time=   0.0s\n",
      "[CV 3/5] END tree__max_depth=9, tree__min_samples_leaf=16, tree__min_samples_split=18; accuracy: (train=0.752, test=0.692) roc_auc: (train=0.883, test=0.749) total time=   0.0s\n",
      "[CV 4/5] END tree__max_depth=9, tree__min_samples_leaf=16, tree__min_samples_split=18; accuracy: (train=0.756, test=0.708) roc_auc: (train=0.876, test=0.783) total time=   0.0s\n",
      "[CV 5/5] END tree__max_depth=9, tree__min_samples_leaf=16, tree__min_samples_split=18; accuracy: (train=0.739, test=0.697) roc_auc: (train=0.882, test=0.759) total time=   0.0s\n",
      "[CV 1/5] END tree__max_depth=11, tree__min_samples_leaf=1, tree__min_samples_split=2; accuracy: (train=0.858, test=0.770) roc_auc: (train=0.959, test=0.713) total time=   0.0s\n",
      "[CV 2/5] END tree__max_depth=11, tree__min_samples_leaf=1, tree__min_samples_split=2; accuracy: (train=0.867, test=0.718) roc_auc: (train=0.965, test=0.671) total time=   0.0s\n",
      "[CV 3/5] END tree__max_depth=11, tree__min_samples_leaf=1, tree__min_samples_split=2; accuracy: (train=0.820, test=0.736) roc_auc: (train=0.951, test=0.735) total time=   0.0s\n",
      "[CV 4/5] END tree__max_depth=11, tree__min_samples_leaf=1, tree__min_samples_split=2; accuracy: (train=0.839, test=0.719) roc_auc: (train=0.956, test=0.706) total time=   0.0s\n",
      "[CV 5/5] END tree__max_depth=11, tree__min_samples_leaf=1, tree__min_samples_split=2; accuracy: (train=0.857, test=0.743) roc_auc: (train=0.954, test=0.707) total time=   0.0s\n",
      "[CV 1/5] END tree__max_depth=11, tree__min_samples_leaf=1, tree__min_samples_split=6; accuracy: (train=0.842, test=0.760) roc_auc: (train=0.951, test=0.718) total time=   0.0s\n",
      "[CV 2/5] END tree__max_depth=11, tree__min_samples_leaf=1, tree__min_samples_split=6; accuracy: (train=0.854, test=0.710) roc_auc: (train=0.958, test=0.687) total time=   0.0s\n",
      "[CV 3/5] END tree__max_depth=11, tree__min_samples_leaf=1, tree__min_samples_split=6; accuracy: (train=0.811, test=0.724) roc_auc: (train=0.946, test=0.730) total time=   0.0s\n",
      "[CV 4/5] END tree__max_depth=11, tree__min_samples_leaf=1, tree__min_samples_split=6; accuracy: (train=0.826, test=0.710) roc_auc: (train=0.949, test=0.709) total time=   0.0s\n",
      "[CV 5/5] END tree__max_depth=11, tree__min_samples_leaf=1, tree__min_samples_split=6; accuracy: (train=0.845, test=0.733) roc_auc: (train=0.946, test=0.707) total time=   0.0s\n",
      "[CV 1/5] END tree__max_depth=11, tree__min_samples_leaf=1, tree__min_samples_split=10; accuracy: (train=0.827, test=0.757) roc_auc: (train=0.943, test=0.730) total time=   0.0s\n",
      "[CV 2/5] END tree__max_depth=11, tree__min_samples_leaf=1, tree__min_samples_split=10; accuracy: (train=0.842, test=0.707) roc_auc: (train=0.952, test=0.689) total time=   0.0s\n",
      "[CV 3/5] END tree__max_depth=11, tree__min_samples_leaf=1, tree__min_samples_split=10; accuracy: (train=0.802, test=0.717) roc_auc: (train=0.938, test=0.736) total time=   0.0s\n",
      "[CV 4/5] END tree__max_depth=11, tree__min_samples_leaf=1, tree__min_samples_split=10; accuracy: (train=0.813, test=0.702) roc_auc: (train=0.942, test=0.721) total time=   0.0s\n",
      "[CV 5/5] END tree__max_depth=11, tree__min_samples_leaf=1, tree__min_samples_split=10; accuracy: (train=0.836, test=0.720) roc_auc: (train=0.941, test=0.709) total time=   0.0s\n",
      "[CV 1/5] END tree__max_depth=11, tree__min_samples_leaf=1, tree__min_samples_split=14; accuracy: (train=0.814, test=0.750) roc_auc: (train=0.934, test=0.741) total time=   0.0s\n",
      "[CV 2/5] END tree__max_depth=11, tree__min_samples_leaf=1, tree__min_samples_split=14; accuracy: (train=0.840, test=0.714) roc_auc: (train=0.948, test=0.691) total time=   0.0s\n",
      "[CV 3/5] END tree__max_depth=11, tree__min_samples_leaf=1, tree__min_samples_split=14; accuracy: (train=0.790, test=0.713) roc_auc: (train=0.930, test=0.739) total time=   0.0s\n",
      "[CV 4/5] END tree__max_depth=11, tree__min_samples_leaf=1, tree__min_samples_split=14; accuracy: (train=0.804, test=0.698) roc_auc: (train=0.935, test=0.722) total time=   0.0s\n",
      "[CV 5/5] END tree__max_depth=11, tree__min_samples_leaf=1, tree__min_samples_split=14; accuracy: (train=0.825, test=0.711) roc_auc: (train=0.935, test=0.711) total time=   0.0s\n",
      "[CV 1/5] END tree__max_depth=11, tree__min_samples_leaf=1, tree__min_samples_split=18; accuracy: (train=0.803, test=0.745) roc_auc: (train=0.928, test=0.752) total time=   0.0s\n",
      "[CV 2/5] END tree__max_depth=11, tree__min_samples_leaf=1, tree__min_samples_split=18; accuracy: (train=0.830, test=0.701) roc_auc: (train=0.942, test=0.707) total time=   0.0s\n",
      "[CV 3/5] END tree__max_depth=11, tree__min_samples_leaf=1, tree__min_samples_split=18; accuracy: (train=0.790, test=0.712) roc_auc: (train=0.926, test=0.744) total time=   0.0s\n",
      "[CV 4/5] END tree__max_depth=11, tree__min_samples_leaf=1, tree__min_samples_split=18; accuracy: (train=0.794, test=0.694) roc_auc: (train=0.930, test=0.723) total time=   0.0s\n",
      "[CV 5/5] END tree__max_depth=11, tree__min_samples_leaf=1, tree__min_samples_split=18; accuracy: (train=0.820, test=0.712) roc_auc: (train=0.933, test=0.712) total time=   0.0s\n",
      "[CV 1/5] END tree__max_depth=11, tree__min_samples_leaf=6, tree__min_samples_split=2; accuracy: (train=0.805, test=0.729) roc_auc: (train=0.930, test=0.726) total time=   0.0s\n",
      "[CV 2/5] END tree__max_depth=11, tree__min_samples_leaf=6, tree__min_samples_split=2; accuracy: (train=0.815, test=0.700) roc_auc: (train=0.937, test=0.694) total time=   0.0s\n",
      "[CV 3/5] END tree__max_depth=11, tree__min_samples_leaf=6, tree__min_samples_split=2; accuracy: (train=0.775, test=0.685) roc_auc: (train=0.926, test=0.725) total time=   0.0s\n",
      "[CV 4/5] END tree__max_depth=11, tree__min_samples_leaf=6, tree__min_samples_split=2; accuracy: (train=0.781, test=0.673) roc_auc: (train=0.929, test=0.715) total time=   0.0s\n",
      "[CV 5/5] END tree__max_depth=11, tree__min_samples_leaf=6, tree__min_samples_split=2; accuracy: (train=0.809, test=0.687) roc_auc: (train=0.932, test=0.708) total time=   0.0s\n",
      "[CV 1/5] END tree__max_depth=11, tree__min_samples_leaf=6, tree__min_samples_split=6; accuracy: (train=0.805, test=0.729) roc_auc: (train=0.930, test=0.726) total time=   0.0s\n",
      "[CV 2/5] END tree__max_depth=11, tree__min_samples_leaf=6, tree__min_samples_split=6; accuracy: (train=0.815, test=0.700) roc_auc: (train=0.937, test=0.694) total time=   0.0s\n",
      "[CV 3/5] END tree__max_depth=11, tree__min_samples_leaf=6, tree__min_samples_split=6; accuracy: (train=0.775, test=0.685) roc_auc: (train=0.926, test=0.725) total time=   0.0s\n",
      "[CV 4/5] END tree__max_depth=11, tree__min_samples_leaf=6, tree__min_samples_split=6; accuracy: (train=0.781, test=0.673) roc_auc: (train=0.929, test=0.715) total time=   0.0s\n",
      "[CV 5/5] END tree__max_depth=11, tree__min_samples_leaf=6, tree__min_samples_split=6; accuracy: (train=0.809, test=0.687) roc_auc: (train=0.932, test=0.708) total time=   0.0s\n",
      "[CV 1/5] END tree__max_depth=11, tree__min_samples_leaf=6, tree__min_samples_split=10; accuracy: (train=0.805, test=0.729) roc_auc: (train=0.930, test=0.726) total time=   0.0s\n",
      "[CV 2/5] END tree__max_depth=11, tree__min_samples_leaf=6, tree__min_samples_split=10; accuracy: (train=0.815, test=0.700) roc_auc: (train=0.937, test=0.694) total time=   0.0s\n",
      "[CV 3/5] END tree__max_depth=11, tree__min_samples_leaf=6, tree__min_samples_split=10; accuracy: (train=0.775, test=0.685) roc_auc: (train=0.926, test=0.725) total time=   0.0s\n",
      "[CV 4/5] END tree__max_depth=11, tree__min_samples_leaf=6, tree__min_samples_split=10; accuracy: (train=0.781, test=0.673) roc_auc: (train=0.929, test=0.715) total time=   0.0s\n",
      "[CV 5/5] END tree__max_depth=11, tree__min_samples_leaf=6, tree__min_samples_split=10; accuracy: (train=0.809, test=0.687) roc_auc: (train=0.932, test=0.708) total time=   0.0s\n",
      "[CV 1/5] END tree__max_depth=11, tree__min_samples_leaf=6, tree__min_samples_split=14; accuracy: (train=0.803, test=0.734) roc_auc: (train=0.928, test=0.726) total time=   0.0s\n",
      "[CV 2/5] END tree__max_depth=11, tree__min_samples_leaf=6, tree__min_samples_split=14; accuracy: (train=0.822, test=0.712) roc_auc: (train=0.936, test=0.701) total time=   0.0s\n",
      "[CV 3/5] END tree__max_depth=11, tree__min_samples_leaf=6, tree__min_samples_split=14; accuracy: (train=0.776, test=0.690) roc_auc: (train=0.925, test=0.730) total time=   0.0s\n",
      "[CV 4/5] END tree__max_depth=11, tree__min_samples_leaf=6, tree__min_samples_split=14; accuracy: (train=0.782, test=0.671) roc_auc: (train=0.927, test=0.712) total time=   0.0s\n",
      "[CV 5/5] END tree__max_depth=11, tree__min_samples_leaf=6, tree__min_samples_split=14; accuracy: (train=0.809, test=0.690) roc_auc: (train=0.930, test=0.709) total time=   0.0s\n",
      "[CV 1/5] END tree__max_depth=11, tree__min_samples_leaf=6, tree__min_samples_split=18; accuracy: (train=0.799, test=0.736) roc_auc: (train=0.923, test=0.737) total time=   0.0s\n",
      "[CV 2/5] END tree__max_depth=11, tree__min_samples_leaf=6, tree__min_samples_split=18; accuracy: (train=0.815, test=0.700) roc_auc: (train=0.932, test=0.698) total time=   0.0s\n",
      "[CV 3/5] END tree__max_depth=11, tree__min_samples_leaf=6, tree__min_samples_split=18; accuracy: (train=0.778, test=0.695) roc_auc: (train=0.920, test=0.735) total time=   0.0s\n",
      "[CV 4/5] END tree__max_depth=11, tree__min_samples_leaf=6, tree__min_samples_split=18; accuracy: (train=0.776, test=0.673) roc_auc: (train=0.922, test=0.717) total time=   0.0s\n",
      "[CV 5/5] END tree__max_depth=11, tree__min_samples_leaf=6, tree__min_samples_split=18; accuracy: (train=0.807, test=0.696) roc_auc: (train=0.927, test=0.710) total time=   0.0s\n",
      "[CV 1/5] END tree__max_depth=11, tree__min_samples_leaf=11, tree__min_samples_split=2; accuracy: (train=0.797, test=0.726) roc_auc: (train=0.914, test=0.754) total time=   0.0s\n",
      "[CV 2/5] END tree__max_depth=11, tree__min_samples_leaf=11, tree__min_samples_split=2; accuracy: (train=0.796, test=0.691) roc_auc: (train=0.917, test=0.724) total time=   0.0s\n",
      "[CV 3/5] END tree__max_depth=11, tree__min_samples_leaf=11, tree__min_samples_split=2; accuracy: (train=0.770, test=0.700) roc_auc: (train=0.910, test=0.743) total time=   0.0s\n",
      "[CV 4/5] END tree__max_depth=11, tree__min_samples_leaf=11, tree__min_samples_split=2; accuracy: (train=0.766, test=0.677) roc_auc: (train=0.907, test=0.736) total time=   0.0s\n",
      "[CV 5/5] END tree__max_depth=11, tree__min_samples_leaf=11, tree__min_samples_split=2; accuracy: (train=0.803, test=0.705) roc_auc: (train=0.916, test=0.727) total time=   0.0s\n",
      "[CV 1/5] END tree__max_depth=11, tree__min_samples_leaf=11, tree__min_samples_split=6; accuracy: (train=0.797, test=0.726) roc_auc: (train=0.914, test=0.754) total time=   0.0s\n",
      "[CV 2/5] END tree__max_depth=11, tree__min_samples_leaf=11, tree__min_samples_split=6; accuracy: (train=0.796, test=0.691) roc_auc: (train=0.917, test=0.724) total time=   0.0s\n",
      "[CV 3/5] END tree__max_depth=11, tree__min_samples_leaf=11, tree__min_samples_split=6; accuracy: (train=0.770, test=0.700) roc_auc: (train=0.910, test=0.743) total time=   0.0s\n",
      "[CV 4/5] END tree__max_depth=11, tree__min_samples_leaf=11, tree__min_samples_split=6; accuracy: (train=0.766, test=0.677) roc_auc: (train=0.907, test=0.736) total time=   0.0s\n",
      "[CV 5/5] END tree__max_depth=11, tree__min_samples_leaf=11, tree__min_samples_split=6; accuracy: (train=0.803, test=0.705) roc_auc: (train=0.916, test=0.727) total time=   0.0s\n",
      "[CV 1/5] END tree__max_depth=11, tree__min_samples_leaf=11, tree__min_samples_split=10; accuracy: (train=0.797, test=0.726) roc_auc: (train=0.914, test=0.754) total time=   0.0s\n",
      "[CV 2/5] END tree__max_depth=11, tree__min_samples_leaf=11, tree__min_samples_split=10; accuracy: (train=0.796, test=0.691) roc_auc: (train=0.917, test=0.724) total time=   0.0s\n",
      "[CV 3/5] END tree__max_depth=11, tree__min_samples_leaf=11, tree__min_samples_split=10; accuracy: (train=0.770, test=0.700) roc_auc: (train=0.910, test=0.743) total time=   0.0s\n",
      "[CV 4/5] END tree__max_depth=11, tree__min_samples_leaf=11, tree__min_samples_split=10; accuracy: (train=0.766, test=0.677) roc_auc: (train=0.907, test=0.736) total time=   0.0s\n",
      "[CV 5/5] END tree__max_depth=11, tree__min_samples_leaf=11, tree__min_samples_split=10; accuracy: (train=0.803, test=0.705) roc_auc: (train=0.916, test=0.727) total time=   0.0s\n",
      "[CV 1/5] END tree__max_depth=11, tree__min_samples_leaf=11, tree__min_samples_split=14; accuracy: (train=0.797, test=0.726) roc_auc: (train=0.914, test=0.754) total time=   0.0s\n",
      "[CV 2/5] END tree__max_depth=11, tree__min_samples_leaf=11, tree__min_samples_split=14; accuracy: (train=0.796, test=0.691) roc_auc: (train=0.917, test=0.724) total time=   0.0s\n",
      "[CV 3/5] END tree__max_depth=11, tree__min_samples_leaf=11, tree__min_samples_split=14; accuracy: (train=0.770, test=0.700) roc_auc: (train=0.910, test=0.743) total time=   0.0s\n",
      "[CV 4/5] END tree__max_depth=11, tree__min_samples_leaf=11, tree__min_samples_split=14; accuracy: (train=0.766, test=0.677) roc_auc: (train=0.907, test=0.736) total time=   0.0s\n",
      "[CV 5/5] END tree__max_depth=11, tree__min_samples_leaf=11, tree__min_samples_split=14; accuracy: (train=0.803, test=0.705) roc_auc: (train=0.916, test=0.727) total time=   0.0s\n",
      "[CV 1/5] END tree__max_depth=11, tree__min_samples_leaf=11, tree__min_samples_split=18; accuracy: (train=0.797, test=0.726) roc_auc: (train=0.914, test=0.754) total time=   0.0s\n",
      "[CV 2/5] END tree__max_depth=11, tree__min_samples_leaf=11, tree__min_samples_split=18; accuracy: (train=0.796, test=0.691) roc_auc: (train=0.917, test=0.724) total time=   0.0s\n",
      "[CV 3/5] END tree__max_depth=11, tree__min_samples_leaf=11, tree__min_samples_split=18; accuracy: (train=0.770, test=0.700) roc_auc: (train=0.910, test=0.743) total time=   0.0s\n",
      "[CV 4/5] END tree__max_depth=11, tree__min_samples_leaf=11, tree__min_samples_split=18; accuracy: (train=0.766, test=0.677) roc_auc: (train=0.907, test=0.736) total time=   0.0s\n",
      "[CV 5/5] END tree__max_depth=11, tree__min_samples_leaf=11, tree__min_samples_split=18; accuracy: (train=0.803, test=0.705) roc_auc: (train=0.916, test=0.727) total time=   0.0s\n",
      "[CV 1/5] END tree__max_depth=11, tree__min_samples_leaf=16, tree__min_samples_split=2; accuracy: (train=0.777, test=0.719) roc_auc: (train=0.902, test=0.761) total time=   0.0s\n",
      "[CV 2/5] END tree__max_depth=11, tree__min_samples_leaf=16, tree__min_samples_split=2; accuracy: (train=0.782, test=0.700) roc_auc: (train=0.902, test=0.743) total time=   0.0s\n",
      "[CV 3/5] END tree__max_depth=11, tree__min_samples_leaf=16, tree__min_samples_split=2; accuracy: (train=0.784, test=0.717) roc_auc: (train=0.901, test=0.752) total time=   0.0s\n",
      "[CV 4/5] END tree__max_depth=11, tree__min_samples_leaf=16, tree__min_samples_split=2; accuracy: (train=0.753, test=0.695) roc_auc: (train=0.892, test=0.753) total time=   0.0s\n",
      "[CV 5/5] END tree__max_depth=11, tree__min_samples_leaf=16, tree__min_samples_split=2; accuracy: (train=0.774, test=0.708) roc_auc: (train=0.905, test=0.738) total time=   0.0s\n",
      "[CV 1/5] END tree__max_depth=11, tree__min_samples_leaf=16, tree__min_samples_split=6; accuracy: (train=0.777, test=0.719) roc_auc: (train=0.902, test=0.761) total time=   0.0s\n",
      "[CV 2/5] END tree__max_depth=11, tree__min_samples_leaf=16, tree__min_samples_split=6; accuracy: (train=0.782, test=0.700) roc_auc: (train=0.902, test=0.743) total time=   0.0s\n",
      "[CV 3/5] END tree__max_depth=11, tree__min_samples_leaf=16, tree__min_samples_split=6; accuracy: (train=0.784, test=0.717) roc_auc: (train=0.901, test=0.752) total time=   0.0s\n",
      "[CV 4/5] END tree__max_depth=11, tree__min_samples_leaf=16, tree__min_samples_split=6; accuracy: (train=0.753, test=0.695) roc_auc: (train=0.892, test=0.753) total time=   0.0s\n",
      "[CV 5/5] END tree__max_depth=11, tree__min_samples_leaf=16, tree__min_samples_split=6; accuracy: (train=0.774, test=0.708) roc_auc: (train=0.905, test=0.738) total time=   0.0s\n",
      "[CV 1/5] END tree__max_depth=11, tree__min_samples_leaf=16, tree__min_samples_split=10; accuracy: (train=0.777, test=0.719) roc_auc: (train=0.902, test=0.761) total time=   0.0s\n",
      "[CV 2/5] END tree__max_depth=11, tree__min_samples_leaf=16, tree__min_samples_split=10; accuracy: (train=0.782, test=0.700) roc_auc: (train=0.902, test=0.743) total time=   0.0s\n",
      "[CV 3/5] END tree__max_depth=11, tree__min_samples_leaf=16, tree__min_samples_split=10; accuracy: (train=0.784, test=0.717) roc_auc: (train=0.901, test=0.752) total time=   0.0s\n",
      "[CV 4/5] END tree__max_depth=11, tree__min_samples_leaf=16, tree__min_samples_split=10; accuracy: (train=0.753, test=0.695) roc_auc: (train=0.892, test=0.753) total time=   0.0s\n",
      "[CV 5/5] END tree__max_depth=11, tree__min_samples_leaf=16, tree__min_samples_split=10; accuracy: (train=0.774, test=0.708) roc_auc: (train=0.905, test=0.738) total time=   0.0s\n",
      "[CV 1/5] END tree__max_depth=11, tree__min_samples_leaf=16, tree__min_samples_split=14; accuracy: (train=0.777, test=0.719) roc_auc: (train=0.902, test=0.761) total time=   0.0s\n",
      "[CV 2/5] END tree__max_depth=11, tree__min_samples_leaf=16, tree__min_samples_split=14; accuracy: (train=0.782, test=0.700) roc_auc: (train=0.902, test=0.743) total time=   0.0s\n",
      "[CV 3/5] END tree__max_depth=11, tree__min_samples_leaf=16, tree__min_samples_split=14; accuracy: (train=0.784, test=0.717) roc_auc: (train=0.901, test=0.752) total time=   0.0s\n",
      "[CV 4/5] END tree__max_depth=11, tree__min_samples_leaf=16, tree__min_samples_split=14; accuracy: (train=0.753, test=0.695) roc_auc: (train=0.892, test=0.753) total time=   0.0s\n",
      "[CV 5/5] END tree__max_depth=11, tree__min_samples_leaf=16, tree__min_samples_split=14; accuracy: (train=0.774, test=0.708) roc_auc: (train=0.905, test=0.738) total time=   0.0s\n",
      "[CV 1/5] END tree__max_depth=11, tree__min_samples_leaf=16, tree__min_samples_split=18; accuracy: (train=0.777, test=0.719) roc_auc: (train=0.902, test=0.761) total time=   0.0s\n",
      "[CV 2/5] END tree__max_depth=11, tree__min_samples_leaf=16, tree__min_samples_split=18; accuracy: (train=0.782, test=0.700) roc_auc: (train=0.902, test=0.743) total time=   0.0s\n",
      "[CV 3/5] END tree__max_depth=11, tree__min_samples_leaf=16, tree__min_samples_split=18; accuracy: (train=0.784, test=0.717) roc_auc: (train=0.901, test=0.752) total time=   0.0s\n",
      "[CV 4/5] END tree__max_depth=11, tree__min_samples_leaf=16, tree__min_samples_split=18; accuracy: (train=0.753, test=0.695) roc_auc: (train=0.892, test=0.753) total time=   0.0s\n",
      "[CV 5/5] END tree__max_depth=11, tree__min_samples_leaf=16, tree__min_samples_split=18; accuracy: (train=0.774, test=0.708) roc_auc: (train=0.905, test=0.738) total time=   0.0s\n"
     ]
    },
    {
     "data": {
      "text/plain": [
       "GridSearchCV(estimator=Pipeline(steps=[('tree',\n",
       "                                        DecisionTreeClassifier(class_weight='balanced',\n",
       "                                                               random_state=20924))]),\n",
       "             n_jobs=-1,\n",
       "             param_grid={'tree__max_depth': array([ 1,  3,  5,  7,  9, 11]),\n",
       "                         'tree__min_samples_leaf': array([ 1,  6, 11, 16]),\n",
       "                         'tree__min_samples_split': array([ 2,  6, 10, 14, 18])},\n",
       "             refit='roc_auc', return_train_score=True,\n",
       "             scoring=['roc_auc', 'accuracy'], verbose=5)"
      ]
     },
     "execution_count": 65,
     "metadata": {},
     "output_type": "execute_result"
    }
   ],
   "source": [
    "search_tree.fit(features_train, y_train)"
   ]
  },
  {
   "cell_type": "code",
   "execution_count": 66,
   "id": "fbe292a3",
   "metadata": {
    "id": "fbe292a3"
   },
   "outputs": [
    {
     "data": {
      "text/plain": [
       "{'tree__max_depth': 5,\n",
       " 'tree__min_samples_leaf': 11,\n",
       " 'tree__min_samples_split': 2}"
      ]
     },
     "execution_count": 66,
     "metadata": {},
     "output_type": "execute_result"
    }
   ],
   "source": [
    "search_tree.best_params_"
   ]
  },
  {
   "cell_type": "code",
   "execution_count": 67,
   "id": "27add8c5",
   "metadata": {
    "id": "27add8c5"
   },
   "outputs": [],
   "source": [
    "roc_auc_dtc = search_tree.best_score_"
   ]
  },
  {
   "cell_type": "code",
   "execution_count": 68,
   "id": "db015895",
   "metadata": {},
   "outputs": [
    {
     "name": "stdout",
     "output_type": "stream",
     "text": [
      "Время обучения модели: 1.678\n",
      "CPU times: user 1.71 s, sys: 0 ns, total: 1.71 s\n",
      "Wall time: 1.68 s\n"
     ]
    }
   ],
   "source": [
    "%%time\n",
    "\n",
    "pipe_lgbm = Pipeline([(\"model\", LGBMClassifier(random_state=RANDOM_STATE))])\n",
    "\n",
    "parametrs_lgbm = {\"model__max_depth\": [2], \n",
    "                  \"model__learning_rate\": [0.3], \n",
    "                  \"model__class_weight\": [\"balanced\"]}\n",
    "\n",
    "model_lgbm = GridSearchCV(estimator=pipe_lgbm, \n",
    "                             param_grid=parametrs_lgbm, \n",
    "                             scoring=[\"roc_auc\", \"accuracy\"], \n",
    "                             refit=\"roc_auc\", \n",
    "                             n_jobs=-1)\n",
    "\n",
    "start_lgbm = time.time()\n",
    "model_lgbm.fit(features_train, y_train)\n",
    "fit_time_lgbm = round(time.time() - start_lgbm, 3)\n",
    "\n",
    "print(\"Время обучения модели:\", fit_time_lgbm)"
   ]
  },
  {
   "cell_type": "code",
   "execution_count": 69,
   "id": "5d7fc5eb",
   "metadata": {},
   "outputs": [
    {
     "data": {
      "text/plain": [
       "{'model__class_weight': 'balanced',\n",
       " 'model__learning_rate': 0.3,\n",
       " 'model__max_depth': 2}"
      ]
     },
     "execution_count": 69,
     "metadata": {},
     "output_type": "execute_result"
    }
   ],
   "source": [
    "model_lgbm.best_params_"
   ]
  },
  {
   "cell_type": "code",
   "execution_count": 70,
   "id": "100c505f",
   "metadata": {},
   "outputs": [
    {
     "data": {
      "text/plain": [
       "0.8604056198920469"
      ]
     },
     "execution_count": 70,
     "metadata": {},
     "output_type": "execute_result"
    }
   ],
   "source": [
    "model_lgbm.best_score_"
   ]
  },
  {
   "cell_type": "code",
   "execution_count": 71,
   "id": "0176aac4",
   "metadata": {},
   "outputs": [],
   "source": [
    "grid_params = {\n",
    "    'n_estimators': np.arange(40, 100, 10),\n",
    "    'max_depth' : np.arange(12, 24)\n",
    "}\n",
    "\n",
    "grid_rf = GridSearchCV(RandomForestClassifier(random_state=RANDOM_STATE), \n",
    "                       grid_params, cv=3, scoring=['roc_auc', 'precision'], refit = 'roc_auc').fit(\n",
    "    features_train, y_train)\n",
    "best_rf = grid_rf.best_estimator_"
   ]
  },
  {
   "cell_type": "code",
   "execution_count": 72,
   "id": "b8bb1230",
   "metadata": {},
   "outputs": [],
   "source": [
    "roc_auc_rf = grid_rf.best_score_"
   ]
  },
  {
   "cell_type": "code",
   "execution_count": 73,
   "id": "6cd98570",
   "metadata": {},
   "outputs": [],
   "source": [
    "analitics = pd.DataFrame(columns = ['ROC_AUC'])\n",
    "\n",
    "def alter_table(name, roc_auc):\n",
    "    analitics.loc[name, ['ROC_AUC']] = roc_auc\n",
    "    return analitics"
   ]
  },
  {
   "cell_type": "code",
   "execution_count": 74,
   "id": "f287a147",
   "metadata": {},
   "outputs": [
    {
     "data": {
      "text/html": [
       "<div>\n",
       "<style scoped>\n",
       "    .dataframe tbody tr th:only-of-type {\n",
       "        vertical-align: middle;\n",
       "    }\n",
       "\n",
       "    .dataframe tbody tr th {\n",
       "        vertical-align: top;\n",
       "    }\n",
       "\n",
       "    .dataframe thead th {\n",
       "        text-align: right;\n",
       "    }\n",
       "</style>\n",
       "<table border=\"1\" class=\"dataframe\">\n",
       "  <thead>\n",
       "    <tr style=\"text-align: right;\">\n",
       "      <th></th>\n",
       "      <th>ROC_AUC</th>\n",
       "    </tr>\n",
       "  </thead>\n",
       "  <tbody>\n",
       "    <tr>\n",
       "      <th>CatBoostClassifier</th>\n",
       "      <td>0.9176</td>\n",
       "    </tr>\n",
       "    <tr>\n",
       "      <th>LogisticRegression</th>\n",
       "      <td>0.7644</td>\n",
       "    </tr>\n",
       "    <tr>\n",
       "      <th>DecisionTreeClassifier</th>\n",
       "      <td>0.7876</td>\n",
       "    </tr>\n",
       "    <tr>\n",
       "      <th>RandomForestClassifier</th>\n",
       "      <td>0.813</td>\n",
       "    </tr>\n",
       "  </tbody>\n",
       "</table>\n",
       "</div>"
      ],
      "text/plain": [
       "                       ROC_AUC\n",
       "CatBoostClassifier      0.9176\n",
       "LogisticRegression      0.7644\n",
       "DecisionTreeClassifier  0.7876\n",
       "RandomForestClassifier   0.813"
      ]
     },
     "execution_count": 74,
     "metadata": {},
     "output_type": "execute_result"
    }
   ],
   "source": [
    "alter_table('CatBoostClassifier', round(roc_auc_cb, 4))\n",
    "alter_table('LogisticRegression', round(roc_auc_lr, 4))\n",
    "alter_table('DecisionTreeClassifier', round(roc_auc_dtc, 4))\n",
    "alter_table('RandomForestClassifier', round(roc_auc_rf, 4))"
   ]
  },
  {
   "cell_type": "markdown",
   "id": "02abbd00",
   "metadata": {
    "id": "02abbd00"
   },
   "source": [
    "**Вывод**\n",
    "- Обучены четыре модели CatBoostClassifier, LogisticRegression, DecisionTreeClassifier, RandomForestClassifier\n",
    "- Лучший результат (0.9176) показала модель CatBoostClassifier"
   ]
  },
  {
   "cell_type": "markdown",
   "id": "812ff1f9",
   "metadata": {
    "id": "812ff1f9"
   },
   "source": [
    "## Выбор лучшей модели"
   ]
  },
  {
   "cell_type": "code",
   "execution_count": 75,
   "id": "8e7b779b",
   "metadata": {},
   "outputs": [
    {
     "data": {
      "text/plain": [
       "array([[-0.31170685, -0.65587796, -0.43710057, ...,  1.        ,\n",
       "         0.        ,  0.        ],\n",
       "       [-0.9907603 , -0.94866126, -0.43710057, ...,  0.        ,\n",
       "         1.        ,  0.        ],\n",
       "       [ 0.84052566, -0.87053314, -0.43710057, ...,  1.        ,\n",
       "         1.        ,  0.        ],\n",
       "       ...,\n",
       "       [ 1.26555667,  1.096213  , -0.43710057, ...,  0.        ,\n",
       "         1.        ,  1.        ],\n",
       "       [ 0.71434458, -0.83528222, -0.43710057, ...,  0.        ,\n",
       "         0.        ,  1.        ],\n",
       "       [-1.29459106, -0.1069317 , -0.43710057, ...,  0.        ,\n",
       "         0.        ,  0.        ]])"
      ]
     },
     "execution_count": 75,
     "metadata": {},
     "output_type": "execute_result"
    }
   ],
   "source": [
    "features_test"
   ]
  },
  {
   "cell_type": "code",
   "execution_count": 76,
   "id": "e3c5a9f8",
   "metadata": {
    "id": "e3c5a9f8"
   },
   "outputs": [],
   "source": [
    "# Предсказание лучшей модели\n",
    "predictions = model_cb.predict(X_test)\n",
    "predict_proba = model_cb.predict_proba(X_test)"
   ]
  },
  {
   "cell_type": "code",
   "execution_count": 77,
   "id": "d756018b",
   "metadata": {
    "id": "d756018b"
   },
   "outputs": [
    {
     "name": "stdout",
     "output_type": "stream",
     "text": [
      "Показатель ROC AUC: 0.9323410776681175\n"
     ]
    }
   ],
   "source": [
    "# Расчет \"ROC AUC\" и времени выполнения предсказания\n",
    "roc_auc = roc_auc_score(y_test, predict_proba[:, 1])\n",
    "print('Показатель ROC AUC:', roc_auc)"
   ]
  },
  {
   "cell_type": "code",
   "execution_count": 78,
   "id": "f5d84950",
   "metadata": {},
   "outputs": [
    {
     "data": {
      "image/png": "[encoded data removed]",
      "text/plain": [
       "<Figure size 576x288 with 2 Axes>"
      ]
     },
     "metadata": {
      "needs_background": "light"
     },
     "output_type": "display_data"
    }
   ],
   "source": [
    "# Создадим матрицу ошибок CBC\n",
    "cm_cbc = confusion_matrix(y_test, predictions)\n",
    "cm_cbc_data = pd.DataFrame(cm_cbc,\n",
    "                           index=['0', '1'],\n",
    "                           columns=['0', '1'])\n",
    "\n",
    "plt.figure(figsize=(8, 4))\n",
    "sns.heatmap(cm_cbc, xticklabels=cm_cbc_data.columns, yticklabels=cm_cbc_data.index, annot=True, fmt='g', \n",
    "            cmap=\"Reds\", annot_kws={\"size\": 16})\n",
    "plt.title(\"Матрица ошибок\", size=18)\n",
    "plt.xlabel('predictions', size=18)\n",
    "plt.ylabel('target', size=18);"
   ]
  },
  {
   "cell_type": "code",
   "execution_count": 79,
   "id": "38d3253d",
   "metadata": {},
   "outputs": [
    {
     "data": {
      "text/plain": [
       "array([ 4.649619  ,  0.18050882,  1.91858868,  8.22099215, 11.51091955,\n",
       "        1.12298321,  0.32391318,  0.36910609,  1.24612505,  0.42740378,\n",
       "        0.72462794,  0.1768602 ,  0.86837089,  0.56753628,  0.44751591,\n",
       "        0.11571325,  0.48574237, 66.64347365])"
      ]
     },
     "execution_count": 79,
     "metadata": {},
     "output_type": "execute_result"
    }
   ],
   "source": [
    "# Анализ важности признаков\n",
    "model_cb.best_estimator_[-1].feature_importances_"
   ]
  },
  {
   "cell_type": "code",
   "execution_count": 80,
   "id": "834cfc55",
   "metadata": {
    "scrolled": false
   },
   "outputs": [
    {
     "data": {
      "text/html": [
       "<div>\n",
       "<style scoped>\n",
       "    .dataframe tbody tr th:only-of-type {\n",
       "        vertical-align: middle;\n",
       "    }\n",
       "\n",
       "    .dataframe tbody tr th {\n",
       "        vertical-align: top;\n",
       "    }\n",
       "\n",
       "    .dataframe thead th {\n",
       "        text-align: right;\n",
       "    }\n",
       "</style>\n",
       "<table border=\"1\" class=\"dataframe\">\n",
       "  <thead>\n",
       "    <tr style=\"text-align: right;\">\n",
       "      <th></th>\n",
       "      <th>importance</th>\n",
       "    </tr>\n",
       "    <tr>\n",
       "      <th>feature</th>\n",
       "      <th></th>\n",
       "    </tr>\n",
       "  </thead>\n",
       "  <tbody>\n",
       "    <tr>\n",
       "      <th>TotalTime</th>\n",
       "      <td>66.643474</td>\n",
       "    </tr>\n",
       "    <tr>\n",
       "      <th>TotalCharges</th>\n",
       "      <td>11.510920</td>\n",
       "    </tr>\n",
       "    <tr>\n",
       "      <th>MonthlyCharges</th>\n",
       "      <td>8.220992</td>\n",
       "    </tr>\n",
       "    <tr>\n",
       "      <th>Type</th>\n",
       "      <td>4.649619</td>\n",
       "    </tr>\n",
       "    <tr>\n",
       "      <th>PaymentMethod</th>\n",
       "      <td>1.918589</td>\n",
       "    </tr>\n",
       "    <tr>\n",
       "      <th>Partner</th>\n",
       "      <td>1.246125</td>\n",
       "    </tr>\n",
       "    <tr>\n",
       "      <th>MultipleLines</th>\n",
       "      <td>1.122983</td>\n",
       "    </tr>\n",
       "    <tr>\n",
       "      <th>OnlineBackup</th>\n",
       "      <td>0.868371</td>\n",
       "    </tr>\n",
       "    <tr>\n",
       "      <th>InternetService</th>\n",
       "      <td>0.724628</td>\n",
       "    </tr>\n",
       "    <tr>\n",
       "      <th>DeviceProtection</th>\n",
       "      <td>0.567536</td>\n",
       "    </tr>\n",
       "  </tbody>\n",
       "</table>\n",
       "</div>"
      ],
      "text/plain": [
       "                  importance\n",
       "feature                     \n",
       "TotalTime          66.643474\n",
       "TotalCharges       11.510920\n",
       "MonthlyCharges      8.220992\n",
       "Type                4.649619\n",
       "PaymentMethod       1.918589\n",
       "Partner             1.246125\n",
       "MultipleLines       1.122983\n",
       "OnlineBackup        0.868371\n",
       "InternetService     0.724628\n",
       "DeviceProtection    0.567536"
      ]
     },
     "metadata": {},
     "output_type": "display_data"
    },
    {
     "data": {
      "image/png": "[encoded data removed]",
      "text/plain": [
       "<Figure size 864x576 with 1 Axes>"
      ]
     },
     "metadata": {
      "needs_background": "light"
     },
     "output_type": "display_data"
    }
   ],
   "source": [
    "# исследуем важность признаков у ЛУЧШЕЙ модели\n",
    "\n",
    "feature_importances = model_cb.best_estimator_[-1].feature_importances_\n",
    "feature_names = model_cb.best_estimator_[-1].feature_names_\n",
    "# Сохранение результатов в DataFrame\n",
    "fi_df = pd.DataFrame({'feature': feature_names,\n",
    "                      'importance': feature_importances}) \\\n",
    "                    .sort_values('importance', ascending = False)\n",
    "\n",
    "# Вывод важности признаков\n",
    "fi_df.set_index('feature', inplace=True)\n",
    "display(fi_df.head(10))\n",
    "\n",
    "fi_df.plot.bar(color = 'teal', figsize=(12, 8));"
   ]
  },
  {
   "cell_type": "markdown",
   "id": "c9e39313",
   "metadata": {},
   "source": [
    "**Вывод**\n",
    "\n",
    "Модель CatBoostClassifier очень хорошо показала себя на тестовых данных. По итогам предсказаний мы имеем AUC-ROC 0.9323410776681175.\n",
    "\n",
    "Если проанализировать матрицу ошибок, то мы имеем:\n",
    "\n",
    "- 76% от общего количества тестовых данных - правильное определение класса 0\n",
    "- 3% - правильное предсказание класса 1\n",
    "- 8% мы неправильно угадываем класс 0, метка предсказания - 1\n",
    "- 12% мы неправильно идентифицируем человека, который не хочет уходить"
   ]
  },
  {
   "cell_type": "markdown",
   "id": "465f1479",
   "metadata": {
    "id": "d5922c41"
   },
   "source": [
    "## Общий вывод и рекомендации заказчику"
   ]
  },
  {
   "cell_type": "markdown",
   "id": "da9fc0ba",
   "metadata": {},
   "source": [
    "**Рекомендации заказчику**"
   ]
  },
  {
   "cell_type": "markdown",
   "id": "c8540d13",
   "metadata": {},
   "source": [
    "- Прошу обратить внимание на исходные данные для проекта. Например, TotalCharges имеет тип object, хотя хранит значения с плаващей точкой.\n",
    "- Присутствуют пропуски в данных, это может исказить результаты обучения и дать некорректный результат.\n",
    "- Стоит проводить опрос при разрыве договора , что позволит, хоть и в минимальных объёмах, увидеть слабые стороны компании."
   ]
  },
  {
   "cell_type": "markdown",
   "id": "61a3a378",
   "metadata": {},
   "source": [
    "**Общий вывод**"
   ]
  },
  {
   "cell_type": "markdown",
   "id": "fa07582a",
   "metadata": {},
   "source": [
    "- Загружены и проверены данные из файлов.\n",
    "- Проведены исследовательский анализ и предобработка данных исходных датафреймов contract_new (информация о договоре), personal_new (персональные данные клиента), internet_new (информация об интернет-услугах) и phone_new (информация об услугах телефонии).\n",
    "- Данные исходных датафреймов объеденены в единый датафрейм. Из него предварительно выделены тренировочные выборки для анализа.\n",
    "- Проведены исследовательский анализ и предобработка данных предварительно выделенной треннировочной выборки из объединённого датафрейма. \n",
    "- Подготовлены данные к использованию в обучении моделей.\n",
    "- Обучены четыре модели CatBoostClassifier, LogisticRegression, DecisionTreeClassifier, RandomForestClassifier\n",
    "- Лучший результат (0.9176) показала модель CatBoostClassifier\n",
    "- Даны рекомендации заказчику.\n",
    "- При анализе матрицы ошибок, выяснилось:\n",
    "  - 76% от общего количества тестовых данных - правильное определение класса 0\n",
    "  - 3% - правильное предсказание класса 1\n",
    "  - 8% мы неправильно угадываем класс 0, метка предсказания - 1\n",
    "  - 12% мы неправильно идентифицируем человека, который не хочет уходить\n",
    "- Модель **CatBoostClassifier**\n",
    "- гиперпараметры: **{'model__auto_class_weights': 'Balanced','model__depth': 2,'model__eval_metric': 'AUC','model__iterations': 1000,'model__learning_rate': 0.3,'model__logging_level': 'Silent'}**\n",
    "- Качество: **ROC AUC=0.9323410776681175**\n",
    "- **Признаки, на которых модель обучалась**:\n",
    "  - Type - тип оплаты\n",
    "  - PaperlessBilling - электронный расчётный лист\n",
    "  - PaymentMethod - тип платежа\n",
    "  - MonthlyCharges - расходы за месяц\n",
    "  - TotalCharges - общие расходы абонента\t\n",
    "  - MultipleLines - подключение телефона к нескольким линиям одновременно\n",
    "  - gender - пол\n",
    "  - SeniorCitizen - является ли абонент пенсионером\n",
    "  - Partner\t- есть ли у абонента супруг или супруга\n",
    "  - Dependents - есть ли у абонента дети\n",
    "  - InternetService - тип подключения\n",
    "  - OnlineSecurity - блокировка опасных сайтов\n",
    "  - OnlineBackup - облачное хранилище файлов для резервного копирования данных\n",
    "  - DeviceProtection - антивирус\n",
    "  - TechSupport - выделенная линия технической поддержки\n",
    "  - StreamingTV\t- стриминговое телевидение\n",
    "  - StreamingMovies\t- каталог фильмов\n",
    "  - TotalTime - суммарное число дней контракта"
   ]
  }
 ],
 "metadata": {
  "ExecuteTimeLog": [
   {
    "duration": 2021,
    "start_time": "2024-08-19T17:15:23.032Z"
   },
   {
    "duration": 177,
    "start_time": "2024-08-19T17:16:25.635Z"
   },
   {
    "duration": 45,
    "start_time": "2024-08-19T17:20:25.241Z"
   },
   {
    "duration": 98,
    "start_time": "2024-08-19T17:20:31.565Z"
   },
   {
    "duration": 57,
    "start_time": "2024-08-19T17:20:41.431Z"
   },
   {
    "duration": 81,
    "start_time": "2024-08-20T12:23:38.590Z"
   },
   {
    "duration": 149,
    "start_time": "2024-08-20T12:24:02.224Z"
   },
   {
    "duration": 1795,
    "start_time": "2024-08-20T12:27:37.947Z"
   },
   {
    "duration": 202,
    "start_time": "2024-08-20T12:27:41.266Z"
   },
   {
    "duration": 5,
    "start_time": "2024-08-20T12:28:21.427Z"
   },
   {
    "duration": 101,
    "start_time": "2024-08-20T12:28:21.650Z"
   },
   {
    "duration": 124,
    "start_time": "2024-08-20T12:28:34.581Z"
   },
   {
    "duration": 94,
    "start_time": "2024-08-20T12:28:55.132Z"
   },
   {
    "duration": 93,
    "start_time": "2024-08-20T12:29:11.172Z"
   },
   {
    "duration": 15,
    "start_time": "2024-08-20T12:31:10.953Z"
   },
   {
    "duration": 9,
    "start_time": "2024-08-20T12:31:21.881Z"
   },
   {
    "duration": 10,
    "start_time": "2024-08-20T12:31:31.243Z"
   },
   {
    "duration": 7,
    "start_time": "2024-08-20T12:31:41.500Z"
   },
   {
    "duration": 16,
    "start_time": "2024-08-20T12:34:45.982Z"
   },
   {
    "duration": 9,
    "start_time": "2024-08-20T12:35:14.072Z"
   },
   {
    "duration": 7,
    "start_time": "2024-08-20T12:35:14.366Z"
   },
   {
    "duration": 8,
    "start_time": "2024-08-20T12:35:14.791Z"
   },
   {
    "duration": 6,
    "start_time": "2024-08-20T12:35:15.060Z"
   },
   {
    "duration": 9,
    "start_time": "2024-08-20T12:39:05.964Z"
   },
   {
    "duration": 6,
    "start_time": "2024-08-20T12:39:12.782Z"
   },
   {
    "duration": 7,
    "start_time": "2024-08-20T12:39:17.827Z"
   },
   {
    "duration": 10,
    "start_time": "2024-08-20T12:39:30.495Z"
   },
   {
    "duration": 6,
    "start_time": "2024-08-20T12:39:49.585Z"
   },
   {
    "duration": 4,
    "start_time": "2024-08-20T12:39:55.125Z"
   },
   {
    "duration": 6,
    "start_time": "2024-08-20T12:40:09.428Z"
   },
   {
    "duration": 6,
    "start_time": "2024-08-20T12:40:13.412Z"
   },
   {
    "duration": 5,
    "start_time": "2024-08-20T12:40:17.164Z"
   },
   {
    "duration": 134,
    "start_time": "2024-08-20T12:43:56.616Z"
   },
   {
    "duration": 5,
    "start_time": "2024-08-20T12:44:19.011Z"
   },
   {
    "duration": 4,
    "start_time": "2024-08-20T12:44:24.574Z"
   },
   {
    "duration": 8,
    "start_time": "2024-08-20T12:49:03.636Z"
   },
   {
    "duration": 17,
    "start_time": "2024-08-20T12:49:09.289Z"
   },
   {
    "duration": 9,
    "start_time": "2024-08-20T12:49:14.382Z"
   },
   {
    "duration": 8,
    "start_time": "2024-08-20T12:49:20.243Z"
   },
   {
    "duration": 8,
    "start_time": "2024-08-20T12:49:27.954Z"
   },
   {
    "duration": 7,
    "start_time": "2024-08-20T12:49:38.781Z"
   },
   {
    "duration": 6,
    "start_time": "2024-08-20T12:55:53.261Z"
   },
   {
    "duration": 11,
    "start_time": "2024-08-20T12:56:21.981Z"
   },
   {
    "duration": 10,
    "start_time": "2024-08-20T12:56:28.053Z"
   },
   {
    "duration": 10,
    "start_time": "2024-08-20T12:56:33.265Z"
   },
   {
    "duration": 20,
    "start_time": "2024-08-20T13:00:35.037Z"
   },
   {
    "duration": 22,
    "start_time": "2024-08-20T13:00:39.612Z"
   },
   {
    "duration": 25,
    "start_time": "2024-08-20T13:01:28.270Z"
   },
   {
    "duration": 26,
    "start_time": "2024-08-20T13:01:36.286Z"
   },
   {
    "duration": 14,
    "start_time": "2024-08-20T13:01:41.841Z"
   },
   {
    "duration": 11,
    "start_time": "2024-08-20T13:01:49.882Z"
   },
   {
    "duration": 47,
    "start_time": "2024-08-23T17:38:39.747Z"
   },
   {
    "duration": 1836,
    "start_time": "2024-08-23T17:38:44.296Z"
   },
   {
    "duration": 92,
    "start_time": "2024-08-23T17:38:46.134Z"
   },
   {
    "duration": 15,
    "start_time": "2024-08-23T17:38:46.227Z"
   },
   {
    "duration": 77,
    "start_time": "2024-08-23T17:38:46.244Z"
   },
   {
    "duration": 8,
    "start_time": "2024-08-23T17:38:46.322Z"
   },
   {
    "duration": 107,
    "start_time": "2024-08-23T17:38:46.332Z"
   },
   {
    "duration": 10,
    "start_time": "2024-08-23T17:38:46.441Z"
   },
   {
    "duration": 61,
    "start_time": "2024-08-23T17:38:46.453Z"
   },
   {
    "duration": 7,
    "start_time": "2024-08-23T17:38:46.515Z"
   },
   {
    "duration": 10,
    "start_time": "2024-08-23T17:38:46.525Z"
   },
   {
    "duration": 7,
    "start_time": "2024-08-23T17:38:46.537Z"
   },
   {
    "duration": 8,
    "start_time": "2024-08-23T17:38:46.545Z"
   },
   {
    "duration": 6,
    "start_time": "2024-08-23T17:38:46.555Z"
   },
   {
    "duration": 8,
    "start_time": "2024-08-23T17:38:46.563Z"
   },
   {
    "duration": 8,
    "start_time": "2024-08-23T17:38:46.572Z"
   },
   {
    "duration": 9,
    "start_time": "2024-08-23T17:38:46.581Z"
   },
   {
    "duration": 5,
    "start_time": "2024-08-23T17:38:46.591Z"
   },
   {
    "duration": 6,
    "start_time": "2024-08-23T17:38:46.598Z"
   },
   {
    "duration": 20,
    "start_time": "2024-08-23T17:38:46.606Z"
   },
   {
    "duration": 41,
    "start_time": "2024-08-23T17:38:46.627Z"
   },
   {
    "duration": 17,
    "start_time": "2024-08-23T17:38:46.671Z"
   },
   {
    "duration": 13,
    "start_time": "2024-08-23T17:38:46.690Z"
   },
   {
    "duration": 10,
    "start_time": "2024-08-23T17:38:46.705Z"
   },
   {
    "duration": 9,
    "start_time": "2024-08-23T17:39:35.452Z"
   },
   {
    "duration": 171,
    "start_time": "2024-08-23T18:11:43.814Z"
   },
   {
    "duration": 4,
    "start_time": "2024-08-23T18:11:47.014Z"
   },
   {
    "duration": 11,
    "start_time": "2024-08-23T18:11:47.313Z"
   },
   {
    "duration": 49,
    "start_time": "2024-08-23T18:11:58.345Z"
   },
   {
    "duration": 3,
    "start_time": "2024-08-23T18:13:27.800Z"
   },
   {
    "duration": 13,
    "start_time": "2024-08-23T18:13:28.056Z"
   },
   {
    "duration": 13,
    "start_time": "2024-08-23T18:14:19.352Z"
   },
   {
    "duration": 11,
    "start_time": "2024-08-23T18:15:47.711Z"
   },
   {
    "duration": 6,
    "start_time": "2024-08-23T18:16:11.949Z"
   },
   {
    "duration": 19,
    "start_time": "2024-08-23T18:16:35.320Z"
   },
   {
    "duration": 48,
    "start_time": "2024-08-23T18:16:56.588Z"
   },
   {
    "duration": 164,
    "start_time": "2024-08-23T18:19:35.184Z"
   },
   {
    "duration": 190,
    "start_time": "2024-08-23T18:19:43.912Z"
   },
   {
    "duration": 1683,
    "start_time": "2024-08-23T18:21:49.137Z"
   },
   {
    "duration": 45,
    "start_time": "2024-08-23T18:21:50.822Z"
   },
   {
    "duration": 14,
    "start_time": "2024-08-23T18:21:50.868Z"
   },
   {
    "duration": 32,
    "start_time": "2024-08-23T18:21:50.884Z"
   },
   {
    "duration": 8,
    "start_time": "2024-08-23T18:21:50.918Z"
   },
   {
    "duration": 32,
    "start_time": "2024-08-23T18:21:50.928Z"
   },
   {
    "duration": 10,
    "start_time": "2024-08-23T18:21:50.962Z"
   },
   {
    "duration": 73,
    "start_time": "2024-08-23T18:21:50.973Z"
   },
   {
    "duration": 7,
    "start_time": "2024-08-23T18:21:51.047Z"
   },
   {
    "duration": 12,
    "start_time": "2024-08-23T18:21:51.058Z"
   },
   {
    "duration": 8,
    "start_time": "2024-08-23T18:21:51.072Z"
   },
   {
    "duration": 9,
    "start_time": "2024-08-23T18:21:51.082Z"
   },
   {
    "duration": 7,
    "start_time": "2024-08-23T18:21:51.092Z"
   },
   {
    "duration": 8,
    "start_time": "2024-08-23T18:21:51.100Z"
   },
   {
    "duration": 46,
    "start_time": "2024-08-23T18:21:51.110Z"
   },
   {
    "duration": 9,
    "start_time": "2024-08-23T18:21:51.157Z"
   },
   {
    "duration": 6,
    "start_time": "2024-08-23T18:21:51.168Z"
   },
   {
    "duration": 12,
    "start_time": "2024-08-23T18:21:51.176Z"
   },
   {
    "duration": 10,
    "start_time": "2024-08-23T18:21:51.189Z"
   },
   {
    "duration": 20,
    "start_time": "2024-08-23T18:21:51.200Z"
   },
   {
    "duration": 47,
    "start_time": "2024-08-23T18:21:51.221Z"
   },
   {
    "duration": 12,
    "start_time": "2024-08-23T18:21:51.270Z"
   },
   {
    "duration": 4,
    "start_time": "2024-08-23T18:21:51.284Z"
   },
   {
    "duration": 68,
    "start_time": "2024-08-23T18:21:51.290Z"
   },
   {
    "duration": 17,
    "start_time": "2024-08-23T18:21:51.360Z"
   },
   {
    "duration": 6,
    "start_time": "2024-08-23T18:21:51.379Z"
   },
   {
    "duration": 37,
    "start_time": "2024-08-23T18:21:51.387Z"
   },
   {
    "duration": 58,
    "start_time": "2024-08-23T18:21:51.428Z"
   },
   {
    "duration": 180,
    "start_time": "2024-08-23T18:21:51.488Z"
   },
   {
    "duration": 86775,
    "start_time": "2024-08-23T18:21:51.669Z"
   },
   {
    "duration": 267,
    "start_time": "2024-08-23T18:35:05.496Z"
   },
   {
    "duration": 197,
    "start_time": "2024-08-23T18:35:59.255Z"
   },
   {
    "duration": 185,
    "start_time": "2024-08-23T18:36:22.743Z"
   },
   {
    "duration": 1062,
    "start_time": "2024-08-23T18:38:14.274Z"
   },
   {
    "duration": 129,
    "start_time": "2024-08-23T18:38:50.103Z"
   },
   {
    "duration": 174,
    "start_time": "2024-08-23T18:39:36.879Z"
   },
   {
    "duration": 126,
    "start_time": "2024-08-23T18:40:00.577Z"
   },
   {
    "duration": 1257,
    "start_time": "2024-08-23T18:41:24.561Z"
   },
   {
    "duration": 407,
    "start_time": "2024-08-23T18:41:34.447Z"
   },
   {
    "duration": 149,
    "start_time": "2024-08-23T18:42:12.991Z"
   },
   {
    "duration": 433,
    "start_time": "2024-08-23T18:43:00.489Z"
   },
   {
    "duration": 146,
    "start_time": "2024-08-23T18:43:15.008Z"
   },
   {
    "duration": 111,
    "start_time": "2024-08-23T18:43:19.924Z"
   },
   {
    "duration": 422,
    "start_time": "2024-08-23T18:43:46.274Z"
   },
   {
    "duration": 154,
    "start_time": "2024-08-23T18:48:00.531Z"
   },
   {
    "duration": 155,
    "start_time": "2024-08-23T18:48:51.940Z"
   },
   {
    "duration": 221,
    "start_time": "2024-08-23T18:49:09.751Z"
   },
   {
    "duration": 145,
    "start_time": "2024-08-23T18:49:22.795Z"
   },
   {
    "duration": 145,
    "start_time": "2024-08-23T18:49:29.941Z"
   },
   {
    "duration": 259,
    "start_time": "2024-08-23T18:49:54.195Z"
   },
   {
    "duration": 147,
    "start_time": "2024-08-23T18:50:01.401Z"
   },
   {
    "duration": 150,
    "start_time": "2024-08-23T18:50:06.421Z"
   },
   {
    "duration": 139,
    "start_time": "2024-08-23T18:52:24.639Z"
   },
   {
    "duration": 118,
    "start_time": "2024-08-23T18:52:31.441Z"
   },
   {
    "duration": 114,
    "start_time": "2024-08-23T18:52:59.120Z"
   },
   {
    "duration": 131,
    "start_time": "2024-08-23T18:53:51.052Z"
   },
   {
    "duration": 127,
    "start_time": "2024-08-23T18:55:24.548Z"
   },
   {
    "duration": 120,
    "start_time": "2024-08-23T18:55:59.037Z"
   },
   {
    "duration": 118,
    "start_time": "2024-08-23T18:56:52.877Z"
   },
   {
    "duration": 131,
    "start_time": "2024-08-23T18:58:02.912Z"
   },
   {
    "duration": 155,
    "start_time": "2024-08-23T18:58:23.792Z"
   },
   {
    "duration": 140,
    "start_time": "2024-08-23T18:58:28.532Z"
   },
   {
    "duration": 129,
    "start_time": "2024-08-23T18:58:34.151Z"
   },
   {
    "duration": 1997,
    "start_time": "2024-08-23T18:58:44.464Z"
   },
   {
    "duration": 129,
    "start_time": "2024-08-23T18:59:09.011Z"
   },
   {
    "duration": 126,
    "start_time": "2024-08-23T18:59:32.595Z"
   },
   {
    "duration": 123,
    "start_time": "2024-08-23T18:59:45.095Z"
   },
   {
    "duration": 136,
    "start_time": "2024-08-23T18:59:50.316Z"
   },
   {
    "duration": 5,
    "start_time": "2024-08-23T19:00:51.416Z"
   },
   {
    "duration": 10,
    "start_time": "2024-08-23T19:00:59.031Z"
   },
   {
    "duration": 10,
    "start_time": "2024-08-23T19:01:03.828Z"
   },
   {
    "duration": 147,
    "start_time": "2024-08-23T19:02:50.878Z"
   },
   {
    "duration": 149,
    "start_time": "2024-08-23T19:02:57.150Z"
   },
   {
    "duration": 117,
    "start_time": "2024-08-23T19:03:36.719Z"
   },
   {
    "duration": 131,
    "start_time": "2024-08-23T19:05:16.202Z"
   },
   {
    "duration": 277,
    "start_time": "2024-08-23T19:06:01.334Z"
   },
   {
    "duration": 265,
    "start_time": "2024-08-23T19:06:07.451Z"
   },
   {
    "duration": 292,
    "start_time": "2024-08-23T19:06:41.883Z"
   },
   {
    "duration": 267,
    "start_time": "2024-08-23T19:06:49.105Z"
   },
   {
    "duration": 407,
    "start_time": "2024-08-23T19:06:56.651Z"
   },
   {
    "duration": 157,
    "start_time": "2024-08-23T19:07:00.860Z"
   },
   {
    "duration": 94650,
    "start_time": "2024-08-23T19:08:26.690Z"
   },
   {
    "duration": 1073,
    "start_time": "2024-08-23T19:10:01.342Z"
   },
   {
    "duration": 160,
    "start_time": "2024-08-23T19:10:15.064Z"
   },
   {
    "duration": 93949,
    "start_time": "2024-08-23T19:15:26.208Z"
   },
   {
    "duration": 185,
    "start_time": "2024-08-23T19:26:14.188Z"
   },
   {
    "duration": 1206,
    "start_time": "2024-08-23T19:26:28.641Z"
   },
   {
    "duration": 406,
    "start_time": "2024-08-23T19:26:46.578Z"
   },
   {
    "duration": 447,
    "start_time": "2024-08-23T19:27:20.419Z"
   },
   {
    "duration": 436,
    "start_time": "2024-08-23T19:27:29.402Z"
   },
   {
    "duration": 429,
    "start_time": "2024-08-23T19:27:37.373Z"
   },
   {
    "duration": 426,
    "start_time": "2024-08-23T19:27:46.661Z"
   },
   {
    "duration": 427,
    "start_time": "2024-08-23T19:28:18.834Z"
   },
   {
    "duration": 448,
    "start_time": "2024-08-23T19:28:32.129Z"
   },
   {
    "duration": 473,
    "start_time": "2024-08-23T19:29:18.929Z"
   },
   {
    "duration": 408,
    "start_time": "2024-08-23T19:30:20.563Z"
   },
   {
    "duration": 668,
    "start_time": "2024-08-23T19:31:42.741Z"
   },
   {
    "duration": 478,
    "start_time": "2024-08-23T19:31:48.823Z"
   },
   {
    "duration": 12,
    "start_time": "2024-08-23T19:35:20.133Z"
   },
   {
    "duration": 12,
    "start_time": "2024-08-23T19:35:38.073Z"
   },
   {
    "duration": 1131,
    "start_time": "2024-08-23T19:35:48.053Z"
   },
   {
    "duration": 1165,
    "start_time": "2024-08-23T19:36:20.187Z"
   },
   {
    "duration": 127,
    "start_time": "2024-08-23T19:37:45.336Z"
   },
   {
    "duration": 129,
    "start_time": "2024-08-23T19:40:55.699Z"
   },
   {
    "duration": 130,
    "start_time": "2024-08-23T19:41:10.571Z"
   },
   {
    "duration": 129,
    "start_time": "2024-08-23T19:41:28.492Z"
   },
   {
    "duration": 11,
    "start_time": "2024-08-23T20:11:47.706Z"
   },
   {
    "duration": 183,
    "start_time": "2024-08-23T20:20:19.887Z"
   },
   {
    "duration": 181,
    "start_time": "2024-08-23T20:20:39.523Z"
   },
   {
    "duration": 313,
    "start_time": "2024-08-23T20:21:10.862Z"
   },
   {
    "duration": 318,
    "start_time": "2024-08-23T20:21:25.813Z"
   },
   {
    "duration": 444,
    "start_time": "2024-08-23T20:21:54.478Z"
   },
   {
    "duration": 68,
    "start_time": "2024-08-23T20:22:24.708Z"
   },
   {
    "duration": 5,
    "start_time": "2024-08-23T20:22:46.488Z"
   },
   {
    "duration": 5,
    "start_time": "2024-08-23T20:22:52.369Z"
   },
   {
    "duration": 334,
    "start_time": "2024-08-23T20:24:30.051Z"
   },
   {
    "duration": 343,
    "start_time": "2024-08-23T20:24:37.333Z"
   },
   {
    "duration": 5,
    "start_time": "2024-08-23T20:25:24.988Z"
   },
   {
    "duration": 4,
    "start_time": "2024-08-23T20:25:25.897Z"
   },
   {
    "duration": 3,
    "start_time": "2024-08-23T20:25:37.726Z"
   },
   {
    "duration": 7,
    "start_time": "2024-08-23T20:25:45.542Z"
   },
   {
    "duration": 187,
    "start_time": "2024-08-23T20:27:28.672Z"
   },
   {
    "duration": 173,
    "start_time": "2024-08-23T20:27:29.113Z"
   },
   {
    "duration": 4,
    "start_time": "2024-08-23T20:27:31.126Z"
   },
   {
    "duration": 4,
    "start_time": "2024-08-23T20:27:31.826Z"
   },
   {
    "duration": 217,
    "start_time": "2024-08-23T20:27:32.720Z"
   },
   {
    "duration": 222,
    "start_time": "2024-08-23T20:27:51.632Z"
   },
   {
    "duration": 223,
    "start_time": "2024-08-23T20:27:57.150Z"
   },
   {
    "duration": 227,
    "start_time": "2024-08-23T20:28:02.742Z"
   },
   {
    "duration": 358,
    "start_time": "2024-08-23T20:28:07.439Z"
   },
   {
    "duration": 224,
    "start_time": "2024-08-23T20:28:20.039Z"
   },
   {
    "duration": 242,
    "start_time": "2024-08-23T20:29:48.203Z"
   },
   {
    "duration": 11,
    "start_time": "2024-08-23T20:30:11.449Z"
   },
   {
    "duration": 7,
    "start_time": "2024-08-23T20:30:16.799Z"
   },
   {
    "duration": 592,
    "start_time": "2024-08-23T20:34:20.139Z"
   },
   {
    "duration": 18,
    "start_time": "2024-08-23T20:36:09.909Z"
   },
   {
    "duration": 569,
    "start_time": "2024-08-23T20:36:21.844Z"
   },
   {
    "duration": 520,
    "start_time": "2024-08-23T20:36:28.393Z"
   },
   {
    "duration": 1894,
    "start_time": "2024-08-23T20:37:37.778Z"
   },
   {
    "duration": 3,
    "start_time": "2024-08-23T20:38:32.175Z"
   },
   {
    "duration": 4,
    "start_time": "2024-08-23T20:38:41.753Z"
   },
   {
    "duration": 9,
    "start_time": "2024-08-23T20:38:53.393Z"
   },
   {
    "duration": 4,
    "start_time": "2024-08-23T20:38:59.765Z"
   },
   {
    "duration": 58,
    "start_time": "2024-08-23T20:44:12.225Z"
   },
   {
    "duration": 49,
    "start_time": "2024-08-23T20:52:11.220Z"
   },
   {
    "duration": 14,
    "start_time": "2024-08-23T20:53:48.448Z"
   },
   {
    "duration": 49,
    "start_time": "2024-08-23T20:55:28.722Z"
   },
   {
    "duration": 48,
    "start_time": "2024-08-23T20:56:01.618Z"
   },
   {
    "duration": 120,
    "start_time": "2024-08-23T20:58:52.712Z"
   },
   {
    "duration": 4,
    "start_time": "2024-08-23T20:59:00.328Z"
   },
   {
    "duration": 4,
    "start_time": "2024-08-23T20:59:12.387Z"
   },
   {
    "duration": 119,
    "start_time": "2024-08-23T20:59:12.849Z"
   },
   {
    "duration": 3,
    "start_time": "2024-08-23T20:59:13.321Z"
   },
   {
    "duration": 3,
    "start_time": "2024-08-23T21:01:01.907Z"
   },
   {
    "duration": 4,
    "start_time": "2024-08-23T21:01:02.449Z"
   },
   {
    "duration": 9,
    "start_time": "2024-08-23T21:01:03.125Z"
   },
   {
    "duration": 4,
    "start_time": "2024-08-23T21:01:04.025Z"
   },
   {
    "duration": 20,
    "start_time": "2024-08-23T21:01:05.189Z"
   },
   {
    "duration": 20,
    "start_time": "2024-08-23T21:02:24.737Z"
   },
   {
    "duration": 20,
    "start_time": "2024-08-23T21:03:40.104Z"
   },
   {
    "duration": 20,
    "start_time": "2024-08-23T21:05:50.435Z"
   },
   {
    "duration": 6,
    "start_time": "2024-08-23T21:07:30.882Z"
   },
   {
    "duration": 3,
    "start_time": "2024-08-23T21:07:35.834Z"
   },
   {
    "duration": 4,
    "start_time": "2024-08-23T21:07:39.931Z"
   },
   {
    "duration": 14,
    "start_time": "2024-08-23T21:07:46.719Z"
   },
   {
    "duration": 26,
    "start_time": "2024-08-23T21:07:52.953Z"
   },
   {
    "duration": 51,
    "start_time": "2024-08-24T13:29:15.038Z"
   },
   {
    "duration": 1963,
    "start_time": "2024-08-24T13:29:18.566Z"
   },
   {
    "duration": 108,
    "start_time": "2024-08-24T13:29:20.531Z"
   },
   {
    "duration": 14,
    "start_time": "2024-08-24T13:29:20.644Z"
   },
   {
    "duration": 93,
    "start_time": "2024-08-24T13:29:20.659Z"
   },
   {
    "duration": 9,
    "start_time": "2024-08-24T13:29:20.753Z"
   },
   {
    "duration": 90,
    "start_time": "2024-08-24T13:29:20.764Z"
   },
   {
    "duration": 10,
    "start_time": "2024-08-24T13:29:20.856Z"
   },
   {
    "duration": 93,
    "start_time": "2024-08-24T13:29:20.868Z"
   },
   {
    "duration": 6,
    "start_time": "2024-08-24T13:29:20.964Z"
   },
   {
    "duration": 47,
    "start_time": "2024-08-24T13:29:20.972Z"
   },
   {
    "duration": 7,
    "start_time": "2024-08-24T13:29:21.021Z"
   },
   {
    "duration": 8,
    "start_time": "2024-08-24T13:29:21.030Z"
   },
   {
    "duration": 10,
    "start_time": "2024-08-24T13:29:21.040Z"
   },
   {
    "duration": 8,
    "start_time": "2024-08-24T13:29:21.051Z"
   },
   {
    "duration": 11,
    "start_time": "2024-08-24T13:29:21.060Z"
   },
   {
    "duration": 32,
    "start_time": "2024-08-24T13:29:21.073Z"
   },
   {
    "duration": 7,
    "start_time": "2024-08-24T13:29:21.107Z"
   },
   {
    "duration": 6,
    "start_time": "2024-08-24T13:29:21.115Z"
   },
   {
    "duration": 10,
    "start_time": "2024-08-24T13:29:21.123Z"
   },
   {
    "duration": 18,
    "start_time": "2024-08-24T13:29:21.134Z"
   },
   {
    "duration": 17,
    "start_time": "2024-08-24T13:29:21.153Z"
   },
   {
    "duration": 16,
    "start_time": "2024-08-24T13:29:21.207Z"
   },
   {
    "duration": 3,
    "start_time": "2024-08-24T13:29:21.225Z"
   },
   {
    "duration": 53,
    "start_time": "2024-08-24T13:29:21.230Z"
   },
   {
    "duration": 31,
    "start_time": "2024-08-24T13:29:21.285Z"
   },
   {
    "duration": 8,
    "start_time": "2024-08-24T13:29:21.318Z"
   },
   {
    "duration": 19,
    "start_time": "2024-08-24T13:29:21.330Z"
   },
   {
    "duration": 68,
    "start_time": "2024-08-24T13:29:21.351Z"
   },
   {
    "duration": 359,
    "start_time": "2024-08-24T13:29:21.421Z"
   },
   {
    "duration": 266,
    "start_time": "2024-08-24T13:29:21.782Z"
   },
   {
    "duration": 198,
    "start_time": "2024-08-24T13:29:22.050Z"
   },
   {
    "duration": 5,
    "start_time": "2024-08-24T13:29:22.251Z"
   },
   {
    "duration": 30,
    "start_time": "2024-08-24T13:29:22.258Z"
   },
   {
    "duration": 268,
    "start_time": "2024-08-24T13:29:22.289Z"
   },
   {
    "duration": 392,
    "start_time": "2024-08-24T13:29:22.559Z"
   },
   {
    "duration": 13,
    "start_time": "2024-08-24T13:29:22.954Z"
   },
   {
    "duration": 31,
    "start_time": "2024-08-24T13:29:22.969Z"
   },
   {
    "duration": 24,
    "start_time": "2024-08-24T13:29:23.002Z"
   },
   {
    "duration": 148,
    "start_time": "2024-08-24T13:29:23.028Z"
   },
   {
    "duration": 4,
    "start_time": "2024-08-24T13:29:23.178Z"
   },
   {
    "duration": 147,
    "start_time": "2024-08-24T13:29:23.184Z"
   },
   {
    "duration": 0,
    "start_time": "2024-08-24T13:29:23.333Z"
   },
   {
    "duration": 0,
    "start_time": "2024-08-24T13:29:23.334Z"
   },
   {
    "duration": 0,
    "start_time": "2024-08-24T13:29:23.335Z"
   },
   {
    "duration": 0,
    "start_time": "2024-08-24T13:29:23.337Z"
   },
   {
    "duration": 0,
    "start_time": "2024-08-24T13:29:23.338Z"
   },
   {
    "duration": 0,
    "start_time": "2024-08-24T13:29:23.340Z"
   },
   {
    "duration": 0,
    "start_time": "2024-08-24T13:29:23.341Z"
   },
   {
    "duration": 0,
    "start_time": "2024-08-24T13:29:23.343Z"
   },
   {
    "duration": 0,
    "start_time": "2024-08-24T13:29:23.344Z"
   },
   {
    "duration": 14,
    "start_time": "2024-08-24T13:29:46.810Z"
   },
   {
    "duration": 17,
    "start_time": "2024-08-24T13:30:24.881Z"
   },
   {
    "duration": 15,
    "start_time": "2024-08-24T13:31:09.052Z"
   },
   {
    "duration": 1779,
    "start_time": "2024-08-24T13:31:16.097Z"
   },
   {
    "duration": 69,
    "start_time": "2024-08-24T13:31:17.878Z"
   },
   {
    "duration": 15,
    "start_time": "2024-08-24T13:31:17.949Z"
   },
   {
    "duration": 169,
    "start_time": "2024-08-24T13:31:17.966Z"
   },
   {
    "duration": 8,
    "start_time": "2024-08-24T13:31:18.136Z"
   },
   {
    "duration": 71,
    "start_time": "2024-08-24T13:31:18.146Z"
   },
   {
    "duration": 9,
    "start_time": "2024-08-24T13:31:18.219Z"
   },
   {
    "duration": 37,
    "start_time": "2024-08-24T13:31:18.229Z"
   },
   {
    "duration": 7,
    "start_time": "2024-08-24T13:31:18.268Z"
   },
   {
    "duration": 11,
    "start_time": "2024-08-24T13:31:18.277Z"
   },
   {
    "duration": 7,
    "start_time": "2024-08-24T13:31:18.289Z"
   },
   {
    "duration": 19,
    "start_time": "2024-08-24T13:31:18.297Z"
   },
   {
    "duration": 10,
    "start_time": "2024-08-24T13:31:18.317Z"
   },
   {
    "duration": 17,
    "start_time": "2024-08-24T13:31:18.329Z"
   },
   {
    "duration": 15,
    "start_time": "2024-08-24T13:31:18.347Z"
   },
   {
    "duration": 31,
    "start_time": "2024-08-24T13:31:18.363Z"
   },
   {
    "duration": 34,
    "start_time": "2024-08-24T13:31:18.396Z"
   },
   {
    "duration": 21,
    "start_time": "2024-08-24T13:31:18.431Z"
   },
   {
    "duration": 26,
    "start_time": "2024-08-24T13:31:18.453Z"
   },
   {
    "duration": 51,
    "start_time": "2024-08-24T13:31:18.480Z"
   },
   {
    "duration": 17,
    "start_time": "2024-08-24T13:31:18.533Z"
   },
   {
    "duration": 19,
    "start_time": "2024-08-24T13:31:18.552Z"
   },
   {
    "duration": 13,
    "start_time": "2024-08-24T13:31:18.573Z"
   },
   {
    "duration": 66,
    "start_time": "2024-08-24T13:31:18.588Z"
   },
   {
    "duration": 16,
    "start_time": "2024-08-24T13:31:18.656Z"
   },
   {
    "duration": 16,
    "start_time": "2024-08-24T13:31:18.674Z"
   },
   {
    "duration": 32,
    "start_time": "2024-08-24T13:31:18.692Z"
   },
   {
    "duration": 47,
    "start_time": "2024-08-24T13:31:18.727Z"
   },
   {
    "duration": 419,
    "start_time": "2024-08-24T13:31:18.776Z"
   },
   {
    "duration": 298,
    "start_time": "2024-08-24T13:31:19.196Z"
   },
   {
    "duration": 201,
    "start_time": "2024-08-24T13:31:19.496Z"
   },
   {
    "duration": 20,
    "start_time": "2024-08-24T13:31:19.699Z"
   },
   {
    "duration": 14,
    "start_time": "2024-08-24T13:31:19.720Z"
   },
   {
    "duration": 238,
    "start_time": "2024-08-24T13:31:19.736Z"
   },
   {
    "duration": 270,
    "start_time": "2024-08-24T13:31:19.976Z"
   },
   {
    "duration": 11,
    "start_time": "2024-08-24T13:31:20.248Z"
   },
   {
    "duration": 7,
    "start_time": "2024-08-24T13:31:20.261Z"
   },
   {
    "duration": 10,
    "start_time": "2024-08-24T13:31:20.270Z"
   },
   {
    "duration": 168,
    "start_time": "2024-08-24T13:31:20.281Z"
   },
   {
    "duration": 4,
    "start_time": "2024-08-24T13:31:20.451Z"
   },
   {
    "duration": 181,
    "start_time": "2024-08-24T13:31:20.456Z"
   },
   {
    "duration": 0,
    "start_time": "2024-08-24T13:31:20.640Z"
   },
   {
    "duration": 0,
    "start_time": "2024-08-24T13:31:20.641Z"
   },
   {
    "duration": 0,
    "start_time": "2024-08-24T13:31:20.642Z"
   },
   {
    "duration": 0,
    "start_time": "2024-08-24T13:31:20.644Z"
   },
   {
    "duration": 0,
    "start_time": "2024-08-24T13:31:20.645Z"
   },
   {
    "duration": 0,
    "start_time": "2024-08-24T13:31:20.647Z"
   },
   {
    "duration": 0,
    "start_time": "2024-08-24T13:31:20.648Z"
   },
   {
    "duration": 0,
    "start_time": "2024-08-24T13:31:20.650Z"
   },
   {
    "duration": 0,
    "start_time": "2024-08-24T13:31:20.651Z"
   },
   {
    "duration": 1950,
    "start_time": "2024-08-24T13:31:51.635Z"
   },
   {
    "duration": 4,
    "start_time": "2024-08-24T13:32:01.790Z"
   },
   {
    "duration": 5,
    "start_time": "2024-08-24T13:32:02.212Z"
   },
   {
    "duration": 9,
    "start_time": "2024-08-24T13:32:02.568Z"
   },
   {
    "duration": 4,
    "start_time": "2024-08-24T13:32:02.920Z"
   },
   {
    "duration": 18,
    "start_time": "2024-08-24T13:32:05.444Z"
   },
   {
    "duration": 7,
    "start_time": "2024-08-24T13:32:07.361Z"
   },
   {
    "duration": 2,
    "start_time": "2024-08-24T13:32:08.618Z"
   },
   {
    "duration": 3,
    "start_time": "2024-08-24T13:32:09.542Z"
   },
   {
    "duration": 50,
    "start_time": "2024-08-24T13:32:12.811Z"
   },
   {
    "duration": 1819,
    "start_time": "2024-08-24T13:35:57.989Z"
   },
   {
    "duration": 75,
    "start_time": "2024-08-24T13:35:59.810Z"
   },
   {
    "duration": 17,
    "start_time": "2024-08-24T13:35:59.887Z"
   },
   {
    "duration": 46,
    "start_time": "2024-08-24T13:35:59.907Z"
   },
   {
    "duration": 9,
    "start_time": "2024-08-24T13:35:59.954Z"
   },
   {
    "duration": 46,
    "start_time": "2024-08-24T13:35:59.965Z"
   },
   {
    "duration": 11,
    "start_time": "2024-08-24T13:36:00.013Z"
   },
   {
    "duration": 148,
    "start_time": "2024-08-24T13:36:00.025Z"
   },
   {
    "duration": 7,
    "start_time": "2024-08-24T13:36:00.175Z"
   },
   {
    "duration": 45,
    "start_time": "2024-08-24T13:36:00.185Z"
   },
   {
    "duration": 29,
    "start_time": "2024-08-24T13:36:00.232Z"
   },
   {
    "duration": 26,
    "start_time": "2024-08-24T13:36:00.263Z"
   },
   {
    "duration": 87,
    "start_time": "2024-08-24T13:36:00.290Z"
   },
   {
    "duration": 80,
    "start_time": "2024-08-24T13:36:00.379Z"
   },
   {
    "duration": 23,
    "start_time": "2024-08-24T13:36:00.461Z"
   },
   {
    "duration": 24,
    "start_time": "2024-08-24T13:36:00.486Z"
   },
   {
    "duration": 24,
    "start_time": "2024-08-24T13:36:00.512Z"
   },
   {
    "duration": 13,
    "start_time": "2024-08-24T13:36:00.538Z"
   },
   {
    "duration": 13,
    "start_time": "2024-08-24T13:36:00.553Z"
   },
   {
    "duration": 34,
    "start_time": "2024-08-24T13:36:00.567Z"
   },
   {
    "duration": 24,
    "start_time": "2024-08-24T13:36:00.603Z"
   },
   {
    "duration": 28,
    "start_time": "2024-08-24T13:36:00.629Z"
   },
   {
    "duration": 4,
    "start_time": "2024-08-24T13:36:00.658Z"
   },
   {
    "duration": 55,
    "start_time": "2024-08-24T13:36:00.664Z"
   },
   {
    "duration": 17,
    "start_time": "2024-08-24T13:36:00.720Z"
   },
   {
    "duration": 19,
    "start_time": "2024-08-24T13:36:00.738Z"
   },
   {
    "duration": 20,
    "start_time": "2024-08-24T13:36:00.759Z"
   },
   {
    "duration": 63,
    "start_time": "2024-08-24T13:36:00.783Z"
   },
   {
    "duration": 400,
    "start_time": "2024-08-24T13:36:00.848Z"
   },
   {
    "duration": 307,
    "start_time": "2024-08-24T13:36:01.249Z"
   },
   {
    "duration": 215,
    "start_time": "2024-08-24T13:36:01.558Z"
   },
   {
    "duration": 5,
    "start_time": "2024-08-24T13:36:01.775Z"
   },
   {
    "duration": 15,
    "start_time": "2024-08-24T13:36:01.782Z"
   },
   {
    "duration": 245,
    "start_time": "2024-08-24T13:36:01.799Z"
   },
   {
    "duration": 262,
    "start_time": "2024-08-24T13:36:02.046Z"
   },
   {
    "duration": 12,
    "start_time": "2024-08-24T13:36:02.309Z"
   },
   {
    "duration": 22,
    "start_time": "2024-08-24T13:36:02.322Z"
   },
   {
    "duration": 12,
    "start_time": "2024-08-24T13:36:02.346Z"
   },
   {
    "duration": 162,
    "start_time": "2024-08-24T13:36:02.359Z"
   },
   {
    "duration": 4,
    "start_time": "2024-08-24T13:36:02.523Z"
   },
   {
    "duration": 2016,
    "start_time": "2024-08-24T13:36:02.529Z"
   },
   {
    "duration": 3,
    "start_time": "2024-08-24T13:36:04.548Z"
   },
   {
    "duration": 15,
    "start_time": "2024-08-24T13:36:04.553Z"
   },
   {
    "duration": 15,
    "start_time": "2024-08-24T13:36:04.570Z"
   },
   {
    "duration": 4,
    "start_time": "2024-08-24T13:36:04.587Z"
   },
   {
    "duration": 52,
    "start_time": "2024-08-24T13:36:04.593Z"
   },
   {
    "duration": 21,
    "start_time": "2024-08-24T13:36:04.648Z"
   },
   {
    "duration": 4,
    "start_time": "2024-08-24T13:36:04.670Z"
   },
   {
    "duration": 7,
    "start_time": "2024-08-24T13:36:04.676Z"
   },
   {
    "duration": 154,
    "start_time": "2024-08-24T13:36:04.684Z"
   },
   {
    "duration": 781,
    "start_time": "2024-08-24T13:41:38.049Z"
   },
   {
    "duration": 977,
    "start_time": "2024-08-24T13:41:56.665Z"
   },
   {
    "duration": 918,
    "start_time": "2024-08-24T13:42:10.688Z"
   },
   {
    "duration": 15,
    "start_time": "2024-08-24T13:42:40.688Z"
   },
   {
    "duration": 16,
    "start_time": "2024-08-24T13:43:26.874Z"
   },
   {
    "duration": 8,
    "start_time": "2024-08-24T13:43:31.931Z"
   },
   {
    "duration": 6,
    "start_time": "2024-08-24T13:44:20.916Z"
   },
   {
    "duration": 175,
    "start_time": "2024-08-24T13:44:52.745Z"
   },
   {
    "duration": 5,
    "start_time": "2024-08-24T13:45:09.958Z"
   },
   {
    "duration": 824,
    "start_time": "2024-08-24T13:45:10.383Z"
   },
   {
    "duration": 966,
    "start_time": "2024-08-24T13:45:44.108Z"
   },
   {
    "duration": 35,
    "start_time": "2024-08-24T13:45:54.180Z"
   },
   {
    "duration": 1795,
    "start_time": "2024-08-24T13:46:00.930Z"
   },
   {
    "duration": 65,
    "start_time": "2024-08-24T13:46:02.728Z"
   },
   {
    "duration": 15,
    "start_time": "2024-08-24T13:46:02.794Z"
   },
   {
    "duration": 44,
    "start_time": "2024-08-24T13:46:02.811Z"
   },
   {
    "duration": 9,
    "start_time": "2024-08-24T13:46:02.856Z"
   },
   {
    "duration": 62,
    "start_time": "2024-08-24T13:46:02.866Z"
   },
   {
    "duration": 11,
    "start_time": "2024-08-24T13:46:02.929Z"
   },
   {
    "duration": 52,
    "start_time": "2024-08-24T13:46:02.942Z"
   },
   {
    "duration": 7,
    "start_time": "2024-08-24T13:46:02.995Z"
   },
   {
    "duration": 58,
    "start_time": "2024-08-24T13:46:03.005Z"
   },
   {
    "duration": 18,
    "start_time": "2024-08-24T13:46:03.064Z"
   },
   {
    "duration": 22,
    "start_time": "2024-08-24T13:46:03.083Z"
   },
   {
    "duration": 7,
    "start_time": "2024-08-24T13:46:03.106Z"
   },
   {
    "duration": 8,
    "start_time": "2024-08-24T13:46:03.114Z"
   },
   {
    "duration": 29,
    "start_time": "2024-08-24T13:46:03.124Z"
   },
   {
    "duration": 33,
    "start_time": "2024-08-24T13:46:03.155Z"
   },
   {
    "duration": 31,
    "start_time": "2024-08-24T13:46:03.189Z"
   },
   {
    "duration": 5,
    "start_time": "2024-08-24T13:46:03.222Z"
   },
   {
    "duration": 17,
    "start_time": "2024-08-24T13:46:03.229Z"
   },
   {
    "duration": 24,
    "start_time": "2024-08-24T13:46:03.247Z"
   },
   {
    "duration": 17,
    "start_time": "2024-08-24T13:46:03.273Z"
   },
   {
    "duration": 20,
    "start_time": "2024-08-24T13:46:03.291Z"
   },
   {
    "duration": 3,
    "start_time": "2024-08-24T13:46:03.313Z"
   },
   {
    "duration": 76,
    "start_time": "2024-08-24T13:46:03.318Z"
   },
   {
    "duration": 15,
    "start_time": "2024-08-24T13:46:03.396Z"
   },
   {
    "duration": 93,
    "start_time": "2024-08-24T13:46:03.413Z"
   },
   {
    "duration": 18,
    "start_time": "2024-08-24T13:46:03.508Z"
   },
   {
    "duration": 45,
    "start_time": "2024-08-24T13:46:03.532Z"
   },
   {
    "duration": 362,
    "start_time": "2024-08-24T13:46:03.578Z"
   },
   {
    "duration": 288,
    "start_time": "2024-08-24T13:46:03.942Z"
   },
   {
    "duration": 920,
    "start_time": "2024-08-24T13:46:04.232Z"
   },
   {
    "duration": 18,
    "start_time": "2024-08-24T13:46:05.154Z"
   },
   {
    "duration": 8,
    "start_time": "2024-08-24T13:46:05.173Z"
   },
   {
    "duration": 7,
    "start_time": "2024-08-24T13:46:05.182Z"
   },
   {
    "duration": 832,
    "start_time": "2024-08-24T13:46:05.190Z"
   },
   {
    "duration": 218,
    "start_time": "2024-08-24T13:46:06.024Z"
   },
   {
    "duration": 4,
    "start_time": "2024-08-24T13:46:06.244Z"
   },
   {
    "duration": 8,
    "start_time": "2024-08-24T13:46:06.249Z"
   },
   {
    "duration": 238,
    "start_time": "2024-08-24T13:46:06.259Z"
   },
   {
    "duration": 385,
    "start_time": "2024-08-24T13:46:06.499Z"
   },
   {
    "duration": 21,
    "start_time": "2024-08-24T13:46:06.886Z"
   },
   {
    "duration": 7,
    "start_time": "2024-08-24T13:46:06.909Z"
   },
   {
    "duration": 4,
    "start_time": "2024-08-24T13:46:06.918Z"
   },
   {
    "duration": 19,
    "start_time": "2024-08-24T13:46:06.924Z"
   },
   {
    "duration": 10,
    "start_time": "2024-08-24T13:46:06.945Z"
   },
   {
    "duration": 2096,
    "start_time": "2024-08-24T13:46:06.957Z"
   },
   {
    "duration": 4,
    "start_time": "2024-08-24T13:46:09.055Z"
   },
   {
    "duration": 19,
    "start_time": "2024-08-24T13:46:09.061Z"
   },
   {
    "duration": 17,
    "start_time": "2024-08-24T13:46:09.082Z"
   },
   {
    "duration": 4,
    "start_time": "2024-08-24T13:46:09.102Z"
   },
   {
    "duration": 22,
    "start_time": "2024-08-24T13:46:09.108Z"
   },
   {
    "duration": 10,
    "start_time": "2024-08-24T13:46:09.132Z"
   },
   {
    "duration": 31,
    "start_time": "2024-08-24T13:46:09.144Z"
   },
   {
    "duration": 11,
    "start_time": "2024-08-24T13:46:09.176Z"
   },
   {
    "duration": 947,
    "start_time": "2024-08-24T13:46:09.189Z"
   },
   {
    "duration": 1181,
    "start_time": "2024-08-24T13:48:14.187Z"
   },
   {
    "duration": 6,
    "start_time": "2024-08-24T13:49:21.205Z"
   },
   {
    "duration": 0,
    "start_time": "2024-08-24T13:49:41.618Z"
   },
   {
    "duration": 0,
    "start_time": "2024-08-24T13:49:41.620Z"
   },
   {
    "duration": 0,
    "start_time": "2024-08-24T13:49:41.621Z"
   },
   {
    "duration": 0,
    "start_time": "2024-08-24T13:49:41.622Z"
   },
   {
    "duration": 6,
    "start_time": "2024-08-24T13:49:47.323Z"
   },
   {
    "duration": 3,
    "start_time": "2024-08-24T13:49:49.897Z"
   },
   {
    "duration": 4,
    "start_time": "2024-08-24T13:49:50.350Z"
   },
   {
    "duration": 15814,
    "start_time": "2024-08-24T13:49:51.005Z"
   },
   {
    "duration": 6,
    "start_time": "2024-08-24T14:41:38.443Z"
   },
   {
    "duration": 81135,
    "start_time": "2024-08-24T14:41:44.088Z"
   },
   {
    "duration": 4,
    "start_time": "2024-08-24T14:52:05.672Z"
   },
   {
    "duration": 5,
    "start_time": "2024-08-24T14:52:07.976Z"
   },
   {
    "duration": 4,
    "start_time": "2024-08-24T14:52:15.036Z"
   },
   {
    "duration": 17,
    "start_time": "2024-08-24T14:52:22.601Z"
   },
   {
    "duration": 5,
    "start_time": "2024-08-24T14:52:32.656Z"
   },
   {
    "duration": 3,
    "start_time": "2024-08-24T14:52:37.144Z"
   },
   {
    "duration": 22,
    "start_time": "2024-08-24T14:53:54.333Z"
   },
   {
    "duration": 20,
    "start_time": "2024-08-24T14:54:00.883Z"
   },
   {
    "duration": 218,
    "start_time": "2024-08-24T14:55:50.476Z"
   },
   {
    "duration": 216,
    "start_time": "2024-08-24T14:56:07.473Z"
   },
   {
    "duration": 207,
    "start_time": "2024-08-24T14:56:30.080Z"
   },
   {
    "duration": 6,
    "start_time": "2024-08-24T14:57:03.431Z"
   },
   {
    "duration": 7,
    "start_time": "2024-08-24T14:57:13.586Z"
   },
   {
    "duration": 7,
    "start_time": "2024-08-24T14:57:20.594Z"
   },
   {
    "duration": 4,
    "start_time": "2024-08-24T14:57:26.680Z"
   },
   {
    "duration": 6,
    "start_time": "2024-08-24T14:57:32.829Z"
   },
   {
    "duration": 194,
    "start_time": "2024-08-24T14:59:27.550Z"
   },
   {
    "duration": 4,
    "start_time": "2024-08-24T15:00:18.865Z"
   },
   {
    "duration": 4,
    "start_time": "2024-08-24T15:00:26.895Z"
   },
   {
    "duration": 7,
    "start_time": "2024-08-24T15:00:41.994Z"
   },
   {
    "duration": 308,
    "start_time": "2024-08-24T15:01:24.659Z"
   },
   {
    "duration": 16,
    "start_time": "2024-08-24T15:04:27.707Z"
   },
   {
    "duration": 11,
    "start_time": "2024-08-24T15:04:47.176Z"
   },
   {
    "duration": 1830,
    "start_time": "2024-08-24T15:04:58.435Z"
   },
   {
    "duration": 146,
    "start_time": "2024-08-24T15:05:00.267Z"
   },
   {
    "duration": 16,
    "start_time": "2024-08-24T15:05:00.415Z"
   },
   {
    "duration": 99,
    "start_time": "2024-08-24T15:05:00.433Z"
   },
   {
    "duration": 9,
    "start_time": "2024-08-24T15:05:00.534Z"
   },
   {
    "duration": 103,
    "start_time": "2024-08-24T15:05:00.544Z"
   },
   {
    "duration": 11,
    "start_time": "2024-08-24T15:05:00.649Z"
   },
   {
    "duration": 97,
    "start_time": "2024-08-24T15:05:00.662Z"
   },
   {
    "duration": 8,
    "start_time": "2024-08-24T15:05:00.761Z"
   },
   {
    "duration": 36,
    "start_time": "2024-08-24T15:05:00.771Z"
   },
   {
    "duration": 9,
    "start_time": "2024-08-24T15:05:00.809Z"
   },
   {
    "duration": 13,
    "start_time": "2024-08-24T15:05:00.819Z"
   },
   {
    "duration": 8,
    "start_time": "2024-08-24T15:05:00.835Z"
   },
   {
    "duration": 10,
    "start_time": "2024-08-24T15:05:00.847Z"
   },
   {
    "duration": 7,
    "start_time": "2024-08-24T15:05:00.859Z"
   },
   {
    "duration": 45,
    "start_time": "2024-08-24T15:05:00.867Z"
   },
   {
    "duration": 8,
    "start_time": "2024-08-24T15:05:00.914Z"
   },
   {
    "duration": 6,
    "start_time": "2024-08-24T15:05:00.924Z"
   },
   {
    "duration": 22,
    "start_time": "2024-08-24T15:05:00.932Z"
   },
   {
    "duration": 24,
    "start_time": "2024-08-24T15:05:00.956Z"
   },
   {
    "duration": 36,
    "start_time": "2024-08-24T15:05:00.982Z"
   },
   {
    "duration": 19,
    "start_time": "2024-08-24T15:05:01.020Z"
   },
   {
    "duration": 5,
    "start_time": "2024-08-24T15:05:01.041Z"
   },
   {
    "duration": 67,
    "start_time": "2024-08-24T15:05:01.048Z"
   },
   {
    "duration": 15,
    "start_time": "2024-08-24T15:05:01.117Z"
   },
   {
    "duration": 12,
    "start_time": "2024-08-24T15:05:01.134Z"
   },
   {
    "duration": 28,
    "start_time": "2024-08-24T15:05:01.147Z"
   },
   {
    "duration": 54,
    "start_time": "2024-08-24T15:05:01.177Z"
   },
   {
    "duration": 366,
    "start_time": "2024-08-24T15:05:01.233Z"
   },
   {
    "duration": 345,
    "start_time": "2024-08-24T15:05:01.601Z"
   },
   {
    "duration": 895,
    "start_time": "2024-08-24T15:05:01.948Z"
   },
   {
    "duration": 24,
    "start_time": "2024-08-24T15:05:02.845Z"
   },
   {
    "duration": 9,
    "start_time": "2024-08-24T15:05:02.871Z"
   },
   {
    "duration": 20,
    "start_time": "2024-08-24T15:05:02.881Z"
   },
   {
    "duration": 772,
    "start_time": "2024-08-24T15:05:02.902Z"
   },
   {
    "duration": 194,
    "start_time": "2024-08-24T15:05:03.676Z"
   },
   {
    "duration": 4,
    "start_time": "2024-08-24T15:05:03.872Z"
   },
   {
    "duration": 4,
    "start_time": "2024-08-24T15:05:03.878Z"
   },
   {
    "duration": 243,
    "start_time": "2024-08-24T15:05:03.883Z"
   },
   {
    "duration": 399,
    "start_time": "2024-08-24T15:05:04.128Z"
   },
   {
    "duration": 10,
    "start_time": "2024-08-24T15:05:04.531Z"
   },
   {
    "duration": 12,
    "start_time": "2024-08-24T15:05:04.542Z"
   },
   {
    "duration": 9,
    "start_time": "2024-08-24T15:05:04.555Z"
   },
   {
    "duration": 10,
    "start_time": "2024-08-24T15:05:04.565Z"
   },
   {
    "duration": 25,
    "start_time": "2024-08-24T15:05:04.577Z"
   },
   {
    "duration": 1974,
    "start_time": "2024-08-24T15:05:04.603Z"
   },
   {
    "duration": 3,
    "start_time": "2024-08-24T15:05:06.579Z"
   },
   {
    "duration": 16,
    "start_time": "2024-08-24T15:05:06.584Z"
   },
   {
    "duration": 9,
    "start_time": "2024-08-24T15:05:06.602Z"
   },
   {
    "duration": 4,
    "start_time": "2024-08-24T15:05:06.613Z"
   },
   {
    "duration": 40,
    "start_time": "2024-08-24T15:05:06.619Z"
   },
   {
    "duration": 7,
    "start_time": "2024-08-24T15:05:06.660Z"
   },
   {
    "duration": 21,
    "start_time": "2024-08-24T15:05:06.669Z"
   },
   {
    "duration": 448,
    "start_time": "2024-08-24T15:05:06.691Z"
   },
   {
    "duration": 317,
    "start_time": "2024-08-24T15:05:41.039Z"
   },
   {
    "duration": 22,
    "start_time": "2024-08-24T15:07:26.560Z"
   },
   {
    "duration": 11,
    "start_time": "2024-08-24T15:07:36.537Z"
   },
   {
    "duration": 3,
    "start_time": "2024-08-24T15:10:13.729Z"
   },
   {
    "duration": 1832,
    "start_time": "2024-08-24T15:10:46.197Z"
   },
   {
    "duration": 55,
    "start_time": "2024-08-24T15:10:48.031Z"
   },
   {
    "duration": 16,
    "start_time": "2024-08-24T15:10:48.091Z"
   },
   {
    "duration": 49,
    "start_time": "2024-08-24T15:10:48.109Z"
   },
   {
    "duration": 8,
    "start_time": "2024-08-24T15:10:48.160Z"
   },
   {
    "duration": 66,
    "start_time": "2024-08-24T15:10:48.169Z"
   },
   {
    "duration": 13,
    "start_time": "2024-08-24T15:10:48.237Z"
   },
   {
    "duration": 44,
    "start_time": "2024-08-24T15:10:48.252Z"
   },
   {
    "duration": 7,
    "start_time": "2024-08-24T15:10:48.298Z"
   },
   {
    "duration": 37,
    "start_time": "2024-08-24T15:10:48.307Z"
   },
   {
    "duration": 42,
    "start_time": "2024-08-24T15:10:48.346Z"
   },
   {
    "duration": 51,
    "start_time": "2024-08-24T15:10:48.390Z"
   },
   {
    "duration": 6,
    "start_time": "2024-08-24T15:10:48.443Z"
   },
   {
    "duration": 8,
    "start_time": "2024-08-24T15:10:48.450Z"
   },
   {
    "duration": 7,
    "start_time": "2024-08-24T15:10:48.460Z"
   },
   {
    "duration": 10,
    "start_time": "2024-08-24T15:10:48.468Z"
   },
   {
    "duration": 6,
    "start_time": "2024-08-24T15:10:48.480Z"
   },
   {
    "duration": 4,
    "start_time": "2024-08-24T15:10:48.488Z"
   },
   {
    "duration": 23,
    "start_time": "2024-08-24T15:10:48.493Z"
   },
   {
    "duration": 20,
    "start_time": "2024-08-24T15:10:48.518Z"
   },
   {
    "duration": 16,
    "start_time": "2024-08-24T15:10:48.540Z"
   },
   {
    "duration": 11,
    "start_time": "2024-08-24T15:10:48.558Z"
   },
   {
    "duration": 3,
    "start_time": "2024-08-24T15:10:48.571Z"
   },
   {
    "duration": 75,
    "start_time": "2024-08-24T15:10:48.576Z"
   },
   {
    "duration": 15,
    "start_time": "2024-08-24T15:10:48.653Z"
   },
   {
    "duration": 7,
    "start_time": "2024-08-24T15:10:48.669Z"
   },
   {
    "duration": 29,
    "start_time": "2024-08-24T15:10:48.679Z"
   },
   {
    "duration": 61,
    "start_time": "2024-08-24T15:10:48.710Z"
   },
   {
    "duration": 381,
    "start_time": "2024-08-24T15:10:48.773Z"
   },
   {
    "duration": 345,
    "start_time": "2024-08-24T15:10:49.156Z"
   },
   {
    "duration": 969,
    "start_time": "2024-08-24T15:10:49.504Z"
   },
   {
    "duration": 18,
    "start_time": "2024-08-24T15:10:50.475Z"
   },
   {
    "duration": 25,
    "start_time": "2024-08-24T15:10:50.495Z"
   },
   {
    "duration": 7,
    "start_time": "2024-08-24T15:10:50.522Z"
   },
   {
    "duration": 839,
    "start_time": "2024-08-24T15:10:50.530Z"
   },
   {
    "duration": 210,
    "start_time": "2024-08-24T15:10:51.371Z"
   },
   {
    "duration": 5,
    "start_time": "2024-08-24T15:10:51.583Z"
   },
   {
    "duration": 29,
    "start_time": "2024-08-24T15:10:51.589Z"
   },
   {
    "duration": 233,
    "start_time": "2024-08-24T15:10:51.625Z"
   },
   {
    "duration": 400,
    "start_time": "2024-08-24T15:10:51.860Z"
   },
   {
    "duration": 12,
    "start_time": "2024-08-24T15:10:52.262Z"
   },
   {
    "duration": 7,
    "start_time": "2024-08-24T15:10:52.275Z"
   },
   {
    "duration": 59,
    "start_time": "2024-08-24T15:10:52.284Z"
   },
   {
    "duration": 75,
    "start_time": "2024-08-24T15:10:52.345Z"
   },
   {
    "duration": 2106,
    "start_time": "2024-08-24T15:10:52.422Z"
   },
   {
    "duration": 3,
    "start_time": "2024-08-24T15:10:54.533Z"
   },
   {
    "duration": 8,
    "start_time": "2024-08-24T15:10:54.538Z"
   },
   {
    "duration": 16,
    "start_time": "2024-08-24T15:10:54.548Z"
   },
   {
    "duration": 4,
    "start_time": "2024-08-24T15:10:54.566Z"
   },
   {
    "duration": 21,
    "start_time": "2024-08-24T15:10:54.572Z"
   },
   {
    "duration": 3,
    "start_time": "2024-08-24T15:10:54.595Z"
   },
   {
    "duration": 518,
    "start_time": "2024-08-24T15:10:54.600Z"
   },
   {
    "duration": 16,
    "start_time": "2024-08-24T15:11:11.744Z"
   },
   {
    "duration": 3,
    "start_time": "2024-08-24T15:11:25.433Z"
   },
   {
    "duration": 6,
    "start_time": "2024-08-24T15:11:25.935Z"
   },
   {
    "duration": 343,
    "start_time": "2024-08-24T15:11:28.363Z"
   },
   {
    "duration": 304,
    "start_time": "2024-08-24T15:13:54.422Z"
   },
   {
    "duration": 1798,
    "start_time": "2024-08-24T15:14:00.637Z"
   },
   {
    "duration": 66,
    "start_time": "2024-08-24T15:14:02.437Z"
   },
   {
    "duration": 18,
    "start_time": "2024-08-24T15:14:02.505Z"
   },
   {
    "duration": 50,
    "start_time": "2024-08-24T15:14:02.525Z"
   },
   {
    "duration": 9,
    "start_time": "2024-08-24T15:14:02.577Z"
   },
   {
    "duration": 90,
    "start_time": "2024-08-24T15:14:02.588Z"
   },
   {
    "duration": 11,
    "start_time": "2024-08-24T15:14:02.679Z"
   },
   {
    "duration": 76,
    "start_time": "2024-08-24T15:14:02.691Z"
   },
   {
    "duration": 7,
    "start_time": "2024-08-24T15:14:02.768Z"
   },
   {
    "duration": 25,
    "start_time": "2024-08-24T15:14:02.778Z"
   },
   {
    "duration": 12,
    "start_time": "2024-08-24T15:14:02.813Z"
   },
   {
    "duration": 18,
    "start_time": "2024-08-24T15:14:02.827Z"
   },
   {
    "duration": 12,
    "start_time": "2024-08-24T15:14:02.847Z"
   },
   {
    "duration": 23,
    "start_time": "2024-08-24T15:14:02.861Z"
   },
   {
    "duration": 8,
    "start_time": "2024-08-24T15:14:02.885Z"
   },
   {
    "duration": 30,
    "start_time": "2024-08-24T15:14:02.894Z"
   },
   {
    "duration": 11,
    "start_time": "2024-08-24T15:14:02.929Z"
   },
   {
    "duration": 29,
    "start_time": "2024-08-24T15:14:02.942Z"
   },
   {
    "duration": 22,
    "start_time": "2024-08-24T15:14:02.972Z"
   },
   {
    "duration": 32,
    "start_time": "2024-08-24T15:14:02.995Z"
   },
   {
    "duration": 17,
    "start_time": "2024-08-24T15:14:03.029Z"
   },
   {
    "duration": 29,
    "start_time": "2024-08-24T15:14:03.048Z"
   },
   {
    "duration": 39,
    "start_time": "2024-08-24T15:14:03.080Z"
   },
   {
    "duration": 66,
    "start_time": "2024-08-24T15:14:03.121Z"
   },
   {
    "duration": 21,
    "start_time": "2024-08-24T15:14:03.189Z"
   },
   {
    "duration": 15,
    "start_time": "2024-08-24T15:14:03.212Z"
   },
   {
    "duration": 26,
    "start_time": "2024-08-24T15:14:03.229Z"
   },
   {
    "duration": 118,
    "start_time": "2024-08-24T15:14:03.258Z"
   },
   {
    "duration": 375,
    "start_time": "2024-08-24T15:14:03.377Z"
   },
   {
    "duration": 335,
    "start_time": "2024-08-24T15:14:03.754Z"
   },
   {
    "duration": 948,
    "start_time": "2024-08-24T15:14:04.091Z"
   },
   {
    "duration": 27,
    "start_time": "2024-08-24T15:14:05.041Z"
   },
   {
    "duration": 21,
    "start_time": "2024-08-24T15:14:05.069Z"
   },
   {
    "duration": 9,
    "start_time": "2024-08-24T15:14:05.092Z"
   },
   {
    "duration": 815,
    "start_time": "2024-08-24T15:14:05.103Z"
   },
   {
    "duration": 235,
    "start_time": "2024-08-24T15:14:05.920Z"
   },
   {
    "duration": 6,
    "start_time": "2024-08-24T15:14:06.157Z"
   },
   {
    "duration": 18,
    "start_time": "2024-08-24T15:14:06.165Z"
   },
   {
    "duration": 260,
    "start_time": "2024-08-24T15:14:06.185Z"
   },
   {
    "duration": 439,
    "start_time": "2024-08-24T15:14:06.448Z"
   },
   {
    "duration": 22,
    "start_time": "2024-08-24T15:14:06.889Z"
   },
   {
    "duration": 9,
    "start_time": "2024-08-24T15:14:06.913Z"
   },
   {
    "duration": 12,
    "start_time": "2024-08-24T15:14:06.924Z"
   },
   {
    "duration": 7,
    "start_time": "2024-08-24T15:14:06.939Z"
   },
   {
    "duration": 2097,
    "start_time": "2024-08-24T15:14:06.948Z"
   },
   {
    "duration": 3,
    "start_time": "2024-08-24T15:14:09.047Z"
   },
   {
    "duration": 12,
    "start_time": "2024-08-24T15:14:09.052Z"
   },
   {
    "duration": 10,
    "start_time": "2024-08-24T15:14:09.066Z"
   },
   {
    "duration": 4,
    "start_time": "2024-08-24T15:14:09.078Z"
   },
   {
    "duration": 28,
    "start_time": "2024-08-24T15:14:09.084Z"
   },
   {
    "duration": 3,
    "start_time": "2024-08-24T15:14:09.114Z"
   },
   {
    "duration": 45,
    "start_time": "2024-08-24T15:14:09.119Z"
   },
   {
    "duration": 467,
    "start_time": "2024-08-24T15:14:09.165Z"
   },
   {
    "duration": 8,
    "start_time": "2024-08-24T15:19:09.073Z"
   },
   {
    "duration": 13,
    "start_time": "2024-08-24T15:21:27.022Z"
   },
   {
    "duration": 6,
    "start_time": "2024-08-24T15:21:45.133Z"
   },
   {
    "duration": 3,
    "start_time": "2024-08-24T15:22:40.157Z"
   },
   {
    "duration": 11,
    "start_time": "2024-08-24T15:22:44.125Z"
   },
   {
    "duration": 1915,
    "start_time": "2024-08-24T15:24:02.783Z"
   },
   {
    "duration": 90,
    "start_time": "2024-08-24T15:24:04.700Z"
   },
   {
    "duration": 15,
    "start_time": "2024-08-24T15:24:04.792Z"
   },
   {
    "duration": 79,
    "start_time": "2024-08-24T15:24:04.810Z"
   },
   {
    "duration": 10,
    "start_time": "2024-08-24T15:24:04.891Z"
   },
   {
    "duration": 62,
    "start_time": "2024-08-24T15:24:04.903Z"
   },
   {
    "duration": 16,
    "start_time": "2024-08-24T15:24:04.968Z"
   },
   {
    "duration": 62,
    "start_time": "2024-08-24T15:24:04.985Z"
   },
   {
    "duration": 7,
    "start_time": "2024-08-24T15:24:05.049Z"
   },
   {
    "duration": 34,
    "start_time": "2024-08-24T15:24:05.060Z"
   },
   {
    "duration": 8,
    "start_time": "2024-08-24T15:24:05.096Z"
   },
   {
    "duration": 18,
    "start_time": "2024-08-24T15:24:05.110Z"
   },
   {
    "duration": 17,
    "start_time": "2024-08-24T15:24:05.132Z"
   },
   {
    "duration": 9,
    "start_time": "2024-08-24T15:24:05.151Z"
   },
   {
    "duration": 25,
    "start_time": "2024-08-24T15:24:05.161Z"
   },
   {
    "duration": 29,
    "start_time": "2024-08-24T15:24:05.189Z"
   },
   {
    "duration": 16,
    "start_time": "2024-08-24T15:24:05.227Z"
   },
   {
    "duration": 31,
    "start_time": "2024-08-24T15:24:05.245Z"
   },
   {
    "duration": 77,
    "start_time": "2024-08-24T15:24:05.278Z"
   },
   {
    "duration": 41,
    "start_time": "2024-08-24T15:24:05.357Z"
   },
   {
    "duration": 24,
    "start_time": "2024-08-24T15:24:05.400Z"
   },
   {
    "duration": 13,
    "start_time": "2024-08-24T15:24:05.426Z"
   },
   {
    "duration": 22,
    "start_time": "2024-08-24T15:24:05.441Z"
   },
   {
    "duration": 80,
    "start_time": "2024-08-24T15:24:05.465Z"
   },
   {
    "duration": 18,
    "start_time": "2024-08-24T15:24:05.547Z"
   },
   {
    "duration": 7,
    "start_time": "2024-08-24T15:24:05.568Z"
   },
   {
    "duration": 60,
    "start_time": "2024-08-24T15:24:05.577Z"
   },
   {
    "duration": 48,
    "start_time": "2024-08-24T15:24:05.641Z"
   },
   {
    "duration": 417,
    "start_time": "2024-08-24T15:24:05.691Z"
   },
   {
    "duration": 368,
    "start_time": "2024-08-24T15:24:06.109Z"
   },
   {
    "duration": 986,
    "start_time": "2024-08-24T15:24:06.478Z"
   },
   {
    "duration": 18,
    "start_time": "2024-08-24T15:24:07.466Z"
   },
   {
    "duration": 30,
    "start_time": "2024-08-24T15:24:07.486Z"
   },
   {
    "duration": 5,
    "start_time": "2024-08-24T15:24:07.518Z"
   },
   {
    "duration": 877,
    "start_time": "2024-08-24T15:24:07.525Z"
   },
   {
    "duration": 227,
    "start_time": "2024-08-24T15:24:08.405Z"
   },
   {
    "duration": 5,
    "start_time": "2024-08-24T15:24:08.634Z"
   },
   {
    "duration": 21,
    "start_time": "2024-08-24T15:24:08.641Z"
   },
   {
    "duration": 274,
    "start_time": "2024-08-24T15:24:08.664Z"
   },
   {
    "duration": 434,
    "start_time": "2024-08-24T15:24:08.939Z"
   },
   {
    "duration": 13,
    "start_time": "2024-08-24T15:24:09.375Z"
   },
   {
    "duration": 44,
    "start_time": "2024-08-24T15:24:09.390Z"
   },
   {
    "duration": 10,
    "start_time": "2024-08-24T15:24:09.436Z"
   },
   {
    "duration": 7,
    "start_time": "2024-08-24T15:24:09.448Z"
   },
   {
    "duration": 2262,
    "start_time": "2024-08-24T15:24:09.457Z"
   },
   {
    "duration": 4,
    "start_time": "2024-08-24T15:24:11.721Z"
   },
   {
    "duration": 6,
    "start_time": "2024-08-24T15:24:11.726Z"
   },
   {
    "duration": 105,
    "start_time": "2024-08-24T15:24:11.733Z"
   },
   {
    "duration": 6,
    "start_time": "2024-08-24T15:24:11.840Z"
   },
   {
    "duration": 9,
    "start_time": "2024-08-24T15:24:11.848Z"
   },
   {
    "duration": 17,
    "start_time": "2024-08-24T15:24:11.859Z"
   },
   {
    "duration": 150,
    "start_time": "2024-08-24T15:24:11.878Z"
   },
   {
    "duration": 1866,
    "start_time": "2024-08-24T15:24:59.064Z"
   },
   {
    "duration": 71,
    "start_time": "2024-08-24T15:25:00.933Z"
   },
   {
    "duration": 21,
    "start_time": "2024-08-24T15:25:01.008Z"
   },
   {
    "duration": 58,
    "start_time": "2024-08-24T15:25:01.031Z"
   },
   {
    "duration": 8,
    "start_time": "2024-08-24T15:25:01.091Z"
   },
   {
    "duration": 58,
    "start_time": "2024-08-24T15:25:01.101Z"
   },
   {
    "duration": 18,
    "start_time": "2024-08-24T15:25:01.161Z"
   },
   {
    "duration": 61,
    "start_time": "2024-08-24T15:25:01.181Z"
   },
   {
    "duration": 8,
    "start_time": "2024-08-24T15:25:01.244Z"
   },
   {
    "duration": 43,
    "start_time": "2024-08-24T15:25:01.254Z"
   },
   {
    "duration": 28,
    "start_time": "2024-08-24T15:25:01.299Z"
   },
   {
    "duration": 14,
    "start_time": "2024-08-24T15:25:01.329Z"
   },
   {
    "duration": 59,
    "start_time": "2024-08-24T15:25:01.345Z"
   },
   {
    "duration": 33,
    "start_time": "2024-08-24T15:25:01.409Z"
   },
   {
    "duration": 40,
    "start_time": "2024-08-24T15:25:01.444Z"
   },
   {
    "duration": 42,
    "start_time": "2024-08-24T15:25:01.486Z"
   },
   {
    "duration": 59,
    "start_time": "2024-08-24T15:25:01.529Z"
   },
   {
    "duration": 30,
    "start_time": "2024-08-24T15:25:01.590Z"
   },
   {
    "duration": 41,
    "start_time": "2024-08-24T15:25:01.622Z"
   },
   {
    "duration": 60,
    "start_time": "2024-08-24T15:25:01.665Z"
   },
   {
    "duration": 19,
    "start_time": "2024-08-24T15:25:01.727Z"
   },
   {
    "duration": 89,
    "start_time": "2024-08-24T15:25:01.748Z"
   },
   {
    "duration": 10,
    "start_time": "2024-08-24T15:25:01.839Z"
   },
   {
    "duration": 89,
    "start_time": "2024-08-24T15:25:01.851Z"
   },
   {
    "duration": 15,
    "start_time": "2024-08-24T15:25:01.942Z"
   },
   {
    "duration": 26,
    "start_time": "2024-08-24T15:25:01.959Z"
   },
   {
    "duration": 47,
    "start_time": "2024-08-24T15:25:01.987Z"
   },
   {
    "duration": 87,
    "start_time": "2024-08-24T15:25:02.035Z"
   },
   {
    "duration": 399,
    "start_time": "2024-08-24T15:25:02.124Z"
   },
   {
    "duration": 413,
    "start_time": "2024-08-24T15:25:02.525Z"
   },
   {
    "duration": 1021,
    "start_time": "2024-08-24T15:25:02.941Z"
   },
   {
    "duration": 18,
    "start_time": "2024-08-24T15:25:03.964Z"
   },
   {
    "duration": 42,
    "start_time": "2024-08-24T15:25:03.984Z"
   },
   {
    "duration": 12,
    "start_time": "2024-08-24T15:25:04.028Z"
   },
   {
    "duration": 916,
    "start_time": "2024-08-24T15:25:04.042Z"
   },
   {
    "duration": 215,
    "start_time": "2024-08-24T15:25:04.960Z"
   },
   {
    "duration": 6,
    "start_time": "2024-08-24T15:25:05.178Z"
   },
   {
    "duration": 19,
    "start_time": "2024-08-24T15:25:05.186Z"
   },
   {
    "duration": 246,
    "start_time": "2024-08-24T15:25:05.208Z"
   },
   {
    "duration": 430,
    "start_time": "2024-08-24T15:25:05.455Z"
   },
   {
    "duration": 31,
    "start_time": "2024-08-24T15:25:05.890Z"
   },
   {
    "duration": 14,
    "start_time": "2024-08-24T15:25:05.923Z"
   },
   {
    "duration": 16,
    "start_time": "2024-08-24T15:25:05.938Z"
   },
   {
    "duration": 3,
    "start_time": "2024-08-24T15:25:05.957Z"
   },
   {
    "duration": 2253,
    "start_time": "2024-08-24T15:25:05.962Z"
   },
   {
    "duration": 4,
    "start_time": "2024-08-24T15:25:08.225Z"
   },
   {
    "duration": 18,
    "start_time": "2024-08-24T15:25:08.231Z"
   },
   {
    "duration": 20,
    "start_time": "2024-08-24T15:25:08.251Z"
   },
   {
    "duration": 9,
    "start_time": "2024-08-24T15:25:08.273Z"
   },
   {
    "duration": 7,
    "start_time": "2024-08-24T15:25:08.284Z"
   },
   {
    "duration": 25,
    "start_time": "2024-08-24T15:25:08.292Z"
   },
   {
    "duration": 1737,
    "start_time": "2024-08-24T15:27:38.031Z"
   },
   {
    "duration": 76,
    "start_time": "2024-08-24T15:27:39.769Z"
   },
   {
    "duration": 15,
    "start_time": "2024-08-24T15:27:39.849Z"
   },
   {
    "duration": 37,
    "start_time": "2024-08-24T15:27:39.865Z"
   },
   {
    "duration": 14,
    "start_time": "2024-08-24T15:27:39.904Z"
   },
   {
    "duration": 54,
    "start_time": "2024-08-24T15:27:39.925Z"
   },
   {
    "duration": 11,
    "start_time": "2024-08-24T15:27:39.981Z"
   },
   {
    "duration": 58,
    "start_time": "2024-08-24T15:27:39.994Z"
   },
   {
    "duration": 7,
    "start_time": "2024-08-24T15:27:40.055Z"
   },
   {
    "duration": 11,
    "start_time": "2024-08-24T15:27:40.064Z"
   },
   {
    "duration": 8,
    "start_time": "2024-08-24T15:27:40.077Z"
   },
   {
    "duration": 10,
    "start_time": "2024-08-24T15:27:40.087Z"
   },
   {
    "duration": 16,
    "start_time": "2024-08-24T15:27:40.099Z"
   },
   {
    "duration": 23,
    "start_time": "2024-08-24T15:27:40.119Z"
   },
   {
    "duration": 13,
    "start_time": "2024-08-24T15:27:40.144Z"
   },
   {
    "duration": 25,
    "start_time": "2024-08-24T15:27:40.159Z"
   },
   {
    "duration": 8,
    "start_time": "2024-08-24T15:27:40.187Z"
   },
   {
    "duration": 13,
    "start_time": "2024-08-24T15:27:40.197Z"
   },
   {
    "duration": 14,
    "start_time": "2024-08-24T15:27:40.217Z"
   },
   {
    "duration": 43,
    "start_time": "2024-08-24T15:27:40.234Z"
   },
   {
    "duration": 26,
    "start_time": "2024-08-24T15:27:40.279Z"
   },
   {
    "duration": 22,
    "start_time": "2024-08-24T15:27:40.307Z"
   },
   {
    "duration": 45,
    "start_time": "2024-08-24T15:27:40.332Z"
   },
   {
    "duration": 60,
    "start_time": "2024-08-24T15:27:40.379Z"
   },
   {
    "duration": 62,
    "start_time": "2024-08-24T15:27:40.441Z"
   },
   {
    "duration": 29,
    "start_time": "2024-08-24T15:27:40.504Z"
   },
   {
    "duration": 37,
    "start_time": "2024-08-24T15:27:40.537Z"
   },
   {
    "duration": 56,
    "start_time": "2024-08-24T15:27:40.575Z"
   },
   {
    "duration": 390,
    "start_time": "2024-08-24T15:27:40.633Z"
   },
   {
    "duration": 364,
    "start_time": "2024-08-24T15:27:41.025Z"
   },
   {
    "duration": 1000,
    "start_time": "2024-08-24T15:27:41.391Z"
   },
   {
    "duration": 29,
    "start_time": "2024-08-24T15:27:42.392Z"
   },
   {
    "duration": 50,
    "start_time": "2024-08-24T15:27:42.423Z"
   },
   {
    "duration": 10,
    "start_time": "2024-08-24T15:27:42.475Z"
   },
   {
    "duration": 860,
    "start_time": "2024-08-24T15:27:42.487Z"
   },
   {
    "duration": 206,
    "start_time": "2024-08-24T15:27:43.349Z"
   },
   {
    "duration": 5,
    "start_time": "2024-08-24T15:27:43.557Z"
   },
   {
    "duration": 31,
    "start_time": "2024-08-24T15:27:43.563Z"
   },
   {
    "duration": 246,
    "start_time": "2024-08-24T15:27:43.596Z"
   },
   {
    "duration": 417,
    "start_time": "2024-08-24T15:27:43.845Z"
   },
   {
    "duration": 17,
    "start_time": "2024-08-24T15:27:44.264Z"
   },
   {
    "duration": 23,
    "start_time": "2024-08-24T15:27:44.283Z"
   },
   {
    "duration": 13,
    "start_time": "2024-08-24T15:27:44.312Z"
   },
   {
    "duration": 51,
    "start_time": "2024-08-24T15:27:44.326Z"
   },
   {
    "duration": 2271,
    "start_time": "2024-08-24T15:27:44.379Z"
   },
   {
    "duration": 5,
    "start_time": "2024-08-24T15:27:46.652Z"
   },
   {
    "duration": 16,
    "start_time": "2024-08-24T15:27:46.659Z"
   },
   {
    "duration": 10,
    "start_time": "2024-08-24T15:27:46.676Z"
   },
   {
    "duration": 14,
    "start_time": "2024-08-24T15:27:46.688Z"
   },
   {
    "duration": 21,
    "start_time": "2024-08-24T15:27:46.703Z"
   },
   {
    "duration": 13,
    "start_time": "2024-08-24T15:27:46.725Z"
   },
   {
    "duration": 156,
    "start_time": "2024-08-24T15:27:46.740Z"
   },
   {
    "duration": 13,
    "start_time": "2024-08-24T15:30:21.952Z"
   },
   {
    "duration": 1948,
    "start_time": "2024-08-24T15:30:26.278Z"
   },
   {
    "duration": 64,
    "start_time": "2024-08-24T15:30:28.228Z"
   },
   {
    "duration": 30,
    "start_time": "2024-08-24T15:30:28.294Z"
   },
   {
    "duration": 75,
    "start_time": "2024-08-24T15:30:28.327Z"
   },
   {
    "duration": 20,
    "start_time": "2024-08-24T15:30:28.404Z"
   },
   {
    "duration": 120,
    "start_time": "2024-08-24T15:30:28.425Z"
   },
   {
    "duration": 12,
    "start_time": "2024-08-24T15:30:28.546Z"
   },
   {
    "duration": 39,
    "start_time": "2024-08-24T15:30:28.560Z"
   },
   {
    "duration": 19,
    "start_time": "2024-08-24T15:30:28.601Z"
   },
   {
    "duration": 15,
    "start_time": "2024-08-24T15:30:28.624Z"
   },
   {
    "duration": 9,
    "start_time": "2024-08-24T15:30:28.641Z"
   },
   {
    "duration": 10,
    "start_time": "2024-08-24T15:30:28.652Z"
   },
   {
    "duration": 7,
    "start_time": "2024-08-24T15:30:28.664Z"
   },
   {
    "duration": 39,
    "start_time": "2024-08-24T15:30:28.673Z"
   },
   {
    "duration": 15,
    "start_time": "2024-08-24T15:30:28.716Z"
   },
   {
    "duration": 12,
    "start_time": "2024-08-24T15:30:28.733Z"
   },
   {
    "duration": 9,
    "start_time": "2024-08-24T15:30:28.748Z"
   },
   {
    "duration": 17,
    "start_time": "2024-08-24T15:30:28.759Z"
   },
   {
    "duration": 32,
    "start_time": "2024-08-24T15:30:28.778Z"
   },
   {
    "duration": 30,
    "start_time": "2024-08-24T15:30:28.820Z"
   },
   {
    "duration": 29,
    "start_time": "2024-08-24T15:30:28.853Z"
   },
   {
    "duration": 47,
    "start_time": "2024-08-24T15:30:28.885Z"
   },
   {
    "duration": 5,
    "start_time": "2024-08-24T15:30:28.935Z"
   },
   {
    "duration": 69,
    "start_time": "2024-08-24T15:30:28.942Z"
   },
   {
    "duration": 20,
    "start_time": "2024-08-24T15:30:29.024Z"
   },
   {
    "duration": 8,
    "start_time": "2024-08-24T15:30:29.046Z"
   },
   {
    "duration": 24,
    "start_time": "2024-08-24T15:30:29.055Z"
   },
   {
    "duration": 81,
    "start_time": "2024-08-24T15:30:29.085Z"
   },
   {
    "duration": 433,
    "start_time": "2024-08-24T15:30:29.169Z"
   },
   {
    "duration": 386,
    "start_time": "2024-08-24T15:30:29.608Z"
   },
   {
    "duration": 1071,
    "start_time": "2024-08-24T15:30:29.996Z"
   },
   {
    "duration": 43,
    "start_time": "2024-08-24T15:30:31.069Z"
   },
   {
    "duration": 11,
    "start_time": "2024-08-24T15:30:31.116Z"
   },
   {
    "duration": 11,
    "start_time": "2024-08-24T15:30:31.129Z"
   },
   {
    "duration": 906,
    "start_time": "2024-08-24T15:30:31.142Z"
   },
   {
    "duration": 228,
    "start_time": "2024-08-24T15:30:32.050Z"
   },
   {
    "duration": 6,
    "start_time": "2024-08-24T15:30:32.280Z"
   },
   {
    "duration": 83,
    "start_time": "2024-08-24T15:30:32.288Z"
   },
   {
    "duration": 309,
    "start_time": "2024-08-24T15:30:32.373Z"
   },
   {
    "duration": 502,
    "start_time": "2024-08-24T15:30:32.683Z"
   },
   {
    "duration": 36,
    "start_time": "2024-08-24T15:30:33.187Z"
   },
   {
    "duration": 11,
    "start_time": "2024-08-24T15:30:33.225Z"
   },
   {
    "duration": 21,
    "start_time": "2024-08-24T15:30:33.238Z"
   },
   {
    "duration": 4,
    "start_time": "2024-08-24T15:30:33.261Z"
   },
   {
    "duration": 2448,
    "start_time": "2024-08-24T15:30:33.266Z"
   },
   {
    "duration": 7,
    "start_time": "2024-08-24T15:30:35.716Z"
   },
   {
    "duration": 16,
    "start_time": "2024-08-24T15:30:35.728Z"
   },
   {
    "duration": 85,
    "start_time": "2024-08-24T15:30:35.745Z"
   },
   {
    "duration": 20,
    "start_time": "2024-08-24T15:30:35.834Z"
   },
   {
    "duration": 17,
    "start_time": "2024-08-24T15:30:35.856Z"
   },
   {
    "duration": 51,
    "start_time": "2024-08-24T15:30:35.875Z"
   },
   {
    "duration": 237,
    "start_time": "2024-08-24T15:30:35.930Z"
   },
   {
    "duration": 22,
    "start_time": "2024-08-24T15:30:46.743Z"
   },
   {
    "duration": 3,
    "start_time": "2024-08-24T15:31:19.549Z"
   },
   {
    "duration": 4,
    "start_time": "2024-08-24T15:31:31.183Z"
   },
   {
    "duration": 4,
    "start_time": "2024-08-24T15:31:32.982Z"
   },
   {
    "duration": 4,
    "start_time": "2024-08-24T15:31:42.546Z"
   },
   {
    "duration": 27945,
    "start_time": "2024-08-24T15:31:58.098Z"
   },
   {
    "duration": 5,
    "start_time": "2024-08-24T15:32:35.387Z"
   },
   {
    "duration": 3,
    "start_time": "2024-08-24T15:32:35.760Z"
   },
   {
    "duration": 4,
    "start_time": "2024-08-24T15:32:36.218Z"
   },
   {
    "duration": 70792,
    "start_time": "2024-08-24T15:32:36.826Z"
   },
   {
    "duration": 12,
    "start_time": "2024-08-24T15:49:37.278Z"
   },
   {
    "duration": 5,
    "start_time": "2024-08-24T15:49:58.110Z"
   },
   {
    "duration": 4,
    "start_time": "2024-08-24T15:50:23.314Z"
   },
   {
    "duration": 4,
    "start_time": "2024-08-24T15:50:29.764Z"
   },
   {
    "duration": 3,
    "start_time": "2024-08-24T15:50:38.383Z"
   },
   {
    "duration": 212827,
    "start_time": "2024-08-24T15:50:50.464Z"
   },
   {
    "duration": 5,
    "start_time": "2024-08-24T15:54:24.978Z"
   },
   {
    "duration": 4,
    "start_time": "2024-08-24T15:54:25.469Z"
   },
   {
    "duration": 25794,
    "start_time": "2024-08-24T15:54:26.033Z"
   },
   {
    "duration": 4,
    "start_time": "2024-08-24T15:55:02.740Z"
   },
   {
    "duration": 3,
    "start_time": "2024-08-24T15:55:43.237Z"
   },
   {
    "duration": 4,
    "start_time": "2024-08-24T15:56:02.018Z"
   },
   {
    "duration": 4,
    "start_time": "2024-08-24T15:56:12.771Z"
   },
   {
    "duration": 12,
    "start_time": "2024-08-24T15:56:20.396Z"
   },
   {
    "duration": 14856,
    "start_time": "2024-08-24T15:56:41.196Z"
   },
   {
    "duration": 28,
    "start_time": "2024-08-24T15:57:46.896Z"
   },
   {
    "duration": 27,
    "start_time": "2024-08-24T15:58:03.297Z"
   },
   {
    "duration": 890,
    "start_time": "2024-08-24T15:58:17.956Z"
   },
   {
    "duration": 1178,
    "start_time": "2024-08-24T15:58:24.318Z"
   },
   {
    "duration": 10,
    "start_time": "2024-08-24T15:58:43.621Z"
   },
   {
    "duration": 12561,
    "start_time": "2024-08-24T15:58:54.599Z"
   },
   {
    "duration": 10,
    "start_time": "2024-08-24T16:02:19.125Z"
   },
   {
    "duration": 6,
    "start_time": "2024-08-24T16:02:32.802Z"
   },
   {
    "duration": 24,
    "start_time": "2024-08-24T16:03:18.540Z"
   },
   {
    "duration": 8,
    "start_time": "2024-08-24T16:03:32.848Z"
   },
   {
    "duration": 7,
    "start_time": "2024-08-24T17:03:05.142Z"
   },
   {
    "duration": 4,
    "start_time": "2024-08-24T17:03:11.752Z"
   },
   {
    "duration": 970,
    "start_time": "2024-08-24T17:03:12.779Z"
   },
   {
    "duration": 1692,
    "start_time": "2024-08-24T17:03:20.949Z"
   },
   {
    "duration": 111,
    "start_time": "2024-08-24T17:03:22.643Z"
   },
   {
    "duration": 15,
    "start_time": "2024-08-24T17:03:22.755Z"
   },
   {
    "duration": 135,
    "start_time": "2024-08-24T17:03:22.772Z"
   },
   {
    "duration": 10,
    "start_time": "2024-08-24T17:03:22.909Z"
   },
   {
    "duration": 65,
    "start_time": "2024-08-24T17:03:22.920Z"
   },
   {
    "duration": 10,
    "start_time": "2024-08-24T17:03:22.986Z"
   },
   {
    "duration": 78,
    "start_time": "2024-08-24T17:03:22.999Z"
   },
   {
    "duration": 7,
    "start_time": "2024-08-24T17:03:23.079Z"
   },
   {
    "duration": 32,
    "start_time": "2024-08-24T17:03:23.089Z"
   },
   {
    "duration": 8,
    "start_time": "2024-08-24T17:03:23.123Z"
   },
   {
    "duration": 8,
    "start_time": "2024-08-24T17:03:23.133Z"
   },
   {
    "duration": 7,
    "start_time": "2024-08-24T17:03:23.143Z"
   },
   {
    "duration": 9,
    "start_time": "2024-08-24T17:03:23.152Z"
   },
   {
    "duration": 11,
    "start_time": "2024-08-24T17:03:23.163Z"
   },
   {
    "duration": 33,
    "start_time": "2024-08-24T17:03:23.176Z"
   },
   {
    "duration": 13,
    "start_time": "2024-08-24T17:03:23.212Z"
   },
   {
    "duration": 6,
    "start_time": "2024-08-24T17:03:23.227Z"
   },
   {
    "duration": 11,
    "start_time": "2024-08-24T17:03:23.234Z"
   },
   {
    "duration": 25,
    "start_time": "2024-08-24T17:03:23.246Z"
   },
   {
    "duration": 44,
    "start_time": "2024-08-24T17:03:23.273Z"
   },
   {
    "duration": 13,
    "start_time": "2024-08-24T17:03:23.319Z"
   },
   {
    "duration": 4,
    "start_time": "2024-08-24T17:03:23.333Z"
   },
   {
    "duration": 45,
    "start_time": "2024-08-24T17:03:23.339Z"
   },
   {
    "duration": 32,
    "start_time": "2024-08-24T17:03:23.386Z"
   },
   {
    "duration": 24,
    "start_time": "2024-08-24T17:03:23.420Z"
   },
   {
    "duration": 54,
    "start_time": "2024-08-24T17:03:23.446Z"
   },
   {
    "duration": 35,
    "start_time": "2024-08-24T17:03:23.506Z"
   },
   {
    "duration": 356,
    "start_time": "2024-08-24T17:03:23.543Z"
   },
   {
    "duration": 342,
    "start_time": "2024-08-24T17:03:23.900Z"
   },
   {
    "duration": 949,
    "start_time": "2024-08-24T17:03:24.243Z"
   },
   {
    "duration": 22,
    "start_time": "2024-08-24T17:03:25.194Z"
   },
   {
    "duration": 7,
    "start_time": "2024-08-24T17:03:25.217Z"
   },
   {
    "duration": 4,
    "start_time": "2024-08-24T17:03:25.225Z"
   },
   {
    "duration": 806,
    "start_time": "2024-08-24T17:03:25.230Z"
   },
   {
    "duration": 194,
    "start_time": "2024-08-24T17:03:26.038Z"
   },
   {
    "duration": 5,
    "start_time": "2024-08-24T17:03:26.234Z"
   },
   {
    "duration": 4,
    "start_time": "2024-08-24T17:03:26.241Z"
   },
   {
    "duration": 246,
    "start_time": "2024-08-24T17:03:26.246Z"
   },
   {
    "duration": 446,
    "start_time": "2024-08-24T17:03:26.494Z"
   },
   {
    "duration": 12,
    "start_time": "2024-08-24T17:03:26.942Z"
   },
   {
    "duration": 8,
    "start_time": "2024-08-24T17:03:26.956Z"
   },
   {
    "duration": 40,
    "start_time": "2024-08-24T17:03:26.965Z"
   },
   {
    "duration": 4,
    "start_time": "2024-08-24T17:03:27.007Z"
   },
   {
    "duration": 881,
    "start_time": "2024-08-24T17:03:27.012Z"
   },
   {
    "duration": 3,
    "start_time": "2024-08-24T17:03:27.895Z"
   },
   {
    "duration": 15,
    "start_time": "2024-08-24T17:03:27.900Z"
   },
   {
    "duration": 18,
    "start_time": "2024-08-24T17:03:27.917Z"
   },
   {
    "duration": 10,
    "start_time": "2024-08-24T17:03:27.937Z"
   },
   {
    "duration": 14,
    "start_time": "2024-08-24T17:03:27.948Z"
   },
   {
    "duration": 15,
    "start_time": "2024-08-24T17:03:27.963Z"
   },
   {
    "duration": 3,
    "start_time": "2024-08-24T17:03:27.980Z"
   },
   {
    "duration": 7,
    "start_time": "2024-08-24T17:03:27.984Z"
   },
   {
    "duration": 6,
    "start_time": "2024-08-24T17:03:27.993Z"
   },
   {
    "duration": 46106,
    "start_time": "2024-08-24T17:03:28.000Z"
   },
   {
    "duration": 4,
    "start_time": "2024-08-24T17:04:14.108Z"
   },
   {
    "duration": 15,
    "start_time": "2024-08-24T17:04:14.113Z"
   },
   {
    "duration": 4,
    "start_time": "2024-08-24T17:04:14.130Z"
   },
   {
    "duration": 4,
    "start_time": "2024-08-24T17:04:14.136Z"
   },
   {
    "duration": 25,
    "start_time": "2024-08-24T17:04:14.142Z"
   },
   {
    "duration": 21538,
    "start_time": "2024-08-24T17:04:14.168Z"
   },
   {
    "duration": 4,
    "start_time": "2024-08-24T17:04:35.707Z"
   },
   {
    "duration": 21,
    "start_time": "2024-08-24T17:04:35.712Z"
   },
   {
    "duration": 42,
    "start_time": "2024-08-24T17:04:35.735Z"
   },
   {
    "duration": 27,
    "start_time": "2024-08-24T17:04:35.778Z"
   },
   {
    "duration": 57,
    "start_time": "2024-08-24T17:08:54.813Z"
   },
   {
    "duration": 10,
    "start_time": "2024-08-24T17:08:59.400Z"
   },
   {
    "duration": 367,
    "start_time": "2024-08-24T17:10:34.965Z"
   },
   {
    "duration": 284,
    "start_time": "2024-08-24T17:12:26.697Z"
   },
   {
    "duration": 377,
    "start_time": "2024-08-24T17:12:55.312Z"
   },
   {
    "duration": 817,
    "start_time": "2024-08-24T17:16:39.375Z"
   },
   {
    "duration": 48,
    "start_time": "2024-08-24T17:18:26.036Z"
   },
   {
    "duration": 1817,
    "start_time": "2024-08-24T17:27:12.924Z"
   },
   {
    "duration": 76,
    "start_time": "2024-08-24T17:27:14.743Z"
   },
   {
    "duration": 18,
    "start_time": "2024-08-24T17:27:14.822Z"
   },
   {
    "duration": 117,
    "start_time": "2024-08-24T17:27:14.842Z"
   },
   {
    "duration": 9,
    "start_time": "2024-08-24T17:27:14.961Z"
   },
   {
    "duration": 55,
    "start_time": "2024-08-24T17:27:14.972Z"
   },
   {
    "duration": 11,
    "start_time": "2024-08-24T17:27:15.028Z"
   },
   {
    "duration": 87,
    "start_time": "2024-08-24T17:27:15.040Z"
   },
   {
    "duration": 6,
    "start_time": "2024-08-24T17:27:15.129Z"
   },
   {
    "duration": 22,
    "start_time": "2024-08-24T17:27:15.137Z"
   },
   {
    "duration": 19,
    "start_time": "2024-08-24T17:27:15.161Z"
   },
   {
    "duration": 19,
    "start_time": "2024-08-24T17:27:15.182Z"
   },
   {
    "duration": 43,
    "start_time": "2024-08-24T17:27:15.203Z"
   },
   {
    "duration": 42,
    "start_time": "2024-08-24T17:27:15.248Z"
   },
   {
    "duration": 25,
    "start_time": "2024-08-24T17:27:15.292Z"
   },
   {
    "duration": 17,
    "start_time": "2024-08-24T17:27:15.321Z"
   },
   {
    "duration": 21,
    "start_time": "2024-08-24T17:27:15.339Z"
   },
   {
    "duration": 22,
    "start_time": "2024-08-24T17:27:15.362Z"
   },
   {
    "duration": 38,
    "start_time": "2024-08-24T17:27:15.385Z"
   },
   {
    "duration": 24,
    "start_time": "2024-08-24T17:27:15.425Z"
   },
   {
    "duration": 16,
    "start_time": "2024-08-24T17:27:15.451Z"
   },
   {
    "duration": 11,
    "start_time": "2024-08-24T17:27:15.469Z"
   },
   {
    "duration": 3,
    "start_time": "2024-08-24T17:27:15.482Z"
   },
   {
    "duration": 68,
    "start_time": "2024-08-24T17:27:15.487Z"
   },
   {
    "duration": 14,
    "start_time": "2024-08-24T17:27:15.557Z"
   },
   {
    "duration": 6,
    "start_time": "2024-08-24T17:27:15.572Z"
   },
   {
    "duration": 34,
    "start_time": "2024-08-24T17:27:15.579Z"
   },
   {
    "duration": 28,
    "start_time": "2024-08-24T17:27:15.620Z"
   },
   {
    "duration": 464,
    "start_time": "2024-08-24T17:27:15.649Z"
   },
   {
    "duration": 356,
    "start_time": "2024-08-24T17:27:16.118Z"
   },
   {
    "duration": 40,
    "start_time": "2024-08-24T17:27:16.476Z"
   },
   {
    "duration": 7,
    "start_time": "2024-08-24T17:27:16.522Z"
   },
   {
    "duration": 23,
    "start_time": "2024-08-24T17:27:16.531Z"
   },
   {
    "duration": 916,
    "start_time": "2024-08-24T17:27:16.556Z"
   },
   {
    "duration": 221,
    "start_time": "2024-08-24T17:27:17.474Z"
   },
   {
    "duration": 13,
    "start_time": "2024-08-24T17:27:17.697Z"
   },
   {
    "duration": 9,
    "start_time": "2024-08-24T17:27:17.712Z"
   },
   {
    "duration": 259,
    "start_time": "2024-08-24T17:27:17.723Z"
   },
   {
    "duration": 44,
    "start_time": "2024-08-24T17:27:17.984Z"
   },
   {
    "duration": 4,
    "start_time": "2024-08-24T17:27:18.030Z"
   },
   {
    "duration": 945,
    "start_time": "2024-08-24T17:27:18.036Z"
   },
   {
    "duration": 3,
    "start_time": "2024-08-24T17:27:18.983Z"
   },
   {
    "duration": 6,
    "start_time": "2024-08-24T17:27:18.987Z"
   },
   {
    "duration": 22,
    "start_time": "2024-08-24T17:27:18.995Z"
   },
   {
    "duration": 5,
    "start_time": "2024-08-24T17:27:19.020Z"
   },
   {
    "duration": 5,
    "start_time": "2024-08-24T17:27:19.026Z"
   },
   {
    "duration": 27,
    "start_time": "2024-08-24T17:27:19.033Z"
   },
   {
    "duration": 3,
    "start_time": "2024-08-24T17:27:19.061Z"
   },
   {
    "duration": 4,
    "start_time": "2024-08-24T17:27:19.066Z"
   },
   {
    "duration": 9,
    "start_time": "2024-08-24T17:27:19.072Z"
   },
   {
    "duration": 54828,
    "start_time": "2024-08-24T17:27:19.083Z"
   },
   {
    "duration": 4,
    "start_time": "2024-08-24T17:28:13.913Z"
   },
   {
    "duration": 8,
    "start_time": "2024-08-24T17:28:13.919Z"
   },
   {
    "duration": 9,
    "start_time": "2024-08-24T17:28:13.929Z"
   },
   {
    "duration": 26,
    "start_time": "2024-08-24T17:28:13.941Z"
   },
   {
    "duration": 22,
    "start_time": "2024-08-24T17:28:13.970Z"
   },
   {
    "duration": 24005,
    "start_time": "2024-08-24T17:28:13.995Z"
   },
   {
    "duration": 8,
    "start_time": "2024-08-24T17:28:38.009Z"
   },
   {
    "duration": 10,
    "start_time": "2024-08-24T17:28:38.019Z"
   },
   {
    "duration": 16,
    "start_time": "2024-08-24T17:28:38.031Z"
   },
   {
    "duration": 9,
    "start_time": "2024-08-24T17:28:38.049Z"
   },
   {
    "duration": 5,
    "start_time": "2024-08-24T17:44:45.190Z"
   },
   {
    "duration": 3,
    "start_time": "2024-08-24T17:45:07.933Z"
   },
   {
    "duration": 4,
    "start_time": "2024-08-24T17:45:16.333Z"
   },
   {
    "duration": 104847,
    "start_time": "2024-08-24T17:46:01.006Z"
   },
   {
    "duration": 35,
    "start_time": "2024-08-24T17:49:18.198Z"
   },
   {
    "duration": 20,
    "start_time": "2024-08-24T17:49:30.820Z"
   },
   {
    "duration": 14,
    "start_time": "2024-08-24T17:49:58.081Z"
   },
   {
    "duration": 36,
    "start_time": "2024-08-24T17:50:03.971Z"
   },
   {
    "duration": 29796,
    "start_time": "2024-08-24T17:50:07.384Z"
   },
   {
    "duration": 0,
    "start_time": "2024-08-24T17:50:37.182Z"
   },
   {
    "duration": 6,
    "start_time": "2024-08-24T17:50:38.670Z"
   },
   {
    "duration": 28,
    "start_time": "2024-08-24T17:51:08.075Z"
   },
   {
    "duration": 6,
    "start_time": "2024-08-24T17:51:09.216Z"
   },
   {
    "duration": 91009,
    "start_time": "2024-08-24T17:51:10.599Z"
   },
   {
    "duration": 1742,
    "start_time": "2024-08-24T17:52:58.104Z"
   },
   {
    "duration": 110,
    "start_time": "2024-08-24T17:52:59.848Z"
   },
   {
    "duration": 14,
    "start_time": "2024-08-24T17:52:59.960Z"
   },
   {
    "duration": 79,
    "start_time": "2024-08-24T17:52:59.975Z"
   },
   {
    "duration": 9,
    "start_time": "2024-08-24T17:53:00.056Z"
   },
   {
    "duration": 80,
    "start_time": "2024-08-24T17:53:00.067Z"
   },
   {
    "duration": 10,
    "start_time": "2024-08-24T17:53:00.149Z"
   },
   {
    "duration": 75,
    "start_time": "2024-08-24T17:53:00.161Z"
   },
   {
    "duration": 8,
    "start_time": "2024-08-24T17:53:00.238Z"
   },
   {
    "duration": 40,
    "start_time": "2024-08-24T17:53:00.248Z"
   },
   {
    "duration": 46,
    "start_time": "2024-08-24T17:53:00.290Z"
   },
   {
    "duration": 29,
    "start_time": "2024-08-24T17:53:00.337Z"
   },
   {
    "duration": 62,
    "start_time": "2024-08-24T17:53:00.367Z"
   },
   {
    "duration": 20,
    "start_time": "2024-08-24T17:53:00.432Z"
   },
   {
    "duration": 10,
    "start_time": "2024-08-24T17:53:00.453Z"
   },
   {
    "duration": 9,
    "start_time": "2024-08-24T17:53:00.464Z"
   },
   {
    "duration": 9,
    "start_time": "2024-08-24T17:53:00.474Z"
   },
   {
    "duration": 24,
    "start_time": "2024-08-24T17:53:00.484Z"
   },
   {
    "duration": 10,
    "start_time": "2024-08-24T17:53:00.509Z"
   },
   {
    "duration": 28,
    "start_time": "2024-08-24T17:53:00.520Z"
   },
   {
    "duration": 16,
    "start_time": "2024-08-24T17:53:00.549Z"
   },
   {
    "duration": 12,
    "start_time": "2024-08-24T17:53:00.567Z"
   },
   {
    "duration": 3,
    "start_time": "2024-08-24T17:53:00.581Z"
   },
   {
    "duration": 52,
    "start_time": "2024-08-24T17:53:00.586Z"
   },
   {
    "duration": 16,
    "start_time": "2024-08-24T17:53:00.640Z"
   },
   {
    "duration": 44,
    "start_time": "2024-08-24T17:53:00.658Z"
   },
   {
    "duration": 26,
    "start_time": "2024-08-24T17:53:00.703Z"
   },
   {
    "duration": 39,
    "start_time": "2024-08-24T17:53:00.731Z"
   },
   {
    "duration": 362,
    "start_time": "2024-08-24T17:53:00.772Z"
   },
   {
    "duration": 344,
    "start_time": "2024-08-24T17:53:01.135Z"
   },
   {
    "duration": 26,
    "start_time": "2024-08-24T17:53:01.481Z"
   },
   {
    "duration": 26,
    "start_time": "2024-08-24T17:53:01.509Z"
   },
   {
    "duration": 7,
    "start_time": "2024-08-24T17:53:01.536Z"
   },
   {
    "duration": 883,
    "start_time": "2024-08-24T17:53:01.545Z"
   },
   {
    "duration": 188,
    "start_time": "2024-08-24T17:53:02.429Z"
   },
   {
    "duration": 5,
    "start_time": "2024-08-24T17:53:02.619Z"
   },
   {
    "duration": 74,
    "start_time": "2024-08-24T17:53:02.625Z"
   },
   {
    "duration": 293,
    "start_time": "2024-08-24T17:53:02.700Z"
   },
   {
    "duration": 21,
    "start_time": "2024-08-24T17:53:02.995Z"
   },
   {
    "duration": 4,
    "start_time": "2024-08-24T17:53:03.018Z"
   },
   {
    "duration": 879,
    "start_time": "2024-08-24T17:53:03.026Z"
   },
   {
    "duration": 3,
    "start_time": "2024-08-24T17:53:03.907Z"
   },
   {
    "duration": 6,
    "start_time": "2024-08-24T17:53:03.911Z"
   },
   {
    "duration": 18,
    "start_time": "2024-08-24T17:53:03.918Z"
   },
   {
    "duration": 4,
    "start_time": "2024-08-24T17:53:03.937Z"
   },
   {
    "duration": 11,
    "start_time": "2024-08-24T17:53:03.942Z"
   },
   {
    "duration": 21,
    "start_time": "2024-08-24T17:53:03.954Z"
   },
   {
    "duration": 3,
    "start_time": "2024-08-24T17:53:03.976Z"
   },
   {
    "duration": 4,
    "start_time": "2024-08-24T17:53:03.981Z"
   },
   {
    "duration": 18,
    "start_time": "2024-08-24T17:53:03.987Z"
   },
   {
    "duration": 47103,
    "start_time": "2024-08-24T17:53:04.007Z"
   },
   {
    "duration": 3,
    "start_time": "2024-08-24T17:53:51.112Z"
   },
   {
    "duration": 9,
    "start_time": "2024-08-24T17:53:51.117Z"
   },
   {
    "duration": 3,
    "start_time": "2024-08-24T17:53:51.127Z"
   },
   {
    "duration": 4,
    "start_time": "2024-08-24T17:53:51.132Z"
   },
   {
    "duration": 12,
    "start_time": "2024-08-24T17:53:51.137Z"
   },
   {
    "duration": 22623,
    "start_time": "2024-08-24T17:53:51.150Z"
   },
   {
    "duration": 4,
    "start_time": "2024-08-24T17:54:13.775Z"
   },
   {
    "duration": 5,
    "start_time": "2024-08-24T17:54:13.780Z"
   },
   {
    "duration": 4,
    "start_time": "2024-08-24T17:54:13.804Z"
   },
   {
    "duration": 7,
    "start_time": "2024-08-24T17:54:13.809Z"
   },
   {
    "duration": 16,
    "start_time": "2024-08-24T17:54:13.818Z"
   },
   {
    "duration": 171,
    "start_time": "2024-08-24T17:54:13.836Z"
   },
   {
    "duration": 0,
    "start_time": "2024-08-24T17:54:14.009Z"
   },
   {
    "duration": 0,
    "start_time": "2024-08-24T17:54:14.010Z"
   },
   {
    "duration": 0,
    "start_time": "2024-08-24T17:54:14.011Z"
   },
   {
    "duration": 40,
    "start_time": "2024-08-24T17:54:51.849Z"
   },
   {
    "duration": 18,
    "start_time": "2024-08-24T17:55:27.700Z"
   },
   {
    "duration": 15,
    "start_time": "2024-08-24T17:55:33.531Z"
   },
   {
    "duration": 14,
    "start_time": "2024-08-24T17:55:38.222Z"
   },
   {
    "duration": 1778,
    "start_time": "2024-08-24T17:55:45.570Z"
   },
   {
    "duration": 74,
    "start_time": "2024-08-24T17:55:47.350Z"
   },
   {
    "duration": 16,
    "start_time": "2024-08-24T17:55:47.425Z"
   },
   {
    "duration": 54,
    "start_time": "2024-08-24T17:55:47.443Z"
   },
   {
    "duration": 8,
    "start_time": "2024-08-24T17:55:47.499Z"
   },
   {
    "duration": 114,
    "start_time": "2024-08-24T17:55:47.509Z"
   },
   {
    "duration": 9,
    "start_time": "2024-08-24T17:55:47.625Z"
   },
   {
    "duration": 172,
    "start_time": "2024-08-24T17:55:47.636Z"
   },
   {
    "duration": 7,
    "start_time": "2024-08-24T17:55:47.810Z"
   },
   {
    "duration": 10,
    "start_time": "2024-08-24T17:55:47.819Z"
   },
   {
    "duration": 8,
    "start_time": "2024-08-24T17:55:47.830Z"
   },
   {
    "duration": 7,
    "start_time": "2024-08-24T17:55:47.839Z"
   },
   {
    "duration": 5,
    "start_time": "2024-08-24T17:55:47.848Z"
   },
   {
    "duration": 15,
    "start_time": "2024-08-24T17:55:47.854Z"
   },
   {
    "duration": 35,
    "start_time": "2024-08-24T17:55:47.871Z"
   },
   {
    "duration": 8,
    "start_time": "2024-08-24T17:55:47.908Z"
   },
   {
    "duration": 10,
    "start_time": "2024-08-24T17:55:47.918Z"
   },
   {
    "duration": 9,
    "start_time": "2024-08-24T17:55:47.930Z"
   },
   {
    "duration": 29,
    "start_time": "2024-08-24T17:55:47.941Z"
   },
   {
    "duration": 27,
    "start_time": "2024-08-24T17:55:47.972Z"
   },
   {
    "duration": 17,
    "start_time": "2024-08-24T17:55:48.001Z"
   },
   {
    "duration": 14,
    "start_time": "2024-08-24T17:55:48.020Z"
   },
   {
    "duration": 3,
    "start_time": "2024-08-24T17:55:48.036Z"
   },
   {
    "duration": 34,
    "start_time": "2024-08-24T17:55:48.040Z"
   },
   {
    "duration": 39,
    "start_time": "2024-08-24T17:55:48.076Z"
   },
   {
    "duration": 6,
    "start_time": "2024-08-24T17:55:48.116Z"
   },
   {
    "duration": 22,
    "start_time": "2024-08-24T17:55:48.124Z"
   },
   {
    "duration": 45,
    "start_time": "2024-08-24T17:55:48.149Z"
   },
   {
    "duration": 370,
    "start_time": "2024-08-24T17:55:48.195Z"
   },
   {
    "duration": 328,
    "start_time": "2024-08-24T17:55:48.567Z"
   },
   {
    "duration": 24,
    "start_time": "2024-08-24T17:55:48.897Z"
   },
   {
    "duration": 44,
    "start_time": "2024-08-24T17:55:48.923Z"
   },
   {
    "duration": 6,
    "start_time": "2024-08-24T17:55:48.969Z"
   },
   {
    "duration": 838,
    "start_time": "2024-08-24T17:55:48.976Z"
   },
   {
    "duration": 193,
    "start_time": "2024-08-24T17:55:49.816Z"
   },
   {
    "duration": 6,
    "start_time": "2024-08-24T17:55:50.012Z"
   },
   {
    "duration": 9,
    "start_time": "2024-08-24T17:55:50.020Z"
   },
   {
    "duration": 267,
    "start_time": "2024-08-24T17:55:50.031Z"
   },
   {
    "duration": 25,
    "start_time": "2024-08-24T17:55:50.299Z"
   },
   {
    "duration": 4,
    "start_time": "2024-08-24T17:55:50.325Z"
   },
   {
    "duration": 1038,
    "start_time": "2024-08-24T17:55:50.331Z"
   },
   {
    "duration": 3,
    "start_time": "2024-08-24T17:55:51.372Z"
   },
   {
    "duration": 16,
    "start_time": "2024-08-24T17:55:51.376Z"
   },
   {
    "duration": 12,
    "start_time": "2024-08-24T17:55:51.394Z"
   },
   {
    "duration": 5,
    "start_time": "2024-08-24T17:55:51.407Z"
   },
   {
    "duration": 5,
    "start_time": "2024-08-24T17:55:51.413Z"
   },
   {
    "duration": 15,
    "start_time": "2024-08-24T17:55:51.419Z"
   },
   {
    "duration": 4,
    "start_time": "2024-08-24T17:55:51.435Z"
   },
   {
    "duration": 4,
    "start_time": "2024-08-24T17:55:51.440Z"
   },
   {
    "duration": 3,
    "start_time": "2024-08-24T17:55:51.446Z"
   },
   {
    "duration": 44564,
    "start_time": "2024-08-24T17:55:51.451Z"
   },
   {
    "duration": 5,
    "start_time": "2024-08-24T17:56:36.019Z"
   },
   {
    "duration": 21,
    "start_time": "2024-08-24T17:56:36.025Z"
   },
   {
    "duration": 4,
    "start_time": "2024-08-24T17:56:36.049Z"
   },
   {
    "duration": 6,
    "start_time": "2024-08-24T17:56:36.055Z"
   },
   {
    "duration": 26,
    "start_time": "2024-08-24T17:56:36.063Z"
   },
   {
    "duration": 22842,
    "start_time": "2024-08-24T17:56:36.092Z"
   },
   {
    "duration": 4,
    "start_time": "2024-08-24T17:56:58.935Z"
   },
   {
    "duration": 22,
    "start_time": "2024-08-24T17:56:58.941Z"
   },
   {
    "duration": 4,
    "start_time": "2024-08-24T17:56:58.965Z"
   },
   {
    "duration": 4,
    "start_time": "2024-08-24T17:56:58.970Z"
   },
   {
    "duration": 3,
    "start_time": "2024-08-24T17:56:58.975Z"
   },
   {
    "duration": 162,
    "start_time": "2024-08-24T17:56:58.979Z"
   },
   {
    "duration": 0,
    "start_time": "2024-08-24T17:56:59.142Z"
   },
   {
    "duration": 0,
    "start_time": "2024-08-24T17:56:59.143Z"
   },
   {
    "duration": 0,
    "start_time": "2024-08-24T17:56:59.144Z"
   },
   {
    "duration": 18,
    "start_time": "2024-08-24T17:58:03.694Z"
   },
   {
    "duration": 9,
    "start_time": "2024-08-24T17:59:55.668Z"
   },
   {
    "duration": 8,
    "start_time": "2024-08-24T17:59:56.165Z"
   },
   {
    "duration": 23,
    "start_time": "2024-08-24T18:11:59.205Z"
   },
   {
    "duration": 10,
    "start_time": "2024-08-24T18:12:34.329Z"
   },
   {
    "duration": 642,
    "start_time": "2024-08-24T18:12:45.018Z"
   },
   {
    "duration": 1040,
    "start_time": "2024-08-24T18:14:59.076Z"
   },
   {
    "duration": 1849,
    "start_time": "2024-08-24T18:15:06.878Z"
   },
   {
    "duration": 61,
    "start_time": "2024-08-24T18:15:08.729Z"
   },
   {
    "duration": 28,
    "start_time": "2024-08-24T18:15:08.792Z"
   },
   {
    "duration": 42,
    "start_time": "2024-08-24T18:15:08.822Z"
   },
   {
    "duration": 10,
    "start_time": "2024-08-24T18:15:08.865Z"
   },
   {
    "duration": 64,
    "start_time": "2024-08-24T18:15:08.876Z"
   },
   {
    "duration": 10,
    "start_time": "2024-08-24T18:15:08.942Z"
   },
   {
    "duration": 45,
    "start_time": "2024-08-24T18:15:08.954Z"
   },
   {
    "duration": 16,
    "start_time": "2024-08-24T18:15:09.001Z"
   },
   {
    "duration": 38,
    "start_time": "2024-08-24T18:15:09.023Z"
   },
   {
    "duration": 7,
    "start_time": "2024-08-24T18:15:09.063Z"
   },
   {
    "duration": 8,
    "start_time": "2024-08-24T18:15:09.072Z"
   },
   {
    "duration": 5,
    "start_time": "2024-08-24T18:15:09.082Z"
   },
   {
    "duration": 12,
    "start_time": "2024-08-24T18:15:09.089Z"
   },
   {
    "duration": 18,
    "start_time": "2024-08-24T18:15:09.103Z"
   },
   {
    "duration": 9,
    "start_time": "2024-08-24T18:15:09.123Z"
   },
   {
    "duration": 7,
    "start_time": "2024-08-24T18:15:09.134Z"
   },
   {
    "duration": 6,
    "start_time": "2024-08-24T18:15:09.142Z"
   },
   {
    "duration": 9,
    "start_time": "2024-08-24T18:15:09.150Z"
   },
   {
    "duration": 19,
    "start_time": "2024-08-24T18:15:09.161Z"
   },
   {
    "duration": 48,
    "start_time": "2024-08-24T18:15:09.181Z"
   },
   {
    "duration": 11,
    "start_time": "2024-08-24T18:15:09.230Z"
   },
   {
    "duration": 6,
    "start_time": "2024-08-24T18:15:09.243Z"
   },
   {
    "duration": 78,
    "start_time": "2024-08-24T18:15:09.251Z"
   },
   {
    "duration": 21,
    "start_time": "2024-08-24T18:15:09.331Z"
   },
   {
    "duration": 7,
    "start_time": "2024-08-24T18:15:09.355Z"
   },
   {
    "duration": 56,
    "start_time": "2024-08-24T18:15:09.364Z"
   },
   {
    "duration": 28,
    "start_time": "2024-08-24T18:15:09.426Z"
   },
   {
    "duration": 396,
    "start_time": "2024-08-24T18:15:09.456Z"
   },
   {
    "duration": 367,
    "start_time": "2024-08-24T18:15:09.853Z"
   },
   {
    "duration": 30,
    "start_time": "2024-08-24T18:15:10.224Z"
   },
   {
    "duration": 13,
    "start_time": "2024-08-24T18:15:10.256Z"
   },
   {
    "duration": 17,
    "start_time": "2024-08-24T18:15:10.270Z"
   },
   {
    "duration": 986,
    "start_time": "2024-08-24T18:15:10.289Z"
   },
   {
    "duration": 214,
    "start_time": "2024-08-24T18:15:11.277Z"
   },
   {
    "duration": 18,
    "start_time": "2024-08-24T18:15:11.493Z"
   },
   {
    "duration": 4,
    "start_time": "2024-08-24T18:15:11.519Z"
   },
   {
    "duration": 299,
    "start_time": "2024-08-24T18:15:11.525Z"
   },
   {
    "duration": 32,
    "start_time": "2024-08-24T18:15:11.826Z"
   },
   {
    "duration": 5,
    "start_time": "2024-08-24T18:15:11.860Z"
   },
   {
    "duration": 957,
    "start_time": "2024-08-24T18:15:11.867Z"
   },
   {
    "duration": 3,
    "start_time": "2024-08-24T18:15:12.826Z"
   },
   {
    "duration": 5,
    "start_time": "2024-08-24T18:15:12.831Z"
   },
   {
    "duration": 18,
    "start_time": "2024-08-24T18:15:12.837Z"
   },
   {
    "duration": 9,
    "start_time": "2024-08-24T18:15:12.857Z"
   },
   {
    "duration": 10,
    "start_time": "2024-08-24T18:15:12.868Z"
   },
   {
    "duration": 4,
    "start_time": "2024-08-24T18:15:12.880Z"
   },
   {
    "duration": 46,
    "start_time": "2024-08-24T18:15:12.886Z"
   },
   {
    "duration": 4,
    "start_time": "2024-08-24T18:15:12.934Z"
   },
   {
    "duration": 4,
    "start_time": "2024-08-24T18:15:12.940Z"
   },
   {
    "duration": 5,
    "start_time": "2024-08-24T18:15:12.945Z"
   },
   {
    "duration": 58065,
    "start_time": "2024-08-24T18:15:12.952Z"
   },
   {
    "duration": 5,
    "start_time": "2024-08-24T18:16:11.022Z"
   },
   {
    "duration": 47,
    "start_time": "2024-08-24T18:16:11.028Z"
   },
   {
    "duration": 5,
    "start_time": "2024-08-24T18:16:11.077Z"
   },
   {
    "duration": 14,
    "start_time": "2024-08-24T18:16:11.084Z"
   },
   {
    "duration": 6,
    "start_time": "2024-08-24T18:16:11.100Z"
   },
   {
    "duration": 24019,
    "start_time": "2024-08-24T18:16:11.108Z"
   },
   {
    "duration": 4,
    "start_time": "2024-08-24T18:16:35.129Z"
   },
   {
    "duration": 14,
    "start_time": "2024-08-24T18:16:35.135Z"
   },
   {
    "duration": 1077,
    "start_time": "2024-08-24T18:16:35.151Z"
   },
   {
    "duration": 0,
    "start_time": "2024-08-24T18:16:36.229Z"
   },
   {
    "duration": 0,
    "start_time": "2024-08-24T18:16:36.231Z"
   },
   {
    "duration": 0,
    "start_time": "2024-08-24T18:16:36.232Z"
   },
   {
    "duration": 984,
    "start_time": "2024-08-24T18:17:03.209Z"
   },
   {
    "duration": 638,
    "start_time": "2024-08-24T18:17:10.184Z"
   },
   {
    "duration": 667,
    "start_time": "2024-08-24T18:20:30.180Z"
   },
   {
    "duration": 12,
    "start_time": "2024-08-24T18:22:40.248Z"
   },
   {
    "duration": 11,
    "start_time": "2024-08-24T18:24:39.874Z"
   },
   {
    "duration": 14,
    "start_time": "2024-08-24T18:24:59.873Z"
   },
   {
    "duration": 8,
    "start_time": "2024-08-24T18:25:00.184Z"
   },
   {
    "duration": 10,
    "start_time": "2024-08-24T18:29:31.240Z"
   },
   {
    "duration": 7,
    "start_time": "2024-08-24T18:29:31.536Z"
   },
   {
    "duration": 11,
    "start_time": "2024-08-24T18:31:22.420Z"
   },
   {
    "duration": 3,
    "start_time": "2024-08-24T18:31:41.298Z"
   },
   {
    "duration": 4,
    "start_time": "2024-08-24T18:31:41.981Z"
   },
   {
    "duration": 53637,
    "start_time": "2024-08-24T18:32:06.646Z"
   },
   {
    "duration": 1824,
    "start_time": "2024-08-24T18:33:04.254Z"
   },
   {
    "duration": 72,
    "start_time": "2024-08-24T18:33:06.080Z"
   },
   {
    "duration": 16,
    "start_time": "2024-08-24T18:33:06.153Z"
   },
   {
    "duration": 39,
    "start_time": "2024-08-24T18:33:06.170Z"
   },
   {
    "duration": 12,
    "start_time": "2024-08-24T18:33:06.212Z"
   },
   {
    "duration": 49,
    "start_time": "2024-08-24T18:33:06.226Z"
   },
   {
    "duration": 10,
    "start_time": "2024-08-24T18:33:06.277Z"
   },
   {
    "duration": 51,
    "start_time": "2024-08-24T18:33:06.288Z"
   },
   {
    "duration": 7,
    "start_time": "2024-08-24T18:33:06.341Z"
   },
   {
    "duration": 17,
    "start_time": "2024-08-24T18:33:06.349Z"
   },
   {
    "duration": 7,
    "start_time": "2024-08-24T18:33:06.367Z"
   },
   {
    "duration": 57,
    "start_time": "2024-08-24T18:33:06.376Z"
   },
   {
    "duration": 6,
    "start_time": "2024-08-24T18:33:06.435Z"
   },
   {
    "duration": 8,
    "start_time": "2024-08-24T18:33:06.443Z"
   },
   {
    "duration": 8,
    "start_time": "2024-08-24T18:33:06.453Z"
   },
   {
    "duration": 17,
    "start_time": "2024-08-24T18:33:06.463Z"
   },
   {
    "duration": 10,
    "start_time": "2024-08-24T18:33:06.481Z"
   },
   {
    "duration": 7,
    "start_time": "2024-08-24T18:33:06.492Z"
   },
   {
    "duration": 21,
    "start_time": "2024-08-24T18:33:06.500Z"
   },
   {
    "duration": 19,
    "start_time": "2024-08-24T18:33:06.522Z"
   },
   {
    "duration": 17,
    "start_time": "2024-08-24T18:33:06.543Z"
   },
   {
    "duration": 11,
    "start_time": "2024-08-24T18:33:06.561Z"
   },
   {
    "duration": 5,
    "start_time": "2024-08-24T18:33:06.574Z"
   },
   {
    "duration": 62,
    "start_time": "2024-08-24T18:33:06.581Z"
   },
   {
    "duration": 15,
    "start_time": "2024-08-24T18:33:06.644Z"
   },
   {
    "duration": 23,
    "start_time": "2024-08-24T18:33:06.661Z"
   },
   {
    "duration": 43,
    "start_time": "2024-08-24T18:33:06.686Z"
   },
   {
    "duration": 72,
    "start_time": "2024-08-24T18:33:06.730Z"
   },
   {
    "duration": 441,
    "start_time": "2024-08-24T18:33:06.807Z"
   },
   {
    "duration": 352,
    "start_time": "2024-08-24T18:33:07.250Z"
   },
   {
    "duration": 30,
    "start_time": "2024-08-24T18:33:07.604Z"
   },
   {
    "duration": 8,
    "start_time": "2024-08-24T18:33:07.636Z"
   },
   {
    "duration": 9,
    "start_time": "2024-08-24T18:33:07.646Z"
   },
   {
    "duration": 928,
    "start_time": "2024-08-24T18:33:07.656Z"
   },
   {
    "duration": 234,
    "start_time": "2024-08-24T18:33:08.586Z"
   },
   {
    "duration": 6,
    "start_time": "2024-08-24T18:33:08.822Z"
   },
   {
    "duration": 3,
    "start_time": "2024-08-24T18:33:08.830Z"
   },
   {
    "duration": 303,
    "start_time": "2024-08-24T18:33:08.835Z"
   },
   {
    "duration": 22,
    "start_time": "2024-08-24T18:33:09.139Z"
   },
   {
    "duration": 10,
    "start_time": "2024-08-24T18:33:09.163Z"
   },
   {
    "duration": 972,
    "start_time": "2024-08-24T18:33:09.178Z"
   },
   {
    "duration": 3,
    "start_time": "2024-08-24T18:33:10.152Z"
   },
   {
    "duration": 24,
    "start_time": "2024-08-24T18:33:10.158Z"
   },
   {
    "duration": 25,
    "start_time": "2024-08-24T18:33:10.184Z"
   },
   {
    "duration": 12,
    "start_time": "2024-08-24T18:33:10.211Z"
   },
   {
    "duration": 5,
    "start_time": "2024-08-24T18:33:10.225Z"
   },
   {
    "duration": 4,
    "start_time": "2024-08-24T18:33:10.231Z"
   },
   {
    "duration": 16,
    "start_time": "2024-08-24T18:33:10.237Z"
   },
   {
    "duration": 16,
    "start_time": "2024-08-24T18:33:10.255Z"
   },
   {
    "duration": 20,
    "start_time": "2024-08-24T18:33:10.272Z"
   },
   {
    "duration": 16,
    "start_time": "2024-08-24T18:33:10.294Z"
   },
   {
    "duration": 55300,
    "start_time": "2024-08-24T18:33:10.312Z"
   },
   {
    "duration": 4,
    "start_time": "2024-08-24T18:34:05.614Z"
   },
   {
    "duration": 20,
    "start_time": "2024-08-24T18:34:05.620Z"
   },
   {
    "duration": 10,
    "start_time": "2024-08-24T18:34:05.642Z"
   },
   {
    "duration": 4,
    "start_time": "2024-08-24T18:34:05.654Z"
   },
   {
    "duration": 7,
    "start_time": "2024-08-24T18:34:05.659Z"
   },
   {
    "duration": 22682,
    "start_time": "2024-08-24T18:34:05.668Z"
   },
   {
    "duration": 4,
    "start_time": "2024-08-24T18:34:28.352Z"
   },
   {
    "duration": 8,
    "start_time": "2024-08-24T18:34:28.357Z"
   },
   {
    "duration": 4,
    "start_time": "2024-08-24T18:34:28.366Z"
   },
   {
    "duration": 21,
    "start_time": "2024-08-24T18:34:28.371Z"
   },
   {
    "duration": 216958,
    "start_time": "2024-08-24T18:34:28.394Z"
   },
   {
    "duration": 0,
    "start_time": "2024-08-24T18:38:05.354Z"
   },
   {
    "duration": 0,
    "start_time": "2024-08-24T18:38:05.355Z"
   },
   {
    "duration": 0,
    "start_time": "2024-08-24T18:38:05.357Z"
   },
   {
    "duration": 30,
    "start_time": "2024-08-24T18:38:08.430Z"
   },
   {
    "duration": 33,
    "start_time": "2024-08-24T18:38:55.185Z"
   },
   {
    "duration": 9,
    "start_time": "2024-08-24T18:39:02.218Z"
   },
   {
    "duration": 17,
    "start_time": "2024-08-24T18:39:07.304Z"
   },
   {
    "duration": 15,
    "start_time": "2024-08-24T18:39:38.410Z"
   },
   {
    "duration": 4,
    "start_time": "2024-08-24T18:39:44.939Z"
   },
   {
    "duration": 20382,
    "start_time": "2024-08-24T18:39:47.135Z"
   },
   {
    "duration": 1,
    "start_time": "2024-08-24T18:43:16.175Z"
   },
   {
    "duration": 0,
    "start_time": "2024-08-24T18:43:16.177Z"
   },
   {
    "duration": 3,
    "start_time": "2024-08-24T18:43:18.492Z"
   },
   {
    "duration": 37427,
    "start_time": "2024-08-24T18:43:19.241Z"
   },
   {
    "duration": 0,
    "start_time": "2024-08-24T18:43:56.670Z"
   },
   {
    "duration": 25,
    "start_time": "2024-08-24T18:43:58.022Z"
   },
   {
    "duration": 27,
    "start_time": "2024-08-24T18:44:38.803Z"
   },
   {
    "duration": 40,
    "start_time": "2024-08-24T18:44:39.669Z"
   },
   {
    "duration": 1825,
    "start_time": "2024-08-24T18:44:52.074Z"
   },
   {
    "duration": 69,
    "start_time": "2024-08-24T18:44:53.901Z"
   },
   {
    "duration": 16,
    "start_time": "2024-08-24T18:44:53.972Z"
   },
   {
    "duration": 67,
    "start_time": "2024-08-24T18:44:53.990Z"
   },
   {
    "duration": 8,
    "start_time": "2024-08-24T18:44:54.058Z"
   },
   {
    "duration": 77,
    "start_time": "2024-08-24T18:44:54.067Z"
   },
   {
    "duration": 10,
    "start_time": "2024-08-24T18:44:54.146Z"
   },
   {
    "duration": 71,
    "start_time": "2024-08-24T18:44:54.158Z"
   },
   {
    "duration": 7,
    "start_time": "2024-08-24T18:44:54.231Z"
   },
   {
    "duration": 22,
    "start_time": "2024-08-24T18:44:54.241Z"
   },
   {
    "duration": 7,
    "start_time": "2024-08-24T18:44:54.264Z"
   },
   {
    "duration": 8,
    "start_time": "2024-08-24T18:44:54.273Z"
   },
   {
    "duration": 35,
    "start_time": "2024-08-24T18:44:54.283Z"
   },
   {
    "duration": 13,
    "start_time": "2024-08-24T18:44:54.321Z"
   },
   {
    "duration": 26,
    "start_time": "2024-08-24T18:44:54.336Z"
   },
   {
    "duration": 10,
    "start_time": "2024-08-24T18:44:54.364Z"
   },
   {
    "duration": 19,
    "start_time": "2024-08-24T18:44:54.376Z"
   },
   {
    "duration": 56,
    "start_time": "2024-08-24T18:44:54.397Z"
   },
   {
    "duration": 22,
    "start_time": "2024-08-24T18:44:54.454Z"
   },
   {
    "duration": 18,
    "start_time": "2024-08-24T18:44:54.478Z"
   },
   {
    "duration": 29,
    "start_time": "2024-08-24T18:44:54.498Z"
   },
   {
    "duration": 12,
    "start_time": "2024-08-24T18:44:54.529Z"
   },
   {
    "duration": 49,
    "start_time": "2024-08-24T18:44:54.543Z"
   },
   {
    "duration": 107,
    "start_time": "2024-08-24T18:44:54.594Z"
   },
   {
    "duration": 31,
    "start_time": "2024-08-24T18:44:54.704Z"
   },
   {
    "duration": 81,
    "start_time": "2024-08-24T18:44:54.737Z"
   },
   {
    "duration": 58,
    "start_time": "2024-08-24T18:44:54.819Z"
   },
   {
    "duration": 39,
    "start_time": "2024-08-24T18:44:54.882Z"
   },
   {
    "duration": 374,
    "start_time": "2024-08-24T18:44:54.923Z"
   },
   {
    "duration": 340,
    "start_time": "2024-08-24T18:44:55.299Z"
   },
   {
    "duration": 20,
    "start_time": "2024-08-24T18:44:55.641Z"
   },
   {
    "duration": 7,
    "start_time": "2024-08-24T18:44:55.663Z"
   },
   {
    "duration": 4,
    "start_time": "2024-08-24T18:44:55.671Z"
   },
   {
    "duration": 1016,
    "start_time": "2024-08-24T18:44:55.677Z"
   },
   {
    "duration": 209,
    "start_time": "2024-08-24T18:44:56.695Z"
   },
   {
    "duration": 12,
    "start_time": "2024-08-24T18:44:56.909Z"
   },
   {
    "duration": 10,
    "start_time": "2024-08-24T18:44:56.923Z"
   },
   {
    "duration": 276,
    "start_time": "2024-08-24T18:44:56.934Z"
   },
   {
    "duration": 22,
    "start_time": "2024-08-24T18:44:57.220Z"
   },
   {
    "duration": 4,
    "start_time": "2024-08-24T18:44:57.243Z"
   },
   {
    "duration": 985,
    "start_time": "2024-08-24T18:44:57.248Z"
   },
   {
    "duration": 3,
    "start_time": "2024-08-24T18:44:58.235Z"
   },
   {
    "duration": 7,
    "start_time": "2024-08-24T18:44:58.240Z"
   },
   {
    "duration": 15,
    "start_time": "2024-08-24T18:44:58.248Z"
   },
   {
    "duration": 9,
    "start_time": "2024-08-24T18:44:58.265Z"
   },
   {
    "duration": 5,
    "start_time": "2024-08-24T18:44:58.275Z"
   },
   {
    "duration": 4,
    "start_time": "2024-08-24T18:44:58.281Z"
   },
   {
    "duration": 24,
    "start_time": "2024-08-24T18:44:58.286Z"
   },
   {
    "duration": 14,
    "start_time": "2024-08-24T18:44:58.312Z"
   },
   {
    "duration": 6,
    "start_time": "2024-08-24T18:44:58.327Z"
   },
   {
    "duration": 24,
    "start_time": "2024-08-24T18:44:58.335Z"
   },
   {
    "duration": 138,
    "start_time": "2024-08-24T18:44:58.361Z"
   },
   {
    "duration": 0,
    "start_time": "2024-08-24T18:44:58.501Z"
   },
   {
    "duration": 0,
    "start_time": "2024-08-24T18:44:58.502Z"
   },
   {
    "duration": 0,
    "start_time": "2024-08-24T18:44:58.507Z"
   },
   {
    "duration": 0,
    "start_time": "2024-08-24T18:44:58.508Z"
   },
   {
    "duration": 0,
    "start_time": "2024-08-24T18:44:58.515Z"
   },
   {
    "duration": 0,
    "start_time": "2024-08-24T18:44:58.518Z"
   },
   {
    "duration": 0,
    "start_time": "2024-08-24T18:44:58.519Z"
   },
   {
    "duration": 0,
    "start_time": "2024-08-24T18:44:58.521Z"
   },
   {
    "duration": 0,
    "start_time": "2024-08-24T18:44:58.522Z"
   },
   {
    "duration": 0,
    "start_time": "2024-08-24T18:44:58.523Z"
   },
   {
    "duration": 0,
    "start_time": "2024-08-24T18:44:58.524Z"
   },
   {
    "duration": 0,
    "start_time": "2024-08-24T18:44:58.526Z"
   },
   {
    "duration": 0,
    "start_time": "2024-08-24T18:44:58.527Z"
   },
   {
    "duration": 0,
    "start_time": "2024-08-24T18:44:58.528Z"
   },
   {
    "duration": 0,
    "start_time": "2024-08-24T18:44:58.529Z"
   },
   {
    "duration": 0,
    "start_time": "2024-08-24T18:44:58.530Z"
   },
   {
    "duration": 35383,
    "start_time": "2024-08-24T18:46:58.353Z"
   },
   {
    "duration": 3,
    "start_time": "2024-08-24T18:47:38.993Z"
   },
   {
    "duration": 3,
    "start_time": "2024-08-24T18:47:40.462Z"
   },
   {
    "duration": 28,
    "start_time": "2024-08-24T18:47:40.928Z"
   },
   {
    "duration": 0,
    "start_time": "2024-08-24T18:50:43.695Z"
   },
   {
    "duration": 5,
    "start_time": "2024-08-24T18:50:44.698Z"
   },
   {
    "duration": 0,
    "start_time": "2024-08-24T18:51:06.181Z"
   },
   {
    "duration": 95447,
    "start_time": "2024-08-24T18:51:06.881Z"
   },
   {
    "duration": 6,
    "start_time": "2024-08-24T18:53:08.215Z"
   },
   {
    "duration": 37481,
    "start_time": "2024-08-24T18:54:15.316Z"
   },
   {
    "duration": 4,
    "start_time": "2024-08-24T18:54:55.919Z"
   },
   {
    "duration": 28,
    "start_time": "2024-08-24T18:54:57.558Z"
   },
   {
    "duration": 38956,
    "start_time": "2024-08-24T18:54:59.456Z"
   },
   {
    "duration": 15,
    "start_time": "2024-08-24T18:56:18.396Z"
   },
   {
    "duration": 15,
    "start_time": "2024-08-24T18:56:23.509Z"
   },
   {
    "duration": 3,
    "start_time": "2024-08-24T18:56:35.620Z"
   },
   {
    "duration": 64746,
    "start_time": "2024-08-24T18:56:35.990Z"
   },
   {
    "duration": 5,
    "start_time": "2024-08-24T18:57:40.806Z"
   },
   {
    "duration": 3,
    "start_time": "2024-08-24T18:57:49.352Z"
   },
   {
    "duration": 4,
    "start_time": "2024-08-24T18:57:49.937Z"
   },
   {
    "duration": 3,
    "start_time": "2024-08-24T18:57:51.272Z"
   },
   {
    "duration": 3,
    "start_time": "2024-08-24T18:57:52.587Z"
   },
   {
    "duration": 3,
    "start_time": "2024-08-24T18:57:54.094Z"
   },
   {
    "duration": 24934,
    "start_time": "2024-08-24T18:57:54.926Z"
   },
   {
    "duration": 6,
    "start_time": "2024-08-24T19:04:15.490Z"
   },
   {
    "duration": 6,
    "start_time": "2024-08-24T19:04:16.382Z"
   },
   {
    "duration": 1924,
    "start_time": "2024-08-24T19:04:47.344Z"
   },
   {
    "duration": 179,
    "start_time": "2024-08-24T19:04:49.270Z"
   },
   {
    "duration": 14,
    "start_time": "2024-08-24T19:04:49.451Z"
   },
   {
    "duration": 79,
    "start_time": "2024-08-24T19:04:49.467Z"
   },
   {
    "duration": 9,
    "start_time": "2024-08-24T19:04:49.547Z"
   },
   {
    "duration": 89,
    "start_time": "2024-08-24T19:04:49.557Z"
   },
   {
    "duration": 10,
    "start_time": "2024-08-24T19:04:49.647Z"
   },
   {
    "duration": 151,
    "start_time": "2024-08-24T19:04:49.659Z"
   },
   {
    "duration": 14,
    "start_time": "2024-08-24T19:04:49.812Z"
   },
   {
    "duration": 12,
    "start_time": "2024-08-24T19:04:49.830Z"
   },
   {
    "duration": 33,
    "start_time": "2024-08-24T19:04:49.843Z"
   },
   {
    "duration": 59,
    "start_time": "2024-08-24T19:04:49.878Z"
   },
   {
    "duration": 29,
    "start_time": "2024-08-24T19:04:49.939Z"
   },
   {
    "duration": 9,
    "start_time": "2024-08-24T19:04:49.969Z"
   },
   {
    "duration": 8,
    "start_time": "2024-08-24T19:04:49.980Z"
   },
   {
    "duration": 9,
    "start_time": "2024-08-24T19:04:49.989Z"
   },
   {
    "duration": 18,
    "start_time": "2024-08-24T19:04:50.000Z"
   },
   {
    "duration": 13,
    "start_time": "2024-08-24T19:04:50.022Z"
   },
   {
    "duration": 17,
    "start_time": "2024-08-24T19:04:50.037Z"
   },
   {
    "duration": 18,
    "start_time": "2024-08-24T19:04:50.056Z"
   },
   {
    "duration": 17,
    "start_time": "2024-08-24T19:04:50.076Z"
   },
   {
    "duration": 23,
    "start_time": "2024-08-24T19:04:50.094Z"
   },
   {
    "duration": 4,
    "start_time": "2024-08-24T19:04:50.120Z"
   },
   {
    "duration": 51,
    "start_time": "2024-08-24T19:04:50.126Z"
   },
   {
    "duration": 41,
    "start_time": "2024-08-24T19:04:50.178Z"
   },
   {
    "duration": 7,
    "start_time": "2024-08-24T19:04:50.227Z"
   },
   {
    "duration": 28,
    "start_time": "2024-08-24T19:04:50.235Z"
   },
   {
    "duration": 69,
    "start_time": "2024-08-24T19:04:50.267Z"
   },
   {
    "duration": 396,
    "start_time": "2024-08-24T19:04:50.339Z"
   },
   {
    "duration": 395,
    "start_time": "2024-08-24T19:04:50.737Z"
   },
   {
    "duration": 20,
    "start_time": "2024-08-24T19:04:51.133Z"
   },
   {
    "duration": 77,
    "start_time": "2024-08-24T19:04:51.155Z"
   },
   {
    "duration": 19,
    "start_time": "2024-08-24T19:04:51.234Z"
   },
   {
    "duration": 1037,
    "start_time": "2024-08-24T19:04:51.255Z"
   },
   {
    "duration": 223,
    "start_time": "2024-08-24T19:04:52.293Z"
   },
   {
    "duration": 17,
    "start_time": "2024-08-24T19:04:52.518Z"
   },
   {
    "duration": 19,
    "start_time": "2024-08-24T19:04:52.540Z"
   },
   {
    "duration": 34,
    "start_time": "2024-08-24T19:04:52.560Z"
   },
   {
    "duration": 274,
    "start_time": "2024-08-24T19:04:52.596Z"
   },
   {
    "duration": 11,
    "start_time": "2024-08-24T19:04:52.872Z"
   },
   {
    "duration": 4,
    "start_time": "2024-08-24T19:04:52.885Z"
   },
   {
    "duration": 2203,
    "start_time": "2024-08-24T19:04:52.890Z"
   },
   {
    "duration": 3,
    "start_time": "2024-08-24T19:04:55.096Z"
   },
   {
    "duration": 94,
    "start_time": "2024-08-24T19:04:55.101Z"
   },
   {
    "duration": 43,
    "start_time": "2024-08-24T19:04:55.197Z"
   },
   {
    "duration": 15,
    "start_time": "2024-08-24T19:04:55.242Z"
   },
   {
    "duration": 12,
    "start_time": "2024-08-24T19:04:55.259Z"
   },
   {
    "duration": 6,
    "start_time": "2024-08-24T19:04:55.272Z"
   },
   {
    "duration": 38,
    "start_time": "2024-08-24T19:04:55.280Z"
   },
   {
    "duration": 7,
    "start_time": "2024-08-24T19:04:55.322Z"
   },
   {
    "duration": 3,
    "start_time": "2024-08-24T19:04:55.331Z"
   },
   {
    "duration": 9,
    "start_time": "2024-08-24T19:04:55.337Z"
   },
   {
    "duration": 90681,
    "start_time": "2024-08-24T19:04:55.347Z"
   },
   {
    "duration": 5,
    "start_time": "2024-08-24T19:06:26.047Z"
   },
   {
    "duration": 8,
    "start_time": "2024-08-24T19:06:26.054Z"
   },
   {
    "duration": 7,
    "start_time": "2024-08-24T19:06:26.063Z"
   },
   {
    "duration": 15,
    "start_time": "2024-08-24T19:06:26.072Z"
   },
   {
    "duration": 37,
    "start_time": "2024-08-24T19:06:26.089Z"
   },
   {
    "duration": 27016,
    "start_time": "2024-08-24T19:06:26.128Z"
   },
   {
    "duration": 4,
    "start_time": "2024-08-24T19:06:53.146Z"
   },
   {
    "duration": 79,
    "start_time": "2024-08-24T19:06:53.151Z"
   },
   {
    "duration": 18,
    "start_time": "2024-08-24T19:06:53.231Z"
   },
   {
    "duration": 21,
    "start_time": "2024-08-24T19:06:53.250Z"
   },
   {
    "duration": 3,
    "start_time": "2024-08-24T19:06:53.275Z"
   },
   {
    "duration": 157,
    "start_time": "2024-08-24T19:08:11.890Z"
   },
   {
    "duration": 913,
    "start_time": "2024-08-24T19:08:18.657Z"
   },
   {
    "duration": 1835,
    "start_time": "2024-08-24T19:08:37.003Z"
   },
   {
    "duration": 76,
    "start_time": "2024-08-24T19:08:38.841Z"
   },
   {
    "duration": 23,
    "start_time": "2024-08-24T19:08:38.920Z"
   },
   {
    "duration": 44,
    "start_time": "2024-08-24T19:08:38.946Z"
   },
   {
    "duration": 8,
    "start_time": "2024-08-24T19:08:38.992Z"
   },
   {
    "duration": 47,
    "start_time": "2024-08-24T19:08:39.002Z"
   },
   {
    "duration": 10,
    "start_time": "2024-08-24T19:08:39.051Z"
   },
   {
    "duration": 61,
    "start_time": "2024-08-24T19:08:39.062Z"
   },
   {
    "duration": 8,
    "start_time": "2024-08-24T19:08:39.125Z"
   },
   {
    "duration": 10,
    "start_time": "2024-08-24T19:08:39.136Z"
   },
   {
    "duration": 34,
    "start_time": "2024-08-24T19:08:39.147Z"
   },
   {
    "duration": 54,
    "start_time": "2024-08-24T19:08:39.183Z"
   },
   {
    "duration": 6,
    "start_time": "2024-08-24T19:08:39.238Z"
   },
   {
    "duration": 14,
    "start_time": "2024-08-24T19:08:39.245Z"
   },
   {
    "duration": 9,
    "start_time": "2024-08-24T19:08:39.261Z"
   },
   {
    "duration": 8,
    "start_time": "2024-08-24T19:08:39.271Z"
   },
   {
    "duration": 13,
    "start_time": "2024-08-24T19:08:39.280Z"
   },
   {
    "duration": 6,
    "start_time": "2024-08-24T19:08:39.295Z"
   },
   {
    "duration": 15,
    "start_time": "2024-08-24T19:08:39.303Z"
   },
   {
    "duration": 25,
    "start_time": "2024-08-24T19:08:39.324Z"
   },
   {
    "duration": 16,
    "start_time": "2024-08-24T19:08:39.351Z"
   },
   {
    "duration": 4,
    "start_time": "2024-08-24T19:08:39.368Z"
   },
   {
    "duration": 62,
    "start_time": "2024-08-24T19:08:39.373Z"
   },
   {
    "duration": 21,
    "start_time": "2024-08-24T19:08:39.437Z"
   },
   {
    "duration": 5,
    "start_time": "2024-08-24T19:08:39.460Z"
   },
   {
    "duration": 45,
    "start_time": "2024-08-24T19:08:39.467Z"
   },
   {
    "duration": 54,
    "start_time": "2024-08-24T19:08:39.520Z"
   },
   {
    "duration": 390,
    "start_time": "2024-08-24T19:08:39.577Z"
   },
   {
    "duration": 391,
    "start_time": "2024-08-24T19:08:39.969Z"
   },
   {
    "duration": 18,
    "start_time": "2024-08-24T19:08:40.362Z"
   },
   {
    "duration": 37,
    "start_time": "2024-08-24T19:08:40.382Z"
   },
   {
    "duration": 15,
    "start_time": "2024-08-24T19:08:40.421Z"
   },
   {
    "duration": 953,
    "start_time": "2024-08-24T19:08:40.437Z"
   },
   {
    "duration": 228,
    "start_time": "2024-08-24T19:08:41.392Z"
   },
   {
    "duration": 9,
    "start_time": "2024-08-24T19:08:41.628Z"
   },
   {
    "duration": 6,
    "start_time": "2024-08-24T19:08:41.639Z"
   },
   {
    "duration": 3,
    "start_time": "2024-08-24T19:08:41.647Z"
   },
   {
    "duration": 1248,
    "start_time": "2024-08-24T19:08:41.652Z"
   },
   {
    "duration": 0,
    "start_time": "2024-08-24T19:08:42.902Z"
   },
   {
    "duration": 0,
    "start_time": "2024-08-24T19:08:42.903Z"
   },
   {
    "duration": 0,
    "start_time": "2024-08-24T19:08:42.905Z"
   },
   {
    "duration": 0,
    "start_time": "2024-08-24T19:08:42.907Z"
   },
   {
    "duration": 0,
    "start_time": "2024-08-24T19:08:42.908Z"
   },
   {
    "duration": 0,
    "start_time": "2024-08-24T19:08:42.909Z"
   },
   {
    "duration": 0,
    "start_time": "2024-08-24T19:08:42.910Z"
   },
   {
    "duration": 0,
    "start_time": "2024-08-24T19:08:42.915Z"
   },
   {
    "duration": 0,
    "start_time": "2024-08-24T19:08:42.917Z"
   },
   {
    "duration": 0,
    "start_time": "2024-08-24T19:08:42.918Z"
   },
   {
    "duration": 0,
    "start_time": "2024-08-24T19:08:42.920Z"
   },
   {
    "duration": 0,
    "start_time": "2024-08-24T19:08:42.921Z"
   },
   {
    "duration": 0,
    "start_time": "2024-08-24T19:08:42.923Z"
   },
   {
    "duration": 0,
    "start_time": "2024-08-24T19:08:42.924Z"
   },
   {
    "duration": 0,
    "start_time": "2024-08-24T19:08:42.925Z"
   },
   {
    "duration": 0,
    "start_time": "2024-08-24T19:08:42.927Z"
   },
   {
    "duration": 0,
    "start_time": "2024-08-24T19:08:42.931Z"
   },
   {
    "duration": 0,
    "start_time": "2024-08-24T19:08:42.932Z"
   },
   {
    "duration": 0,
    "start_time": "2024-08-24T19:08:42.933Z"
   },
   {
    "duration": 0,
    "start_time": "2024-08-24T19:08:42.935Z"
   },
   {
    "duration": 0,
    "start_time": "2024-08-24T19:08:42.936Z"
   },
   {
    "duration": 0,
    "start_time": "2024-08-24T19:08:42.940Z"
   },
   {
    "duration": 0,
    "start_time": "2024-08-24T19:08:42.941Z"
   },
   {
    "duration": 0,
    "start_time": "2024-08-24T19:08:42.942Z"
   },
   {
    "duration": 1,
    "start_time": "2024-08-24T19:08:42.945Z"
   },
   {
    "duration": 1,
    "start_time": "2024-08-24T19:08:42.946Z"
   },
   {
    "duration": 29,
    "start_time": "2024-08-24T19:09:11.616Z"
   },
   {
    "duration": 5,
    "start_time": "2024-08-24T19:09:28.239Z"
   },
   {
    "duration": 13,
    "start_time": "2024-08-24T19:09:51.215Z"
   },
   {
    "duration": 11,
    "start_time": "2024-08-24T19:18:00.634Z"
   },
   {
    "duration": 3,
    "start_time": "2024-08-24T19:18:18.969Z"
   },
   {
    "duration": 31,
    "start_time": "2024-08-24T19:18:21.283Z"
   },
   {
    "duration": 18,
    "start_time": "2024-08-24T19:19:03.340Z"
   },
   {
    "duration": 6,
    "start_time": "2024-08-24T19:19:08.955Z"
   },
   {
    "duration": 8,
    "start_time": "2024-08-24T19:19:11.477Z"
   },
   {
    "duration": 981,
    "start_time": "2024-08-24T19:19:14.178Z"
   },
   {
    "duration": 1930,
    "start_time": "2024-08-24T19:19:34.021Z"
   },
   {
    "duration": 99,
    "start_time": "2024-08-24T19:19:35.953Z"
   },
   {
    "duration": 17,
    "start_time": "2024-08-24T19:19:36.054Z"
   },
   {
    "duration": 65,
    "start_time": "2024-08-24T19:19:36.072Z"
   },
   {
    "duration": 9,
    "start_time": "2024-08-24T19:19:36.140Z"
   },
   {
    "duration": 107,
    "start_time": "2024-08-24T19:19:36.152Z"
   },
   {
    "duration": 11,
    "start_time": "2024-08-24T19:19:36.261Z"
   },
   {
    "duration": 97,
    "start_time": "2024-08-24T19:19:36.273Z"
   },
   {
    "duration": 7,
    "start_time": "2024-08-24T19:19:36.371Z"
   },
   {
    "duration": 63,
    "start_time": "2024-08-24T19:19:36.379Z"
   },
   {
    "duration": 35,
    "start_time": "2024-08-24T19:19:36.444Z"
   },
   {
    "duration": 39,
    "start_time": "2024-08-24T19:19:36.481Z"
   },
   {
    "duration": 24,
    "start_time": "2024-08-24T19:19:36.522Z"
   },
   {
    "duration": 44,
    "start_time": "2024-08-24T19:19:36.549Z"
   },
   {
    "duration": 56,
    "start_time": "2024-08-24T19:19:36.595Z"
   },
   {
    "duration": 88,
    "start_time": "2024-08-24T19:19:36.653Z"
   },
   {
    "duration": 34,
    "start_time": "2024-08-24T19:19:36.743Z"
   },
   {
    "duration": 40,
    "start_time": "2024-08-24T19:19:36.778Z"
   },
   {
    "duration": 38,
    "start_time": "2024-08-24T19:19:36.819Z"
   },
   {
    "duration": 86,
    "start_time": "2024-08-24T19:19:36.859Z"
   },
   {
    "duration": 27,
    "start_time": "2024-08-24T19:19:36.946Z"
   },
   {
    "duration": 16,
    "start_time": "2024-08-24T19:19:36.975Z"
   },
   {
    "duration": 61,
    "start_time": "2024-08-24T19:19:36.993Z"
   },
   {
    "duration": 14,
    "start_time": "2024-08-24T19:19:37.056Z"
   },
   {
    "duration": 8,
    "start_time": "2024-08-24T19:19:37.072Z"
   },
   {
    "duration": 53,
    "start_time": "2024-08-24T19:19:37.082Z"
   },
   {
    "duration": 92,
    "start_time": "2024-08-24T19:19:37.137Z"
   },
   {
    "duration": 439,
    "start_time": "2024-08-24T19:19:37.233Z"
   },
   {
    "duration": 397,
    "start_time": "2024-08-24T19:19:37.674Z"
   },
   {
    "duration": 49,
    "start_time": "2024-08-24T19:19:38.074Z"
   },
   {
    "duration": 9,
    "start_time": "2024-08-24T19:19:38.131Z"
   },
   {
    "duration": 27,
    "start_time": "2024-08-24T19:19:38.142Z"
   },
   {
    "duration": 1064,
    "start_time": "2024-08-24T19:19:38.171Z"
   },
   {
    "duration": 204,
    "start_time": "2024-08-24T19:19:39.237Z"
   },
   {
    "duration": 5,
    "start_time": "2024-08-24T19:19:39.442Z"
   },
   {
    "duration": 12,
    "start_time": "2024-08-24T19:19:39.449Z"
   },
   {
    "duration": 17,
    "start_time": "2024-08-24T19:19:39.463Z"
   },
   {
    "duration": 36,
    "start_time": "2024-08-24T19:19:39.482Z"
   },
   {
    "duration": 21,
    "start_time": "2024-08-24T19:19:39.520Z"
   },
   {
    "duration": 46,
    "start_time": "2024-08-24T19:19:39.543Z"
   },
   {
    "duration": 18,
    "start_time": "2024-08-24T19:19:39.593Z"
   },
   {
    "duration": 21,
    "start_time": "2024-08-24T19:19:39.612Z"
   },
   {
    "duration": 20,
    "start_time": "2024-08-24T19:19:39.634Z"
   },
   {
    "duration": 291,
    "start_time": "2024-08-24T19:19:39.656Z"
   },
   {
    "duration": 11,
    "start_time": "2024-08-24T19:19:39.949Z"
   },
   {
    "duration": 72,
    "start_time": "2024-08-24T19:19:39.962Z"
   },
   {
    "duration": 2261,
    "start_time": "2024-08-24T19:19:40.036Z"
   },
   {
    "duration": 3,
    "start_time": "2024-08-24T19:19:42.299Z"
   },
   {
    "duration": 14,
    "start_time": "2024-08-24T19:19:42.304Z"
   },
   {
    "duration": 16,
    "start_time": "2024-08-24T19:19:42.321Z"
   },
   {
    "duration": 9,
    "start_time": "2024-08-24T19:19:42.339Z"
   },
   {
    "duration": 5,
    "start_time": "2024-08-24T19:19:42.349Z"
   },
   {
    "duration": 5,
    "start_time": "2024-08-24T19:19:42.355Z"
   },
   {
    "duration": 25,
    "start_time": "2024-08-24T19:19:42.361Z"
   },
   {
    "duration": 3,
    "start_time": "2024-08-24T19:19:42.388Z"
   },
   {
    "duration": 7,
    "start_time": "2024-08-24T19:19:42.408Z"
   },
   {
    "duration": 15,
    "start_time": "2024-08-24T19:19:42.416Z"
   },
   {
    "duration": 87283,
    "start_time": "2024-08-24T19:19:42.434Z"
   },
   {
    "duration": 6,
    "start_time": "2024-08-24T19:21:09.719Z"
   },
   {
    "duration": 9,
    "start_time": "2024-08-24T19:21:09.727Z"
   },
   {
    "duration": 6,
    "start_time": "2024-08-24T19:21:09.738Z"
   },
   {
    "duration": 15,
    "start_time": "2024-08-24T19:21:09.746Z"
   },
   {
    "duration": 15,
    "start_time": "2024-08-24T19:21:09.763Z"
   },
   {
    "duration": 26394,
    "start_time": "2024-08-24T19:21:09.779Z"
   },
   {
    "duration": 5,
    "start_time": "2024-08-24T19:21:36.175Z"
   },
   {
    "duration": 8,
    "start_time": "2024-08-24T19:21:36.182Z"
   },
   {
    "duration": 28,
    "start_time": "2024-08-24T19:21:36.205Z"
   },
   {
    "duration": 8,
    "start_time": "2024-08-24T19:21:36.238Z"
   },
   {
    "duration": 1944,
    "start_time": "2024-08-24T19:26:47.232Z"
   },
   {
    "duration": 73,
    "start_time": "2024-08-24T19:26:49.178Z"
   },
   {
    "duration": 18,
    "start_time": "2024-08-24T19:26:49.253Z"
   },
   {
    "duration": 58,
    "start_time": "2024-08-24T19:26:49.274Z"
   },
   {
    "duration": 9,
    "start_time": "2024-08-24T19:26:49.339Z"
   },
   {
    "duration": 55,
    "start_time": "2024-08-24T19:26:49.350Z"
   },
   {
    "duration": 17,
    "start_time": "2024-08-24T19:26:49.409Z"
   },
   {
    "duration": 37,
    "start_time": "2024-08-24T19:26:49.432Z"
   },
   {
    "duration": 8,
    "start_time": "2024-08-24T19:26:49.471Z"
   },
   {
    "duration": 12,
    "start_time": "2024-08-24T19:26:49.481Z"
   },
   {
    "duration": 8,
    "start_time": "2024-08-24T19:26:49.495Z"
   },
   {
    "duration": 15,
    "start_time": "2024-08-24T19:26:49.505Z"
   },
   {
    "duration": 16,
    "start_time": "2024-08-24T19:26:49.527Z"
   },
   {
    "duration": 8,
    "start_time": "2024-08-24T19:26:49.545Z"
   },
   {
    "duration": 8,
    "start_time": "2024-08-24T19:26:49.554Z"
   },
   {
    "duration": 7,
    "start_time": "2024-08-24T19:26:49.564Z"
   },
   {
    "duration": 5,
    "start_time": "2024-08-24T19:26:49.573Z"
   },
   {
    "duration": 47,
    "start_time": "2024-08-24T19:26:49.580Z"
   },
   {
    "duration": 10,
    "start_time": "2024-08-24T19:26:49.634Z"
   },
   {
    "duration": 18,
    "start_time": "2024-08-24T19:26:49.646Z"
   },
   {
    "duration": 20,
    "start_time": "2024-08-24T19:26:49.665Z"
   },
   {
    "duration": 4,
    "start_time": "2024-08-24T19:26:49.687Z"
   },
   {
    "duration": 65,
    "start_time": "2024-08-24T19:26:49.693Z"
   },
   {
    "duration": 14,
    "start_time": "2024-08-24T19:26:49.760Z"
   },
   {
    "duration": 8,
    "start_time": "2024-08-24T19:26:49.776Z"
   },
   {
    "duration": 51,
    "start_time": "2024-08-24T19:26:49.786Z"
   },
   {
    "duration": 47,
    "start_time": "2024-08-24T19:26:49.839Z"
   },
   {
    "duration": 401,
    "start_time": "2024-08-24T19:26:49.890Z"
   },
   {
    "duration": 365,
    "start_time": "2024-08-24T19:26:50.292Z"
   },
   {
    "duration": 18,
    "start_time": "2024-08-24T19:26:50.658Z"
   },
   {
    "duration": 14,
    "start_time": "2024-08-24T19:26:50.677Z"
   },
   {
    "duration": 61,
    "start_time": "2024-08-24T19:26:50.692Z"
   },
   {
    "duration": 1078,
    "start_time": "2024-08-24T19:26:50.755Z"
   },
   {
    "duration": 198,
    "start_time": "2024-08-24T19:26:51.835Z"
   },
   {
    "duration": 5,
    "start_time": "2024-08-24T19:26:52.034Z"
   },
   {
    "duration": 26,
    "start_time": "2024-08-24T19:26:52.041Z"
   },
   {
    "duration": 3,
    "start_time": "2024-08-24T19:26:52.069Z"
   },
   {
    "duration": 6,
    "start_time": "2024-08-24T19:26:52.073Z"
   },
   {
    "duration": 4,
    "start_time": "2024-08-24T19:26:52.080Z"
   },
   {
    "duration": 46,
    "start_time": "2024-08-24T19:26:52.086Z"
   },
   {
    "duration": 7,
    "start_time": "2024-08-24T19:26:52.134Z"
   },
   {
    "duration": 16,
    "start_time": "2024-08-24T19:26:52.142Z"
   },
   {
    "duration": 17,
    "start_time": "2024-08-24T19:26:52.159Z"
   },
   {
    "duration": 320,
    "start_time": "2024-08-24T19:26:52.177Z"
   },
   {
    "duration": 33,
    "start_time": "2024-08-24T19:26:52.499Z"
   },
   {
    "duration": 5,
    "start_time": "2024-08-24T19:26:52.536Z"
   },
   {
    "duration": 2211,
    "start_time": "2024-08-24T19:26:52.542Z"
   },
   {
    "duration": 4,
    "start_time": "2024-08-24T19:26:54.755Z"
   },
   {
    "duration": 39,
    "start_time": "2024-08-24T19:26:54.760Z"
   },
   {
    "duration": 29,
    "start_time": "2024-08-24T19:26:54.801Z"
   },
   {
    "duration": 15,
    "start_time": "2024-08-24T19:26:54.834Z"
   },
   {
    "duration": 26,
    "start_time": "2024-08-24T19:26:54.851Z"
   },
   {
    "duration": 51,
    "start_time": "2024-08-24T19:26:54.879Z"
   },
   {
    "duration": 14,
    "start_time": "2024-08-24T19:26:54.932Z"
   },
   {
    "duration": 4,
    "start_time": "2024-08-24T19:26:54.948Z"
   },
   {
    "duration": 19,
    "start_time": "2024-08-24T19:26:54.953Z"
   },
   {
    "duration": 7,
    "start_time": "2024-08-24T19:26:54.974Z"
   },
   {
    "duration": 89849,
    "start_time": "2024-08-24T19:26:54.983Z"
   },
   {
    "duration": 5,
    "start_time": "2024-08-24T19:28:24.839Z"
   },
   {
    "duration": 16,
    "start_time": "2024-08-24T19:28:24.846Z"
   },
   {
    "duration": 61,
    "start_time": "2024-08-24T19:28:24.864Z"
   },
   {
    "duration": 3,
    "start_time": "2024-08-24T19:28:24.928Z"
   },
   {
    "duration": 7,
    "start_time": "2024-08-24T19:28:24.933Z"
   },
   {
    "duration": 26818,
    "start_time": "2024-08-24T19:28:24.942Z"
   },
   {
    "duration": 3,
    "start_time": "2024-08-24T19:28:51.762Z"
   },
   {
    "duration": 59,
    "start_time": "2024-08-24T19:28:51.767Z"
   },
   {
    "duration": 23,
    "start_time": "2024-08-24T19:28:51.829Z"
   },
   {
    "duration": 9,
    "start_time": "2024-08-24T19:28:51.854Z"
   },
   {
    "duration": 3,
    "start_time": "2024-08-24T19:30:36.053Z"
   },
   {
    "duration": 1080,
    "start_time": "2024-08-24T19:30:36.946Z"
   },
   {
    "duration": 1876,
    "start_time": "2024-08-24T19:30:44.919Z"
   },
   {
    "duration": 75,
    "start_time": "2024-08-24T19:30:46.797Z"
   },
   {
    "duration": 16,
    "start_time": "2024-08-24T19:30:46.874Z"
   },
   {
    "duration": 74,
    "start_time": "2024-08-24T19:30:46.892Z"
   },
   {
    "duration": 11,
    "start_time": "2024-08-24T19:30:46.968Z"
   },
   {
    "duration": 57,
    "start_time": "2024-08-24T19:30:46.980Z"
   },
   {
    "duration": 10,
    "start_time": "2024-08-24T19:30:47.039Z"
   },
   {
    "duration": 39,
    "start_time": "2024-08-24T19:30:47.051Z"
   },
   {
    "duration": 7,
    "start_time": "2024-08-24T19:30:47.092Z"
   },
   {
    "duration": 20,
    "start_time": "2024-08-24T19:30:47.100Z"
   },
   {
    "duration": 11,
    "start_time": "2024-08-24T19:30:47.122Z"
   },
   {
    "duration": 30,
    "start_time": "2024-08-24T19:30:47.135Z"
   },
   {
    "duration": 13,
    "start_time": "2024-08-24T19:30:47.167Z"
   },
   {
    "duration": 9,
    "start_time": "2024-08-24T19:30:47.184Z"
   },
   {
    "duration": 27,
    "start_time": "2024-08-24T19:30:47.195Z"
   },
   {
    "duration": 26,
    "start_time": "2024-08-24T19:30:47.224Z"
   },
   {
    "duration": 81,
    "start_time": "2024-08-24T19:30:47.251Z"
   },
   {
    "duration": 18,
    "start_time": "2024-08-24T19:30:47.334Z"
   },
   {
    "duration": 11,
    "start_time": "2024-08-24T19:30:47.354Z"
   },
   {
    "duration": 20,
    "start_time": "2024-08-24T19:30:47.366Z"
   },
   {
    "duration": 28,
    "start_time": "2024-08-24T19:30:47.387Z"
   },
   {
    "duration": 7,
    "start_time": "2024-08-24T19:30:47.420Z"
   },
   {
    "duration": 148,
    "start_time": "2024-08-24T19:30:47.429Z"
   },
   {
    "duration": 0,
    "start_time": "2024-08-24T19:30:47.580Z"
   },
   {
    "duration": 0,
    "start_time": "2024-08-24T19:30:47.581Z"
   },
   {
    "duration": 0,
    "start_time": "2024-08-24T19:30:47.582Z"
   },
   {
    "duration": 0,
    "start_time": "2024-08-24T19:30:47.583Z"
   },
   {
    "duration": 0,
    "start_time": "2024-08-24T19:30:47.584Z"
   },
   {
    "duration": 0,
    "start_time": "2024-08-24T19:30:47.585Z"
   },
   {
    "duration": 0,
    "start_time": "2024-08-24T19:30:47.586Z"
   },
   {
    "duration": 0,
    "start_time": "2024-08-24T19:30:47.587Z"
   },
   {
    "duration": 0,
    "start_time": "2024-08-24T19:30:47.589Z"
   },
   {
    "duration": 0,
    "start_time": "2024-08-24T19:30:47.590Z"
   },
   {
    "duration": 0,
    "start_time": "2024-08-24T19:30:47.608Z"
   },
   {
    "duration": 0,
    "start_time": "2024-08-24T19:30:47.609Z"
   },
   {
    "duration": 0,
    "start_time": "2024-08-24T19:30:47.610Z"
   },
   {
    "duration": 0,
    "start_time": "2024-08-24T19:30:47.611Z"
   },
   {
    "duration": 0,
    "start_time": "2024-08-24T19:30:47.611Z"
   },
   {
    "duration": 0,
    "start_time": "2024-08-24T19:30:47.619Z"
   },
   {
    "duration": 0,
    "start_time": "2024-08-24T19:30:47.619Z"
   },
   {
    "duration": 0,
    "start_time": "2024-08-24T19:30:47.620Z"
   },
   {
    "duration": 0,
    "start_time": "2024-08-24T19:30:47.621Z"
   },
   {
    "duration": 0,
    "start_time": "2024-08-24T19:30:47.621Z"
   },
   {
    "duration": 0,
    "start_time": "2024-08-24T19:30:47.622Z"
   },
   {
    "duration": 0,
    "start_time": "2024-08-24T19:30:47.623Z"
   },
   {
    "duration": 0,
    "start_time": "2024-08-24T19:30:47.623Z"
   },
   {
    "duration": 0,
    "start_time": "2024-08-24T19:30:47.624Z"
   },
   {
    "duration": 0,
    "start_time": "2024-08-24T19:30:47.625Z"
   },
   {
    "duration": 1,
    "start_time": "2024-08-24T19:30:47.625Z"
   },
   {
    "duration": 0,
    "start_time": "2024-08-24T19:30:47.626Z"
   },
   {
    "duration": 0,
    "start_time": "2024-08-24T19:30:47.627Z"
   },
   {
    "duration": 0,
    "start_time": "2024-08-24T19:30:47.627Z"
   },
   {
    "duration": 0,
    "start_time": "2024-08-24T19:30:47.628Z"
   },
   {
    "duration": 0,
    "start_time": "2024-08-24T19:30:47.629Z"
   },
   {
    "duration": 0,
    "start_time": "2024-08-24T19:30:47.629Z"
   },
   {
    "duration": 0,
    "start_time": "2024-08-24T19:30:47.632Z"
   },
   {
    "duration": 0,
    "start_time": "2024-08-24T19:30:47.633Z"
   },
   {
    "duration": 0,
    "start_time": "2024-08-24T19:30:47.634Z"
   },
   {
    "duration": 0,
    "start_time": "2024-08-24T19:30:47.636Z"
   },
   {
    "duration": 0,
    "start_time": "2024-08-24T19:30:47.637Z"
   },
   {
    "duration": 0,
    "start_time": "2024-08-24T19:30:47.638Z"
   },
   {
    "duration": 0,
    "start_time": "2024-08-24T19:30:47.639Z"
   },
   {
    "duration": 0,
    "start_time": "2024-08-24T19:30:47.640Z"
   },
   {
    "duration": 0,
    "start_time": "2024-08-24T19:30:47.641Z"
   },
   {
    "duration": 0,
    "start_time": "2024-08-24T19:30:47.642Z"
   },
   {
    "duration": 0,
    "start_time": "2024-08-24T19:30:47.643Z"
   },
   {
    "duration": 0,
    "start_time": "2024-08-24T19:30:47.643Z"
   },
   {
    "duration": 0,
    "start_time": "2024-08-24T19:30:47.644Z"
   },
   {
    "duration": 33,
    "start_time": "2024-08-24T19:31:21.204Z"
   },
   {
    "duration": 970,
    "start_time": "2024-08-24T19:31:26.381Z"
   },
   {
    "duration": 21,
    "start_time": "2024-08-24T19:31:58.997Z"
   },
   {
    "duration": 21,
    "start_time": "2024-08-24T19:32:01.334Z"
   },
   {
    "duration": 59,
    "start_time": "2024-08-24T19:32:11.804Z"
   },
   {
    "duration": 404,
    "start_time": "2024-08-24T19:32:38.233Z"
   },
   {
    "duration": 364,
    "start_time": "2024-08-24T19:32:41.969Z"
   },
   {
    "duration": 29,
    "start_time": "2024-08-24T19:32:44.643Z"
   },
   {
    "duration": 6,
    "start_time": "2024-08-24T19:32:48.575Z"
   },
   {
    "duration": 12,
    "start_time": "2024-08-24T19:34:03.435Z"
   },
   {
    "duration": 10,
    "start_time": "2024-08-24T19:34:09.296Z"
   },
   {
    "duration": 19,
    "start_time": "2024-08-24T19:34:11.451Z"
   },
   {
    "duration": 66,
    "start_time": "2024-08-24T19:34:17.488Z"
   },
   {
    "duration": 388,
    "start_time": "2024-08-24T19:34:29.839Z"
   },
   {
    "duration": 380,
    "start_time": "2024-08-24T19:34:32.171Z"
   },
   {
    "duration": 10,
    "start_time": "2024-08-24T19:34:34.034Z"
   },
   {
    "duration": 5,
    "start_time": "2024-08-24T19:34:42.464Z"
   },
   {
    "duration": 895,
    "start_time": "2024-08-24T19:34:43.350Z"
   },
   {
    "duration": 205,
    "start_time": "2024-08-24T19:34:45.578Z"
   },
   {
    "duration": 5,
    "start_time": "2024-08-24T19:34:50.388Z"
   },
   {
    "duration": 10,
    "start_time": "2024-08-24T19:34:51.220Z"
   },
   {
    "duration": 10,
    "start_time": "2024-08-24T19:34:52.221Z"
   },
   {
    "duration": 967,
    "start_time": "2024-08-24T19:34:53.292Z"
   },
   {
    "duration": 6,
    "start_time": "2024-08-24T19:35:41.927Z"
   },
   {
    "duration": 7,
    "start_time": "2024-08-24T19:35:44.920Z"
   },
   {
    "duration": 27,
    "start_time": "2024-08-24T19:35:45.617Z"
   },
   {
    "duration": 6,
    "start_time": "2024-08-24T19:35:48.230Z"
   },
   {
    "duration": 4,
    "start_time": "2024-08-24T19:35:51.141Z"
   },
   {
    "duration": 8,
    "start_time": "2024-08-24T19:35:51.723Z"
   },
   {
    "duration": 248,
    "start_time": "2024-08-24T19:35:53.255Z"
   },
   {
    "duration": 8,
    "start_time": "2024-08-24T19:36:03.960Z"
   },
   {
    "duration": 6,
    "start_time": "2024-08-24T19:36:04.601Z"
   },
   {
    "duration": 2820,
    "start_time": "2024-08-24T19:36:05.238Z"
   },
   {
    "duration": 3,
    "start_time": "2024-08-24T19:37:04.555Z"
   },
   {
    "duration": 4,
    "start_time": "2024-08-24T19:37:05.332Z"
   },
   {
    "duration": 14,
    "start_time": "2024-08-24T19:37:06.165Z"
   },
   {
    "duration": 9,
    "start_time": "2024-08-24T19:37:08.086Z"
   },
   {
    "duration": 4,
    "start_time": "2024-08-24T19:37:09.733Z"
   },
   {
    "duration": 6,
    "start_time": "2024-08-24T19:37:10.928Z"
   },
   {
    "duration": 13,
    "start_time": "2024-08-24T19:37:14.290Z"
   },
   {
    "duration": 4,
    "start_time": "2024-08-24T19:37:15.041Z"
   },
   {
    "duration": 5,
    "start_time": "2024-08-24T19:37:15.933Z"
   },
   {
    "duration": 5,
    "start_time": "2024-08-24T19:37:16.419Z"
   },
   {
    "duration": 95783,
    "start_time": "2024-08-24T19:37:17.133Z"
   },
   {
    "duration": 9,
    "start_time": "2024-08-24T19:38:52.918Z"
   },
   {
    "duration": 4,
    "start_time": "2024-08-24T19:39:09.692Z"
   },
   {
    "duration": 3,
    "start_time": "2024-08-24T19:39:11.553Z"
   },
   {
    "duration": 4,
    "start_time": "2024-08-24T19:39:12.086Z"
   },
   {
    "duration": 4,
    "start_time": "2024-08-24T19:39:12.549Z"
   },
   {
    "duration": 27423,
    "start_time": "2024-08-24T19:39:13.370Z"
   },
   {
    "duration": 4,
    "start_time": "2024-08-24T19:40:09.637Z"
   },
   {
    "duration": 4,
    "start_time": "2024-08-24T19:40:09.900Z"
   },
   {
    "duration": 1970,
    "start_time": "2024-08-24T19:40:14.329Z"
   },
   {
    "duration": 29096,
    "start_time": "2024-08-24T19:40:50.403Z"
   },
   {
    "duration": 3,
    "start_time": "2024-08-24T19:41:22.987Z"
   },
   {
    "duration": 3,
    "start_time": "2024-08-24T19:41:30.382Z"
   },
   {
    "duration": 3,
    "start_time": "2024-08-24T19:41:39.669Z"
   },
   {
    "duration": 24,
    "start_time": "2024-08-24T19:41:47.802Z"
   },
   {
    "duration": 0,
    "start_time": "2024-08-24T19:42:48.112Z"
   },
   {
    "duration": 181675,
    "start_time": "2024-08-24T19:42:48.881Z"
   },
   {
    "duration": 0,
    "start_time": "2024-08-24T19:45:50.557Z"
   },
   {
    "duration": 34,
    "start_time": "2024-08-24T19:45:54.703Z"
   },
   {
    "duration": 8,
    "start_time": "2024-08-24T19:46:06.080Z"
   },
   {
    "duration": 14,
    "start_time": "2024-08-24T19:47:56.453Z"
   },
   {
    "duration": 22,
    "start_time": "2024-08-24T19:48:08.241Z"
   },
   {
    "duration": 81161,
    "start_time": "2024-08-24T19:50:51.603Z"
   },
   {
    "duration": 0,
    "start_time": "2024-08-24T19:52:12.766Z"
   },
   {
    "duration": 8,
    "start_time": "2024-08-24T19:52:13.820Z"
   },
   {
    "duration": 3,
    "start_time": "2024-08-24T19:52:14.459Z"
   },
   {
    "duration": 5,
    "start_time": "2024-08-24T19:52:15.025Z"
   },
   {
    "duration": 17,
    "start_time": "2024-08-24T19:52:15.615Z"
   },
   {
    "duration": 31215,
    "start_time": "2024-08-24T19:52:16.982Z"
   },
   {
    "duration": 0,
    "start_time": "2024-08-24T19:52:48.201Z"
   },
   {
    "duration": 10,
    "start_time": "2024-08-24T19:52:49.329Z"
   },
   {
    "duration": 3,
    "start_time": "2024-08-24T19:53:13.640Z"
   },
   {
    "duration": 4,
    "start_time": "2024-08-24T19:53:14.296Z"
   },
   {
    "duration": 14,
    "start_time": "2024-08-24T19:53:14.823Z"
   },
   {
    "duration": 6,
    "start_time": "2024-08-24T19:53:15.538Z"
   },
   {
    "duration": 2032,
    "start_time": "2024-09-02T10:58:43.502Z"
   },
   {
    "duration": 92,
    "start_time": "2024-09-02T10:58:45.536Z"
   },
   {
    "duration": 14,
    "start_time": "2024-09-02T10:58:45.630Z"
   },
   {
    "duration": 135,
    "start_time": "2024-09-02T10:58:45.646Z"
   },
   {
    "duration": 9,
    "start_time": "2024-09-02T10:58:45.782Z"
   },
   {
    "duration": 126,
    "start_time": "2024-09-02T10:58:45.793Z"
   },
   {
    "duration": 11,
    "start_time": "2024-09-02T10:58:45.920Z"
   },
   {
    "duration": 92,
    "start_time": "2024-09-02T10:58:45.933Z"
   },
   {
    "duration": 7,
    "start_time": "2024-09-02T10:58:46.027Z"
   },
   {
    "duration": 28,
    "start_time": "2024-09-02T10:58:46.036Z"
   },
   {
    "duration": 28,
    "start_time": "2024-09-02T10:58:46.066Z"
   },
   {
    "duration": 18,
    "start_time": "2024-09-02T10:58:46.095Z"
   },
   {
    "duration": 14,
    "start_time": "2024-09-02T10:58:46.114Z"
   },
   {
    "duration": 29,
    "start_time": "2024-09-02T10:58:46.130Z"
   },
   {
    "duration": 18,
    "start_time": "2024-09-02T10:58:46.160Z"
   },
   {
    "duration": 34,
    "start_time": "2024-09-02T10:58:46.180Z"
   },
   {
    "duration": 104,
    "start_time": "2024-09-02T10:58:46.216Z"
   },
   {
    "duration": 13,
    "start_time": "2024-09-02T10:58:46.322Z"
   },
   {
    "duration": 12,
    "start_time": "2024-09-02T10:58:46.337Z"
   },
   {
    "duration": 31,
    "start_time": "2024-09-02T10:58:46.351Z"
   },
   {
    "duration": 44,
    "start_time": "2024-09-02T10:58:46.384Z"
   },
   {
    "duration": 9,
    "start_time": "2024-09-02T10:58:46.430Z"
   },
   {
    "duration": 17,
    "start_time": "2024-09-02T10:58:46.441Z"
   },
   {
    "duration": 8,
    "start_time": "2024-09-02T10:58:46.460Z"
   },
   {
    "duration": 55,
    "start_time": "2024-09-02T10:58:46.469Z"
   },
   {
    "duration": 54,
    "start_time": "2024-09-02T10:58:46.525Z"
   },
   {
    "duration": 379,
    "start_time": "2024-09-02T10:58:46.580Z"
   },
   {
    "duration": 358,
    "start_time": "2024-09-02T10:58:46.963Z"
   },
   {
    "duration": 149,
    "start_time": "2024-09-02T10:58:47.323Z"
   },
   {
    "duration": 0,
    "start_time": "2024-09-02T10:58:47.474Z"
   },
   {
    "duration": 0,
    "start_time": "2024-09-02T10:58:47.475Z"
   },
   {
    "duration": 0,
    "start_time": "2024-09-02T10:58:47.476Z"
   },
   {
    "duration": 0,
    "start_time": "2024-09-02T10:58:47.477Z"
   },
   {
    "duration": 0,
    "start_time": "2024-09-02T10:58:47.478Z"
   },
   {
    "duration": 0,
    "start_time": "2024-09-02T10:58:47.479Z"
   },
   {
    "duration": 0,
    "start_time": "2024-09-02T10:58:47.480Z"
   },
   {
    "duration": 0,
    "start_time": "2024-09-02T10:58:47.481Z"
   },
   {
    "duration": 0,
    "start_time": "2024-09-02T10:58:47.497Z"
   },
   {
    "duration": 0,
    "start_time": "2024-09-02T10:58:47.498Z"
   },
   {
    "duration": 0,
    "start_time": "2024-09-02T10:58:47.499Z"
   },
   {
    "duration": 0,
    "start_time": "2024-09-02T10:58:47.499Z"
   },
   {
    "duration": 0,
    "start_time": "2024-09-02T10:58:47.500Z"
   },
   {
    "duration": 0,
    "start_time": "2024-09-02T10:58:47.501Z"
   },
   {
    "duration": 0,
    "start_time": "2024-09-02T10:58:47.502Z"
   },
   {
    "duration": 0,
    "start_time": "2024-09-02T10:58:47.503Z"
   },
   {
    "duration": 0,
    "start_time": "2024-09-02T10:58:47.503Z"
   },
   {
    "duration": 0,
    "start_time": "2024-09-02T10:58:47.505Z"
   },
   {
    "duration": 0,
    "start_time": "2024-09-02T10:58:47.506Z"
   },
   {
    "duration": 0,
    "start_time": "2024-09-02T10:58:47.510Z"
   },
   {
    "duration": 0,
    "start_time": "2024-09-02T10:58:47.511Z"
   },
   {
    "duration": 0,
    "start_time": "2024-09-02T10:58:47.515Z"
   },
   {
    "duration": 0,
    "start_time": "2024-09-02T10:58:47.516Z"
   },
   {
    "duration": 0,
    "start_time": "2024-09-02T10:58:47.521Z"
   },
   {
    "duration": 0,
    "start_time": "2024-09-02T10:58:47.522Z"
   },
   {
    "duration": 0,
    "start_time": "2024-09-02T10:58:47.523Z"
   },
   {
    "duration": 0,
    "start_time": "2024-09-02T10:58:47.524Z"
   },
   {
    "duration": 0,
    "start_time": "2024-09-02T10:58:47.526Z"
   },
   {
    "duration": 0,
    "start_time": "2024-09-02T10:58:47.527Z"
   },
   {
    "duration": 0,
    "start_time": "2024-09-02T10:58:47.528Z"
   },
   {
    "duration": 0,
    "start_time": "2024-09-02T10:58:47.530Z"
   },
   {
    "duration": 0,
    "start_time": "2024-09-02T10:58:47.531Z"
   },
   {
    "duration": 0,
    "start_time": "2024-09-02T10:58:47.532Z"
   },
   {
    "duration": 0,
    "start_time": "2024-09-02T10:58:47.533Z"
   },
   {
    "duration": 0,
    "start_time": "2024-09-02T10:58:47.535Z"
   },
   {
    "duration": 0,
    "start_time": "2024-09-02T10:58:47.536Z"
   },
   {
    "duration": 0,
    "start_time": "2024-09-02T10:58:47.537Z"
   },
   {
    "duration": 0,
    "start_time": "2024-09-02T10:58:47.538Z"
   },
   {
    "duration": 0,
    "start_time": "2024-09-02T10:58:47.540Z"
   },
   {
    "duration": 0,
    "start_time": "2024-09-02T10:58:47.541Z"
   },
   {
    "duration": 0,
    "start_time": "2024-09-02T10:58:47.598Z"
   },
   {
    "duration": 0,
    "start_time": "2024-09-02T10:58:47.599Z"
   },
   {
    "duration": 0,
    "start_time": "2024-09-02T10:58:47.600Z"
   },
   {
    "duration": 0,
    "start_time": "2024-09-02T10:58:47.600Z"
   },
   {
    "duration": 0,
    "start_time": "2024-09-02T10:58:47.605Z"
   },
   {
    "duration": 4,
    "start_time": "2024-09-02T11:09:06.006Z"
   },
   {
    "duration": 85303,
    "start_time": "2024-09-02T11:09:06.578Z"
   },
   {
    "duration": 194,
    "start_time": "2024-09-02T11:10:35.062Z"
   },
   {
    "duration": 7,
    "start_time": "2024-09-02T11:10:42.226Z"
   },
   {
    "duration": 6,
    "start_time": "2024-09-02T11:10:43.368Z"
   },
   {
    "duration": 7,
    "start_time": "2024-09-02T11:10:44.099Z"
   },
   {
    "duration": 6,
    "start_time": "2024-09-02T11:10:45.058Z"
   },
   {
    "duration": 6,
    "start_time": "2024-09-02T11:10:46.011Z"
   },
   {
    "duration": 23,
    "start_time": "2024-09-02T11:10:46.649Z"
   },
   {
    "duration": 8,
    "start_time": "2024-09-02T11:10:53.840Z"
   },
   {
    "duration": 4,
    "start_time": "2024-09-02T11:10:56.610Z"
   },
   {
    "duration": 7,
    "start_time": "2024-09-02T11:10:57.561Z"
   },
   {
    "duration": 244,
    "start_time": "2024-09-02T11:11:03.582Z"
   },
   {
    "duration": 16,
    "start_time": "2024-09-02T11:11:09.289Z"
   },
   {
    "duration": 4,
    "start_time": "2024-09-02T11:11:10.149Z"
   },
   {
    "duration": 2625,
    "start_time": "2024-09-02T11:11:10.929Z"
   },
   {
    "duration": 3,
    "start_time": "2024-09-02T11:11:16.960Z"
   },
   {
    "duration": 6,
    "start_time": "2024-09-02T11:11:17.542Z"
   },
   {
    "duration": 4,
    "start_time": "2024-09-02T11:11:17.929Z"
   },
   {
    "duration": 22,
    "start_time": "2024-09-02T11:11:18.811Z"
   },
   {
    "duration": 11,
    "start_time": "2024-09-02T11:11:20.022Z"
   },
   {
    "duration": 9,
    "start_time": "2024-09-02T11:11:20.831Z"
   },
   {
    "duration": 4,
    "start_time": "2024-09-02T11:11:21.982Z"
   },
   {
    "duration": 4,
    "start_time": "2024-09-02T11:11:22.421Z"
   },
   {
    "duration": 12,
    "start_time": "2024-09-02T11:11:24.010Z"
   },
   {
    "duration": 5,
    "start_time": "2024-09-02T11:11:25.689Z"
   },
   {
    "duration": 4,
    "start_time": "2024-09-02T11:11:26.108Z"
   },
   {
    "duration": 3,
    "start_time": "2024-09-02T11:11:27.822Z"
   },
   {
    "duration": 3,
    "start_time": "2024-09-02T11:11:28.481Z"
   },
   {
    "duration": 71318,
    "start_time": "2024-09-02T11:11:29.091Z"
   },
   {
    "duration": 4,
    "start_time": "2024-09-02T11:12:40.411Z"
   },
   {
    "duration": 4,
    "start_time": "2024-09-02T11:12:47.163Z"
   },
   {
    "duration": 3,
    "start_time": "2024-09-02T11:12:48.453Z"
   },
   {
    "duration": 3,
    "start_time": "2024-09-02T11:12:48.878Z"
   },
   {
    "duration": 2,
    "start_time": "2024-09-02T11:12:49.759Z"
   },
   {
    "duration": 25499,
    "start_time": "2024-09-02T11:12:51.843Z"
   },
   {
    "duration": 5,
    "start_time": "2024-09-02T11:13:17.343Z"
   },
   {
    "duration": 4,
    "start_time": "2024-09-02T11:13:29.447Z"
   },
   {
    "duration": 3,
    "start_time": "2024-09-02T11:13:30.322Z"
   },
   {
    "duration": 3,
    "start_time": "2024-09-02T11:13:31.133Z"
   },
   {
    "duration": 8,
    "start_time": "2024-09-02T11:13:32.393Z"
   },
   {
    "duration": 5,
    "start_time": "2024-09-02T11:13:33.422Z"
   },
   {
    "duration": 1868,
    "start_time": "2024-09-02T11:22:50.035Z"
   },
   {
    "duration": 58,
    "start_time": "2024-09-02T11:22:51.906Z"
   },
   {
    "duration": 14,
    "start_time": "2024-09-02T11:22:51.965Z"
   },
   {
    "duration": 61,
    "start_time": "2024-09-02T11:22:51.980Z"
   },
   {
    "duration": 9,
    "start_time": "2024-09-02T11:22:52.043Z"
   },
   {
    "duration": 45,
    "start_time": "2024-09-02T11:22:52.054Z"
   },
   {
    "duration": 24,
    "start_time": "2024-09-02T11:22:52.101Z"
   },
   {
    "duration": 59,
    "start_time": "2024-09-02T11:22:52.128Z"
   },
   {
    "duration": 7,
    "start_time": "2024-09-02T11:22:52.189Z"
   },
   {
    "duration": 30,
    "start_time": "2024-09-02T11:22:52.200Z"
   },
   {
    "duration": 24,
    "start_time": "2024-09-02T11:22:52.232Z"
   },
   {
    "duration": 21,
    "start_time": "2024-09-02T11:22:52.257Z"
   },
   {
    "duration": 39,
    "start_time": "2024-09-02T11:22:52.280Z"
   },
   {
    "duration": 9,
    "start_time": "2024-09-02T11:22:52.322Z"
   },
   {
    "duration": 14,
    "start_time": "2024-09-02T11:22:52.333Z"
   },
   {
    "duration": 14,
    "start_time": "2024-09-02T11:22:52.348Z"
   },
   {
    "duration": 112,
    "start_time": "2024-09-02T11:22:52.363Z"
   },
   {
    "duration": 45,
    "start_time": "2024-09-02T11:22:52.476Z"
   },
   {
    "duration": 24,
    "start_time": "2024-09-02T11:22:52.523Z"
   },
   {
    "duration": 31,
    "start_time": "2024-09-02T11:22:52.548Z"
   },
   {
    "duration": 16,
    "start_time": "2024-09-02T11:22:52.580Z"
   },
   {
    "duration": 12,
    "start_time": "2024-09-02T11:22:52.605Z"
   },
   {
    "duration": 25,
    "start_time": "2024-09-02T11:22:52.620Z"
   },
   {
    "duration": 9,
    "start_time": "2024-09-02T11:22:52.647Z"
   },
   {
    "duration": 20,
    "start_time": "2024-09-02T11:22:52.657Z"
   },
   {
    "duration": 82,
    "start_time": "2024-09-02T11:22:52.679Z"
   },
   {
    "duration": 392,
    "start_time": "2024-09-02T11:22:52.762Z"
   },
   {
    "duration": 378,
    "start_time": "2024-09-02T11:22:53.158Z"
   },
   {
    "duration": 3,
    "start_time": "2024-09-02T11:22:53.537Z"
   },
   {
    "duration": 1965,
    "start_time": "2024-09-02T11:24:26.628Z"
   },
   {
    "duration": 79,
    "start_time": "2024-09-02T11:24:28.597Z"
   },
   {
    "duration": 17,
    "start_time": "2024-09-02T11:24:28.678Z"
   },
   {
    "duration": 54,
    "start_time": "2024-09-02T11:24:28.698Z"
   },
   {
    "duration": 9,
    "start_time": "2024-09-02T11:24:28.753Z"
   },
   {
    "duration": 114,
    "start_time": "2024-09-02T11:24:28.763Z"
   },
   {
    "duration": 12,
    "start_time": "2024-09-02T11:24:28.879Z"
   },
   {
    "duration": 42,
    "start_time": "2024-09-02T11:24:28.892Z"
   },
   {
    "duration": 7,
    "start_time": "2024-09-02T11:24:28.936Z"
   },
   {
    "duration": 34,
    "start_time": "2024-09-02T11:24:28.946Z"
   },
   {
    "duration": 21,
    "start_time": "2024-09-02T11:24:28.982Z"
   },
   {
    "duration": 15,
    "start_time": "2024-09-02T11:24:29.005Z"
   },
   {
    "duration": 13,
    "start_time": "2024-09-02T11:24:29.022Z"
   },
   {
    "duration": 12,
    "start_time": "2024-09-02T11:24:29.036Z"
   },
   {
    "duration": 26,
    "start_time": "2024-09-02T11:24:29.050Z"
   },
   {
    "duration": 13,
    "start_time": "2024-09-02T11:24:29.078Z"
   },
   {
    "duration": 25,
    "start_time": "2024-09-02T11:24:29.093Z"
   },
   {
    "duration": 19,
    "start_time": "2024-09-02T11:24:29.120Z"
   },
   {
    "duration": 87,
    "start_time": "2024-09-02T11:24:29.141Z"
   },
   {
    "duration": 38,
    "start_time": "2024-09-02T11:24:29.230Z"
   },
   {
    "duration": 18,
    "start_time": "2024-09-02T11:24:29.271Z"
   },
   {
    "duration": 3,
    "start_time": "2024-09-02T11:24:29.291Z"
   },
   {
    "duration": 32,
    "start_time": "2024-09-02T11:24:29.296Z"
   },
   {
    "duration": 10,
    "start_time": "2024-09-02T11:24:29.330Z"
   },
   {
    "duration": 24,
    "start_time": "2024-09-02T11:24:29.341Z"
   },
   {
    "duration": 68,
    "start_time": "2024-09-02T11:24:29.366Z"
   },
   {
    "duration": 378,
    "start_time": "2024-09-02T11:24:29.435Z"
   },
   {
    "duration": 351,
    "start_time": "2024-09-02T11:24:29.817Z"
   },
   {
    "duration": 237,
    "start_time": "2024-09-02T11:24:30.170Z"
   },
   {
    "duration": 8,
    "start_time": "2024-09-02T11:24:30.410Z"
   },
   {
    "duration": 77,
    "start_time": "2024-09-02T11:24:30.419Z"
   },
   {
    "duration": 17,
    "start_time": "2024-09-02T11:24:30.498Z"
   },
   {
    "duration": 14,
    "start_time": "2024-09-02T11:24:30.517Z"
   },
   {
    "duration": 12,
    "start_time": "2024-09-02T11:24:30.533Z"
   },
   {
    "duration": 26,
    "start_time": "2024-09-02T11:24:30.547Z"
   },
   {
    "duration": 7,
    "start_time": "2024-09-02T11:24:30.575Z"
   },
   {
    "duration": 36,
    "start_time": "2024-09-02T11:24:30.583Z"
   },
   {
    "duration": 6,
    "start_time": "2024-09-02T11:24:30.621Z"
   },
   {
    "duration": 243,
    "start_time": "2024-09-02T11:24:30.629Z"
   },
   {
    "duration": 8,
    "start_time": "2024-09-02T11:24:30.874Z"
   },
   {
    "duration": 34,
    "start_time": "2024-09-02T11:24:30.883Z"
   },
   {
    "duration": 2807,
    "start_time": "2024-09-02T11:24:30.919Z"
   },
   {
    "duration": 2,
    "start_time": "2024-09-02T11:24:33.728Z"
   },
   {
    "duration": 86,
    "start_time": "2024-09-02T11:24:33.731Z"
   },
   {
    "duration": 13,
    "start_time": "2024-09-02T11:24:33.819Z"
   },
   {
    "duration": 40,
    "start_time": "2024-09-02T11:24:33.834Z"
   },
   {
    "duration": 12,
    "start_time": "2024-09-02T11:24:33.875Z"
   },
   {
    "duration": 33,
    "start_time": "2024-09-02T11:24:33.889Z"
   },
   {
    "duration": 4,
    "start_time": "2024-09-02T11:24:33.924Z"
   },
   {
    "duration": 19,
    "start_time": "2024-09-02T11:24:33.930Z"
   },
   {
    "duration": 13,
    "start_time": "2024-09-02T11:24:33.951Z"
   },
   {
    "duration": 6,
    "start_time": "2024-09-02T11:24:33.965Z"
   },
   {
    "duration": 36,
    "start_time": "2024-09-02T11:24:33.973Z"
   },
   {
    "duration": 10,
    "start_time": "2024-09-02T11:24:34.011Z"
   },
   {
    "duration": 10,
    "start_time": "2024-09-02T11:24:34.022Z"
   },
   {
    "duration": 71571,
    "start_time": "2024-09-02T11:24:34.033Z"
   },
   {
    "duration": 5,
    "start_time": "2024-09-02T11:25:45.609Z"
   },
   {
    "duration": 7,
    "start_time": "2024-09-02T11:25:45.615Z"
   },
   {
    "duration": 9,
    "start_time": "2024-09-02T11:25:45.624Z"
   },
   {
    "duration": 4,
    "start_time": "2024-09-02T11:25:45.635Z"
   },
   {
    "duration": 18,
    "start_time": "2024-09-02T11:25:45.641Z"
   },
   {
    "duration": 26943,
    "start_time": "2024-09-02T11:25:45.661Z"
   },
   {
    "duration": 7,
    "start_time": "2024-09-02T11:26:12.618Z"
   },
   {
    "duration": 42,
    "start_time": "2024-09-02T11:26:12.627Z"
   },
   {
    "duration": 41,
    "start_time": "2024-09-02T11:26:12.670Z"
   },
   {
    "duration": 10,
    "start_time": "2024-09-02T11:26:12.714Z"
   },
   {
    "duration": 83398,
    "start_time": "2024-09-02T11:32:05.315Z"
   },
   {
    "duration": 173,
    "start_time": "2024-09-02T11:33:40.646Z"
   },
   {
    "duration": 36,
    "start_time": "2024-09-02T11:33:59.292Z"
   },
   {
    "duration": 29,
    "start_time": "2024-09-02T11:34:06.786Z"
   },
   {
    "duration": 73,
    "start_time": "2024-09-02T11:35:03.493Z"
   },
   {
    "duration": 66,
    "start_time": "2024-09-02T11:35:43.310Z"
   },
   {
    "duration": 66,
    "start_time": "2024-09-02T11:35:47.311Z"
   },
   {
    "duration": 71,
    "start_time": "2024-09-02T11:36:07.214Z"
   },
   {
    "duration": 6,
    "start_time": "2024-09-02T11:36:48.482Z"
   },
   {
    "duration": 15,
    "start_time": "2024-09-02T11:36:53.672Z"
   },
   {
    "duration": 806,
    "start_time": "2024-09-02T11:36:55.550Z"
   },
   {
    "duration": 18,
    "start_time": "2024-09-02T11:38:37.091Z"
   },
   {
    "duration": 50,
    "start_time": "2024-09-02T11:38:53.659Z"
   },
   {
    "duration": 7,
    "start_time": "2024-09-02T11:38:57.578Z"
   },
   {
    "duration": 2423,
    "start_time": "2024-09-03T12:44:13.594Z"
   },
   {
    "duration": 158,
    "start_time": "2024-09-03T12:44:25.422Z"
   },
   {
    "duration": 9,
    "start_time": "2024-09-03T12:44:26.082Z"
   },
   {
    "duration": 61,
    "start_time": "2024-09-06T10:33:54.454Z"
   },
   {
    "duration": 58,
    "start_time": "2024-09-06T10:34:20.892Z"
   },
   {
    "duration": 2035,
    "start_time": "2024-09-06T10:34:25.882Z"
   },
   {
    "duration": 98,
    "start_time": "2024-09-06T10:34:28.093Z"
   },
   {
    "duration": 18,
    "start_time": "2024-09-06T10:34:30.334Z"
   },
   {
    "duration": 54,
    "start_time": "2024-09-06T10:34:36.364Z"
   },
   {
    "duration": 14,
    "start_time": "2024-09-06T10:34:37.144Z"
   },
   {
    "duration": 16,
    "start_time": "2024-09-06T10:34:59.048Z"
   },
   {
    "duration": 98,
    "start_time": "2024-09-06T10:35:18.681Z"
   },
   {
    "duration": 12,
    "start_time": "2024-09-06T10:35:22.811Z"
   },
   {
    "duration": 13,
    "start_time": "2024-09-06T10:35:24.924Z"
   },
   {
    "duration": 74,
    "start_time": "2024-09-06T10:35:53.416Z"
   },
   {
    "duration": 14,
    "start_time": "2024-09-06T10:35:57.360Z"
   },
   {
    "duration": 11,
    "start_time": "2024-09-06T10:35:57.943Z"
   },
   {
    "duration": 109,
    "start_time": "2024-09-06T10:36:20.641Z"
   },
   {
    "duration": 17,
    "start_time": "2024-09-06T10:36:24.329Z"
   },
   {
    "duration": 7,
    "start_time": "2024-09-06T10:36:24.983Z"
   },
   {
    "duration": 10,
    "start_time": "2024-09-06T10:36:31.464Z"
   },
   {
    "duration": 8,
    "start_time": "2024-09-06T10:36:31.971Z"
   },
   {
    "duration": 8,
    "start_time": "2024-09-06T10:36:32.168Z"
   },
   {
    "duration": 9,
    "start_time": "2024-09-06T10:36:32.353Z"
   },
   {
    "duration": 17,
    "start_time": "2024-09-06T10:36:34.104Z"
   },
   {
    "duration": 8,
    "start_time": "2024-09-06T10:36:34.324Z"
   },
   {
    "duration": 8,
    "start_time": "2024-09-06T10:36:35.057Z"
   },
   {
    "duration": 13,
    "start_time": "2024-09-06T10:36:35.609Z"
   },
   {
    "duration": 5,
    "start_time": "2024-09-06T10:36:37.640Z"
   },
   {
    "duration": 10,
    "start_time": "2024-09-06T10:36:39.459Z"
   },
   {
    "duration": 31,
    "start_time": "2024-09-06T10:37:33.325Z"
   },
   {
    "duration": 30,
    "start_time": "2024-09-06T10:37:34.157Z"
   },
   {
    "duration": 4,
    "start_time": "2024-09-06T10:37:35.904Z"
   },
   {
    "duration": 10,
    "start_time": "2024-09-06T10:38:10.665Z"
   },
   {
    "duration": 42,
    "start_time": "2024-09-06T10:38:12.745Z"
   },
   {
    "duration": 42,
    "start_time": "2024-09-06T10:38:14.165Z"
   },
   {
    "duration": 419,
    "start_time": "2024-09-06T10:38:24.969Z"
   },
   {
    "duration": 432,
    "start_time": "2024-09-06T10:38:26.444Z"
   },
   {
    "duration": 226,
    "start_time": "2024-09-06T10:38:27.841Z"
   },
   {
    "duration": 10,
    "start_time": "2024-09-06T10:38:29.212Z"
   },
   {
    "duration": 7,
    "start_time": "2024-09-06T10:38:29.610Z"
   },
   {
    "duration": 4,
    "start_time": "2024-09-06T10:38:29.783Z"
   },
   {
    "duration": 10,
    "start_time": "2024-09-06T10:38:30.329Z"
   },
   {
    "duration": 4,
    "start_time": "2024-09-06T10:38:30.544Z"
   },
   {
    "duration": 42,
    "start_time": "2024-09-06T10:38:30.961Z"
   },
   {
    "duration": 13,
    "start_time": "2024-09-06T10:38:31.773Z"
   },
   {
    "duration": 5,
    "start_time": "2024-09-06T10:38:32.890Z"
   },
   {
    "duration": 9,
    "start_time": "2024-09-06T10:38:33.104Z"
   },
   {
    "duration": 279,
    "start_time": "2024-09-06T10:38:33.902Z"
   },
   {
    "duration": 40,
    "start_time": "2024-09-06T10:38:36.464Z"
   },
   {
    "duration": 985,
    "start_time": "2024-09-06T10:38:48.169Z"
   },
   {
    "duration": 3730,
    "start_time": "2024-09-06T10:39:36.467Z"
   },
   {
    "duration": 2048,
    "start_time": "2024-09-06T10:42:33.439Z"
   },
   {
    "duration": 3,
    "start_time": "2024-09-06T10:43:02.047Z"
   },
   {
    "duration": 7,
    "start_time": "2024-09-06T10:43:02.431Z"
   },
   {
    "duration": 6,
    "start_time": "2024-09-06T10:43:03.954Z"
   },
   {
    "duration": 46,
    "start_time": "2024-09-06T10:43:04.677Z"
   },
   {
    "duration": 22,
    "start_time": "2024-09-06T10:43:05.527Z"
   },
   {
    "duration": 14,
    "start_time": "2024-09-06T10:43:06.587Z"
   },
   {
    "duration": 2,
    "start_time": "2024-09-06T10:44:14.937Z"
   },
   {
    "duration": 56,
    "start_time": "2024-09-06T10:45:07.588Z"
   },
   {
    "duration": 1889,
    "start_time": "2024-09-06T10:45:19.836Z"
   },
   {
    "duration": 24,
    "start_time": "2024-09-06T10:45:21.727Z"
   },
   {
    "duration": 3,
    "start_time": "2024-09-06T10:45:21.752Z"
   },
   {
    "duration": 57,
    "start_time": "2024-09-06T10:45:21.757Z"
   },
   {
    "duration": 16,
    "start_time": "2024-09-06T10:45:21.817Z"
   },
   {
    "duration": 35,
    "start_time": "2024-09-06T10:45:21.834Z"
   },
   {
    "duration": 33,
    "start_time": "2024-09-06T10:45:21.870Z"
   },
   {
    "duration": 17,
    "start_time": "2024-09-06T10:45:21.905Z"
   },
   {
    "duration": 13,
    "start_time": "2024-09-06T10:45:21.925Z"
   },
   {
    "duration": 47,
    "start_time": "2024-09-06T10:45:21.940Z"
   },
   {
    "duration": 15,
    "start_time": "2024-09-06T10:45:21.988Z"
   },
   {
    "duration": 21,
    "start_time": "2024-09-06T10:45:22.005Z"
   },
   {
    "duration": 36,
    "start_time": "2024-09-06T10:45:22.029Z"
   },
   {
    "duration": 15,
    "start_time": "2024-09-06T10:45:22.070Z"
   },
   {
    "duration": 23,
    "start_time": "2024-09-06T10:45:22.087Z"
   },
   {
    "duration": 29,
    "start_time": "2024-09-06T10:45:22.112Z"
   },
   {
    "duration": 9,
    "start_time": "2024-09-06T10:45:22.143Z"
   },
   {
    "duration": 9,
    "start_time": "2024-09-06T10:45:22.153Z"
   },
   {
    "duration": 10,
    "start_time": "2024-09-06T10:45:22.164Z"
   },
   {
    "duration": 8,
    "start_time": "2024-09-06T10:45:22.176Z"
   },
   {
    "duration": 25,
    "start_time": "2024-09-06T10:45:22.186Z"
   },
   {
    "duration": 15,
    "start_time": "2024-09-06T10:45:22.213Z"
   },
   {
    "duration": 9,
    "start_time": "2024-09-06T10:45:22.230Z"
   },
   {
    "duration": 7,
    "start_time": "2024-09-06T10:45:22.240Z"
   },
   {
    "duration": 11,
    "start_time": "2024-09-06T10:45:22.249Z"
   },
   {
    "duration": 59,
    "start_time": "2024-09-06T10:45:22.261Z"
   },
   {
    "duration": 17,
    "start_time": "2024-09-06T10:45:22.322Z"
   },
   {
    "duration": 22,
    "start_time": "2024-09-06T10:45:22.341Z"
   },
   {
    "duration": 47,
    "start_time": "2024-09-06T10:45:22.365Z"
   },
   {
    "duration": 39,
    "start_time": "2024-09-06T10:45:22.415Z"
   },
   {
    "duration": 422,
    "start_time": "2024-09-06T10:45:22.456Z"
   },
   {
    "duration": 365,
    "start_time": "2024-09-06T10:45:22.880Z"
   },
   {
    "duration": 207,
    "start_time": "2024-09-06T10:45:23.247Z"
   },
   {
    "duration": 6,
    "start_time": "2024-09-06T10:45:23.456Z"
   },
   {
    "duration": 9,
    "start_time": "2024-09-06T10:45:23.464Z"
   },
   {
    "duration": 24,
    "start_time": "2024-09-06T10:45:23.474Z"
   },
   {
    "duration": 14,
    "start_time": "2024-09-06T10:45:23.500Z"
   },
   {
    "duration": 15,
    "start_time": "2024-09-06T10:45:23.516Z"
   },
   {
    "duration": 29,
    "start_time": "2024-09-06T10:45:23.533Z"
   },
   {
    "duration": 22,
    "start_time": "2024-09-06T10:45:23.563Z"
   },
   {
    "duration": 5,
    "start_time": "2024-09-06T10:45:23.603Z"
   },
   {
    "duration": 31,
    "start_time": "2024-09-06T10:45:23.610Z"
   },
   {
    "duration": 284,
    "start_time": "2024-09-06T10:45:23.642Z"
   },
   {
    "duration": 1451,
    "start_time": "2024-09-06T10:45:23.928Z"
   },
   {
    "duration": 0,
    "start_time": "2024-09-06T10:45:25.381Z"
   },
   {
    "duration": 0,
    "start_time": "2024-09-06T10:45:25.383Z"
   },
   {
    "duration": 0,
    "start_time": "2024-09-06T10:45:25.385Z"
   },
   {
    "duration": 0,
    "start_time": "2024-09-06T10:45:25.386Z"
   },
   {
    "duration": 0,
    "start_time": "2024-09-06T10:45:25.398Z"
   },
   {
    "duration": 0,
    "start_time": "2024-09-06T10:45:25.400Z"
   },
   {
    "duration": 0,
    "start_time": "2024-09-06T10:45:25.401Z"
   },
   {
    "duration": 0,
    "start_time": "2024-09-06T10:45:25.403Z"
   },
   {
    "duration": 0,
    "start_time": "2024-09-06T10:45:25.405Z"
   },
   {
    "duration": 0,
    "start_time": "2024-09-06T10:45:25.407Z"
   },
   {
    "duration": 0,
    "start_time": "2024-09-06T10:45:25.410Z"
   },
   {
    "duration": 0,
    "start_time": "2024-09-06T10:45:25.412Z"
   },
   {
    "duration": 0,
    "start_time": "2024-09-06T10:45:25.414Z"
   },
   {
    "duration": 0,
    "start_time": "2024-09-06T10:45:25.416Z"
   },
   {
    "duration": 0,
    "start_time": "2024-09-06T10:45:25.418Z"
   },
   {
    "duration": 0,
    "start_time": "2024-09-06T10:45:25.420Z"
   },
   {
    "duration": 0,
    "start_time": "2024-09-06T10:45:25.421Z"
   },
   {
    "duration": 0,
    "start_time": "2024-09-06T10:45:25.423Z"
   },
   {
    "duration": 0,
    "start_time": "2024-09-06T10:45:25.424Z"
   },
   {
    "duration": 0,
    "start_time": "2024-09-06T10:45:25.425Z"
   },
   {
    "duration": 0,
    "start_time": "2024-09-06T10:45:25.427Z"
   },
   {
    "duration": 0,
    "start_time": "2024-09-06T10:45:25.428Z"
   },
   {
    "duration": 0,
    "start_time": "2024-09-06T10:45:25.429Z"
   },
   {
    "duration": 0,
    "start_time": "2024-09-06T10:45:25.430Z"
   },
   {
    "duration": 0,
    "start_time": "2024-09-06T10:45:25.431Z"
   },
   {
    "duration": 0,
    "start_time": "2024-09-06T10:45:25.432Z"
   },
   {
    "duration": 3475,
    "start_time": "2024-09-06T10:46:14.307Z"
   },
   {
    "duration": 3,
    "start_time": "2024-09-06T10:47:50.106Z"
   },
   {
    "duration": 6,
    "start_time": "2024-09-06T10:47:50.462Z"
   },
   {
    "duration": 5,
    "start_time": "2024-09-06T10:47:50.596Z"
   },
   {
    "duration": 23,
    "start_time": "2024-09-06T10:47:50.746Z"
   },
   {
    "duration": 18,
    "start_time": "2024-09-06T10:47:50.896Z"
   },
   {
    "duration": 47,
    "start_time": "2024-09-06T10:47:51.797Z"
   },
   {
    "duration": 8,
    "start_time": "2024-09-06T10:48:09.582Z"
   },
   {
    "duration": 4,
    "start_time": "2024-09-06T10:48:39.606Z"
   },
   {
    "duration": 3,
    "start_time": "2024-09-06T10:48:40.517Z"
   },
   {
    "duration": 12,
    "start_time": "2024-09-06T10:48:42.542Z"
   },
   {
    "duration": 6,
    "start_time": "2024-09-06T10:48:42.916Z"
   },
   {
    "duration": 3,
    "start_time": "2024-09-06T10:48:44.462Z"
   },
   {
    "duration": 3,
    "start_time": "2024-09-06T10:48:44.676Z"
   },
   {
    "duration": 3,
    "start_time": "2024-09-06T10:48:46.222Z"
   },
   {
    "duration": 38224,
    "start_time": "2024-09-06T10:48:46.382Z"
   },
   {
    "duration": 4,
    "start_time": "2024-09-06T10:49:24.608Z"
   },
   {
    "duration": 4,
    "start_time": "2024-09-06T10:59:59.942Z"
   },
   {
    "duration": 3,
    "start_time": "2024-09-06T11:00:01.051Z"
   },
   {
    "duration": 3,
    "start_time": "2024-09-06T11:00:01.892Z"
   },
   {
    "duration": 2,
    "start_time": "2024-09-06T11:00:02.483Z"
   },
   {
    "duration": 16336,
    "start_time": "2024-09-06T11:00:03.262Z"
   },
   {
    "duration": 4,
    "start_time": "2024-09-06T11:01:24.774Z"
   },
   {
    "duration": 3,
    "start_time": "2024-09-06T11:01:25.502Z"
   },
   {
    "duration": 626,
    "start_time": "2024-09-06T11:01:26.562Z"
   },
   {
    "duration": 88720,
    "start_time": "2024-09-06T11:49:21.516Z"
   },
   {
    "duration": 37192,
    "start_time": "2024-09-06T11:58:52.884Z"
   },
   {
    "duration": 0,
    "start_time": "2024-09-06T11:59:30.082Z"
   },
   {
    "duration": 25,
    "start_time": "2024-09-06T11:59:32.890Z"
   },
   {
    "duration": 7,
    "start_time": "2024-09-06T12:09:50.872Z"
   },
   {
    "duration": 9,
    "start_time": "2024-09-06T12:10:30.164Z"
   },
   {
    "duration": 55,
    "start_time": "2024-09-06T12:10:30.503Z"
   },
   {
    "duration": 11,
    "start_time": "2024-09-06T12:10:33.220Z"
   },
   {
    "duration": 6,
    "start_time": "2024-09-06T12:10:40.562Z"
   },
   {
    "duration": 7,
    "start_time": "2024-09-06T12:10:54.707Z"
   },
   {
    "duration": 4,
    "start_time": "2024-09-06T12:10:57.301Z"
   },
   {
    "duration": 4,
    "start_time": "2024-09-06T12:11:02.882Z"
   },
   {
    "duration": 4,
    "start_time": "2024-09-06T12:11:03.321Z"
   },
   {
    "duration": 4,
    "start_time": "2024-09-06T12:11:03.871Z"
   },
   {
    "duration": 268,
    "start_time": "2024-09-06T12:11:04.631Z"
   },
   {
    "duration": 5,
    "start_time": "2024-09-06T12:13:34.500Z"
   },
   {
    "duration": 4,
    "start_time": "2024-09-06T12:13:55.400Z"
   },
   {
    "duration": 26,
    "start_time": "2024-09-06T12:14:18.852Z"
   },
   {
    "duration": 5,
    "start_time": "2024-09-06T12:18:09.202Z"
   },
   {
    "duration": 4,
    "start_time": "2024-09-06T12:18:10.228Z"
   },
   {
    "duration": 4,
    "start_time": "2024-09-06T12:18:10.926Z"
   },
   {
    "duration": 17,
    "start_time": "2024-09-06T12:18:11.786Z"
   },
   {
    "duration": 13,
    "start_time": "2024-09-06T12:18:14.683Z"
   },
   {
    "duration": 1871,
    "start_time": "2024-09-06T12:25:40.861Z"
   },
   {
    "duration": 26,
    "start_time": "2024-09-06T12:25:42.734Z"
   },
   {
    "duration": 2,
    "start_time": "2024-09-06T12:25:42.762Z"
   },
   {
    "duration": 91,
    "start_time": "2024-09-06T12:25:42.766Z"
   },
   {
    "duration": 15,
    "start_time": "2024-09-06T12:25:42.860Z"
   },
   {
    "duration": 16,
    "start_time": "2024-09-06T12:25:42.876Z"
   },
   {
    "duration": 117,
    "start_time": "2024-09-06T12:25:42.893Z"
   },
   {
    "duration": 12,
    "start_time": "2024-09-06T12:25:43.013Z"
   },
   {
    "duration": 12,
    "start_time": "2024-09-06T12:25:43.027Z"
   },
   {
    "duration": 82,
    "start_time": "2024-09-06T12:25:43.041Z"
   },
   {
    "duration": 11,
    "start_time": "2024-09-06T12:25:43.125Z"
   },
   {
    "duration": 24,
    "start_time": "2024-09-06T12:25:43.138Z"
   },
   {
    "duration": 118,
    "start_time": "2024-09-06T12:25:43.163Z"
   },
   {
    "duration": 10,
    "start_time": "2024-09-06T12:25:43.284Z"
   },
   {
    "duration": 25,
    "start_time": "2024-09-06T12:25:43.296Z"
   },
   {
    "duration": 20,
    "start_time": "2024-09-06T12:25:43.323Z"
   },
   {
    "duration": 23,
    "start_time": "2024-09-06T12:25:43.344Z"
   },
   {
    "duration": 24,
    "start_time": "2024-09-06T12:25:43.368Z"
   },
   {
    "duration": 9,
    "start_time": "2024-09-06T12:25:43.394Z"
   },
   {
    "duration": 25,
    "start_time": "2024-09-06T12:25:43.406Z"
   },
   {
    "duration": 14,
    "start_time": "2024-09-06T12:25:43.433Z"
   },
   {
    "duration": 114,
    "start_time": "2024-09-06T12:25:43.449Z"
   },
   {
    "duration": 51,
    "start_time": "2024-09-06T12:25:43.564Z"
   },
   {
    "duration": 28,
    "start_time": "2024-09-06T12:25:43.616Z"
   },
   {
    "duration": 22,
    "start_time": "2024-09-06T12:25:43.646Z"
   },
   {
    "duration": 22,
    "start_time": "2024-09-06T12:25:43.670Z"
   },
   {
    "duration": 28,
    "start_time": "2024-09-06T12:25:43.693Z"
   },
   {
    "duration": 11,
    "start_time": "2024-09-06T12:25:43.723Z"
   },
   {
    "duration": 77,
    "start_time": "2024-09-06T12:25:43.736Z"
   },
   {
    "duration": 30,
    "start_time": "2024-09-06T12:25:43.815Z"
   },
   {
    "duration": 403,
    "start_time": "2024-09-06T12:25:43.847Z"
   },
   {
    "duration": 368,
    "start_time": "2024-09-06T12:25:44.251Z"
   },
   {
    "duration": 202,
    "start_time": "2024-09-06T12:25:44.621Z"
   },
   {
    "duration": 5,
    "start_time": "2024-09-06T12:25:44.825Z"
   },
   {
    "duration": 11,
    "start_time": "2024-09-06T12:25:44.832Z"
   },
   {
    "duration": 6,
    "start_time": "2024-09-06T12:25:44.853Z"
   },
   {
    "duration": 25,
    "start_time": "2024-09-06T12:25:44.860Z"
   },
   {
    "duration": 22,
    "start_time": "2024-09-06T12:25:44.887Z"
   },
   {
    "duration": 40,
    "start_time": "2024-09-06T12:25:44.912Z"
   },
   {
    "duration": 11,
    "start_time": "2024-09-06T12:25:44.955Z"
   },
   {
    "duration": 4,
    "start_time": "2024-09-06T12:25:44.971Z"
   },
   {
    "duration": 18,
    "start_time": "2024-09-06T12:25:44.977Z"
   },
   {
    "duration": 305,
    "start_time": "2024-09-06T12:25:44.997Z"
   },
   {
    "duration": 3794,
    "start_time": "2024-09-06T12:25:45.304Z"
   },
   {
    "duration": 4,
    "start_time": "2024-09-06T12:25:49.101Z"
   },
   {
    "duration": 57,
    "start_time": "2024-09-06T12:25:49.107Z"
   },
   {
    "duration": 7,
    "start_time": "2024-09-06T12:25:49.165Z"
   },
   {
    "duration": 46,
    "start_time": "2024-09-06T12:25:49.174Z"
   },
   {
    "duration": 25,
    "start_time": "2024-09-06T12:25:49.222Z"
   },
   {
    "duration": 9,
    "start_time": "2024-09-06T12:25:49.249Z"
   },
   {
    "duration": 6,
    "start_time": "2024-09-06T12:25:49.260Z"
   },
   {
    "duration": 54,
    "start_time": "2024-09-06T12:25:49.268Z"
   },
   {
    "duration": 4,
    "start_time": "2024-09-06T12:25:49.323Z"
   },
   {
    "duration": 27,
    "start_time": "2024-09-06T12:25:49.329Z"
   },
   {
    "duration": 32,
    "start_time": "2024-09-06T12:25:49.358Z"
   },
   {
    "duration": 58,
    "start_time": "2024-09-06T12:25:49.392Z"
   },
   {
    "duration": 6,
    "start_time": "2024-09-06T12:25:49.452Z"
   },
   {
    "duration": 284,
    "start_time": "2024-09-06T12:25:49.459Z"
   },
   {
    "duration": 0,
    "start_time": "2024-09-06T12:25:49.745Z"
   },
   {
    "duration": 1,
    "start_time": "2024-09-06T12:25:49.746Z"
   },
   {
    "duration": 0,
    "start_time": "2024-09-06T12:25:49.748Z"
   },
   {
    "duration": 0,
    "start_time": "2024-09-06T12:25:49.749Z"
   },
   {
    "duration": 0,
    "start_time": "2024-09-06T12:25:49.750Z"
   },
   {
    "duration": 0,
    "start_time": "2024-09-06T12:25:49.752Z"
   },
   {
    "duration": 0,
    "start_time": "2024-09-06T12:25:49.753Z"
   },
   {
    "duration": 0,
    "start_time": "2024-09-06T12:25:49.754Z"
   },
   {
    "duration": 0,
    "start_time": "2024-09-06T12:25:49.755Z"
   },
   {
    "duration": 0,
    "start_time": "2024-09-06T12:25:49.757Z"
   },
   {
    "duration": 0,
    "start_time": "2024-09-06T12:25:49.758Z"
   },
   {
    "duration": 0,
    "start_time": "2024-09-06T12:25:49.759Z"
   },
   {
    "duration": 0,
    "start_time": "2024-09-06T12:25:49.761Z"
   },
   {
    "duration": 0,
    "start_time": "2024-09-06T12:25:49.762Z"
   },
   {
    "duration": 0,
    "start_time": "2024-09-06T12:25:49.763Z"
   },
   {
    "duration": 0,
    "start_time": "2024-09-06T12:25:49.764Z"
   },
   {
    "duration": 3,
    "start_time": "2024-09-06T12:26:35.010Z"
   },
   {
    "duration": 3,
    "start_time": "2024-09-06T12:26:36.331Z"
   },
   {
    "duration": 4,
    "start_time": "2024-09-06T12:26:36.913Z"
   },
   {
    "duration": 262,
    "start_time": "2024-09-06T12:26:37.473Z"
   },
   {
    "duration": 7,
    "start_time": "2024-09-06T12:27:05.710Z"
   },
   {
    "duration": 5,
    "start_time": "2024-09-06T12:32:23.521Z"
   },
   {
    "duration": 5,
    "start_time": "2024-09-06T12:35:52.940Z"
   },
   {
    "duration": 5,
    "start_time": "2024-09-06T12:35:57.533Z"
   },
   {
    "duration": 1715,
    "start_time": "2024-09-06T12:41:40.117Z"
   },
   {
    "duration": 28,
    "start_time": "2024-09-06T12:41:41.834Z"
   },
   {
    "duration": 2,
    "start_time": "2024-09-06T12:41:41.864Z"
   },
   {
    "duration": 50,
    "start_time": "2024-09-06T12:41:41.868Z"
   },
   {
    "duration": 14,
    "start_time": "2024-09-06T12:41:41.920Z"
   },
   {
    "duration": 26,
    "start_time": "2024-09-06T12:41:41.935Z"
   },
   {
    "duration": 55,
    "start_time": "2024-09-06T12:41:41.963Z"
   },
   {
    "duration": 12,
    "start_time": "2024-09-06T12:41:42.020Z"
   },
   {
    "duration": 9,
    "start_time": "2024-09-06T12:41:42.034Z"
   },
   {
    "duration": 47,
    "start_time": "2024-09-06T12:41:42.044Z"
   },
   {
    "duration": 13,
    "start_time": "2024-09-06T12:41:42.093Z"
   },
   {
    "duration": 30,
    "start_time": "2024-09-06T12:41:42.108Z"
   },
   {
    "duration": 37,
    "start_time": "2024-09-06T12:41:42.139Z"
   },
   {
    "duration": 10,
    "start_time": "2024-09-06T12:41:42.179Z"
   },
   {
    "duration": 37,
    "start_time": "2024-09-06T12:41:42.191Z"
   },
   {
    "duration": 12,
    "start_time": "2024-09-06T12:41:42.230Z"
   },
   {
    "duration": 7,
    "start_time": "2024-09-06T12:41:42.244Z"
   },
   {
    "duration": 11,
    "start_time": "2024-09-06T12:41:42.253Z"
   },
   {
    "duration": 6,
    "start_time": "2024-09-06T12:41:42.265Z"
   },
   {
    "duration": 8,
    "start_time": "2024-09-06T12:41:42.273Z"
   },
   {
    "duration": 15,
    "start_time": "2024-09-06T12:41:42.283Z"
   },
   {
    "duration": 8,
    "start_time": "2024-09-06T12:41:42.300Z"
   },
   {
    "duration": 8,
    "start_time": "2024-09-06T12:41:42.310Z"
   },
   {
    "duration": 9,
    "start_time": "2024-09-06T12:41:42.319Z"
   },
   {
    "duration": 11,
    "start_time": "2024-09-06T12:41:42.329Z"
   },
   {
    "duration": 22,
    "start_time": "2024-09-06T12:41:42.342Z"
   },
   {
    "duration": 43,
    "start_time": "2024-09-06T12:41:42.365Z"
   },
   {
    "duration": 10,
    "start_time": "2024-09-06T12:41:42.409Z"
   },
   {
    "duration": 25,
    "start_time": "2024-09-06T12:41:42.421Z"
   },
   {
    "duration": 35,
    "start_time": "2024-09-06T12:41:42.447Z"
   },
   {
    "duration": 360,
    "start_time": "2024-09-06T12:41:42.497Z"
   },
   {
    "duration": 331,
    "start_time": "2024-09-06T12:41:42.859Z"
   },
   {
    "duration": 197,
    "start_time": "2024-09-06T12:41:43.191Z"
   },
   {
    "duration": 9,
    "start_time": "2024-09-06T12:41:43.390Z"
   },
   {
    "duration": 12,
    "start_time": "2024-09-06T12:41:43.401Z"
   },
   {
    "duration": 22,
    "start_time": "2024-09-06T12:41:43.415Z"
   },
   {
    "duration": 20,
    "start_time": "2024-09-06T12:41:43.439Z"
   },
   {
    "duration": 8,
    "start_time": "2024-09-06T12:41:43.461Z"
   },
   {
    "duration": 46,
    "start_time": "2024-09-06T12:41:43.471Z"
   },
   {
    "duration": 23,
    "start_time": "2024-09-06T12:41:43.519Z"
   },
   {
    "duration": 130,
    "start_time": "2024-09-06T12:41:43.546Z"
   },
   {
    "duration": 17,
    "start_time": "2024-09-06T12:41:43.678Z"
   },
   {
    "duration": 236,
    "start_time": "2024-09-06T12:41:43.697Z"
   },
   {
    "duration": 3479,
    "start_time": "2024-09-06T12:41:43.935Z"
   },
   {
    "duration": 3,
    "start_time": "2024-09-06T12:41:47.416Z"
   },
   {
    "duration": 16,
    "start_time": "2024-09-06T12:41:47.420Z"
   },
   {
    "duration": 8,
    "start_time": "2024-09-06T12:41:47.438Z"
   },
   {
    "duration": 34,
    "start_time": "2024-09-06T12:41:47.448Z"
   },
   {
    "duration": 21,
    "start_time": "2024-09-06T12:41:47.483Z"
   },
   {
    "duration": 8,
    "start_time": "2024-09-06T12:41:47.506Z"
   },
   {
    "duration": 5,
    "start_time": "2024-09-06T12:41:47.515Z"
   },
   {
    "duration": 27,
    "start_time": "2024-09-06T12:41:47.521Z"
   },
   {
    "duration": 119,
    "start_time": "2024-09-06T12:41:47.550Z"
   },
   {
    "duration": 11,
    "start_time": "2024-09-06T12:41:47.671Z"
   },
   {
    "duration": 16,
    "start_time": "2024-09-06T12:41:47.683Z"
   },
   {
    "duration": 45,
    "start_time": "2024-09-06T12:41:47.701Z"
   },
   {
    "duration": 4,
    "start_time": "2024-09-06T12:41:47.748Z"
   },
   {
    "duration": 14,
    "start_time": "2024-09-06T12:41:47.754Z"
   },
   {
    "duration": 11,
    "start_time": "2024-09-06T12:41:47.770Z"
   },
   {
    "duration": 21,
    "start_time": "2024-09-06T12:41:47.783Z"
   },
   {
    "duration": 5,
    "start_time": "2024-09-06T12:41:47.805Z"
   },
   {
    "duration": 6,
    "start_time": "2024-09-06T12:41:47.812Z"
   },
   {
    "duration": 379,
    "start_time": "2024-09-06T12:41:47.820Z"
   },
   {
    "duration": 0,
    "start_time": "2024-09-06T12:41:48.201Z"
   },
   {
    "duration": 0,
    "start_time": "2024-09-06T12:41:48.203Z"
   },
   {
    "duration": 0,
    "start_time": "2024-09-06T12:41:48.204Z"
   },
   {
    "duration": 0,
    "start_time": "2024-09-06T12:41:48.205Z"
   },
   {
    "duration": 0,
    "start_time": "2024-09-06T12:41:48.207Z"
   },
   {
    "duration": 0,
    "start_time": "2024-09-06T12:41:48.208Z"
   },
   {
    "duration": 0,
    "start_time": "2024-09-06T12:41:48.209Z"
   },
   {
    "duration": 0,
    "start_time": "2024-09-06T12:41:48.211Z"
   },
   {
    "duration": 0,
    "start_time": "2024-09-06T12:41:48.212Z"
   },
   {
    "duration": 0,
    "start_time": "2024-09-06T12:41:48.214Z"
   },
   {
    "duration": 0,
    "start_time": "2024-09-06T12:41:48.215Z"
   },
   {
    "duration": 0,
    "start_time": "2024-09-06T12:41:48.217Z"
   },
   {
    "duration": 0,
    "start_time": "2024-09-06T12:41:48.218Z"
   },
   {
    "duration": 1831,
    "start_time": "2024-09-06T12:43:21.569Z"
   },
   {
    "duration": 24,
    "start_time": "2024-09-06T12:43:23.402Z"
   },
   {
    "duration": 3,
    "start_time": "2024-09-06T12:43:23.428Z"
   },
   {
    "duration": 41,
    "start_time": "2024-09-06T12:43:23.433Z"
   },
   {
    "duration": 14,
    "start_time": "2024-09-06T12:43:23.476Z"
   },
   {
    "duration": 14,
    "start_time": "2024-09-06T12:43:23.491Z"
   },
   {
    "duration": 21,
    "start_time": "2024-09-06T12:43:23.507Z"
   },
   {
    "duration": 13,
    "start_time": "2024-09-06T12:43:23.530Z"
   },
   {
    "duration": 67,
    "start_time": "2024-09-06T12:43:23.545Z"
   },
   {
    "duration": 114,
    "start_time": "2024-09-06T12:43:23.615Z"
   },
   {
    "duration": 13,
    "start_time": "2024-09-06T12:43:23.731Z"
   },
   {
    "duration": 13,
    "start_time": "2024-09-06T12:43:23.745Z"
   },
   {
    "duration": 34,
    "start_time": "2024-09-06T12:43:23.759Z"
   },
   {
    "duration": 9,
    "start_time": "2024-09-06T12:43:23.795Z"
   },
   {
    "duration": 7,
    "start_time": "2024-09-06T12:43:23.806Z"
   },
   {
    "duration": 29,
    "start_time": "2024-09-06T12:43:23.815Z"
   },
   {
    "duration": 8,
    "start_time": "2024-09-06T12:43:23.846Z"
   },
   {
    "duration": 7,
    "start_time": "2024-09-06T12:43:23.856Z"
   },
   {
    "duration": 6,
    "start_time": "2024-09-06T12:43:23.865Z"
   },
   {
    "duration": 26,
    "start_time": "2024-09-06T12:43:23.873Z"
   },
   {
    "duration": 8,
    "start_time": "2024-09-06T12:43:23.900Z"
   },
   {
    "duration": 7,
    "start_time": "2024-09-06T12:43:23.910Z"
   },
   {
    "duration": 6,
    "start_time": "2024-09-06T12:43:23.919Z"
   },
   {
    "duration": 10,
    "start_time": "2024-09-06T12:43:23.927Z"
   },
   {
    "duration": 10,
    "start_time": "2024-09-06T12:43:23.939Z"
   },
   {
    "duration": 54,
    "start_time": "2024-09-06T12:43:23.950Z"
   },
   {
    "duration": 18,
    "start_time": "2024-09-06T12:43:24.006Z"
   },
   {
    "duration": 34,
    "start_time": "2024-09-06T12:43:24.030Z"
   },
   {
    "duration": 41,
    "start_time": "2024-09-06T12:43:24.066Z"
   },
   {
    "duration": 381,
    "start_time": "2024-09-06T12:43:24.109Z"
   },
   {
    "duration": 340,
    "start_time": "2024-09-06T12:43:24.492Z"
   },
   {
    "duration": 203,
    "start_time": "2024-09-06T12:43:24.833Z"
   },
   {
    "duration": 6,
    "start_time": "2024-09-06T12:43:25.037Z"
   },
   {
    "duration": 6,
    "start_time": "2024-09-06T12:43:25.045Z"
   },
   {
    "duration": 9,
    "start_time": "2024-09-06T12:43:25.053Z"
   },
   {
    "duration": 35,
    "start_time": "2024-09-06T12:43:25.064Z"
   },
   {
    "duration": 8,
    "start_time": "2024-09-06T12:43:25.100Z"
   },
   {
    "duration": 39,
    "start_time": "2024-09-06T12:43:25.110Z"
   },
   {
    "duration": 12,
    "start_time": "2024-09-06T12:43:25.152Z"
   },
   {
    "duration": 4,
    "start_time": "2024-09-06T12:43:25.166Z"
   },
   {
    "duration": 65,
    "start_time": "2024-09-06T12:43:25.172Z"
   },
   {
    "duration": 230,
    "start_time": "2024-09-06T12:43:25.239Z"
   },
   {
    "duration": 3652,
    "start_time": "2024-09-06T12:43:25.470Z"
   },
   {
    "duration": 3,
    "start_time": "2024-09-06T12:43:29.124Z"
   },
   {
    "duration": 20,
    "start_time": "2024-09-06T12:43:29.128Z"
   },
   {
    "duration": 9,
    "start_time": "2024-09-06T12:43:29.150Z"
   },
   {
    "duration": 30,
    "start_time": "2024-09-06T12:43:29.162Z"
   },
   {
    "duration": 94,
    "start_time": "2024-09-06T12:43:29.193Z"
   },
   {
    "duration": 9,
    "start_time": "2024-09-06T12:43:29.289Z"
   },
   {
    "duration": 8,
    "start_time": "2024-09-06T12:43:29.300Z"
   },
   {
    "duration": 32,
    "start_time": "2024-09-06T12:43:29.310Z"
   },
   {
    "duration": 5,
    "start_time": "2024-09-06T12:43:29.344Z"
   },
   {
    "duration": 10,
    "start_time": "2024-09-06T12:43:29.351Z"
   },
   {
    "duration": 4,
    "start_time": "2024-09-06T12:43:29.363Z"
   },
   {
    "duration": 86,
    "start_time": "2024-09-06T12:43:29.369Z"
   },
   {
    "duration": 6,
    "start_time": "2024-09-06T12:43:29.457Z"
   },
   {
    "duration": 6,
    "start_time": "2024-09-06T12:43:29.465Z"
   },
   {
    "duration": 4,
    "start_time": "2024-09-06T12:43:29.473Z"
   },
   {
    "duration": 21,
    "start_time": "2024-09-06T12:43:29.479Z"
   },
   {
    "duration": 4,
    "start_time": "2024-09-06T12:43:29.502Z"
   },
   {
    "duration": 8,
    "start_time": "2024-09-06T12:43:29.507Z"
   },
   {
    "duration": 431,
    "start_time": "2024-09-06T12:43:29.517Z"
   },
   {
    "duration": 0,
    "start_time": "2024-09-06T12:43:29.950Z"
   },
   {
    "duration": 0,
    "start_time": "2024-09-06T12:43:29.952Z"
   },
   {
    "duration": 0,
    "start_time": "2024-09-06T12:43:29.953Z"
   },
   {
    "duration": 0,
    "start_time": "2024-09-06T12:43:29.954Z"
   },
   {
    "duration": 0,
    "start_time": "2024-09-06T12:43:29.955Z"
   },
   {
    "duration": 0,
    "start_time": "2024-09-06T12:43:29.956Z"
   },
   {
    "duration": 0,
    "start_time": "2024-09-06T12:43:29.957Z"
   },
   {
    "duration": 0,
    "start_time": "2024-09-06T12:43:29.958Z"
   },
   {
    "duration": 0,
    "start_time": "2024-09-06T12:43:29.960Z"
   },
   {
    "duration": 0,
    "start_time": "2024-09-06T12:43:29.961Z"
   },
   {
    "duration": 0,
    "start_time": "2024-09-06T12:43:29.962Z"
   },
   {
    "duration": 0,
    "start_time": "2024-09-06T12:43:29.963Z"
   },
   {
    "duration": 0,
    "start_time": "2024-09-06T12:43:29.964Z"
   },
   {
    "duration": 7,
    "start_time": "2024-09-06T12:44:48.298Z"
   },
   {
    "duration": 3,
    "start_time": "2024-09-06T12:44:50.348Z"
   },
   {
    "duration": 4,
    "start_time": "2024-09-06T12:44:52.287Z"
   },
   {
    "duration": 15,
    "start_time": "2024-09-06T12:44:53.108Z"
   },
   {
    "duration": 1859,
    "start_time": "2024-09-06T12:44:58.339Z"
   },
   {
    "duration": 26,
    "start_time": "2024-09-06T12:45:00.200Z"
   },
   {
    "duration": 53,
    "start_time": "2024-09-06T12:45:00.228Z"
   },
   {
    "duration": 107,
    "start_time": "2024-09-06T12:45:00.283Z"
   },
   {
    "duration": 26,
    "start_time": "2024-09-06T12:45:00.393Z"
   },
   {
    "duration": 37,
    "start_time": "2024-09-06T12:45:00.421Z"
   },
   {
    "duration": 60,
    "start_time": "2024-09-06T12:45:00.460Z"
   },
   {
    "duration": 28,
    "start_time": "2024-09-06T12:45:00.522Z"
   },
   {
    "duration": 33,
    "start_time": "2024-09-06T12:45:00.552Z"
   },
   {
    "duration": 103,
    "start_time": "2024-09-06T12:45:00.586Z"
   },
   {
    "duration": 12,
    "start_time": "2024-09-06T12:45:00.691Z"
   },
   {
    "duration": 29,
    "start_time": "2024-09-06T12:45:00.705Z"
   },
   {
    "duration": 62,
    "start_time": "2024-09-06T12:45:00.736Z"
   },
   {
    "duration": 15,
    "start_time": "2024-09-06T12:45:00.803Z"
   },
   {
    "duration": 31,
    "start_time": "2024-09-06T12:45:00.820Z"
   },
   {
    "duration": 21,
    "start_time": "2024-09-06T12:45:00.853Z"
   },
   {
    "duration": 8,
    "start_time": "2024-09-06T12:45:00.876Z"
   },
   {
    "duration": 30,
    "start_time": "2024-09-06T12:45:00.885Z"
   },
   {
    "duration": 23,
    "start_time": "2024-09-06T12:45:00.916Z"
   },
   {
    "duration": 11,
    "start_time": "2024-09-06T12:45:00.940Z"
   },
   {
    "duration": 14,
    "start_time": "2024-09-06T12:45:00.953Z"
   },
   {
    "duration": 24,
    "start_time": "2024-09-06T12:45:00.968Z"
   },
   {
    "duration": 18,
    "start_time": "2024-09-06T12:45:00.994Z"
   },
   {
    "duration": 9,
    "start_time": "2024-09-06T12:45:01.014Z"
   },
   {
    "duration": 22,
    "start_time": "2024-09-06T12:45:01.025Z"
   },
   {
    "duration": 35,
    "start_time": "2024-09-06T12:45:01.049Z"
   },
   {
    "duration": 17,
    "start_time": "2024-09-06T12:45:01.086Z"
   },
   {
    "duration": 30,
    "start_time": "2024-09-06T12:45:01.105Z"
   },
   {
    "duration": 50,
    "start_time": "2024-09-06T12:45:01.136Z"
   },
   {
    "duration": 389,
    "start_time": "2024-09-06T12:45:01.188Z"
   },
   {
    "duration": 354,
    "start_time": "2024-09-06T12:45:01.579Z"
   },
   {
    "duration": 208,
    "start_time": "2024-09-06T12:45:01.935Z"
   },
   {
    "duration": 5,
    "start_time": "2024-09-06T12:45:02.145Z"
   },
   {
    "duration": 24,
    "start_time": "2024-09-06T12:45:02.152Z"
   },
   {
    "duration": 49,
    "start_time": "2024-09-06T12:45:02.178Z"
   },
   {
    "duration": 49,
    "start_time": "2024-09-06T12:45:02.229Z"
   },
   {
    "duration": 29,
    "start_time": "2024-09-06T12:45:02.280Z"
   },
   {
    "duration": 54,
    "start_time": "2024-09-06T12:45:02.312Z"
   },
   {
    "duration": 17,
    "start_time": "2024-09-06T12:45:02.368Z"
   },
   {
    "duration": 73,
    "start_time": "2024-09-06T12:45:02.386Z"
   },
   {
    "duration": 13,
    "start_time": "2024-09-06T12:45:02.463Z"
   },
   {
    "duration": 259,
    "start_time": "2024-09-06T12:45:02.477Z"
   },
   {
    "duration": 3564,
    "start_time": "2024-09-06T12:45:02.738Z"
   },
   {
    "duration": 3,
    "start_time": "2024-09-06T12:45:06.304Z"
   },
   {
    "duration": 28,
    "start_time": "2024-09-06T12:45:06.309Z"
   },
   {
    "duration": 13,
    "start_time": "2024-09-06T12:45:06.339Z"
   },
   {
    "duration": 69,
    "start_time": "2024-09-06T12:45:06.354Z"
   },
   {
    "duration": 20,
    "start_time": "2024-09-06T12:45:06.425Z"
   },
   {
    "duration": 9,
    "start_time": "2024-09-06T12:45:06.447Z"
   },
   {
    "duration": 5,
    "start_time": "2024-09-06T12:45:06.458Z"
   },
   {
    "duration": 45,
    "start_time": "2024-09-06T12:45:06.465Z"
   },
   {
    "duration": 10,
    "start_time": "2024-09-06T12:45:06.512Z"
   },
   {
    "duration": 11,
    "start_time": "2024-09-06T12:45:06.524Z"
   },
   {
    "duration": 7,
    "start_time": "2024-09-06T12:45:06.537Z"
   },
   {
    "duration": 63,
    "start_time": "2024-09-06T12:45:06.546Z"
   },
   {
    "duration": 5,
    "start_time": "2024-09-06T12:45:06.611Z"
   },
   {
    "duration": 6,
    "start_time": "2024-09-06T12:45:06.618Z"
   },
   {
    "duration": 4,
    "start_time": "2024-09-06T12:45:06.626Z"
   },
   {
    "duration": 12,
    "start_time": "2024-09-06T12:45:06.631Z"
   },
   {
    "duration": 5,
    "start_time": "2024-09-06T12:45:06.644Z"
   },
   {
    "duration": 5,
    "start_time": "2024-09-06T12:45:06.651Z"
   },
   {
    "duration": 414,
    "start_time": "2024-09-06T12:45:06.658Z"
   },
   {
    "duration": 0,
    "start_time": "2024-09-06T12:45:07.073Z"
   },
   {
    "duration": 0,
    "start_time": "2024-09-06T12:45:07.074Z"
   },
   {
    "duration": 0,
    "start_time": "2024-09-06T12:45:07.075Z"
   },
   {
    "duration": 0,
    "start_time": "2024-09-06T12:45:07.076Z"
   },
   {
    "duration": 0,
    "start_time": "2024-09-06T12:45:07.077Z"
   },
   {
    "duration": 0,
    "start_time": "2024-09-06T12:45:07.078Z"
   },
   {
    "duration": 0,
    "start_time": "2024-09-06T12:45:07.079Z"
   },
   {
    "duration": 0,
    "start_time": "2024-09-06T12:45:07.081Z"
   },
   {
    "duration": 0,
    "start_time": "2024-09-06T12:45:07.098Z"
   },
   {
    "duration": 0,
    "start_time": "2024-09-06T12:45:07.099Z"
   },
   {
    "duration": 0,
    "start_time": "2024-09-06T12:45:07.100Z"
   },
   {
    "duration": 0,
    "start_time": "2024-09-06T12:45:07.101Z"
   },
   {
    "duration": 0,
    "start_time": "2024-09-06T12:45:07.102Z"
   },
   {
    "duration": 1728,
    "start_time": "2024-09-06T12:49:47.306Z"
   },
   {
    "duration": 23,
    "start_time": "2024-09-06T12:49:49.036Z"
   },
   {
    "duration": 2,
    "start_time": "2024-09-06T12:49:49.061Z"
   },
   {
    "duration": 50,
    "start_time": "2024-09-06T12:49:49.065Z"
   },
   {
    "duration": 13,
    "start_time": "2024-09-06T12:49:49.117Z"
   },
   {
    "duration": 17,
    "start_time": "2024-09-06T12:49:49.131Z"
   },
   {
    "duration": 27,
    "start_time": "2024-09-06T12:49:49.151Z"
   },
   {
    "duration": 19,
    "start_time": "2024-09-06T12:49:49.179Z"
   },
   {
    "duration": 60,
    "start_time": "2024-09-06T12:49:49.200Z"
   },
   {
    "duration": 38,
    "start_time": "2024-09-06T12:49:49.262Z"
   },
   {
    "duration": 10,
    "start_time": "2024-09-06T12:49:49.302Z"
   },
   {
    "duration": 10,
    "start_time": "2024-09-06T12:49:49.314Z"
   },
   {
    "duration": 35,
    "start_time": "2024-09-06T12:49:49.326Z"
   },
   {
    "duration": 9,
    "start_time": "2024-09-06T12:49:49.363Z"
   },
   {
    "duration": 43,
    "start_time": "2024-09-06T12:49:49.374Z"
   },
   {
    "duration": 21,
    "start_time": "2024-09-06T12:49:49.419Z"
   },
   {
    "duration": 7,
    "start_time": "2024-09-06T12:49:49.442Z"
   },
   {
    "duration": 8,
    "start_time": "2024-09-06T12:49:49.450Z"
   },
   {
    "duration": 6,
    "start_time": "2024-09-06T12:49:49.459Z"
   },
   {
    "duration": 8,
    "start_time": "2024-09-06T12:49:49.466Z"
   },
   {
    "duration": 7,
    "start_time": "2024-09-06T12:49:49.475Z"
   },
   {
    "duration": 17,
    "start_time": "2024-09-06T12:49:49.484Z"
   },
   {
    "duration": 6,
    "start_time": "2024-09-06T12:49:49.502Z"
   },
   {
    "duration": 14,
    "start_time": "2024-09-06T12:49:49.509Z"
   },
   {
    "duration": 12,
    "start_time": "2024-09-06T12:49:49.524Z"
   },
   {
    "duration": 18,
    "start_time": "2024-09-06T12:49:49.537Z"
   },
   {
    "duration": 18,
    "start_time": "2024-09-06T12:49:49.556Z"
   },
   {
    "duration": 61,
    "start_time": "2024-09-06T12:49:49.597Z"
   },
   {
    "duration": 99,
    "start_time": "2024-09-06T12:49:49.660Z"
   },
   {
    "duration": 346,
    "start_time": "2024-09-06T12:49:49.761Z"
   },
   {
    "duration": 319,
    "start_time": "2024-09-06T12:49:50.109Z"
   },
   {
    "duration": 189,
    "start_time": "2024-09-06T12:49:50.430Z"
   },
   {
    "duration": 6,
    "start_time": "2024-09-06T12:49:50.621Z"
   },
   {
    "duration": 19,
    "start_time": "2024-09-06T12:49:50.629Z"
   },
   {
    "duration": 6,
    "start_time": "2024-09-06T12:49:50.650Z"
   },
   {
    "duration": 34,
    "start_time": "2024-09-06T12:49:50.657Z"
   },
   {
    "duration": 11,
    "start_time": "2024-09-06T12:49:50.693Z"
   },
   {
    "duration": 31,
    "start_time": "2024-09-06T12:49:50.706Z"
   },
   {
    "duration": 12,
    "start_time": "2024-09-06T12:49:50.739Z"
   },
   {
    "duration": 4,
    "start_time": "2024-09-06T12:49:50.753Z"
   },
   {
    "duration": 8,
    "start_time": "2024-09-06T12:49:50.759Z"
   },
   {
    "duration": 238,
    "start_time": "2024-09-06T12:49:50.768Z"
   },
   {
    "duration": 3370,
    "start_time": "2024-09-06T12:49:51.008Z"
   },
   {
    "duration": 3,
    "start_time": "2024-09-06T12:49:54.381Z"
   },
   {
    "duration": 37,
    "start_time": "2024-09-06T12:49:54.386Z"
   },
   {
    "duration": 31,
    "start_time": "2024-09-06T12:49:54.424Z"
   },
   {
    "duration": 30,
    "start_time": "2024-09-06T12:49:54.456Z"
   },
   {
    "duration": 34,
    "start_time": "2024-09-06T12:49:54.488Z"
   },
   {
    "duration": 27,
    "start_time": "2024-09-06T12:49:54.524Z"
   },
   {
    "duration": 9,
    "start_time": "2024-09-06T12:49:54.553Z"
   },
   {
    "duration": 26,
    "start_time": "2024-09-06T12:49:54.564Z"
   },
   {
    "duration": 26,
    "start_time": "2024-09-06T12:49:54.592Z"
   },
   {
    "duration": 24,
    "start_time": "2024-09-06T12:49:54.619Z"
   },
   {
    "duration": 31,
    "start_time": "2024-09-06T12:49:54.644Z"
   },
   {
    "duration": 59,
    "start_time": "2024-09-06T12:49:54.677Z"
   },
   {
    "duration": 5,
    "start_time": "2024-09-06T12:49:54.737Z"
   },
   {
    "duration": 7,
    "start_time": "2024-09-06T12:49:54.743Z"
   },
   {
    "duration": 7,
    "start_time": "2024-09-06T12:49:54.751Z"
   },
   {
    "duration": 6,
    "start_time": "2024-09-06T12:49:54.759Z"
   },
   {
    "duration": 30,
    "start_time": "2024-09-06T12:49:54.767Z"
   },
   {
    "duration": 20,
    "start_time": "2024-09-06T12:49:54.798Z"
   },
   {
    "duration": 36579,
    "start_time": "2024-09-06T12:49:54.820Z"
   },
   {
    "duration": 4,
    "start_time": "2024-09-06T12:50:31.400Z"
   },
   {
    "duration": 16,
    "start_time": "2024-09-06T12:50:31.406Z"
   },
   {
    "duration": 139,
    "start_time": "2024-09-06T12:50:31.424Z"
   },
   {
    "duration": 1,
    "start_time": "2024-09-06T12:50:31.565Z"
   },
   {
    "duration": 0,
    "start_time": "2024-09-06T12:50:31.567Z"
   },
   {
    "duration": 0,
    "start_time": "2024-09-06T12:50:31.568Z"
   },
   {
    "duration": 0,
    "start_time": "2024-09-06T12:50:31.570Z"
   },
   {
    "duration": 0,
    "start_time": "2024-09-06T12:50:31.572Z"
   },
   {
    "duration": 0,
    "start_time": "2024-09-06T12:50:31.573Z"
   },
   {
    "duration": 1,
    "start_time": "2024-09-06T12:50:31.574Z"
   },
   {
    "duration": 0,
    "start_time": "2024-09-06T12:50:31.599Z"
   },
   {
    "duration": 0,
    "start_time": "2024-09-06T12:50:31.600Z"
   },
   {
    "duration": 0,
    "start_time": "2024-09-06T12:50:31.602Z"
   },
   {
    "duration": 4,
    "start_time": "2024-09-06T12:50:58.487Z"
   },
   {
    "duration": 3,
    "start_time": "2024-09-06T12:50:59.518Z"
   },
   {
    "duration": 3,
    "start_time": "2024-09-06T12:51:00.317Z"
   },
   {
    "duration": 1342,
    "start_time": "2024-09-06T12:51:01.638Z"
   },
   {
    "duration": 3,
    "start_time": "2024-09-06T12:51:12.379Z"
   },
   {
    "duration": 3,
    "start_time": "2024-09-06T12:51:12.828Z"
   },
   {
    "duration": 3,
    "start_time": "2024-09-06T12:51:13.386Z"
   },
   {
    "duration": 6372,
    "start_time": "2024-09-06T12:51:14.058Z"
   },
   {
    "duration": 4,
    "start_time": "2024-09-06T12:51:38.588Z"
   },
   {
    "duration": 3,
    "start_time": "2024-09-06T12:51:39.518Z"
   },
   {
    "duration": 5,
    "start_time": "2024-09-06T12:51:40.038Z"
   },
   {
    "duration": 49,
    "start_time": "2024-09-06T12:51:44.115Z"
   },
   {
    "duration": 103507,
    "start_time": "2024-09-06T12:51:49.898Z"
   },
   {
    "duration": 32303,
    "start_time": "2024-09-06T12:56:42.535Z"
   },
   {
    "duration": 4,
    "start_time": "2024-09-06T12:57:24.322Z"
   },
   {
    "duration": 4,
    "start_time": "2024-09-06T12:57:40.550Z"
   },
   {
    "duration": 14,
    "start_time": "2024-09-06T13:00:41.111Z"
   },
   {
    "duration": 15,
    "start_time": "2024-09-06T13:01:04.715Z"
   },
   {
    "duration": 14,
    "start_time": "2024-09-06T13:01:49.154Z"
   },
   {
    "duration": 1761,
    "start_time": "2024-09-06T13:01:54.687Z"
   },
   {
    "duration": 28,
    "start_time": "2024-09-06T13:01:56.450Z"
   },
   {
    "duration": 2,
    "start_time": "2024-09-06T13:01:56.480Z"
   },
   {
    "duration": 63,
    "start_time": "2024-09-06T13:01:56.484Z"
   },
   {
    "duration": 13,
    "start_time": "2024-09-06T13:01:56.549Z"
   },
   {
    "duration": 56,
    "start_time": "2024-09-06T13:01:56.564Z"
   },
   {
    "duration": 167,
    "start_time": "2024-09-06T13:01:56.622Z"
   },
   {
    "duration": 59,
    "start_time": "2024-09-06T13:01:56.791Z"
   },
   {
    "duration": 135,
    "start_time": "2024-09-06T13:01:56.852Z"
   },
   {
    "duration": 68,
    "start_time": "2024-09-06T13:01:56.989Z"
   },
   {
    "duration": 13,
    "start_time": "2024-09-06T13:01:57.059Z"
   },
   {
    "duration": 25,
    "start_time": "2024-09-06T13:01:57.074Z"
   },
   {
    "duration": 152,
    "start_time": "2024-09-06T13:01:57.101Z"
   },
   {
    "duration": 40,
    "start_time": "2024-09-06T13:01:57.256Z"
   },
   {
    "duration": 20,
    "start_time": "2024-09-06T13:01:57.298Z"
   },
   {
    "duration": 19,
    "start_time": "2024-09-06T13:01:57.319Z"
   },
   {
    "duration": 11,
    "start_time": "2024-09-06T13:01:57.339Z"
   },
   {
    "duration": 12,
    "start_time": "2024-09-06T13:01:57.351Z"
   },
   {
    "duration": 7,
    "start_time": "2024-09-06T13:01:57.365Z"
   },
   {
    "duration": 24,
    "start_time": "2024-09-06T13:01:57.374Z"
   },
   {
    "duration": 16,
    "start_time": "2024-09-06T13:01:57.400Z"
   },
   {
    "duration": 15,
    "start_time": "2024-09-06T13:01:57.418Z"
   },
   {
    "duration": 22,
    "start_time": "2024-09-06T13:01:57.435Z"
   },
   {
    "duration": 15,
    "start_time": "2024-09-06T13:01:57.458Z"
   },
   {
    "duration": 12,
    "start_time": "2024-09-06T13:01:57.475Z"
   },
   {
    "duration": 41,
    "start_time": "2024-09-06T13:01:57.489Z"
   },
   {
    "duration": 30,
    "start_time": "2024-09-06T13:01:57.532Z"
   },
   {
    "duration": 35,
    "start_time": "2024-09-06T13:01:57.564Z"
   },
   {
    "duration": 29,
    "start_time": "2024-09-06T13:01:57.601Z"
   },
   {
    "duration": 381,
    "start_time": "2024-09-06T13:01:57.632Z"
   },
   {
    "duration": 356,
    "start_time": "2024-09-06T13:01:58.014Z"
   },
   {
    "duration": 234,
    "start_time": "2024-09-06T13:01:58.372Z"
   },
   {
    "duration": 6,
    "start_time": "2024-09-06T13:01:58.608Z"
   },
   {
    "duration": 38,
    "start_time": "2024-09-06T13:01:58.616Z"
   },
   {
    "duration": 20,
    "start_time": "2024-09-06T13:01:58.656Z"
   },
   {
    "duration": 15,
    "start_time": "2024-09-06T13:01:58.677Z"
   },
   {
    "duration": 13,
    "start_time": "2024-09-06T13:01:58.694Z"
   },
   {
    "duration": 36,
    "start_time": "2024-09-06T13:01:58.714Z"
   },
   {
    "duration": 17,
    "start_time": "2024-09-06T13:01:58.751Z"
   },
   {
    "duration": 10,
    "start_time": "2024-09-06T13:01:58.769Z"
   },
   {
    "duration": 9,
    "start_time": "2024-09-06T13:01:58.783Z"
   },
   {
    "duration": 252,
    "start_time": "2024-09-06T13:01:58.794Z"
   },
   {
    "duration": 3802,
    "start_time": "2024-09-06T13:01:59.048Z"
   },
   {
    "duration": 3,
    "start_time": "2024-09-06T13:02:02.852Z"
   },
   {
    "duration": 37,
    "start_time": "2024-09-06T13:02:02.857Z"
   },
   {
    "duration": 57,
    "start_time": "2024-09-06T13:02:02.896Z"
   },
   {
    "duration": 29,
    "start_time": "2024-09-06T13:02:02.955Z"
   },
   {
    "duration": 59,
    "start_time": "2024-09-06T13:02:02.986Z"
   },
   {
    "duration": 38,
    "start_time": "2024-09-06T13:02:03.047Z"
   },
   {
    "duration": 24,
    "start_time": "2024-09-06T13:02:03.087Z"
   },
   {
    "duration": 34,
    "start_time": "2024-09-06T13:02:03.113Z"
   },
   {
    "duration": 50,
    "start_time": "2024-09-06T13:02:03.149Z"
   },
   {
    "duration": 146,
    "start_time": "2024-09-06T13:02:03.201Z"
   },
   {
    "duration": 16,
    "start_time": "2024-09-06T13:02:03.349Z"
   },
   {
    "duration": 55,
    "start_time": "2024-09-06T13:02:03.367Z"
   },
   {
    "duration": 6,
    "start_time": "2024-09-06T13:02:03.424Z"
   },
   {
    "duration": 6,
    "start_time": "2024-09-06T13:02:03.431Z"
   },
   {
    "duration": 23,
    "start_time": "2024-09-06T13:02:03.438Z"
   },
   {
    "duration": 16,
    "start_time": "2024-09-06T13:02:03.463Z"
   },
   {
    "duration": 17,
    "start_time": "2024-09-06T13:02:03.481Z"
   },
   {
    "duration": 51,
    "start_time": "2024-09-06T13:02:03.501Z"
   },
   {
    "duration": 40859,
    "start_time": "2024-09-06T13:02:03.554Z"
   },
   {
    "duration": 70,
    "start_time": "2024-09-06T13:02:44.429Z"
   },
   {
    "duration": 5,
    "start_time": "2024-09-06T13:02:44.502Z"
   },
   {
    "duration": 14,
    "start_time": "2024-09-06T13:02:44.510Z"
   },
   {
    "duration": 22,
    "start_time": "2024-09-06T13:02:44.526Z"
   },
   {
    "duration": 18,
    "start_time": "2024-09-06T13:02:44.550Z"
   },
   {
    "duration": 7021,
    "start_time": "2024-09-06T13:02:44.570Z"
   },
   {
    "duration": 6,
    "start_time": "2024-09-06T13:02:51.593Z"
   },
   {
    "duration": 22,
    "start_time": "2024-09-06T13:02:51.601Z"
   },
   {
    "duration": 120,
    "start_time": "2024-09-06T13:02:51.624Z"
   },
   {
    "duration": 204,
    "start_time": "2024-09-06T13:02:51.745Z"
   },
   {
    "duration": 0,
    "start_time": "2024-09-06T13:02:51.950Z"
   },
   {
    "duration": 0,
    "start_time": "2024-09-06T13:02:51.951Z"
   },
   {
    "duration": 0,
    "start_time": "2024-09-06T13:02:51.952Z"
   },
   {
    "duration": 0,
    "start_time": "2024-09-06T13:02:51.954Z"
   },
   {
    "duration": 0,
    "start_time": "2024-09-06T13:02:51.955Z"
   },
   {
    "duration": 11,
    "start_time": "2024-09-06T13:05:42.437Z"
   },
   {
    "duration": 1869,
    "start_time": "2024-09-06T13:09:26.077Z"
   },
   {
    "duration": 24,
    "start_time": "2024-09-06T13:09:27.949Z"
   },
   {
    "duration": 19,
    "start_time": "2024-09-06T13:09:27.975Z"
   },
   {
    "duration": 95,
    "start_time": "2024-09-06T13:09:27.996Z"
   },
   {
    "duration": 16,
    "start_time": "2024-09-06T13:09:28.093Z"
   },
   {
    "duration": 26,
    "start_time": "2024-09-06T13:09:28.111Z"
   },
   {
    "duration": 93,
    "start_time": "2024-09-06T13:09:28.139Z"
   },
   {
    "duration": 16,
    "start_time": "2024-09-06T13:09:28.235Z"
   },
   {
    "duration": 66,
    "start_time": "2024-09-06T13:09:28.254Z"
   },
   {
    "duration": 54,
    "start_time": "2024-09-06T13:09:28.323Z"
   },
   {
    "duration": 11,
    "start_time": "2024-09-06T13:09:28.379Z"
   },
   {
    "duration": 15,
    "start_time": "2024-09-06T13:09:28.392Z"
   },
   {
    "duration": 66,
    "start_time": "2024-09-06T13:09:28.409Z"
   },
   {
    "duration": 18,
    "start_time": "2024-09-06T13:09:28.477Z"
   },
   {
    "duration": 10,
    "start_time": "2024-09-06T13:09:28.498Z"
   },
   {
    "duration": 28,
    "start_time": "2024-09-06T13:09:28.511Z"
   },
   {
    "duration": 17,
    "start_time": "2024-09-06T13:09:28.541Z"
   },
   {
    "duration": 19,
    "start_time": "2024-09-06T13:09:28.559Z"
   },
   {
    "duration": 17,
    "start_time": "2024-09-06T13:09:28.579Z"
   },
   {
    "duration": 28,
    "start_time": "2024-09-06T13:09:28.597Z"
   },
   {
    "duration": 39,
    "start_time": "2024-09-06T13:09:28.627Z"
   },
   {
    "duration": 21,
    "start_time": "2024-09-06T13:09:28.668Z"
   },
   {
    "duration": 22,
    "start_time": "2024-09-06T13:09:28.691Z"
   },
   {
    "duration": 26,
    "start_time": "2024-09-06T13:09:28.715Z"
   },
   {
    "duration": 33,
    "start_time": "2024-09-06T13:09:28.743Z"
   },
   {
    "duration": 34,
    "start_time": "2024-09-06T13:09:28.777Z"
   },
   {
    "duration": 19,
    "start_time": "2024-09-06T13:09:28.813Z"
   },
   {
    "duration": 27,
    "start_time": "2024-09-06T13:09:28.838Z"
   },
   {
    "duration": 42,
    "start_time": "2024-09-06T13:09:28.867Z"
   },
   {
    "duration": 402,
    "start_time": "2024-09-06T13:09:28.910Z"
   },
   {
    "duration": 337,
    "start_time": "2024-09-06T13:09:29.313Z"
   },
   {
    "duration": 199,
    "start_time": "2024-09-06T13:09:29.651Z"
   },
   {
    "duration": 5,
    "start_time": "2024-09-06T13:09:29.851Z"
   },
   {
    "duration": 59,
    "start_time": "2024-09-06T13:09:29.857Z"
   },
   {
    "duration": 10,
    "start_time": "2024-09-06T13:09:29.918Z"
   },
   {
    "duration": 20,
    "start_time": "2024-09-06T13:09:29.930Z"
   },
   {
    "duration": 4,
    "start_time": "2024-09-06T13:09:29.952Z"
   },
   {
    "duration": 33,
    "start_time": "2024-09-06T13:09:29.958Z"
   },
   {
    "duration": 11,
    "start_time": "2024-09-06T13:09:29.993Z"
   },
   {
    "duration": 92,
    "start_time": "2024-09-06T13:09:30.005Z"
   },
   {
    "duration": 42,
    "start_time": "2024-09-06T13:09:30.099Z"
   },
   {
    "duration": 306,
    "start_time": "2024-09-06T13:09:30.143Z"
   },
   {
    "duration": 3584,
    "start_time": "2024-09-06T13:09:30.450Z"
   },
   {
    "duration": 2,
    "start_time": "2024-09-06T13:09:34.036Z"
   },
   {
    "duration": 33,
    "start_time": "2024-09-06T13:09:34.040Z"
   },
   {
    "duration": 9,
    "start_time": "2024-09-06T13:09:34.074Z"
   },
   {
    "duration": 59,
    "start_time": "2024-09-06T13:09:34.084Z"
   },
   {
    "duration": 15,
    "start_time": "2024-09-06T13:09:34.145Z"
   },
   {
    "duration": 8,
    "start_time": "2024-09-06T13:09:34.162Z"
   },
   {
    "duration": 5,
    "start_time": "2024-09-06T13:09:34.173Z"
   },
   {
    "duration": 50,
    "start_time": "2024-09-06T13:09:34.180Z"
   },
   {
    "duration": 8,
    "start_time": "2024-09-06T13:09:34.233Z"
   },
   {
    "duration": 73,
    "start_time": "2024-09-06T13:09:34.243Z"
   },
   {
    "duration": 7,
    "start_time": "2024-09-06T13:09:34.318Z"
   },
   {
    "duration": 54,
    "start_time": "2024-09-06T13:09:34.327Z"
   },
   {
    "duration": 25,
    "start_time": "2024-09-06T13:09:34.382Z"
   },
   {
    "duration": 29,
    "start_time": "2024-09-06T13:09:34.409Z"
   },
   {
    "duration": 13,
    "start_time": "2024-09-06T13:09:34.440Z"
   },
   {
    "duration": 15,
    "start_time": "2024-09-06T13:09:34.455Z"
   },
   {
    "duration": 18,
    "start_time": "2024-09-06T13:09:34.471Z"
   },
   {
    "duration": 54,
    "start_time": "2024-09-06T13:09:34.490Z"
   },
   {
    "duration": 37558,
    "start_time": "2024-09-06T13:09:34.546Z"
   },
   {
    "duration": 93,
    "start_time": "2024-09-06T13:10:12.106Z"
   },
   {
    "duration": 63,
    "start_time": "2024-09-06T13:10:12.201Z"
   },
   {
    "duration": 58,
    "start_time": "2024-09-06T13:10:12.266Z"
   },
   {
    "duration": 13,
    "start_time": "2024-09-06T13:10:12.326Z"
   },
   {
    "duration": 51,
    "start_time": "2024-09-06T13:10:12.340Z"
   },
   {
    "duration": 6264,
    "start_time": "2024-09-06T13:10:12.392Z"
   },
   {
    "duration": 3,
    "start_time": "2024-09-06T13:10:18.658Z"
   },
   {
    "duration": 13,
    "start_time": "2024-09-06T13:10:18.663Z"
   },
   {
    "duration": 40,
    "start_time": "2024-09-06T13:10:18.678Z"
   },
   {
    "duration": 91004,
    "start_time": "2024-09-06T13:10:18.720Z"
   },
   {
    "duration": 0,
    "start_time": "2024-09-06T13:11:49.726Z"
   },
   {
    "duration": 0,
    "start_time": "2024-09-06T13:11:49.727Z"
   },
   {
    "duration": 0,
    "start_time": "2024-09-06T13:11:49.728Z"
   },
   {
    "duration": 0,
    "start_time": "2024-09-06T13:11:49.730Z"
   },
   {
    "duration": 11,
    "start_time": "2024-09-06T13:25:37.398Z"
   },
   {
    "duration": 10,
    "start_time": "2024-09-06T13:26:40.678Z"
   },
   {
    "duration": 6,
    "start_time": "2024-09-06T13:27:09.449Z"
   },
   {
    "duration": 15,
    "start_time": "2024-09-06T13:27:18.075Z"
   },
   {
    "duration": 1691,
    "start_time": "2024-09-06T13:27:40.433Z"
   },
   {
    "duration": 29,
    "start_time": "2024-09-06T13:27:42.126Z"
   },
   {
    "duration": 2,
    "start_time": "2024-09-06T13:27:42.157Z"
   },
   {
    "duration": 69,
    "start_time": "2024-09-06T13:27:42.161Z"
   },
   {
    "duration": 15,
    "start_time": "2024-09-06T13:27:42.231Z"
   },
   {
    "duration": 22,
    "start_time": "2024-09-06T13:27:42.248Z"
   },
   {
    "duration": 95,
    "start_time": "2024-09-06T13:27:42.272Z"
   },
   {
    "duration": 11,
    "start_time": "2024-09-06T13:27:42.368Z"
   },
   {
    "duration": 14,
    "start_time": "2024-09-06T13:27:42.381Z"
   },
   {
    "duration": 117,
    "start_time": "2024-09-06T13:27:42.398Z"
   },
   {
    "duration": 11,
    "start_time": "2024-09-06T13:27:42.517Z"
   },
   {
    "duration": 14,
    "start_time": "2024-09-06T13:27:42.529Z"
   },
   {
    "duration": 73,
    "start_time": "2024-09-06T13:27:42.544Z"
   },
   {
    "duration": 10,
    "start_time": "2024-09-06T13:27:42.619Z"
   },
   {
    "duration": 10,
    "start_time": "2024-09-06T13:27:42.631Z"
   },
   {
    "duration": 13,
    "start_time": "2024-09-06T13:27:42.642Z"
   },
   {
    "duration": 13,
    "start_time": "2024-09-06T13:27:42.656Z"
   },
   {
    "duration": 8,
    "start_time": "2024-09-06T13:27:42.670Z"
   },
   {
    "duration": 5,
    "start_time": "2024-09-06T13:27:42.680Z"
   },
   {
    "duration": 10,
    "start_time": "2024-09-06T13:27:42.697Z"
   },
   {
    "duration": 11,
    "start_time": "2024-09-06T13:27:42.709Z"
   },
   {
    "duration": 8,
    "start_time": "2024-09-06T13:27:42.722Z"
   },
   {
    "duration": 8,
    "start_time": "2024-09-06T13:27:42.731Z"
   },
   {
    "duration": 15,
    "start_time": "2024-09-06T13:27:42.740Z"
   },
   {
    "duration": 15,
    "start_time": "2024-09-06T13:27:42.756Z"
   },
   {
    "duration": 33,
    "start_time": "2024-09-06T13:27:42.772Z"
   },
   {
    "duration": 16,
    "start_time": "2024-09-06T13:27:42.807Z"
   },
   {
    "duration": 24,
    "start_time": "2024-09-06T13:27:42.827Z"
   },
   {
    "duration": 34,
    "start_time": "2024-09-06T13:27:42.853Z"
   },
   {
    "duration": 345,
    "start_time": "2024-09-06T13:27:42.897Z"
   },
   {
    "duration": 319,
    "start_time": "2024-09-06T13:27:43.243Z"
   },
   {
    "duration": 192,
    "start_time": "2024-09-06T13:27:43.564Z"
   },
   {
    "duration": 6,
    "start_time": "2024-09-06T13:27:43.758Z"
   },
   {
    "duration": 41,
    "start_time": "2024-09-06T13:27:43.765Z"
   },
   {
    "duration": 15,
    "start_time": "2024-09-06T13:27:43.807Z"
   },
   {
    "duration": 34,
    "start_time": "2024-09-06T13:27:43.823Z"
   },
   {
    "duration": 10,
    "start_time": "2024-09-06T13:27:43.859Z"
   },
   {
    "duration": 28,
    "start_time": "2024-09-06T13:27:43.870Z"
   },
   {
    "duration": 18,
    "start_time": "2024-09-06T13:27:43.900Z"
   },
   {
    "duration": 27,
    "start_time": "2024-09-06T13:27:43.920Z"
   },
   {
    "duration": 17,
    "start_time": "2024-09-06T13:27:43.949Z"
   },
   {
    "duration": 356,
    "start_time": "2024-09-06T13:27:43.968Z"
   },
   {
    "duration": 3408,
    "start_time": "2024-09-06T13:27:44.326Z"
   },
   {
    "duration": 4,
    "start_time": "2024-09-06T13:27:47.736Z"
   },
   {
    "duration": 79,
    "start_time": "2024-09-06T13:27:47.741Z"
   },
   {
    "duration": 6,
    "start_time": "2024-09-06T13:27:47.821Z"
   },
   {
    "duration": 29,
    "start_time": "2024-09-06T13:27:47.829Z"
   },
   {
    "duration": 16,
    "start_time": "2024-09-06T13:27:47.859Z"
   },
   {
    "duration": 12,
    "start_time": "2024-09-06T13:27:47.876Z"
   },
   {
    "duration": 20,
    "start_time": "2024-09-06T13:27:47.890Z"
   },
   {
    "duration": 27,
    "start_time": "2024-09-06T13:27:47.912Z"
   },
   {
    "duration": 8,
    "start_time": "2024-09-06T13:27:47.940Z"
   },
   {
    "duration": 7,
    "start_time": "2024-09-06T13:27:47.949Z"
   },
   {
    "duration": 8,
    "start_time": "2024-09-06T13:27:47.958Z"
   },
   {
    "duration": 133,
    "start_time": "2024-09-06T13:27:47.967Z"
   },
   {
    "duration": 25,
    "start_time": "2024-09-06T13:27:48.102Z"
   },
   {
    "duration": 30,
    "start_time": "2024-09-06T13:27:48.128Z"
   },
   {
    "duration": 30,
    "start_time": "2024-09-06T13:27:48.159Z"
   },
   {
    "duration": 10,
    "start_time": "2024-09-06T13:27:48.190Z"
   },
   {
    "duration": 20,
    "start_time": "2024-09-06T13:27:48.202Z"
   },
   {
    "duration": 42,
    "start_time": "2024-09-06T13:27:48.224Z"
   },
   {
    "duration": 35131,
    "start_time": "2024-09-06T13:27:48.267Z"
   },
   {
    "duration": 4,
    "start_time": "2024-09-06T13:28:23.399Z"
   },
   {
    "duration": 6,
    "start_time": "2024-09-06T13:28:23.405Z"
   },
   {
    "duration": 4,
    "start_time": "2024-09-06T13:28:23.413Z"
   },
   {
    "duration": 6,
    "start_time": "2024-09-06T13:28:23.418Z"
   },
   {
    "duration": 7,
    "start_time": "2024-09-06T13:28:23.426Z"
   },
   {
    "duration": 6050,
    "start_time": "2024-09-06T13:28:23.435Z"
   },
   {
    "duration": 12,
    "start_time": "2024-09-06T13:28:29.487Z"
   },
   {
    "duration": 7,
    "start_time": "2024-09-06T13:28:29.500Z"
   },
   {
    "duration": 25,
    "start_time": "2024-09-06T13:28:29.508Z"
   },
   {
    "duration": 13,
    "start_time": "2024-09-06T13:28:29.535Z"
   },
   {
    "duration": 135435,
    "start_time": "2024-09-06T13:28:29.550Z"
   },
   {
    "duration": 0,
    "start_time": "2024-09-06T13:30:44.987Z"
   },
   {
    "duration": 0,
    "start_time": "2024-09-06T13:30:44.988Z"
   },
   {
    "duration": 0,
    "start_time": "2024-09-06T13:30:44.989Z"
   },
   {
    "duration": 0,
    "start_time": "2024-09-06T13:30:44.990Z"
   },
   {
    "duration": 0,
    "start_time": "2024-09-06T13:30:44.991Z"
   },
   {
    "duration": 28,
    "start_time": "2024-09-06T13:30:45.622Z"
   },
   {
    "duration": 22,
    "start_time": "2024-09-06T13:30:57.372Z"
   },
   {
    "duration": 10,
    "start_time": "2024-09-06T13:33:41.824Z"
   },
   {
    "duration": 1794,
    "start_time": "2024-09-06T13:34:21.552Z"
   },
   {
    "duration": 27,
    "start_time": "2024-09-06T13:34:23.347Z"
   },
   {
    "duration": 3,
    "start_time": "2024-09-06T13:34:23.375Z"
   },
   {
    "duration": 93,
    "start_time": "2024-09-06T13:34:23.380Z"
   },
   {
    "duration": 13,
    "start_time": "2024-09-06T13:34:23.475Z"
   },
   {
    "duration": 18,
    "start_time": "2024-09-06T13:34:23.489Z"
   },
   {
    "duration": 30,
    "start_time": "2024-09-06T13:34:23.508Z"
   },
   {
    "duration": 12,
    "start_time": "2024-09-06T13:34:23.540Z"
   },
   {
    "duration": 11,
    "start_time": "2024-09-06T13:34:23.553Z"
   },
   {
    "duration": 33,
    "start_time": "2024-09-06T13:34:23.567Z"
   },
   {
    "duration": 12,
    "start_time": "2024-09-06T13:34:23.602Z"
   },
   {
    "duration": 22,
    "start_time": "2024-09-06T13:34:23.615Z"
   },
   {
    "duration": 42,
    "start_time": "2024-09-06T13:34:23.639Z"
   },
   {
    "duration": 10,
    "start_time": "2024-09-06T13:34:23.683Z"
   },
   {
    "duration": 31,
    "start_time": "2024-09-06T13:34:23.695Z"
   },
   {
    "duration": 19,
    "start_time": "2024-09-06T13:34:23.727Z"
   },
   {
    "duration": 71,
    "start_time": "2024-09-06T13:34:23.748Z"
   },
   {
    "duration": 10,
    "start_time": "2024-09-06T13:34:23.820Z"
   },
   {
    "duration": 8,
    "start_time": "2024-09-06T13:34:23.831Z"
   },
   {
    "duration": 9,
    "start_time": "2024-09-06T13:34:23.841Z"
   },
   {
    "duration": 8,
    "start_time": "2024-09-06T13:34:23.851Z"
   },
   {
    "duration": 11,
    "start_time": "2024-09-06T13:34:23.861Z"
   },
   {
    "duration": 28,
    "start_time": "2024-09-06T13:34:23.873Z"
   },
   {
    "duration": 5,
    "start_time": "2024-09-06T13:34:23.903Z"
   },
   {
    "duration": 11,
    "start_time": "2024-09-06T13:34:23.910Z"
   },
   {
    "duration": 18,
    "start_time": "2024-09-06T13:34:23.923Z"
   },
   {
    "duration": 16,
    "start_time": "2024-09-06T13:34:23.943Z"
   },
   {
    "duration": 45,
    "start_time": "2024-09-06T13:34:23.963Z"
   },
   {
    "duration": 108,
    "start_time": "2024-09-06T13:34:24.009Z"
   },
   {
    "duration": 368,
    "start_time": "2024-09-06T13:34:24.118Z"
   },
   {
    "duration": 357,
    "start_time": "2024-09-06T13:34:24.487Z"
   },
   {
    "duration": 208,
    "start_time": "2024-09-06T13:34:24.846Z"
   },
   {
    "duration": 5,
    "start_time": "2024-09-06T13:34:25.056Z"
   },
   {
    "duration": 24,
    "start_time": "2024-09-06T13:34:25.062Z"
   },
   {
    "duration": 15,
    "start_time": "2024-09-06T13:34:25.088Z"
   },
   {
    "duration": 48,
    "start_time": "2024-09-06T13:34:25.104Z"
   },
   {
    "duration": 13,
    "start_time": "2024-09-06T13:34:25.153Z"
   },
   {
    "duration": 44,
    "start_time": "2024-09-06T13:34:25.168Z"
   },
   {
    "duration": 22,
    "start_time": "2024-09-06T13:34:25.214Z"
   },
   {
    "duration": 11,
    "start_time": "2024-09-06T13:34:25.237Z"
   },
   {
    "duration": 11,
    "start_time": "2024-09-06T13:34:25.250Z"
   },
   {
    "duration": 249,
    "start_time": "2024-09-06T13:34:25.263Z"
   },
   {
    "duration": 3565,
    "start_time": "2024-09-06T13:34:25.513Z"
   },
   {
    "duration": 3,
    "start_time": "2024-09-06T13:34:29.080Z"
   },
   {
    "duration": 38,
    "start_time": "2024-09-06T13:34:29.084Z"
   },
   {
    "duration": 24,
    "start_time": "2024-09-06T13:34:29.123Z"
   },
   {
    "duration": 53,
    "start_time": "2024-09-06T13:34:29.150Z"
   },
   {
    "duration": 22,
    "start_time": "2024-09-06T13:34:29.206Z"
   },
   {
    "duration": 12,
    "start_time": "2024-09-06T13:34:29.230Z"
   },
   {
    "duration": 9,
    "start_time": "2024-09-06T13:34:29.244Z"
   },
   {
    "duration": 49,
    "start_time": "2024-09-06T13:34:29.255Z"
   },
   {
    "duration": 54,
    "start_time": "2024-09-06T13:34:29.306Z"
   },
   {
    "duration": 9,
    "start_time": "2024-09-06T13:34:29.362Z"
   },
   {
    "duration": 72,
    "start_time": "2024-09-06T13:34:29.372Z"
   },
   {
    "duration": 21,
    "start_time": "2024-09-06T13:34:29.446Z"
   },
   {
    "duration": 199,
    "start_time": "2024-09-06T13:34:29.468Z"
   },
   {
    "duration": 0,
    "start_time": "2024-09-06T13:34:29.677Z"
   },
   {
    "duration": 0,
    "start_time": "2024-09-06T13:34:29.678Z"
   },
   {
    "duration": 0,
    "start_time": "2024-09-06T13:34:29.679Z"
   },
   {
    "duration": 0,
    "start_time": "2024-09-06T13:34:29.681Z"
   },
   {
    "duration": 0,
    "start_time": "2024-09-06T13:34:29.683Z"
   },
   {
    "duration": 0,
    "start_time": "2024-09-06T13:34:29.685Z"
   },
   {
    "duration": 0,
    "start_time": "2024-09-06T13:34:29.686Z"
   },
   {
    "duration": 0,
    "start_time": "2024-09-06T13:34:29.687Z"
   },
   {
    "duration": 0,
    "start_time": "2024-09-06T13:34:29.688Z"
   },
   {
    "duration": 0,
    "start_time": "2024-09-06T13:34:29.698Z"
   },
   {
    "duration": 0,
    "start_time": "2024-09-06T13:34:29.699Z"
   },
   {
    "duration": 0,
    "start_time": "2024-09-06T13:34:29.701Z"
   },
   {
    "duration": 0,
    "start_time": "2024-09-06T13:34:29.702Z"
   },
   {
    "duration": 0,
    "start_time": "2024-09-06T13:34:29.703Z"
   },
   {
    "duration": 0,
    "start_time": "2024-09-06T13:34:29.704Z"
   },
   {
    "duration": 0,
    "start_time": "2024-09-06T13:34:29.706Z"
   },
   {
    "duration": 0,
    "start_time": "2024-09-06T13:34:29.707Z"
   },
   {
    "duration": 0,
    "start_time": "2024-09-06T13:34:29.709Z"
   },
   {
    "duration": 0,
    "start_time": "2024-09-06T13:34:29.710Z"
   },
   {
    "duration": 0,
    "start_time": "2024-09-06T13:34:29.711Z"
   },
   {
    "duration": 0,
    "start_time": "2024-09-06T13:34:29.712Z"
   },
   {
    "duration": 0,
    "start_time": "2024-09-06T13:34:29.713Z"
   },
   {
    "duration": 1790,
    "start_time": "2024-09-06T13:38:41.051Z"
   },
   {
    "duration": 23,
    "start_time": "2024-09-06T13:38:42.843Z"
   },
   {
    "duration": 3,
    "start_time": "2024-09-06T13:38:42.868Z"
   },
   {
    "duration": 39,
    "start_time": "2024-09-06T13:38:42.872Z"
   },
   {
    "duration": 15,
    "start_time": "2024-09-06T13:38:42.912Z"
   },
   {
    "duration": 23,
    "start_time": "2024-09-06T13:38:42.928Z"
   },
   {
    "duration": 22,
    "start_time": "2024-09-06T13:38:42.953Z"
   },
   {
    "duration": 12,
    "start_time": "2024-09-06T13:38:42.977Z"
   },
   {
    "duration": 13,
    "start_time": "2024-09-06T13:38:42.998Z"
   },
   {
    "duration": 39,
    "start_time": "2024-09-06T13:38:43.014Z"
   },
   {
    "duration": 13,
    "start_time": "2024-09-06T13:38:43.054Z"
   },
   {
    "duration": 13,
    "start_time": "2024-09-06T13:38:43.069Z"
   },
   {
    "duration": 37,
    "start_time": "2024-09-06T13:38:43.083Z"
   },
   {
    "duration": 10,
    "start_time": "2024-09-06T13:38:43.122Z"
   },
   {
    "duration": 12,
    "start_time": "2024-09-06T13:38:43.134Z"
   },
   {
    "duration": 36,
    "start_time": "2024-09-06T13:38:43.148Z"
   },
   {
    "duration": 8,
    "start_time": "2024-09-06T13:38:43.186Z"
   },
   {
    "duration": 22,
    "start_time": "2024-09-06T13:38:43.196Z"
   },
   {
    "duration": 10,
    "start_time": "2024-09-06T13:38:43.219Z"
   },
   {
    "duration": 9,
    "start_time": "2024-09-06T13:38:43.231Z"
   },
   {
    "duration": 8,
    "start_time": "2024-09-06T13:38:43.242Z"
   },
   {
    "duration": 18,
    "start_time": "2024-09-06T13:38:43.252Z"
   },
   {
    "duration": 12,
    "start_time": "2024-09-06T13:38:43.272Z"
   },
   {
    "duration": 28,
    "start_time": "2024-09-06T13:38:43.286Z"
   },
   {
    "duration": 13,
    "start_time": "2024-09-06T13:38:43.316Z"
   },
   {
    "duration": 26,
    "start_time": "2024-09-06T13:38:43.331Z"
   },
   {
    "duration": 18,
    "start_time": "2024-09-06T13:38:43.359Z"
   },
   {
    "duration": 25,
    "start_time": "2024-09-06T13:38:43.383Z"
   },
   {
    "duration": 70,
    "start_time": "2024-09-06T13:38:43.410Z"
   },
   {
    "duration": 347,
    "start_time": "2024-09-06T13:38:43.481Z"
   },
   {
    "duration": 336,
    "start_time": "2024-09-06T13:38:43.830Z"
   },
   {
    "duration": 193,
    "start_time": "2024-09-06T13:38:44.167Z"
   },
   {
    "duration": 5,
    "start_time": "2024-09-06T13:38:44.361Z"
   },
   {
    "duration": 53,
    "start_time": "2024-09-06T13:38:44.368Z"
   },
   {
    "duration": 13,
    "start_time": "2024-09-06T13:38:44.422Z"
   },
   {
    "duration": 30,
    "start_time": "2024-09-06T13:38:44.437Z"
   },
   {
    "duration": 18,
    "start_time": "2024-09-06T13:38:44.469Z"
   },
   {
    "duration": 41,
    "start_time": "2024-09-06T13:38:44.488Z"
   },
   {
    "duration": 21,
    "start_time": "2024-09-06T13:38:44.531Z"
   },
   {
    "duration": 13,
    "start_time": "2024-09-06T13:38:44.553Z"
   },
   {
    "duration": 11,
    "start_time": "2024-09-06T13:38:44.568Z"
   },
   {
    "duration": 240,
    "start_time": "2024-09-06T13:38:44.580Z"
   },
   {
    "duration": 3549,
    "start_time": "2024-09-06T13:38:44.821Z"
   },
   {
    "duration": 4,
    "start_time": "2024-09-06T13:38:48.374Z"
   },
   {
    "duration": 63,
    "start_time": "2024-09-06T13:38:48.381Z"
   },
   {
    "duration": 12,
    "start_time": "2024-09-06T13:38:48.446Z"
   },
   {
    "duration": 26,
    "start_time": "2024-09-06T13:38:48.460Z"
   },
   {
    "duration": 17,
    "start_time": "2024-09-06T13:38:48.487Z"
   },
   {
    "duration": 36,
    "start_time": "2024-09-06T13:38:48.505Z"
   },
   {
    "duration": 7,
    "start_time": "2024-09-06T13:38:48.543Z"
   },
   {
    "duration": 9,
    "start_time": "2024-09-06T13:38:48.552Z"
   },
   {
    "duration": 38,
    "start_time": "2024-09-06T13:38:48.562Z"
   },
   {
    "duration": 21,
    "start_time": "2024-09-06T13:38:48.601Z"
   },
   {
    "duration": 26,
    "start_time": "2024-09-06T13:38:48.624Z"
   },
   {
    "duration": 12,
    "start_time": "2024-09-06T13:38:48.651Z"
   },
   {
    "duration": 193,
    "start_time": "2024-09-06T13:38:48.665Z"
   },
   {
    "duration": 0,
    "start_time": "2024-09-06T13:38:48.859Z"
   },
   {
    "duration": 0,
    "start_time": "2024-09-06T13:38:48.860Z"
   },
   {
    "duration": 0,
    "start_time": "2024-09-06T13:38:48.861Z"
   },
   {
    "duration": 0,
    "start_time": "2024-09-06T13:38:48.862Z"
   },
   {
    "duration": 0,
    "start_time": "2024-09-06T13:38:48.863Z"
   },
   {
    "duration": 0,
    "start_time": "2024-09-06T13:38:48.865Z"
   },
   {
    "duration": 0,
    "start_time": "2024-09-06T13:38:48.866Z"
   },
   {
    "duration": 0,
    "start_time": "2024-09-06T13:38:48.867Z"
   },
   {
    "duration": 0,
    "start_time": "2024-09-06T13:38:48.868Z"
   },
   {
    "duration": 0,
    "start_time": "2024-09-06T13:38:48.869Z"
   },
   {
    "duration": 0,
    "start_time": "2024-09-06T13:38:48.870Z"
   },
   {
    "duration": 0,
    "start_time": "2024-09-06T13:38:48.898Z"
   },
   {
    "duration": 0,
    "start_time": "2024-09-06T13:38:48.899Z"
   },
   {
    "duration": 0,
    "start_time": "2024-09-06T13:38:48.899Z"
   },
   {
    "duration": 0,
    "start_time": "2024-09-06T13:38:48.900Z"
   },
   {
    "duration": 0,
    "start_time": "2024-09-06T13:38:48.901Z"
   },
   {
    "duration": 0,
    "start_time": "2024-09-06T13:38:48.903Z"
   },
   {
    "duration": 0,
    "start_time": "2024-09-06T13:38:48.903Z"
   },
   {
    "duration": 0,
    "start_time": "2024-09-06T13:38:48.905Z"
   },
   {
    "duration": 0,
    "start_time": "2024-09-06T13:38:48.906Z"
   },
   {
    "duration": 0,
    "start_time": "2024-09-06T13:38:48.907Z"
   },
   {
    "duration": 0,
    "start_time": "2024-09-06T13:38:48.908Z"
   },
   {
    "duration": 17,
    "start_time": "2024-09-06T13:40:54.628Z"
   },
   {
    "duration": 1957,
    "start_time": "2024-09-08T11:19:12.742Z"
   },
   {
    "duration": 3688,
    "start_time": "2024-09-08T11:19:14.700Z"
   },
   {
    "duration": 3,
    "start_time": "2024-09-08T11:19:18.390Z"
   },
   {
    "duration": 78,
    "start_time": "2024-09-08T11:19:18.395Z"
   },
   {
    "duration": 15,
    "start_time": "2024-09-08T11:19:18.475Z"
   },
   {
    "duration": 75,
    "start_time": "2024-09-08T11:19:18.491Z"
   },
   {
    "duration": 256,
    "start_time": "2024-09-08T11:19:18.567Z"
   },
   {
    "duration": 12,
    "start_time": "2024-09-08T11:19:18.824Z"
   },
   {
    "duration": 13,
    "start_time": "2024-09-08T11:19:18.837Z"
   },
   {
    "duration": 66,
    "start_time": "2024-09-08T11:19:18.851Z"
   },
   {
    "duration": 12,
    "start_time": "2024-09-08T11:19:18.918Z"
   },
   {
    "duration": 40,
    "start_time": "2024-09-08T11:19:18.931Z"
   },
   {
    "duration": 120,
    "start_time": "2024-09-08T11:19:18.972Z"
   },
   {
    "duration": 10,
    "start_time": "2024-09-08T11:19:19.095Z"
   },
   {
    "duration": 9,
    "start_time": "2024-09-08T11:19:19.106Z"
   },
   {
    "duration": 33,
    "start_time": "2024-09-08T11:19:19.117Z"
   },
   {
    "duration": 11,
    "start_time": "2024-09-08T11:19:19.152Z"
   },
   {
    "duration": 8,
    "start_time": "2024-09-08T11:19:19.164Z"
   },
   {
    "duration": 39,
    "start_time": "2024-09-08T11:19:19.173Z"
   },
   {
    "duration": 8,
    "start_time": "2024-09-08T11:19:19.213Z"
   },
   {
    "duration": 16,
    "start_time": "2024-09-08T11:19:19.223Z"
   },
   {
    "duration": 21,
    "start_time": "2024-09-08T11:19:19.240Z"
   },
   {
    "duration": 7,
    "start_time": "2024-09-08T11:19:19.263Z"
   },
   {
    "duration": 10,
    "start_time": "2024-09-08T11:19:19.272Z"
   },
   {
    "duration": 11,
    "start_time": "2024-09-08T11:19:19.283Z"
   },
   {
    "duration": 20,
    "start_time": "2024-09-08T11:19:19.295Z"
   },
   {
    "duration": 20,
    "start_time": "2024-09-08T11:19:19.317Z"
   },
   {
    "duration": 24,
    "start_time": "2024-09-08T11:19:19.339Z"
   },
   {
    "duration": 26,
    "start_time": "2024-09-08T11:19:19.365Z"
   },
   {
    "duration": 399,
    "start_time": "2024-09-08T11:19:19.393Z"
   },
   {
    "duration": 323,
    "start_time": "2024-09-08T11:19:19.794Z"
   },
   {
    "duration": 180,
    "start_time": "2024-09-08T11:19:20.120Z"
   },
   {
    "duration": 4,
    "start_time": "2024-09-08T11:19:20.302Z"
   },
   {
    "duration": 43,
    "start_time": "2024-09-08T11:19:20.308Z"
   },
   {
    "duration": 11,
    "start_time": "2024-09-08T11:19:20.353Z"
   },
   {
    "duration": 24,
    "start_time": "2024-09-08T11:19:20.365Z"
   },
   {
    "duration": 27,
    "start_time": "2024-09-08T11:19:20.390Z"
   },
   {
    "duration": 29,
    "start_time": "2024-09-08T11:19:20.419Z"
   },
   {
    "duration": 18,
    "start_time": "2024-09-08T11:19:20.449Z"
   },
   {
    "duration": 5,
    "start_time": "2024-09-08T11:19:20.469Z"
   },
   {
    "duration": 11,
    "start_time": "2024-09-08T11:19:20.478Z"
   },
   {
    "duration": 279,
    "start_time": "2024-09-08T11:19:20.490Z"
   },
   {
    "duration": 3429,
    "start_time": "2024-09-08T11:19:20.770Z"
   },
   {
    "duration": 3,
    "start_time": "2024-09-08T11:19:24.201Z"
   },
   {
    "duration": 12,
    "start_time": "2024-09-08T11:19:24.206Z"
   },
   {
    "duration": 9,
    "start_time": "2024-09-08T11:19:24.220Z"
   },
   {
    "duration": 25,
    "start_time": "2024-09-08T11:19:24.231Z"
   },
   {
    "duration": 45,
    "start_time": "2024-09-08T11:19:24.258Z"
   },
   {
    "duration": 56,
    "start_time": "2024-09-08T11:19:24.304Z"
   },
   {
    "duration": 8,
    "start_time": "2024-09-08T11:19:24.361Z"
   },
   {
    "duration": 4,
    "start_time": "2024-09-08T11:19:24.371Z"
   },
   {
    "duration": 18,
    "start_time": "2024-09-08T11:19:24.376Z"
   },
   {
    "duration": 16,
    "start_time": "2024-09-08T11:19:24.395Z"
   },
   {
    "duration": 8,
    "start_time": "2024-09-08T11:19:24.412Z"
   },
   {
    "duration": 5,
    "start_time": "2024-09-08T11:19:24.422Z"
   },
   {
    "duration": 196,
    "start_time": "2024-09-08T11:19:24.428Z"
   },
   {
    "duration": 0,
    "start_time": "2024-09-08T11:19:24.625Z"
   },
   {
    "duration": 0,
    "start_time": "2024-09-08T11:19:24.626Z"
   },
   {
    "duration": 0,
    "start_time": "2024-09-08T11:19:24.628Z"
   },
   {
    "duration": 0,
    "start_time": "2024-09-08T11:19:24.628Z"
   },
   {
    "duration": 0,
    "start_time": "2024-09-08T11:19:24.629Z"
   },
   {
    "duration": 0,
    "start_time": "2024-09-08T11:19:24.631Z"
   },
   {
    "duration": 0,
    "start_time": "2024-09-08T11:19:24.632Z"
   },
   {
    "duration": 0,
    "start_time": "2024-09-08T11:19:24.634Z"
   },
   {
    "duration": 0,
    "start_time": "2024-09-08T11:19:24.635Z"
   },
   {
    "duration": 0,
    "start_time": "2024-09-08T11:19:24.637Z"
   },
   {
    "duration": 0,
    "start_time": "2024-09-08T11:19:24.638Z"
   },
   {
    "duration": 0,
    "start_time": "2024-09-08T11:19:24.640Z"
   },
   {
    "duration": 0,
    "start_time": "2024-09-08T11:19:24.641Z"
   },
   {
    "duration": 0,
    "start_time": "2024-09-08T11:19:24.642Z"
   },
   {
    "duration": 0,
    "start_time": "2024-09-08T11:19:24.644Z"
   },
   {
    "duration": 0,
    "start_time": "2024-09-08T11:19:24.645Z"
   },
   {
    "duration": 0,
    "start_time": "2024-09-08T11:19:24.645Z"
   },
   {
    "duration": 0,
    "start_time": "2024-09-08T11:19:24.647Z"
   },
   {
    "duration": 0,
    "start_time": "2024-09-08T11:19:24.648Z"
   },
   {
    "duration": 0,
    "start_time": "2024-09-08T11:19:24.649Z"
   },
   {
    "duration": 0,
    "start_time": "2024-09-08T11:19:24.650Z"
   },
   {
    "duration": 0,
    "start_time": "2024-09-08T11:19:24.651Z"
   },
   {
    "duration": 9,
    "start_time": "2024-09-08T11:20:43.587Z"
   },
   {
    "duration": 9,
    "start_time": "2024-09-08T11:20:53.337Z"
   },
   {
    "duration": 13,
    "start_time": "2024-09-08T11:20:58.596Z"
   },
   {
    "duration": 4,
    "start_time": "2024-09-08T11:21:07.506Z"
   },
   {
    "duration": 54,
    "start_time": "2024-09-08T11:21:10.936Z"
   },
   {
    "duration": 19,
    "start_time": "2024-09-08T11:21:27.546Z"
   },
   {
    "duration": 1774,
    "start_time": "2024-09-08T11:21:52.804Z"
   },
   {
    "duration": 25,
    "start_time": "2024-09-08T11:21:54.580Z"
   },
   {
    "duration": 2,
    "start_time": "2024-09-08T11:21:54.607Z"
   },
   {
    "duration": 67,
    "start_time": "2024-09-08T11:21:54.611Z"
   },
   {
    "duration": 13,
    "start_time": "2024-09-08T11:21:54.680Z"
   },
   {
    "duration": 18,
    "start_time": "2024-09-08T11:21:54.695Z"
   },
   {
    "duration": 30,
    "start_time": "2024-09-08T11:21:54.715Z"
   },
   {
    "duration": 12,
    "start_time": "2024-09-08T11:21:54.747Z"
   },
   {
    "duration": 28,
    "start_time": "2024-09-08T11:21:54.761Z"
   },
   {
    "duration": 35,
    "start_time": "2024-09-08T11:21:54.792Z"
   },
   {
    "duration": 13,
    "start_time": "2024-09-08T11:21:54.828Z"
   },
   {
    "duration": 12,
    "start_time": "2024-09-08T11:21:54.842Z"
   },
   {
    "duration": 20,
    "start_time": "2024-09-08T11:21:54.856Z"
   },
   {
    "duration": 11,
    "start_time": "2024-09-08T11:21:54.877Z"
   },
   {
    "duration": 79,
    "start_time": "2024-09-08T11:21:54.889Z"
   },
   {
    "duration": 15,
    "start_time": "2024-09-08T11:21:54.970Z"
   },
   {
    "duration": 8,
    "start_time": "2024-09-08T11:21:54.986Z"
   },
   {
    "duration": 8,
    "start_time": "2024-09-08T11:21:54.996Z"
   },
   {
    "duration": 6,
    "start_time": "2024-09-08T11:21:55.006Z"
   },
   {
    "duration": 8,
    "start_time": "2024-09-08T11:21:55.014Z"
   },
   {
    "duration": 32,
    "start_time": "2024-09-08T11:21:55.024Z"
   },
   {
    "duration": 9,
    "start_time": "2024-09-08T11:21:55.058Z"
   },
   {
    "duration": 11,
    "start_time": "2024-09-08T11:21:55.068Z"
   },
   {
    "duration": 8,
    "start_time": "2024-09-08T11:21:55.080Z"
   },
   {
    "duration": 14,
    "start_time": "2024-09-08T11:21:55.090Z"
   },
   {
    "duration": 23,
    "start_time": "2024-09-08T11:21:55.106Z"
   },
   {
    "duration": 22,
    "start_time": "2024-09-08T11:21:55.131Z"
   },
   {
    "duration": 28,
    "start_time": "2024-09-08T11:21:55.159Z"
   },
   {
    "duration": 43,
    "start_time": "2024-09-08T11:21:55.188Z"
   },
   {
    "duration": 369,
    "start_time": "2024-09-08T11:21:55.233Z"
   },
   {
    "duration": 351,
    "start_time": "2024-09-08T11:21:55.604Z"
   },
   {
    "duration": 183,
    "start_time": "2024-09-08T11:21:55.957Z"
   },
   {
    "duration": 6,
    "start_time": "2024-09-08T11:21:56.142Z"
   },
   {
    "duration": 6,
    "start_time": "2024-09-08T11:21:56.149Z"
   },
   {
    "duration": 18,
    "start_time": "2024-09-08T11:21:56.156Z"
   },
   {
    "duration": 28,
    "start_time": "2024-09-08T11:21:56.175Z"
   },
   {
    "duration": 9,
    "start_time": "2024-09-08T11:21:56.204Z"
   },
   {
    "duration": 28,
    "start_time": "2024-09-08T11:21:56.215Z"
   },
   {
    "duration": 11,
    "start_time": "2024-09-08T11:21:56.245Z"
   },
   {
    "duration": 7,
    "start_time": "2024-09-08T11:21:56.257Z"
   },
   {
    "duration": 10,
    "start_time": "2024-09-08T11:21:56.265Z"
   },
   {
    "duration": 239,
    "start_time": "2024-09-08T11:21:56.276Z"
   },
   {
    "duration": 3391,
    "start_time": "2024-09-08T11:21:56.516Z"
   },
   {
    "duration": 3,
    "start_time": "2024-09-08T11:21:59.909Z"
   },
   {
    "duration": 55,
    "start_time": "2024-09-08T11:21:59.913Z"
   },
   {
    "duration": 18,
    "start_time": "2024-09-08T11:21:59.970Z"
   },
   {
    "duration": 31,
    "start_time": "2024-09-08T11:21:59.989Z"
   },
   {
    "duration": 125,
    "start_time": "2024-09-08T11:22:00.021Z"
   },
   {
    "duration": 28,
    "start_time": "2024-09-08T11:22:00.148Z"
   },
   {
    "duration": 8,
    "start_time": "2024-09-08T11:22:00.177Z"
   },
   {
    "duration": 26,
    "start_time": "2024-09-08T11:22:00.187Z"
   },
   {
    "duration": 35,
    "start_time": "2024-09-08T11:22:00.215Z"
   },
   {
    "duration": 16,
    "start_time": "2024-09-08T11:22:00.252Z"
   },
   {
    "duration": 19,
    "start_time": "2024-09-08T11:22:00.270Z"
   },
   {
    "duration": 18,
    "start_time": "2024-09-08T11:22:00.291Z"
   },
   {
    "duration": 39,
    "start_time": "2024-09-08T11:22:00.310Z"
   },
   {
    "duration": 193,
    "start_time": "2024-09-08T11:22:00.350Z"
   },
   {
    "duration": 0,
    "start_time": "2024-09-08T11:22:00.545Z"
   },
   {
    "duration": 0,
    "start_time": "2024-09-08T11:22:00.546Z"
   },
   {
    "duration": 0,
    "start_time": "2024-09-08T11:22:00.547Z"
   },
   {
    "duration": 0,
    "start_time": "2024-09-08T11:22:00.548Z"
   },
   {
    "duration": 0,
    "start_time": "2024-09-08T11:22:00.549Z"
   },
   {
    "duration": 0,
    "start_time": "2024-09-08T11:22:00.550Z"
   },
   {
    "duration": 0,
    "start_time": "2024-09-08T11:22:00.551Z"
   },
   {
    "duration": 0,
    "start_time": "2024-09-08T11:22:00.552Z"
   },
   {
    "duration": 0,
    "start_time": "2024-09-08T11:22:00.553Z"
   },
   {
    "duration": 0,
    "start_time": "2024-09-08T11:22:00.554Z"
   },
   {
    "duration": 0,
    "start_time": "2024-09-08T11:22:00.555Z"
   },
   {
    "duration": 0,
    "start_time": "2024-09-08T11:22:00.556Z"
   },
   {
    "duration": 0,
    "start_time": "2024-09-08T11:22:00.557Z"
   },
   {
    "duration": 0,
    "start_time": "2024-09-08T11:22:00.559Z"
   },
   {
    "duration": 0,
    "start_time": "2024-09-08T11:22:00.560Z"
   },
   {
    "duration": 0,
    "start_time": "2024-09-08T11:22:00.561Z"
   },
   {
    "duration": 0,
    "start_time": "2024-09-08T11:22:00.562Z"
   },
   {
    "duration": 0,
    "start_time": "2024-09-08T11:22:00.563Z"
   },
   {
    "duration": 0,
    "start_time": "2024-09-08T11:22:00.564Z"
   },
   {
    "duration": 0,
    "start_time": "2024-09-08T11:22:00.565Z"
   },
   {
    "duration": 0,
    "start_time": "2024-09-08T11:22:00.566Z"
   },
   {
    "duration": 0,
    "start_time": "2024-09-08T11:22:00.567Z"
   },
   {
    "duration": 4,
    "start_time": "2024-09-08T11:22:42.364Z"
   },
   {
    "duration": 17,
    "start_time": "2024-09-08T11:22:44.104Z"
   },
   {
    "duration": 34,
    "start_time": "2024-09-08T11:22:45.494Z"
   },
   {
    "duration": 18,
    "start_time": "2024-09-08T11:22:47.793Z"
   },
   {
    "duration": 17,
    "start_time": "2024-09-08T11:22:48.481Z"
   },
   {
    "duration": 3,
    "start_time": "2024-09-08T11:22:52.743Z"
   },
   {
    "duration": 3,
    "start_time": "2024-09-08T11:22:53.765Z"
   },
   {
    "duration": 2,
    "start_time": "2024-09-08T11:22:54.402Z"
   },
   {
    "duration": 18,
    "start_time": "2024-09-08T11:22:56.321Z"
   },
   {
    "duration": 1822,
    "start_time": "2024-09-08T11:24:57.596Z"
   },
   {
    "duration": 30,
    "start_time": "2024-09-08T11:24:59.420Z"
   },
   {
    "duration": 3,
    "start_time": "2024-09-08T11:24:59.452Z"
   },
   {
    "duration": 59,
    "start_time": "2024-09-08T11:24:59.456Z"
   },
   {
    "duration": 13,
    "start_time": "2024-09-08T11:24:59.518Z"
   },
   {
    "duration": 15,
    "start_time": "2024-09-08T11:24:59.533Z"
   },
   {
    "duration": 35,
    "start_time": "2024-09-08T11:24:59.550Z"
   },
   {
    "duration": 12,
    "start_time": "2024-09-08T11:24:59.587Z"
   },
   {
    "duration": 18,
    "start_time": "2024-09-08T11:24:59.600Z"
   },
   {
    "duration": 45,
    "start_time": "2024-09-08T11:24:59.620Z"
   },
   {
    "duration": 10,
    "start_time": "2024-09-08T11:24:59.667Z"
   },
   {
    "duration": 41,
    "start_time": "2024-09-08T11:24:59.679Z"
   },
   {
    "duration": 26,
    "start_time": "2024-09-08T11:24:59.721Z"
   },
   {
    "duration": 10,
    "start_time": "2024-09-08T11:24:59.750Z"
   },
   {
    "duration": 18,
    "start_time": "2024-09-08T11:24:59.761Z"
   },
   {
    "duration": 11,
    "start_time": "2024-09-08T11:24:59.781Z"
   },
   {
    "duration": 9,
    "start_time": "2024-09-08T11:24:59.794Z"
   },
   {
    "duration": 8,
    "start_time": "2024-09-08T11:24:59.805Z"
   },
   {
    "duration": 12,
    "start_time": "2024-09-08T11:24:59.821Z"
   },
   {
    "duration": 7,
    "start_time": "2024-09-08T11:24:59.835Z"
   },
   {
    "duration": 10,
    "start_time": "2024-09-08T11:24:59.844Z"
   },
   {
    "duration": 8,
    "start_time": "2024-09-08T11:24:59.856Z"
   },
   {
    "duration": 7,
    "start_time": "2024-09-08T11:24:59.865Z"
   },
   {
    "duration": 5,
    "start_time": "2024-09-08T11:24:59.874Z"
   },
   {
    "duration": 45,
    "start_time": "2024-09-08T11:24:59.880Z"
   },
   {
    "duration": 60,
    "start_time": "2024-09-08T11:24:59.927Z"
   },
   {
    "duration": 17,
    "start_time": "2024-09-08T11:24:59.989Z"
   },
   {
    "duration": 43,
    "start_time": "2024-09-08T11:25:00.008Z"
   },
   {
    "duration": 120,
    "start_time": "2024-09-08T11:25:00.052Z"
   },
   {
    "duration": 371,
    "start_time": "2024-09-08T11:25:00.174Z"
   },
   {
    "duration": 333,
    "start_time": "2024-09-08T11:25:00.547Z"
   },
   {
    "duration": 184,
    "start_time": "2024-09-08T11:25:00.882Z"
   },
   {
    "duration": 4,
    "start_time": "2024-09-08T11:25:01.068Z"
   },
   {
    "duration": 15,
    "start_time": "2024-09-08T11:25:01.074Z"
   },
   {
    "duration": 16,
    "start_time": "2024-09-08T11:25:01.091Z"
   },
   {
    "duration": 9,
    "start_time": "2024-09-08T11:25:01.109Z"
   },
   {
    "duration": 5,
    "start_time": "2024-09-08T11:25:01.120Z"
   },
   {
    "duration": 33,
    "start_time": "2024-09-08T11:25:01.127Z"
   },
   {
    "duration": 12,
    "start_time": "2024-09-08T11:25:01.162Z"
   },
   {
    "duration": 37,
    "start_time": "2024-09-08T11:25:01.176Z"
   },
   {
    "duration": 17,
    "start_time": "2024-09-08T11:25:01.218Z"
   },
   {
    "duration": 263,
    "start_time": "2024-09-08T11:25:01.237Z"
   },
   {
    "duration": 3629,
    "start_time": "2024-09-08T11:25:01.502Z"
   },
   {
    "duration": 3,
    "start_time": "2024-09-08T11:25:05.135Z"
   },
   {
    "duration": 8,
    "start_time": "2024-09-08T11:25:05.140Z"
   },
   {
    "duration": 9,
    "start_time": "2024-09-08T11:25:05.150Z"
   },
   {
    "duration": 31,
    "start_time": "2024-09-08T11:25:05.161Z"
   },
   {
    "duration": 27,
    "start_time": "2024-09-08T11:25:05.194Z"
   },
   {
    "duration": 57,
    "start_time": "2024-09-08T11:25:05.223Z"
   },
   {
    "duration": 8,
    "start_time": "2024-09-08T11:25:05.282Z"
   },
   {
    "duration": 9,
    "start_time": "2024-09-08T11:25:05.292Z"
   },
   {
    "duration": 21,
    "start_time": "2024-09-08T11:25:05.302Z"
   },
   {
    "duration": 16,
    "start_time": "2024-09-08T11:25:05.325Z"
   },
   {
    "duration": 14,
    "start_time": "2024-09-08T11:25:05.343Z"
   },
   {
    "duration": 13,
    "start_time": "2024-09-08T11:25:05.358Z"
   },
   {
    "duration": 18,
    "start_time": "2024-09-08T11:25:05.373Z"
   },
   {
    "duration": 59,
    "start_time": "2024-09-08T11:25:05.393Z"
   },
   {
    "duration": 17,
    "start_time": "2024-09-08T11:25:05.454Z"
   },
   {
    "duration": 21,
    "start_time": "2024-09-08T11:25:05.472Z"
   },
   {
    "duration": 6,
    "start_time": "2024-09-08T11:25:05.495Z"
   },
   {
    "duration": 7,
    "start_time": "2024-09-08T11:25:05.503Z"
   },
   {
    "duration": 24,
    "start_time": "2024-09-08T11:25:05.511Z"
   },
   {
    "duration": 23,
    "start_time": "2024-09-08T11:25:05.537Z"
   },
   {
    "duration": 141065,
    "start_time": "2024-09-08T11:25:05.562Z"
   },
   {
    "duration": 92,
    "start_time": "2024-09-08T11:27:26.630Z"
   },
   {
    "duration": 35,
    "start_time": "2024-09-08T11:27:26.724Z"
   },
   {
    "duration": 3,
    "start_time": "2024-09-08T11:27:26.760Z"
   },
   {
    "duration": 5,
    "start_time": "2024-09-08T11:27:26.764Z"
   },
   {
    "duration": 7,
    "start_time": "2024-09-08T11:27:26.771Z"
   },
   {
    "duration": 6055,
    "start_time": "2024-09-08T11:27:26.779Z"
   },
   {
    "duration": 4,
    "start_time": "2024-09-08T11:27:32.836Z"
   },
   {
    "duration": 10,
    "start_time": "2024-09-08T11:27:32.841Z"
   },
   {
    "duration": 37,
    "start_time": "2024-09-08T11:27:32.852Z"
   },
   {
    "duration": 34,
    "start_time": "2024-09-08T11:27:32.891Z"
   },
   {
    "duration": 285099,
    "start_time": "2024-09-08T11:27:32.927Z"
   },
   {
    "duration": 0,
    "start_time": "2024-09-08T11:32:18.028Z"
   },
   {
    "duration": 0,
    "start_time": "2024-09-08T11:32:18.029Z"
   },
   {
    "duration": 0,
    "start_time": "2024-09-08T11:32:18.030Z"
   },
   {
    "duration": 1,
    "start_time": "2024-09-08T11:32:18.031Z"
   },
   {
    "duration": 0,
    "start_time": "2024-09-08T11:32:18.033Z"
   },
   {
    "duration": 5,
    "start_time": "2024-09-08T11:32:19.580Z"
   },
   {
    "duration": 33677,
    "start_time": "2024-09-08T11:37:24.030Z"
   },
   {
    "duration": 4,
    "start_time": "2024-09-08T11:37:57.709Z"
   },
   {
    "duration": 8,
    "start_time": "2024-09-08T11:40:21.449Z"
   },
   {
    "duration": 321278,
    "start_time": "2024-09-08T11:40:23.997Z"
   },
   {
    "duration": 1755,
    "start_time": "2024-09-08T11:49:52.126Z"
   },
   {
    "duration": 41,
    "start_time": "2024-09-08T11:49:53.883Z"
   },
   {
    "duration": 2,
    "start_time": "2024-09-08T11:49:53.926Z"
   },
   {
    "duration": 107,
    "start_time": "2024-09-08T11:49:53.929Z"
   },
   {
    "duration": 14,
    "start_time": "2024-09-08T11:49:54.038Z"
   },
   {
    "duration": 33,
    "start_time": "2024-09-08T11:49:54.053Z"
   },
   {
    "duration": 47,
    "start_time": "2024-09-08T11:49:54.087Z"
   },
   {
    "duration": 11,
    "start_time": "2024-09-08T11:49:54.136Z"
   },
   {
    "duration": 48,
    "start_time": "2024-09-08T11:49:54.149Z"
   },
   {
    "duration": 93,
    "start_time": "2024-09-08T11:49:54.199Z"
   },
   {
    "duration": 11,
    "start_time": "2024-09-08T11:49:54.294Z"
   },
   {
    "duration": 22,
    "start_time": "2024-09-08T11:49:54.307Z"
   },
   {
    "duration": 44,
    "start_time": "2024-09-08T11:49:54.330Z"
   },
   {
    "duration": 11,
    "start_time": "2024-09-08T11:49:54.377Z"
   },
   {
    "duration": 57,
    "start_time": "2024-09-08T11:49:54.390Z"
   },
   {
    "duration": 16,
    "start_time": "2024-09-08T11:49:54.448Z"
   },
   {
    "duration": 10,
    "start_time": "2024-09-08T11:49:54.466Z"
   },
   {
    "duration": 8,
    "start_time": "2024-09-08T11:49:54.477Z"
   },
   {
    "duration": 10,
    "start_time": "2024-09-08T11:49:54.487Z"
   },
   {
    "duration": 35,
    "start_time": "2024-09-08T11:49:54.498Z"
   },
   {
    "duration": 32,
    "start_time": "2024-09-08T11:49:54.534Z"
   },
   {
    "duration": 71,
    "start_time": "2024-09-08T11:49:54.567Z"
   },
   {
    "duration": 14,
    "start_time": "2024-09-08T11:49:54.639Z"
   },
   {
    "duration": 24,
    "start_time": "2024-09-08T11:49:54.655Z"
   },
   {
    "duration": 30,
    "start_time": "2024-09-08T11:49:54.680Z"
   },
   {
    "duration": 47,
    "start_time": "2024-09-08T11:49:54.711Z"
   },
   {
    "duration": 26,
    "start_time": "2024-09-08T11:49:54.760Z"
   },
   {
    "duration": 42,
    "start_time": "2024-09-08T11:49:54.788Z"
   },
   {
    "duration": 27,
    "start_time": "2024-09-08T11:49:54.832Z"
   },
   {
    "duration": 385,
    "start_time": "2024-09-08T11:49:54.861Z"
   },
   {
    "duration": 322,
    "start_time": "2024-09-08T11:49:55.248Z"
   },
   {
    "duration": 188,
    "start_time": "2024-09-08T11:49:55.572Z"
   },
   {
    "duration": 5,
    "start_time": "2024-09-08T11:49:55.762Z"
   },
   {
    "duration": 18,
    "start_time": "2024-09-08T11:49:55.769Z"
   },
   {
    "duration": 12,
    "start_time": "2024-09-08T11:49:55.788Z"
   },
   {
    "duration": 34,
    "start_time": "2024-09-08T11:49:55.801Z"
   },
   {
    "duration": 25,
    "start_time": "2024-09-08T11:49:55.837Z"
   },
   {
    "duration": 45,
    "start_time": "2024-09-08T11:49:55.863Z"
   },
   {
    "duration": 29,
    "start_time": "2024-09-08T11:49:55.909Z"
   },
   {
    "duration": 46,
    "start_time": "2024-09-08T11:49:55.939Z"
   },
   {
    "duration": 47,
    "start_time": "2024-09-08T11:49:55.989Z"
   },
   {
    "duration": 260,
    "start_time": "2024-09-08T11:49:56.038Z"
   },
   {
    "duration": 3403,
    "start_time": "2024-09-08T11:49:56.300Z"
   },
   {
    "duration": 3,
    "start_time": "2024-09-08T11:49:59.705Z"
   },
   {
    "duration": 10,
    "start_time": "2024-09-08T11:49:59.709Z"
   },
   {
    "duration": 5,
    "start_time": "2024-09-08T11:49:59.721Z"
   },
   {
    "duration": 28,
    "start_time": "2024-09-08T11:49:59.727Z"
   },
   {
    "duration": 16,
    "start_time": "2024-09-08T11:49:59.756Z"
   },
   {
    "duration": 51,
    "start_time": "2024-09-08T11:49:59.774Z"
   },
   {
    "duration": 8,
    "start_time": "2024-09-08T11:49:59.827Z"
   },
   {
    "duration": 4,
    "start_time": "2024-09-08T11:49:59.836Z"
   },
   {
    "duration": 17,
    "start_time": "2024-09-08T11:49:59.842Z"
   },
   {
    "duration": 7,
    "start_time": "2024-09-08T11:49:59.860Z"
   },
   {
    "duration": 20,
    "start_time": "2024-09-08T11:49:59.868Z"
   },
   {
    "duration": 3,
    "start_time": "2024-09-08T11:49:59.890Z"
   },
   {
    "duration": 39,
    "start_time": "2024-09-08T11:49:59.895Z"
   },
   {
    "duration": 35,
    "start_time": "2024-09-08T11:49:59.936Z"
   },
   {
    "duration": 18,
    "start_time": "2024-09-08T11:49:59.973Z"
   },
   {
    "duration": 41,
    "start_time": "2024-09-08T11:49:59.992Z"
   },
   {
    "duration": 4,
    "start_time": "2024-09-08T11:50:00.035Z"
   },
   {
    "duration": 31,
    "start_time": "2024-09-08T11:50:00.041Z"
   },
   {
    "duration": 39,
    "start_time": "2024-09-08T11:50:00.074Z"
   },
   {
    "duration": 46,
    "start_time": "2024-09-08T11:50:00.115Z"
   },
   {
    "duration": 131967,
    "start_time": "2024-09-08T11:50:00.163Z"
   },
   {
    "duration": 4,
    "start_time": "2024-09-08T11:52:12.221Z"
   },
   {
    "duration": 47,
    "start_time": "2024-09-08T11:52:12.226Z"
   },
   {
    "duration": 19,
    "start_time": "2024-09-08T11:52:12.275Z"
   },
   {
    "duration": 13,
    "start_time": "2024-09-08T11:52:12.296Z"
   },
   {
    "duration": 4,
    "start_time": "2024-09-08T11:52:12.311Z"
   },
   {
    "duration": 6152,
    "start_time": "2024-09-08T11:52:12.316Z"
   },
   {
    "duration": 3,
    "start_time": "2024-09-08T11:52:18.470Z"
   },
   {
    "duration": 10,
    "start_time": "2024-09-08T11:52:18.475Z"
   },
   {
    "duration": 17,
    "start_time": "2024-09-08T11:52:18.486Z"
   },
   {
    "duration": 29,
    "start_time": "2024-09-08T11:52:18.504Z"
   },
   {
    "duration": 7,
    "start_time": "2024-09-08T11:52:18.535Z"
   },
   {
    "duration": 245,
    "start_time": "2024-09-08T11:52:18.543Z"
   },
   {
    "duration": 62,
    "start_time": "2024-09-08T11:52:18.789Z"
   },
   {
    "duration": 377893,
    "start_time": "2024-09-08T11:52:18.852Z"
   },
   {
    "duration": 0,
    "start_time": "2024-09-08T11:58:36.747Z"
   },
   {
    "duration": 0,
    "start_time": "2024-09-08T11:58:36.749Z"
   },
   {
    "duration": 0,
    "start_time": "2024-09-08T11:58:36.750Z"
   },
   {
    "duration": 0,
    "start_time": "2024-09-08T11:58:36.751Z"
   },
   {
    "duration": 0,
    "start_time": "2024-09-08T11:58:36.754Z"
   },
   {
    "duration": 13457,
    "start_time": "2024-09-08T11:58:41.896Z"
   },
   {
    "duration": 10,
    "start_time": "2024-09-08T13:07:59.046Z"
   },
   {
    "duration": 11,
    "start_time": "2024-09-08T13:08:36.164Z"
   },
   {
    "duration": 11,
    "start_time": "2024-09-08T13:08:49.614Z"
   },
   {
    "duration": 11,
    "start_time": "2024-09-08T13:08:54.896Z"
   },
   {
    "duration": 7,
    "start_time": "2024-09-08T13:09:28.497Z"
   },
   {
    "duration": 4,
    "start_time": "2024-09-08T13:09:53.188Z"
   },
   {
    "duration": 24,
    "start_time": "2024-09-08T13:11:30.739Z"
   },
   {
    "duration": 3,
    "start_time": "2024-09-08T13:13:13.432Z"
   },
   {
    "duration": 4,
    "start_time": "2024-09-08T13:13:27.804Z"
   },
   {
    "duration": 570,
    "start_time": "2024-09-08T13:14:47.676Z"
   },
   {
    "duration": 24653,
    "start_time": "2024-09-08T13:15:17.055Z"
   },
   {
    "duration": 11,
    "start_time": "2024-09-08T13:23:48.536Z"
   },
   {
    "duration": 1102,
    "start_time": "2024-09-08T13:23:54.427Z"
   },
   {
    "duration": 3,
    "start_time": "2024-09-08T13:24:18.998Z"
   },
   {
    "duration": 1093,
    "start_time": "2024-09-08T13:24:21.561Z"
   },
   {
    "duration": 2,
    "start_time": "2024-09-08T13:24:29.321Z"
   },
   {
    "duration": 17,
    "start_time": "2024-09-08T13:24:30.751Z"
   },
   {
    "duration": 11,
    "start_time": "2024-09-08T13:25:43.941Z"
   },
   {
    "duration": 15,
    "start_time": "2024-09-08T13:25:52.711Z"
   },
   {
    "duration": 41,
    "start_time": "2024-09-08T13:26:05.191Z"
   },
   {
    "duration": 4,
    "start_time": "2024-09-08T13:30:27.065Z"
   },
   {
    "duration": 10,
    "start_time": "2024-09-08T13:30:29.070Z"
   },
   {
    "duration": 6,
    "start_time": "2024-09-08T13:30:31.560Z"
   },
   {
    "duration": 4,
    "start_time": "2024-09-08T13:31:06.770Z"
   },
   {
    "duration": 9,
    "start_time": "2024-09-08T13:31:07.688Z"
   },
   {
    "duration": 6,
    "start_time": "2024-09-08T13:31:08.430Z"
   },
   {
    "duration": 26,
    "start_time": "2024-09-08T13:31:16.052Z"
   },
   {
    "duration": 4,
    "start_time": "2024-09-08T13:31:30.610Z"
   },
   {
    "duration": 3,
    "start_time": "2024-09-08T13:31:31.849Z"
   },
   {
    "duration": 1708,
    "start_time": "2024-09-08T13:31:32.970Z"
   },
   {
    "duration": 1848,
    "start_time": "2024-09-08T13:31:34.680Z"
   },
   {
    "duration": 2098,
    "start_time": "2024-09-08T13:31:36.529Z"
   },
   {
    "duration": 4342,
    "start_time": "2024-09-08T13:33:30.709Z"
   },
   {
    "duration": 24,
    "start_time": "2024-09-08T13:34:28.930Z"
   },
   {
    "duration": 4229,
    "start_time": "2024-09-08T13:35:49.181Z"
   },
   {
    "duration": 6,
    "start_time": "2024-09-08T13:38:05.530Z"
   },
   {
    "duration": 1772,
    "start_time": "2024-09-08T13:42:29.418Z"
   },
   {
    "duration": 25,
    "start_time": "2024-09-08T13:42:31.192Z"
   },
   {
    "duration": 2,
    "start_time": "2024-09-08T13:42:31.219Z"
   },
   {
    "duration": 77,
    "start_time": "2024-09-08T13:42:31.223Z"
   },
   {
    "duration": 13,
    "start_time": "2024-09-08T13:42:31.302Z"
   },
   {
    "duration": 28,
    "start_time": "2024-09-08T13:42:31.316Z"
   },
   {
    "duration": 84,
    "start_time": "2024-09-08T13:42:31.345Z"
   },
   {
    "duration": 12,
    "start_time": "2024-09-08T13:42:31.431Z"
   },
   {
    "duration": 10,
    "start_time": "2024-09-08T13:42:31.444Z"
   },
   {
    "duration": 171,
    "start_time": "2024-09-08T13:42:31.456Z"
   },
   {
    "duration": 12,
    "start_time": "2024-09-08T13:42:31.629Z"
   },
   {
    "duration": 40,
    "start_time": "2024-09-08T13:42:31.643Z"
   },
   {
    "duration": 85,
    "start_time": "2024-09-08T13:42:31.685Z"
   },
   {
    "duration": 9,
    "start_time": "2024-09-08T13:42:31.772Z"
   },
   {
    "duration": 23,
    "start_time": "2024-09-08T13:42:31.783Z"
   },
   {
    "duration": 13,
    "start_time": "2024-09-08T13:42:31.808Z"
   },
   {
    "duration": 7,
    "start_time": "2024-09-08T13:42:31.822Z"
   },
   {
    "duration": 9,
    "start_time": "2024-09-08T13:42:31.831Z"
   },
   {
    "duration": 6,
    "start_time": "2024-09-08T13:42:31.841Z"
   },
   {
    "duration": 25,
    "start_time": "2024-09-08T13:42:31.848Z"
   },
   {
    "duration": 15,
    "start_time": "2024-09-08T13:42:31.874Z"
   },
   {
    "duration": 39,
    "start_time": "2024-09-08T13:42:31.891Z"
   },
   {
    "duration": 15,
    "start_time": "2024-09-08T13:42:31.931Z"
   },
   {
    "duration": 21,
    "start_time": "2024-09-08T13:42:31.947Z"
   },
   {
    "duration": 23,
    "start_time": "2024-09-08T13:42:31.970Z"
   },
   {
    "duration": 32,
    "start_time": "2024-09-08T13:42:31.995Z"
   },
   {
    "duration": 19,
    "start_time": "2024-09-08T13:42:32.028Z"
   },
   {
    "duration": 25,
    "start_time": "2024-09-08T13:42:32.051Z"
   },
   {
    "duration": 25,
    "start_time": "2024-09-08T13:42:32.078Z"
   },
   {
    "duration": 384,
    "start_time": "2024-09-08T13:42:32.105Z"
   },
   {
    "duration": 320,
    "start_time": "2024-09-08T13:42:32.491Z"
   },
   {
    "duration": 180,
    "start_time": "2024-09-08T13:42:32.812Z"
   },
   {
    "duration": 5,
    "start_time": "2024-09-08T13:42:32.993Z"
   },
   {
    "duration": 31,
    "start_time": "2024-09-08T13:42:32.999Z"
   },
   {
    "duration": 4,
    "start_time": "2024-09-08T13:42:33.032Z"
   },
   {
    "duration": 10,
    "start_time": "2024-09-08T13:42:33.037Z"
   },
   {
    "duration": 5,
    "start_time": "2024-09-08T13:42:33.048Z"
   },
   {
    "duration": 39,
    "start_time": "2024-09-08T13:42:33.054Z"
   },
   {
    "duration": 17,
    "start_time": "2024-09-08T13:42:33.095Z"
   },
   {
    "duration": 13,
    "start_time": "2024-09-08T13:42:33.114Z"
   },
   {
    "duration": 18,
    "start_time": "2024-09-08T13:42:33.128Z"
   },
   {
    "duration": 230,
    "start_time": "2024-09-08T13:42:33.148Z"
   },
   {
    "duration": 3447,
    "start_time": "2024-09-08T13:42:33.380Z"
   },
   {
    "duration": 3,
    "start_time": "2024-09-08T13:42:36.829Z"
   },
   {
    "duration": 110,
    "start_time": "2024-09-08T13:42:36.833Z"
   },
   {
    "duration": 9,
    "start_time": "2024-09-08T13:42:36.945Z"
   },
   {
    "duration": 10,
    "start_time": "2024-09-08T13:42:36.955Z"
   },
   {
    "duration": 5,
    "start_time": "2024-09-08T13:42:36.966Z"
   },
   {
    "duration": 5,
    "start_time": "2024-09-08T13:42:36.973Z"
   },
   {
    "duration": 178,
    "start_time": "2024-09-08T13:42:36.979Z"
   },
   {
    "duration": 24,
    "start_time": "2024-09-08T13:42:37.159Z"
   },
   {
    "duration": 6,
    "start_time": "2024-09-08T13:42:37.184Z"
   },
   {
    "duration": 17,
    "start_time": "2024-09-08T13:42:37.191Z"
   },
   {
    "duration": 4,
    "start_time": "2024-09-08T13:42:37.210Z"
   },
   {
    "duration": 8,
    "start_time": "2024-09-08T13:42:37.216Z"
   },
   {
    "duration": 576,
    "start_time": "2024-09-08T13:42:37.226Z"
   },
   {
    "duration": 0,
    "start_time": "2024-09-08T13:42:37.804Z"
   },
   {
    "duration": 0,
    "start_time": "2024-09-08T13:42:37.805Z"
   },
   {
    "duration": 0,
    "start_time": "2024-09-08T13:42:37.807Z"
   },
   {
    "duration": 0,
    "start_time": "2024-09-08T13:42:37.821Z"
   },
   {
    "duration": 0,
    "start_time": "2024-09-08T13:42:37.822Z"
   },
   {
    "duration": 0,
    "start_time": "2024-09-08T13:42:37.824Z"
   },
   {
    "duration": 0,
    "start_time": "2024-09-08T13:42:37.826Z"
   },
   {
    "duration": 0,
    "start_time": "2024-09-08T13:42:37.827Z"
   },
   {
    "duration": 0,
    "start_time": "2024-09-08T13:42:37.828Z"
   },
   {
    "duration": 0,
    "start_time": "2024-09-08T13:42:37.830Z"
   },
   {
    "duration": 0,
    "start_time": "2024-09-08T13:42:37.832Z"
   },
   {
    "duration": 0,
    "start_time": "2024-09-08T13:42:37.833Z"
   },
   {
    "duration": 0,
    "start_time": "2024-09-08T13:42:37.835Z"
   },
   {
    "duration": 0,
    "start_time": "2024-09-08T13:42:37.836Z"
   },
   {
    "duration": 0,
    "start_time": "2024-09-08T13:42:37.838Z"
   },
   {
    "duration": 0,
    "start_time": "2024-09-08T13:42:37.839Z"
   },
   {
    "duration": 24,
    "start_time": "2024-09-08T13:44:13.853Z"
   },
   {
    "duration": 2,
    "start_time": "2024-09-08T13:46:21.920Z"
   },
   {
    "duration": 25053,
    "start_time": "2024-09-08T13:46:22.804Z"
   },
   {
    "duration": 4,
    "start_time": "2024-09-08T13:47:07.019Z"
   },
   {
    "duration": 8,
    "start_time": "2024-09-08T13:47:43.240Z"
   },
   {
    "duration": 4,
    "start_time": "2024-09-08T13:48:34.993Z"
   },
   {
    "duration": 4,
    "start_time": "2024-09-08T13:48:55.300Z"
   },
   {
    "duration": 4,
    "start_time": "2024-09-08T13:52:44.299Z"
   },
   {
    "duration": 3,
    "start_time": "2024-09-08T13:53:00.994Z"
   },
   {
    "duration": 3,
    "start_time": "2024-09-08T13:53:01.643Z"
   },
   {
    "duration": 3,
    "start_time": "2024-09-08T13:53:03.511Z"
   },
   {
    "duration": 551,
    "start_time": "2024-09-08T13:53:07.394Z"
   },
   {
    "duration": 81,
    "start_time": "2024-09-08T13:56:01.715Z"
   },
   {
    "duration": 635,
    "start_time": "2024-09-08T13:56:18.625Z"
   },
   {
    "duration": 3,
    "start_time": "2024-09-08T13:56:53.985Z"
   },
   {
    "duration": 3,
    "start_time": "2024-09-08T13:56:54.434Z"
   },
   {
    "duration": 3,
    "start_time": "2024-09-08T13:56:54.974Z"
   },
   {
    "duration": 559,
    "start_time": "2024-09-08T13:56:56.164Z"
   },
   {
    "duration": 3,
    "start_time": "2024-09-08T13:57:43.091Z"
   },
   {
    "duration": 3,
    "start_time": "2024-09-08T13:57:43.854Z"
   },
   {
    "duration": 3,
    "start_time": "2024-09-08T13:57:44.425Z"
   },
   {
    "duration": 11,
    "start_time": "2024-09-08T13:57:45.638Z"
   },
   {
    "duration": 3288,
    "start_time": "2024-09-08T13:58:01.924Z"
   },
   {
    "duration": 12,
    "start_time": "2024-09-08T13:59:03.841Z"
   },
   {
    "duration": 46,
    "start_time": "2024-09-08T13:59:13.754Z"
   },
   {
    "duration": 74,
    "start_time": "2024-09-08T13:59:14.735Z"
   },
   {
    "duration": 205,
    "start_time": "2024-09-08T13:59:24.845Z"
   },
   {
    "duration": 5,
    "start_time": "2024-09-08T14:04:18.794Z"
   },
   {
    "duration": 28,
    "start_time": "2024-09-08T14:04:19.414Z"
   },
   {
    "duration": 8,
    "start_time": "2024-09-08T14:04:20.664Z"
   },
   {
    "duration": 6,
    "start_time": "2024-09-08T14:04:21.194Z"
   },
   {
    "duration": 4,
    "start_time": "2024-09-08T14:04:23.904Z"
   },
   {
    "duration": 23,
    "start_time": "2024-09-08T14:04:24.711Z"
   },
   {
    "duration": 3,
    "start_time": "2024-09-08T14:04:28.460Z"
   },
   {
    "duration": 26387,
    "start_time": "2024-09-08T14:04:29.144Z"
   },
   {
    "duration": 4,
    "start_time": "2024-09-08T14:05:06.994Z"
   },
   {
    "duration": 4,
    "start_time": "2024-09-08T14:05:08.134Z"
   },
   {
    "duration": 3,
    "start_time": "2024-09-08T14:05:11.240Z"
   },
   {
    "duration": 3,
    "start_time": "2024-09-08T14:05:12.484Z"
   },
   {
    "duration": 3,
    "start_time": "2024-09-08T14:05:13.564Z"
   },
   {
    "duration": 544,
    "start_time": "2024-09-08T14:05:14.033Z"
   },
   {
    "duration": 24,
    "start_time": "2024-09-08T14:05:33.424Z"
   },
   {
    "duration": 3,
    "start_time": "2024-09-08T14:08:00.781Z"
   },
   {
    "duration": 3,
    "start_time": "2024-09-08T14:08:01.252Z"
   },
   {
    "duration": 3,
    "start_time": "2024-09-08T14:08:01.860Z"
   },
   {
    "duration": 3216,
    "start_time": "2024-09-08T14:08:02.434Z"
   },
   {
    "duration": 43,
    "start_time": "2024-09-08T14:08:19.534Z"
   },
   {
    "duration": 207,
    "start_time": "2024-09-08T14:08:20.625Z"
   },
   {
    "duration": 203,
    "start_time": "2024-09-08T14:08:21.255Z"
   },
   {
    "duration": 120,
    "start_time": "2024-09-08T14:08:39.361Z"
   },
   {
    "duration": 121,
    "start_time": "2024-09-08T14:08:54.837Z"
   },
   {
    "duration": 1826,
    "start_time": "2024-09-08T14:09:14.736Z"
   },
   {
    "duration": 26,
    "start_time": "2024-09-08T14:09:16.564Z"
   },
   {
    "duration": 3,
    "start_time": "2024-09-08T14:09:16.592Z"
   },
   {
    "duration": 57,
    "start_time": "2024-09-08T14:09:16.598Z"
   },
   {
    "duration": 14,
    "start_time": "2024-09-08T14:09:16.657Z"
   },
   {
    "duration": 18,
    "start_time": "2024-09-08T14:09:16.673Z"
   },
   {
    "duration": 44,
    "start_time": "2024-09-08T14:09:16.692Z"
   },
   {
    "duration": 13,
    "start_time": "2024-09-08T14:09:16.737Z"
   },
   {
    "duration": 73,
    "start_time": "2024-09-08T14:09:16.752Z"
   },
   {
    "duration": 58,
    "start_time": "2024-09-08T14:09:16.829Z"
   },
   {
    "duration": 14,
    "start_time": "2024-09-08T14:09:16.889Z"
   },
   {
    "duration": 22,
    "start_time": "2024-09-08T14:09:16.905Z"
   },
   {
    "duration": 98,
    "start_time": "2024-09-08T14:09:16.928Z"
   },
   {
    "duration": 11,
    "start_time": "2024-09-08T14:09:17.028Z"
   },
   {
    "duration": 7,
    "start_time": "2024-09-08T14:09:17.040Z"
   },
   {
    "duration": 53,
    "start_time": "2024-09-08T14:09:17.049Z"
   },
   {
    "duration": 17,
    "start_time": "2024-09-08T14:09:17.104Z"
   },
   {
    "duration": 15,
    "start_time": "2024-09-08T14:09:17.122Z"
   },
   {
    "duration": 5,
    "start_time": "2024-09-08T14:09:17.139Z"
   },
   {
    "duration": 8,
    "start_time": "2024-09-08T14:09:17.146Z"
   },
   {
    "duration": 21,
    "start_time": "2024-09-08T14:09:17.155Z"
   },
   {
    "duration": 17,
    "start_time": "2024-09-08T14:09:17.178Z"
   },
   {
    "duration": 11,
    "start_time": "2024-09-08T14:09:17.197Z"
   },
   {
    "duration": 12,
    "start_time": "2024-09-08T14:09:17.210Z"
   },
   {
    "duration": 23,
    "start_time": "2024-09-08T14:09:17.224Z"
   },
   {
    "duration": 34,
    "start_time": "2024-09-08T14:09:17.249Z"
   },
   {
    "duration": 28,
    "start_time": "2024-09-08T14:09:17.285Z"
   },
   {
    "duration": 26,
    "start_time": "2024-09-08T14:09:17.317Z"
   },
   {
    "duration": 75,
    "start_time": "2024-09-08T14:09:17.344Z"
   },
   {
    "duration": 336,
    "start_time": "2024-09-08T14:09:17.420Z"
   },
   {
    "duration": 332,
    "start_time": "2024-09-08T14:09:17.757Z"
   },
   {
    "duration": 199,
    "start_time": "2024-09-08T14:09:18.091Z"
   },
   {
    "duration": 5,
    "start_time": "2024-09-08T14:09:18.292Z"
   },
   {
    "duration": 30,
    "start_time": "2024-09-08T14:09:18.298Z"
   },
   {
    "duration": 22,
    "start_time": "2024-09-08T14:09:18.330Z"
   },
   {
    "duration": 35,
    "start_time": "2024-09-08T14:09:18.354Z"
   },
   {
    "duration": 6,
    "start_time": "2024-09-08T14:09:18.391Z"
   },
   {
    "duration": 30,
    "start_time": "2024-09-08T14:09:18.399Z"
   },
   {
    "duration": 13,
    "start_time": "2024-09-08T14:09:18.430Z"
   },
   {
    "duration": 30,
    "start_time": "2024-09-08T14:09:18.445Z"
   },
   {
    "duration": 11,
    "start_time": "2024-09-08T14:09:18.476Z"
   },
   {
    "duration": 239,
    "start_time": "2024-09-08T14:09:18.488Z"
   },
   {
    "duration": 3434,
    "start_time": "2024-09-08T14:09:18.729Z"
   },
   {
    "duration": 3,
    "start_time": "2024-09-08T14:09:22.165Z"
   },
   {
    "duration": 41,
    "start_time": "2024-09-08T14:09:22.169Z"
   },
   {
    "duration": 4,
    "start_time": "2024-09-08T14:09:22.211Z"
   },
   {
    "duration": 11,
    "start_time": "2024-09-08T14:09:22.217Z"
   },
   {
    "duration": 6,
    "start_time": "2024-09-08T14:09:22.230Z"
   },
   {
    "duration": 7,
    "start_time": "2024-09-08T14:09:22.237Z"
   },
   {
    "duration": 11,
    "start_time": "2024-09-08T14:09:22.246Z"
   },
   {
    "duration": 24525,
    "start_time": "2024-09-08T14:09:22.259Z"
   },
   {
    "duration": 4,
    "start_time": "2024-09-08T14:09:46.786Z"
   },
   {
    "duration": 20,
    "start_time": "2024-09-08T14:09:46.791Z"
   },
   {
    "duration": 10,
    "start_time": "2024-09-08T14:09:46.813Z"
   },
   {
    "duration": 19,
    "start_time": "2024-09-08T14:09:46.824Z"
   },
   {
    "duration": 35,
    "start_time": "2024-09-08T14:09:46.845Z"
   },
   {
    "duration": 53,
    "start_time": "2024-09-08T14:09:46.881Z"
   },
   {
    "duration": 725,
    "start_time": "2024-09-08T14:09:46.935Z"
   },
   {
    "duration": 0,
    "start_time": "2024-09-08T14:09:47.662Z"
   },
   {
    "duration": 0,
    "start_time": "2024-09-08T14:09:47.663Z"
   },
   {
    "duration": 0,
    "start_time": "2024-09-08T14:09:47.665Z"
   },
   {
    "duration": 0,
    "start_time": "2024-09-08T14:09:47.666Z"
   },
   {
    "duration": 0,
    "start_time": "2024-09-08T14:09:47.667Z"
   },
   {
    "duration": 0,
    "start_time": "2024-09-08T14:09:47.668Z"
   },
   {
    "duration": 0,
    "start_time": "2024-09-08T14:09:47.670Z"
   },
   {
    "duration": 0,
    "start_time": "2024-09-08T14:09:47.671Z"
   },
   {
    "duration": 0,
    "start_time": "2024-09-08T14:09:47.672Z"
   },
   {
    "duration": 0,
    "start_time": "2024-09-08T14:09:47.673Z"
   },
   {
    "duration": 0,
    "start_time": "2024-09-08T14:09:47.674Z"
   },
   {
    "duration": 0,
    "start_time": "2024-09-08T14:09:47.675Z"
   },
   {
    "duration": 0,
    "start_time": "2024-09-08T14:09:47.676Z"
   },
   {
    "duration": 0,
    "start_time": "2024-09-08T14:09:47.677Z"
   },
   {
    "duration": 0,
    "start_time": "2024-09-08T14:09:47.678Z"
   },
   {
    "duration": 0,
    "start_time": "2024-09-08T14:09:47.679Z"
   },
   {
    "duration": 0,
    "start_time": "2024-09-08T14:09:47.680Z"
   },
   {
    "duration": 3,
    "start_time": "2024-09-08T14:10:20.355Z"
   },
   {
    "duration": 4,
    "start_time": "2024-09-08T14:10:20.985Z"
   },
   {
    "duration": 4,
    "start_time": "2024-09-08T14:10:21.623Z"
   },
   {
    "duration": 3387,
    "start_time": "2024-09-08T14:10:23.264Z"
   },
   {
    "duration": 117,
    "start_time": "2024-09-08T14:10:42.512Z"
   },
   {
    "duration": 109,
    "start_time": "2024-09-08T14:11:12.035Z"
   },
   {
    "duration": 12,
    "start_time": "2024-09-08T14:12:35.805Z"
   },
   {
    "duration": 17,
    "start_time": "2024-09-08T14:12:58.865Z"
   },
   {
    "duration": 4,
    "start_time": "2024-09-08T14:13:10.715Z"
   },
   {
    "duration": 76,
    "start_time": "2024-09-08T14:13:11.826Z"
   },
   {
    "duration": 78,
    "start_time": "2024-09-08T14:13:58.165Z"
   },
   {
    "duration": 4,
    "start_time": "2024-09-08T14:13:59.644Z"
   },
   {
    "duration": 3,
    "start_time": "2024-09-08T14:14:00.314Z"
   },
   {
    "duration": 3,
    "start_time": "2024-09-08T14:14:00.805Z"
   },
   {
    "duration": 24,
    "start_time": "2024-09-08T14:14:01.885Z"
   },
   {
    "duration": 533,
    "start_time": "2024-09-08T14:14:03.538Z"
   },
   {
    "duration": 80289,
    "start_time": "2024-09-08T14:14:21.832Z"
   },
   {
    "duration": 4,
    "start_time": "2024-09-08T14:15:46.722Z"
   },
   {
    "duration": 4,
    "start_time": "2024-09-08T14:15:48.028Z"
   },
   {
    "duration": 3,
    "start_time": "2024-09-08T14:15:49.325Z"
   },
   {
    "duration": 4,
    "start_time": "2024-09-08T14:15:50.023Z"
   },
   {
    "duration": 3,
    "start_time": "2024-09-08T14:15:54.062Z"
   },
   {
    "duration": 11812,
    "start_time": "2024-09-08T14:16:04.249Z"
   },
   {
    "duration": 3,
    "start_time": "2024-09-08T14:16:33.345Z"
   },
   {
    "duration": 3,
    "start_time": "2024-09-08T14:16:34.245Z"
   },
   {
    "duration": 4,
    "start_time": "2024-09-08T14:16:35.184Z"
   },
   {
    "duration": 2317,
    "start_time": "2024-09-08T14:16:51.912Z"
   },
   {
    "duration": 3,
    "start_time": "2024-09-08T14:17:32.105Z"
   },
   {
    "duration": 4,
    "start_time": "2024-09-08T14:17:32.836Z"
   },
   {
    "duration": 59313,
    "start_time": "2024-09-08T14:17:39.515Z"
   },
   {
    "duration": 3,
    "start_time": "2024-09-08T14:18:47.525Z"
   },
   {
    "duration": 4,
    "start_time": "2024-09-08T14:20:00.832Z"
   },
   {
    "duration": 11,
    "start_time": "2024-09-08T14:22:15.911Z"
   },
   {
    "duration": 5,
    "start_time": "2024-09-08T14:22:34.168Z"
   },
   {
    "duration": 11,
    "start_time": "2024-09-08T14:22:34.699Z"
   },
   {
    "duration": 1724,
    "start_time": "2024-09-08T14:22:42.720Z"
   },
   {
    "duration": 27,
    "start_time": "2024-09-08T14:22:44.446Z"
   },
   {
    "duration": 14,
    "start_time": "2024-09-08T14:22:44.475Z"
   },
   {
    "duration": 63,
    "start_time": "2024-09-08T14:22:44.491Z"
   },
   {
    "duration": 14,
    "start_time": "2024-09-08T14:22:44.556Z"
   },
   {
    "duration": 71,
    "start_time": "2024-09-08T14:22:44.572Z"
   },
   {
    "duration": 74,
    "start_time": "2024-09-08T14:22:44.645Z"
   },
   {
    "duration": 12,
    "start_time": "2024-09-08T14:22:44.721Z"
   },
   {
    "duration": 36,
    "start_time": "2024-09-08T14:22:44.734Z"
   },
   {
    "duration": 83,
    "start_time": "2024-09-08T14:22:44.772Z"
   },
   {
    "duration": 12,
    "start_time": "2024-09-08T14:22:44.856Z"
   },
   {
    "duration": 35,
    "start_time": "2024-09-08T14:22:44.870Z"
   },
   {
    "duration": 22,
    "start_time": "2024-09-08T14:22:44.907Z"
   },
   {
    "duration": 11,
    "start_time": "2024-09-08T14:22:44.932Z"
   },
   {
    "duration": 48,
    "start_time": "2024-09-08T14:22:44.944Z"
   },
   {
    "duration": 123,
    "start_time": "2024-09-08T14:22:44.993Z"
   },
   {
    "duration": 43,
    "start_time": "2024-09-08T14:22:45.118Z"
   },
   {
    "duration": 48,
    "start_time": "2024-09-08T14:22:45.164Z"
   },
   {
    "duration": 17,
    "start_time": "2024-09-08T14:22:45.214Z"
   },
   {
    "duration": 49,
    "start_time": "2024-09-08T14:22:45.232Z"
   },
   {
    "duration": 58,
    "start_time": "2024-09-08T14:22:45.283Z"
   },
   {
    "duration": 166,
    "start_time": "2024-09-08T14:22:45.343Z"
   },
   {
    "duration": 46,
    "start_time": "2024-09-08T14:22:45.511Z"
   },
   {
    "duration": 10,
    "start_time": "2024-09-08T14:22:45.559Z"
   },
   {
    "duration": 33,
    "start_time": "2024-09-08T14:22:45.571Z"
   },
   {
    "duration": 102,
    "start_time": "2024-09-08T14:22:45.605Z"
   },
   {
    "duration": 16,
    "start_time": "2024-09-08T14:22:45.709Z"
   },
   {
    "duration": 50,
    "start_time": "2024-09-08T14:22:45.727Z"
   },
   {
    "duration": 35,
    "start_time": "2024-09-08T14:22:45.778Z"
   },
   {
    "duration": 350,
    "start_time": "2024-09-08T14:22:45.815Z"
   },
   {
    "duration": 348,
    "start_time": "2024-09-08T14:22:46.167Z"
   },
   {
    "duration": 183,
    "start_time": "2024-09-08T14:22:46.520Z"
   },
   {
    "duration": 5,
    "start_time": "2024-09-08T14:22:46.705Z"
   },
   {
    "duration": 5,
    "start_time": "2024-09-08T14:22:46.721Z"
   },
   {
    "duration": 6,
    "start_time": "2024-09-08T14:22:46.728Z"
   },
   {
    "duration": 22,
    "start_time": "2024-09-08T14:22:46.736Z"
   },
   {
    "duration": 73,
    "start_time": "2024-09-08T14:22:46.760Z"
   },
   {
    "duration": 40,
    "start_time": "2024-09-08T14:22:46.836Z"
   },
   {
    "duration": 18,
    "start_time": "2024-09-08T14:22:46.878Z"
   },
   {
    "duration": 4,
    "start_time": "2024-09-08T14:22:46.898Z"
   },
   {
    "duration": 7,
    "start_time": "2024-09-08T14:22:46.906Z"
   },
   {
    "duration": 239,
    "start_time": "2024-09-08T14:22:46.914Z"
   },
   {
    "duration": 3408,
    "start_time": "2024-09-08T14:22:47.155Z"
   },
   {
    "duration": 3,
    "start_time": "2024-09-08T14:22:50.565Z"
   },
   {
    "duration": 41,
    "start_time": "2024-09-08T14:22:50.570Z"
   },
   {
    "duration": 7,
    "start_time": "2024-09-08T14:22:50.612Z"
   },
   {
    "duration": 11,
    "start_time": "2024-09-08T14:22:50.621Z"
   },
   {
    "duration": 19,
    "start_time": "2024-09-08T14:22:50.634Z"
   },
   {
    "duration": 15,
    "start_time": "2024-09-08T14:22:50.654Z"
   },
   {
    "duration": 42,
    "start_time": "2024-09-08T14:22:50.671Z"
   },
   {
    "duration": 24302,
    "start_time": "2024-09-08T14:22:50.715Z"
   },
   {
    "duration": 5,
    "start_time": "2024-09-08T14:23:15.020Z"
   },
   {
    "duration": 45,
    "start_time": "2024-09-08T14:23:15.027Z"
   },
   {
    "duration": 16,
    "start_time": "2024-09-08T14:23:15.074Z"
   },
   {
    "duration": 112,
    "start_time": "2024-09-08T14:23:15.092Z"
   },
   {
    "duration": 4,
    "start_time": "2024-09-08T14:23:15.205Z"
   },
   {
    "duration": 27,
    "start_time": "2024-09-08T14:23:15.210Z"
   },
   {
    "duration": 17,
    "start_time": "2024-09-08T14:23:15.239Z"
   },
   {
    "duration": 81067,
    "start_time": "2024-09-08T14:23:15.258Z"
   },
   {
    "duration": 95,
    "start_time": "2024-09-08T14:24:36.327Z"
   },
   {
    "duration": 4,
    "start_time": "2024-09-08T14:24:36.424Z"
   },
   {
    "duration": 24,
    "start_time": "2024-09-08T14:24:36.429Z"
   },
   {
    "duration": 14,
    "start_time": "2024-09-08T14:24:36.455Z"
   },
   {
    "duration": 17,
    "start_time": "2024-09-08T14:24:36.471Z"
   },
   {
    "duration": 11762,
    "start_time": "2024-09-08T14:24:36.490Z"
   },
   {
    "duration": 4,
    "start_time": "2024-09-08T14:24:48.253Z"
   },
   {
    "duration": 16,
    "start_time": "2024-09-08T14:24:48.259Z"
   },
   {
    "duration": 2048,
    "start_time": "2024-09-08T14:24:48.277Z"
   },
   {
    "duration": 4,
    "start_time": "2024-09-08T14:24:50.326Z"
   },
   {
    "duration": 12,
    "start_time": "2024-09-08T14:24:50.331Z"
   },
   {
    "duration": 59458,
    "start_time": "2024-09-08T14:24:50.344Z"
   },
   {
    "duration": 2,
    "start_time": "2024-09-08T14:25:49.804Z"
   },
   {
    "duration": 17,
    "start_time": "2024-09-08T14:25:49.807Z"
   },
   {
    "duration": 149,
    "start_time": "2024-09-08T14:25:49.826Z"
   },
   {
    "duration": 0,
    "start_time": "2024-09-08T14:25:49.977Z"
   },
   {
    "duration": 0,
    "start_time": "2024-09-08T14:25:49.978Z"
   },
   {
    "duration": 5,
    "start_time": "2024-09-08T14:33:16.800Z"
   },
   {
    "duration": 16,
    "start_time": "2024-09-08T14:33:17.873Z"
   },
   {
    "duration": 5,
    "start_time": "2024-09-08T14:33:36.821Z"
   },
   {
    "duration": 10,
    "start_time": "2024-09-08T14:33:37.092Z"
   },
   {
    "duration": 22,
    "start_time": "2024-09-08T14:34:53.618Z"
   },
   {
    "duration": 17,
    "start_time": "2024-09-08T14:36:16.319Z"
   },
   {
    "duration": 5,
    "start_time": "2024-09-08T14:36:27.007Z"
   },
   {
    "duration": 11,
    "start_time": "2024-09-08T14:37:28.260Z"
   },
   {
    "duration": 5,
    "start_time": "2024-09-08T14:37:34.329Z"
   },
   {
    "duration": 9,
    "start_time": "2024-09-08T14:37:40.490Z"
   },
   {
    "duration": 14,
    "start_time": "2024-09-08T14:37:46.043Z"
   },
   {
    "duration": 6,
    "start_time": "2024-09-08T14:37:50.545Z"
   },
   {
    "duration": 13,
    "start_time": "2024-09-08T14:39:52.145Z"
   },
   {
    "duration": 8,
    "start_time": "2024-09-08T14:40:11.342Z"
   },
   {
    "duration": 18,
    "start_time": "2024-09-08T14:40:16.149Z"
   },
   {
    "duration": 10,
    "start_time": "2024-09-08T14:41:03.723Z"
   },
   {
    "duration": 18,
    "start_time": "2024-09-08T14:41:07.838Z"
   },
   {
    "duration": 5,
    "start_time": "2024-09-08T14:41:09.822Z"
   },
   {
    "duration": 162,
    "start_time": "2024-09-08T14:41:16.723Z"
   },
   {
    "duration": 12,
    "start_time": "2024-09-08T14:41:53.224Z"
   },
   {
    "duration": 11,
    "start_time": "2024-09-08T14:42:15.510Z"
   },
   {
    "duration": 12,
    "start_time": "2024-09-08T14:43:38.703Z"
   },
   {
    "duration": 10,
    "start_time": "2024-09-08T14:44:21.132Z"
   },
   {
    "duration": 11,
    "start_time": "2024-09-08T14:44:45.633Z"
   },
   {
    "duration": 15,
    "start_time": "2024-09-08T14:44:49.590Z"
   },
   {
    "duration": 5,
    "start_time": "2024-09-08T14:50:09.002Z"
   },
   {
    "duration": 20,
    "start_time": "2024-09-08T14:50:42.533Z"
   },
   {
    "duration": 16,
    "start_time": "2024-09-08T14:51:19.692Z"
   },
   {
    "duration": 219,
    "start_time": "2024-09-08T14:51:30.831Z"
   },
   {
    "duration": 218,
    "start_time": "2024-09-08T14:52:47.288Z"
   },
   {
    "duration": 333,
    "start_time": "2024-09-08T14:53:04.542Z"
   },
   {
    "duration": 223,
    "start_time": "2024-09-08T14:53:40.053Z"
   },
   {
    "duration": 274,
    "start_time": "2024-09-08T14:54:11.808Z"
   },
   {
    "duration": 2112,
    "start_time": "2024-09-09T11:28:11.960Z"
   },
   {
    "duration": 116,
    "start_time": "2024-09-09T11:28:16.886Z"
   },
   {
    "duration": 2,
    "start_time": "2024-09-09T11:28:18.603Z"
   },
   {
    "duration": 343,
    "start_time": "2024-09-09T11:28:20.481Z"
   },
   {
    "duration": 70,
    "start_time": "2024-09-09T11:29:36.346Z"
   },
   {
    "duration": 46,
    "start_time": "2024-09-09T13:25:17.882Z"
   },
   {
    "duration": 1883,
    "start_time": "2024-09-09T13:25:23.232Z"
   },
   {
    "duration": 3667,
    "start_time": "2024-09-09T13:25:25.117Z"
   },
   {
    "duration": 3,
    "start_time": "2024-09-09T13:25:28.785Z"
   },
   {
    "duration": 102,
    "start_time": "2024-09-09T13:25:36.983Z"
   },
   {
    "duration": 154,
    "start_time": "2024-09-09T13:28:39.899Z"
   },
   {
    "duration": 40,
    "start_time": "2024-09-09T13:28:50.058Z"
   },
   {
    "duration": 77,
    "start_time": "2024-09-09T13:28:55.417Z"
   },
   {
    "duration": 80,
    "start_time": "2024-09-09T13:28:59.578Z"
   },
   {
    "duration": 99,
    "start_time": "2024-09-09T13:29:03.228Z"
   },
   {
    "duration": 7,
    "start_time": "2024-09-09T13:29:08.828Z"
   },
   {
    "duration": 3,
    "start_time": "2024-09-09T13:29:10.618Z"
   },
   {
    "duration": 2,
    "start_time": "2024-09-09T13:29:11.798Z"
   },
   {
    "duration": 41,
    "start_time": "2024-09-09T13:29:12.518Z"
   },
   {
    "duration": 14,
    "start_time": "2024-09-09T13:29:13.508Z"
   },
   {
    "duration": 16,
    "start_time": "2024-09-09T13:29:14.788Z"
   },
   {
    "duration": 32,
    "start_time": "2024-09-09T13:29:15.108Z"
   },
   {
    "duration": 12,
    "start_time": "2024-09-09T13:29:15.628Z"
   },
   {
    "duration": 8,
    "start_time": "2024-09-09T13:29:16.018Z"
   },
   {
    "duration": 34,
    "start_time": "2024-09-09T13:29:16.255Z"
   },
   {
    "duration": 12,
    "start_time": "2024-09-09T13:29:16.575Z"
   },
   {
    "duration": 10,
    "start_time": "2024-09-09T13:29:16.975Z"
   },
   {
    "duration": 29,
    "start_time": "2024-09-09T13:29:17.455Z"
   },
   {
    "duration": 11,
    "start_time": "2024-09-09T13:29:17.614Z"
   },
   {
    "duration": 6,
    "start_time": "2024-09-09T13:29:17.775Z"
   },
   {
    "duration": 1814,
    "start_time": "2024-09-09T13:33:32.519Z"
   },
   {
    "duration": 28,
    "start_time": "2024-09-09T13:33:34.335Z"
   },
   {
    "duration": 13,
    "start_time": "2024-09-09T13:33:34.364Z"
   },
   {
    "duration": 54,
    "start_time": "2024-09-09T13:33:34.379Z"
   },
   {
    "duration": 14,
    "start_time": "2024-09-09T13:33:34.435Z"
   },
   {
    "duration": 18,
    "start_time": "2024-09-09T13:33:34.451Z"
   },
   {
    "duration": 32,
    "start_time": "2024-09-09T13:33:34.470Z"
   },
   {
    "duration": 17,
    "start_time": "2024-09-09T13:33:34.504Z"
   },
   {
    "duration": 11,
    "start_time": "2024-09-09T13:33:34.522Z"
   },
   {
    "duration": 29,
    "start_time": "2024-09-09T13:33:34.535Z"
   },
   {
    "duration": 12,
    "start_time": "2024-09-09T13:33:34.565Z"
   },
   {
    "duration": 12,
    "start_time": "2024-09-09T13:33:34.579Z"
   },
   {
    "duration": 18,
    "start_time": "2024-09-09T13:33:34.608Z"
   },
   {
    "duration": 11,
    "start_time": "2024-09-09T13:33:34.628Z"
   },
   {
    "duration": 15,
    "start_time": "2024-09-09T13:33:34.641Z"
   },
   {
    "duration": 28,
    "start_time": "2024-09-09T13:33:34.658Z"
   },
   {
    "duration": 6,
    "start_time": "2024-09-09T13:33:34.688Z"
   },
   {
    "duration": 8,
    "start_time": "2024-09-09T13:33:34.696Z"
   },
   {
    "duration": 20,
    "start_time": "2024-09-09T13:33:34.706Z"
   },
   {
    "duration": 7,
    "start_time": "2024-09-09T13:33:34.728Z"
   },
   {
    "duration": 18,
    "start_time": "2024-09-09T13:33:34.737Z"
   },
   {
    "duration": 17,
    "start_time": "2024-09-09T13:33:34.756Z"
   },
   {
    "duration": 9,
    "start_time": "2024-09-09T13:33:34.774Z"
   },
   {
    "duration": 13,
    "start_time": "2024-09-09T13:33:34.785Z"
   },
   {
    "duration": 15,
    "start_time": "2024-09-09T13:33:34.800Z"
   },
   {
    "duration": 25,
    "start_time": "2024-09-09T13:33:34.817Z"
   },
   {
    "duration": 15,
    "start_time": "2024-09-09T13:33:34.844Z"
   },
   {
    "duration": 36,
    "start_time": "2024-09-09T13:33:34.863Z"
   },
   {
    "duration": 35,
    "start_time": "2024-09-09T13:33:34.900Z"
   },
   {
    "duration": 381,
    "start_time": "2024-09-09T13:33:34.936Z"
   },
   {
    "duration": 374,
    "start_time": "2024-09-09T13:33:35.320Z"
   },
   {
    "duration": 213,
    "start_time": "2024-09-09T13:33:35.696Z"
   },
   {
    "duration": 7,
    "start_time": "2024-09-09T13:33:35.912Z"
   },
   {
    "duration": 40,
    "start_time": "2024-09-09T13:33:35.921Z"
   },
   {
    "duration": 10,
    "start_time": "2024-09-09T13:33:35.962Z"
   },
   {
    "duration": 11,
    "start_time": "2024-09-09T13:33:35.974Z"
   },
   {
    "duration": 4,
    "start_time": "2024-09-09T13:33:35.986Z"
   },
   {
    "duration": 40,
    "start_time": "2024-09-09T13:33:35.992Z"
   },
   {
    "duration": 25,
    "start_time": "2024-09-09T13:33:36.034Z"
   },
   {
    "duration": 39,
    "start_time": "2024-09-09T13:33:36.061Z"
   },
   {
    "duration": 38,
    "start_time": "2024-09-09T13:33:36.102Z"
   },
   {
    "duration": 258,
    "start_time": "2024-09-09T13:33:36.141Z"
   },
   {
    "duration": 3631,
    "start_time": "2024-09-09T13:33:36.401Z"
   },
   {
    "duration": 3,
    "start_time": "2024-09-09T13:33:40.034Z"
   },
   {
    "duration": 31,
    "start_time": "2024-09-09T13:33:40.038Z"
   },
   {
    "duration": 18,
    "start_time": "2024-09-09T13:33:40.070Z"
   },
   {
    "duration": 13,
    "start_time": "2024-09-09T13:33:40.090Z"
   },
   {
    "duration": 7,
    "start_time": "2024-09-09T13:33:40.105Z"
   },
   {
    "duration": 9,
    "start_time": "2024-09-09T13:33:40.114Z"
   },
   {
    "duration": 3,
    "start_time": "2024-09-09T13:33:40.126Z"
   },
   {
    "duration": 24747,
    "start_time": "2024-09-09T13:33:40.130Z"
   },
   {
    "duration": 3,
    "start_time": "2024-09-09T13:34:04.879Z"
   },
   {
    "duration": 18,
    "start_time": "2024-09-09T13:34:04.883Z"
   },
   {
    "duration": 12,
    "start_time": "2024-09-09T13:34:04.902Z"
   },
   {
    "duration": 80,
    "start_time": "2024-09-09T13:34:04.917Z"
   },
   {
    "duration": 3,
    "start_time": "2024-09-09T13:34:04.998Z"
   },
   {
    "duration": 26,
    "start_time": "2024-09-09T13:34:05.002Z"
   },
   {
    "duration": 14,
    "start_time": "2024-09-09T13:34:05.029Z"
   },
   {
    "duration": 165364,
    "start_time": "2024-09-09T13:34:05.045Z"
   },
   {
    "duration": 5,
    "start_time": "2024-09-09T13:36:50.411Z"
   },
   {
    "duration": 9,
    "start_time": "2024-09-09T13:36:50.418Z"
   },
   {
    "duration": 18,
    "start_time": "2024-09-09T13:36:50.428Z"
   },
   {
    "duration": 4,
    "start_time": "2024-09-09T13:36:50.448Z"
   },
   {
    "duration": 5,
    "start_time": "2024-09-09T13:36:50.454Z"
   },
   {
    "duration": 11600,
    "start_time": "2024-09-09T13:36:50.461Z"
   },
   {
    "duration": 4,
    "start_time": "2024-09-09T13:37:02.062Z"
   },
   {
    "duration": 24,
    "start_time": "2024-09-09T13:37:02.068Z"
   },
   {
    "duration": 1717,
    "start_time": "2024-09-09T13:37:02.094Z"
   },
   {
    "duration": 4,
    "start_time": "2024-09-09T13:37:03.813Z"
   },
   {
    "duration": 43,
    "start_time": "2024-09-09T13:37:03.818Z"
   },
   {
    "duration": 62041,
    "start_time": "2024-09-09T13:37:03.863Z"
   },
   {
    "duration": 3,
    "start_time": "2024-09-09T13:38:05.908Z"
   },
   {
    "duration": 25,
    "start_time": "2024-09-09T13:38:05.912Z"
   },
   {
    "duration": 33,
    "start_time": "2024-09-09T13:38:05.938Z"
   },
   {
    "duration": 15,
    "start_time": "2024-09-09T13:38:05.972Z"
   },
   {
    "duration": 37,
    "start_time": "2024-09-09T13:38:05.989Z"
   },
   {
    "duration": 6,
    "start_time": "2024-09-09T13:38:06.029Z"
   },
   {
    "duration": 205,
    "start_time": "2024-09-09T13:38:06.036Z"
   },
   {
    "duration": 4,
    "start_time": "2024-09-09T13:38:06.243Z"
   },
   {
    "duration": 296,
    "start_time": "2024-09-09T13:38:06.249Z"
   },
   {
    "duration": 5,
    "start_time": "2024-09-09T13:52:53.615Z"
   },
   {
    "duration": 22,
    "start_time": "2024-09-09T13:53:09.694Z"
   },
   {
    "duration": 1474,
    "start_time": "2024-09-10T11:29:18.944Z"
   },
   {
    "duration": 126,
    "start_time": "2024-09-10T11:29:20.420Z"
   },
   {
    "duration": 3,
    "start_time": "2024-09-10T11:29:23.390Z"
   },
   {
    "duration": 206,
    "start_time": "2024-09-10T11:29:24.115Z"
   }
  ],
  "colab": {
   "provenance": []
  },
  "kernelspec": {
   "display_name": "Python 3 (ipykernel)",
   "language": "python",
   "name": "python3"
  },
  "language_info": {
   "codemirror_mode": {
    "name": "ipython",
    "version": 3
   },
   "file_extension": ".py",
   "mimetype": "text/x-python",
   "name": "python",
   "nbconvert_exporter": "python",
   "pygments_lexer": "ipython3",
   "version": "3.9.5"
  },
  "toc": {
   "base_numbering": 1,
   "nav_menu": {},
   "number_sections": true,
   "sideBar": true,
   "skip_h1_title": true,
   "title_cell": "Table of Contents",
   "title_sidebar": "Contents",
   "toc_cell": false,
   "toc_position": {},
   "toc_section_display": true,
   "toc_window_display": false
  }
 },
 "nbformat": 4,
 "nbformat_minor": 5
}
